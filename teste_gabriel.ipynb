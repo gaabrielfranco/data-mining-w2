{
 "cells": [
  {
   "cell_type": "markdown",
   "metadata": {},
   "source": [
    "# Trabalho prático II - Classificação\n",
    "\n",
    "O objetivo deste trabalho é praticar os conceitos de aprendizado supervisionado que vimos em sala.\n",
    "\n",
    "A sua tarefa será treinar um classificador para um conjunto de dados misterioso (se eu falasses qual é o objetivo do modelo, você encontraria soluções na Internet).\n",
    "\n",
    "Baixe o arquivo [t2.tar.gz](https://drive.google.com/file/d/125plHKUzFGxHjjCiVJcTQG2bPG_zgDNV/view?usp=sharing). Descoprima este arquivo para encontrar outros quatro. Os arquivos `train_X.csv` e `train_y.csv` possuem os dados que você deve usar para treinar o modelo. O arquivo `test_X.csv` possui os objetos para os quais você deve encontrar as classes (testar o modelo). Por fim, o arquivo `test_example_y.csv` é um exemplo de como sua solução final deve ser organizada.\n",
    "\n",
    "Cada linha dos arquivos `train_X.csv` e `test_X.csv` tem 15 campos descrevendo um objeto misterioso. O campo `id` representa o identificador do objeto, sendo que este campo não deve ser considerado em seu modelo. Os atributos a serem usados no modelo são os 14 campos rotulados de de `a` até `n`. Desses atributos:\n",
    "- `b`, `d`, `f`, `g`, `h`, `i`, `j` e `n` são categóricos; e\n",
    "- `a`, `c`, `e`, `k`, `l` e `m` são numéricos.\n",
    "\n",
    "Cada linha do arquivo `train_y.csv` possui dois campos. O primeiro é o identificador de um objeto do arquivo `train_X.csv` e o segundo é a classe do respectivo objeto (0 ou 1).\n",
    "\n",
    "Seu objetivo é encontrar as classes dos objetos do arquivo `test_X.csv` e mostrar como chegou em sua solução! Os dados do arquivo de teste foram obtido a partir de uma amostra aleatório do todo. Ou seja, um modelo bem treinado, e sem _overfitting_, em `train_X.csv` e `train_y.csv` se sairá bem em `test_X.csv`.\n",
    "\n",
    "**Data de entrega:** dia 4 de julho de 2018.\n",
    "\n",
    "**Grupo:** de até 3 pessoas, mas duas pessoas do mesmo grupo no trabalho 1 não podem pertencer ao mesmo grupo nesse trabalho.\n",
    "\n",
    "**Valor:** 20% da nota do semestre.\n",
    "\n",
    "Os três seguintes pontos descrevem o que obrigatoriamente deve ser entregue, com seu respectivo valor.\n",
    "\n",
    "1 - **[10 pontos]** Este notebook com todo seu código e resultados (números, tabelas e gráficos). Você pode usar qualquer um dos métodos que estudamos ou alguma de suas variações próximas. Se estiver na dúvida se pode usar um método, basta perguntas no Piazza. Comentários e justificativas no notebook não serão considerados para sua nota.\n",
    "O notebook deve ser enviado para o email do professor.\n",
    "\n",
    "2 - **[8 pontos]** Um relatório digitado contendo: capa, introdução, metodologia, resultados, conclusão e referências. O relatório deve ter no máximo 10 páginas, com coluna simples, fonte 11, espaçamento 1.5 e margens de 2cm. A seção de metodologia deve conter uma descrição detalhada dos passos seguidos (não incluir código no relatório). A seção de resultados deve conter obrigatoriamente: uma caracterização descritiva dos dados, matriz de confusão das predições, _precision_, _recall_, _F1 score_ e acurácia. Todas as métricas de predição devem ser calculadas a partir dos arquivos de treinamento por meio de validação cruzada.\n",
    "O relatório deve ser enviado para o email do professor.\n",
    "\n",
    "3 - **[2 pontos + equivalente a lista extra pela classificação]** A sua predição final do arquivo `test_X.csv` deve ser enviada para o professor por email. O formato deve ser o mesmo do arquivo `train_y.csv`, assim como exemplificado em `test_example_y.csv` (mas repare que as classes desse último arquivo foram gerados de forma aleatória). Em outras palavras, o arquivo a ser entregue deve ter dois campos. O campo `id` é o identificador do objeto em `test_X.csv` e o campo `label` é a classe que seu modelo encontrou para o objeto em questão. A primeira linha do arquivo deve conter os nomes das colunas.\n",
    "A entrega desse arquivo é obrigatória e vale dois pontos. Além disso, o trabalho com maior _F1 score_ ganhará o equivalente a 100% de uma lista extra. O trabalho com o pior _F1 score_ não ganhará nota extra alguma. Os demais trabalhos terão nota proporcional.\n",
    "O professor se reserva o direito de anular esse quesito (nota extra) se houver indícios de má conduta durante a competição.\n",
    "\n",
    "**Kaggle:** Estou tentando criar uma competição para esse trabalho na plataforma _Kaggle_. Se eu conseguir, compartilho o _link_ com você no _Piazza_."
   ]
  },
  {
   "cell_type": "markdown",
   "metadata": {},
   "source": [
    "### Bibliotecas"
   ]
  },
  {
   "cell_type": "code",
   "execution_count": 1,
   "metadata": {},
   "outputs": [],
   "source": [
    "import pandas as pd\n",
    "import sklearn.feature_selection as features\n",
    "from sklearn.preprocessing import OneHotEncoder, MinMaxScaler\n",
    "from sklearn.naive_bayes import GaussianNB, MultinomialNB\n",
    "from sklearn.model_selection import GridSearchCV, train_test_split\n",
    "from sklearn.ensemble import RandomForestClassifier, VotingClassifier\n",
    "from sklearn.metrics import accuracy_score, confusion_matrix, f1_score, precision_score, recall_score\n",
    "from sklearn.neural_network import MLPClassifier\n",
    "from sklearn.neighbors import KNeighborsClassifier\n",
    "from sklearn.externals import joblib\n",
    "from sklearn.discriminant_analysis import LinearDiscriminantAnalysis\n",
    "from sklearn import tree, svm\n",
    "import numpy as np\n",
    "import matplotlib.pyplot as plt\n",
    "from matplotlib.colors import Normalize\n",
    "import itertools"
   ]
  },
  {
   "cell_type": "markdown",
   "metadata": {},
   "source": [
    "### Processamento dos arquivos e normalização dos dados"
   ]
  },
  {
   "cell_type": "code",
   "execution_count": 5,
   "metadata": {},
   "outputs": [],
   "source": [
    "division = 40222\n",
    "\n",
    "X = pd.concat([pd.read_csv('data/train_X.csv'),pd.read_csv('data/test_X.csv')])\n",
    "X = pd.DataFrame(OneHotEncoder(categorical_features = [2,4,6,7,8,9,10,14],sparse=False).fit_transform(X))\n",
    "\n",
    "\n",
    "ids = X[98]\n",
    "X = X.drop(columns=[98])\n",
    "\n",
    "for column in X:\n",
    "    X[column] = (X[column] - X[column].min()) / (X[column].max() - X[column].min())\n",
    "    \n",
    "X.insert(loc=0, column=\"id\", value=ids)\n",
    "\n",
    "X.rename(inplace=True, columns={99:\"a\",100:\"c\",101:\"e\",102:\"k\",103:\"l\",104:\"m\"})\n",
    "\n",
    "trainX = X[:division]\n",
    "testX = X[division:]\n",
    "\n",
    "trainX.to_csv(\"data/pd_trainX.csv\", index=False)\n",
    "testX.to_csv(\"data/pd_testX.csv\", index=False)"
   ]
  },
  {
   "cell_type": "code",
   "execution_count": 9,
   "metadata": {
    "scrolled": false
   },
   "outputs": [],
   "source": [
    "X = pd.read_csv(\"data/pd_trainX.csv\")\n",
    "y = pd.read_csv(\"data/train_y.csv\")\n",
    "testX = pd.read_csv(\"data/pd_testX.csv\")\n",
    "        \n",
    "X = X.drop(columns=[\"id\"]).values\n",
    "y = (y.drop(columns=[\"id\"]).T).values[0]"
   ]
  },
  {
   "cell_type": "code",
   "execution_count": 10,
   "metadata": {},
   "outputs": [
    {
     "name": "stdout",
     "output_type": "stream",
     "text": [
      "[[0.         0.         1.         ... 0.         0.         0.29591837]\n",
      " [0.         1.         0.         ... 0.         0.         0.37755102]\n",
      " [0.         0.         1.         ... 0.         0.         0.39795918]\n",
      " ...\n",
      " [0.         0.         1.         ... 0.         0.         0.5       ]\n",
      " [0.         0.         0.         ... 0.         0.         0.39795918]\n",
      " [1.         0.         0.         ... 0.         0.         0.39795918]]\n",
      "\n",
      "[0 0 0 ... 1 1 1]\n"
     ]
    }
   ],
   "source": [
    "print(X, end='\\n\\n')\n",
    "print(y)"
   ]
  },
  {
   "cell_type": "code",
   "execution_count": 11,
   "metadata": {},
   "outputs": [
    {
     "data": {
      "text/html": [
       "<div>\n",
       "<style scoped>\n",
       "    .dataframe tbody tr th:only-of-type {\n",
       "        vertical-align: middle;\n",
       "    }\n",
       "\n",
       "    .dataframe tbody tr th {\n",
       "        vertical-align: top;\n",
       "    }\n",
       "\n",
       "    .dataframe thead th {\n",
       "        text-align: right;\n",
       "    }\n",
       "</style>\n",
       "<table border=\"1\" class=\"dataframe\">\n",
       "  <thead>\n",
       "    <tr style=\"text-align: right;\">\n",
       "      <th></th>\n",
       "      <th>id</th>\n",
       "      <th>0</th>\n",
       "      <th>1</th>\n",
       "      <th>2</th>\n",
       "      <th>3</th>\n",
       "      <th>4</th>\n",
       "      <th>5</th>\n",
       "      <th>6</th>\n",
       "      <th>7</th>\n",
       "      <th>8</th>\n",
       "      <th>...</th>\n",
       "      <th>94</th>\n",
       "      <th>95</th>\n",
       "      <th>96</th>\n",
       "      <th>97</th>\n",
       "      <th>a</th>\n",
       "      <th>c</th>\n",
       "      <th>e</th>\n",
       "      <th>k</th>\n",
       "      <th>l</th>\n",
       "      <th>m</th>\n",
       "    </tr>\n",
       "  </thead>\n",
       "  <tbody>\n",
       "    <tr>\n",
       "      <th>0</th>\n",
       "      <td>16432.0</td>\n",
       "      <td>0.0</td>\n",
       "      <td>0.0</td>\n",
       "      <td>1.0</td>\n",
       "      <td>0.0</td>\n",
       "      <td>0.0</td>\n",
       "      <td>0.0</td>\n",
       "      <td>0.0</td>\n",
       "      <td>0.0</td>\n",
       "      <td>0.0</td>\n",
       "      <td>...</td>\n",
       "      <td>0.0</td>\n",
       "      <td>0.0</td>\n",
       "      <td>0.0</td>\n",
       "      <td>0.0</td>\n",
       "      <td>0.013699</td>\n",
       "      <td>0.172301</td>\n",
       "      <td>0.400000</td>\n",
       "      <td>0.000000</td>\n",
       "      <td>0.000000</td>\n",
       "      <td>0.142857</td>\n",
       "    </tr>\n",
       "    <tr>\n",
       "      <th>1</th>\n",
       "      <td>11559.0</td>\n",
       "      <td>0.0</td>\n",
       "      <td>0.0</td>\n",
       "      <td>1.0</td>\n",
       "      <td>0.0</td>\n",
       "      <td>0.0</td>\n",
       "      <td>0.0</td>\n",
       "      <td>0.0</td>\n",
       "      <td>0.0</td>\n",
       "      <td>0.0</td>\n",
       "      <td>...</td>\n",
       "      <td>0.0</td>\n",
       "      <td>0.0</td>\n",
       "      <td>0.0</td>\n",
       "      <td>0.0</td>\n",
       "      <td>0.205479</td>\n",
       "      <td>0.213920</td>\n",
       "      <td>0.866667</td>\n",
       "      <td>0.000000</td>\n",
       "      <td>0.000000</td>\n",
       "      <td>0.397959</td>\n",
       "    </tr>\n",
       "    <tr>\n",
       "      <th>2</th>\n",
       "      <td>7714.0</td>\n",
       "      <td>0.0</td>\n",
       "      <td>0.0</td>\n",
       "      <td>0.0</td>\n",
       "      <td>0.0</td>\n",
       "      <td>1.0</td>\n",
       "      <td>0.0</td>\n",
       "      <td>0.0</td>\n",
       "      <td>0.0</td>\n",
       "      <td>0.0</td>\n",
       "      <td>...</td>\n",
       "      <td>0.0</td>\n",
       "      <td>0.0</td>\n",
       "      <td>0.0</td>\n",
       "      <td>0.0</td>\n",
       "      <td>0.410959</td>\n",
       "      <td>0.074608</td>\n",
       "      <td>0.866667</td>\n",
       "      <td>0.076881</td>\n",
       "      <td>0.000000</td>\n",
       "      <td>0.602041</td>\n",
       "    </tr>\n",
       "    <tr>\n",
       "      <th>3</th>\n",
       "      <td>11576.0</td>\n",
       "      <td>0.0</td>\n",
       "      <td>0.0</td>\n",
       "      <td>1.0</td>\n",
       "      <td>0.0</td>\n",
       "      <td>0.0</td>\n",
       "      <td>0.0</td>\n",
       "      <td>0.0</td>\n",
       "      <td>1.0</td>\n",
       "      <td>0.0</td>\n",
       "      <td>...</td>\n",
       "      <td>0.0</td>\n",
       "      <td>0.0</td>\n",
       "      <td>0.0</td>\n",
       "      <td>0.0</td>\n",
       "      <td>0.260274</td>\n",
       "      <td>0.127311</td>\n",
       "      <td>0.800000</td>\n",
       "      <td>0.000000</td>\n",
       "      <td>0.000000</td>\n",
       "      <td>0.397959</td>\n",
       "    </tr>\n",
       "    <tr>\n",
       "      <th>4</th>\n",
       "      <td>10336.0</td>\n",
       "      <td>1.0</td>\n",
       "      <td>0.0</td>\n",
       "      <td>0.0</td>\n",
       "      <td>0.0</td>\n",
       "      <td>0.0</td>\n",
       "      <td>0.0</td>\n",
       "      <td>0.0</td>\n",
       "      <td>0.0</td>\n",
       "      <td>0.0</td>\n",
       "      <td>...</td>\n",
       "      <td>0.0</td>\n",
       "      <td>0.0</td>\n",
       "      <td>0.0</td>\n",
       "      <td>0.0</td>\n",
       "      <td>0.013699</td>\n",
       "      <td>0.120268</td>\n",
       "      <td>0.400000</td>\n",
       "      <td>0.000000</td>\n",
       "      <td>0.000000</td>\n",
       "      <td>0.193878</td>\n",
       "    </tr>\n",
       "    <tr>\n",
       "      <th>5</th>\n",
       "      <td>11249.0</td>\n",
       "      <td>0.0</td>\n",
       "      <td>0.0</td>\n",
       "      <td>0.0</td>\n",
       "      <td>0.0</td>\n",
       "      <td>1.0</td>\n",
       "      <td>0.0</td>\n",
       "      <td>0.0</td>\n",
       "      <td>0.0</td>\n",
       "      <td>0.0</td>\n",
       "      <td>...</td>\n",
       "      <td>0.0</td>\n",
       "      <td>0.0</td>\n",
       "      <td>0.0</td>\n",
       "      <td>0.0</td>\n",
       "      <td>0.424658</td>\n",
       "      <td>0.071419</td>\n",
       "      <td>0.333333</td>\n",
       "      <td>0.000000</td>\n",
       "      <td>0.000000</td>\n",
       "      <td>0.397959</td>\n",
       "    </tr>\n",
       "    <tr>\n",
       "      <th>6</th>\n",
       "      <td>11030.0</td>\n",
       "      <td>0.0</td>\n",
       "      <td>1.0</td>\n",
       "      <td>0.0</td>\n",
       "      <td>0.0</td>\n",
       "      <td>0.0</td>\n",
       "      <td>0.0</td>\n",
       "      <td>0.0</td>\n",
       "      <td>0.0</td>\n",
       "      <td>1.0</td>\n",
       "      <td>...</td>\n",
       "      <td>0.0</td>\n",
       "      <td>0.0</td>\n",
       "      <td>0.0</td>\n",
       "      <td>0.0</td>\n",
       "      <td>0.136986</td>\n",
       "      <td>0.018692</td>\n",
       "      <td>0.533333</td>\n",
       "      <td>0.000000</td>\n",
       "      <td>0.000000</td>\n",
       "      <td>0.295918</td>\n",
       "    </tr>\n",
       "    <tr>\n",
       "      <th>7</th>\n",
       "      <td>10292.0</td>\n",
       "      <td>0.0</td>\n",
       "      <td>0.0</td>\n",
       "      <td>0.0</td>\n",
       "      <td>1.0</td>\n",
       "      <td>0.0</td>\n",
       "      <td>0.0</td>\n",
       "      <td>0.0</td>\n",
       "      <td>0.0</td>\n",
       "      <td>1.0</td>\n",
       "      <td>...</td>\n",
       "      <td>0.0</td>\n",
       "      <td>0.0</td>\n",
       "      <td>0.0</td>\n",
       "      <td>0.0</td>\n",
       "      <td>0.246575</td>\n",
       "      <td>0.062316</td>\n",
       "      <td>0.533333</td>\n",
       "      <td>0.000000</td>\n",
       "      <td>0.000000</td>\n",
       "      <td>0.397959</td>\n",
       "    </tr>\n",
       "    <tr>\n",
       "      <th>8</th>\n",
       "      <td>13980.0</td>\n",
       "      <td>0.0</td>\n",
       "      <td>1.0</td>\n",
       "      <td>0.0</td>\n",
       "      <td>0.0</td>\n",
       "      <td>0.0</td>\n",
       "      <td>0.0</td>\n",
       "      <td>0.0</td>\n",
       "      <td>0.0</td>\n",
       "      <td>0.0</td>\n",
       "      <td>...</td>\n",
       "      <td>0.0</td>\n",
       "      <td>0.0</td>\n",
       "      <td>0.0</td>\n",
       "      <td>0.0</td>\n",
       "      <td>0.315068</td>\n",
       "      <td>0.103136</td>\n",
       "      <td>0.600000</td>\n",
       "      <td>0.000000</td>\n",
       "      <td>0.000000</td>\n",
       "      <td>0.397959</td>\n",
       "    </tr>\n",
       "    <tr>\n",
       "      <th>9</th>\n",
       "      <td>5558.0</td>\n",
       "      <td>0.0</td>\n",
       "      <td>0.0</td>\n",
       "      <td>1.0</td>\n",
       "      <td>0.0</td>\n",
       "      <td>0.0</td>\n",
       "      <td>0.0</td>\n",
       "      <td>0.0</td>\n",
       "      <td>0.0</td>\n",
       "      <td>1.0</td>\n",
       "      <td>...</td>\n",
       "      <td>0.0</td>\n",
       "      <td>0.0</td>\n",
       "      <td>0.0</td>\n",
       "      <td>0.0</td>\n",
       "      <td>0.328767</td>\n",
       "      <td>0.147226</td>\n",
       "      <td>0.533333</td>\n",
       "      <td>0.000000</td>\n",
       "      <td>0.000000</td>\n",
       "      <td>0.397959</td>\n",
       "    </tr>\n",
       "    <tr>\n",
       "      <th>10</th>\n",
       "      <td>22914.0</td>\n",
       "      <td>0.0</td>\n",
       "      <td>0.0</td>\n",
       "      <td>1.0</td>\n",
       "      <td>0.0</td>\n",
       "      <td>0.0</td>\n",
       "      <td>0.0</td>\n",
       "      <td>0.0</td>\n",
       "      <td>0.0</td>\n",
       "      <td>0.0</td>\n",
       "      <td>...</td>\n",
       "      <td>0.0</td>\n",
       "      <td>0.0</td>\n",
       "      <td>0.0</td>\n",
       "      <td>0.0</td>\n",
       "      <td>0.479452</td>\n",
       "      <td>0.291318</td>\n",
       "      <td>0.600000</td>\n",
       "      <td>0.000000</td>\n",
       "      <td>0.000000</td>\n",
       "      <td>0.602041</td>\n",
       "    </tr>\n",
       "    <tr>\n",
       "      <th>11</th>\n",
       "      <td>16872.0</td>\n",
       "      <td>0.0</td>\n",
       "      <td>0.0</td>\n",
       "      <td>1.0</td>\n",
       "      <td>0.0</td>\n",
       "      <td>0.0</td>\n",
       "      <td>0.0</td>\n",
       "      <td>0.0</td>\n",
       "      <td>0.0</td>\n",
       "      <td>1.0</td>\n",
       "      <td>...</td>\n",
       "      <td>0.0</td>\n",
       "      <td>0.0</td>\n",
       "      <td>0.0</td>\n",
       "      <td>0.0</td>\n",
       "      <td>0.260274</td>\n",
       "      <td>0.068722</td>\n",
       "      <td>0.533333</td>\n",
       "      <td>0.000000</td>\n",
       "      <td>0.000000</td>\n",
       "      <td>0.397959</td>\n",
       "    </tr>\n",
       "    <tr>\n",
       "      <th>12</th>\n",
       "      <td>7864.0</td>\n",
       "      <td>0.0</td>\n",
       "      <td>0.0</td>\n",
       "      <td>1.0</td>\n",
       "      <td>0.0</td>\n",
       "      <td>0.0</td>\n",
       "      <td>0.0</td>\n",
       "      <td>0.0</td>\n",
       "      <td>0.0</td>\n",
       "      <td>0.0</td>\n",
       "      <td>...</td>\n",
       "      <td>0.0</td>\n",
       "      <td>0.0</td>\n",
       "      <td>0.0</td>\n",
       "      <td>0.0</td>\n",
       "      <td>0.095890</td>\n",
       "      <td>0.121416</td>\n",
       "      <td>0.866667</td>\n",
       "      <td>0.000000</td>\n",
       "      <td>0.000000</td>\n",
       "      <td>0.397959</td>\n",
       "    </tr>\n",
       "    <tr>\n",
       "      <th>13</th>\n",
       "      <td>15943.0</td>\n",
       "      <td>0.0</td>\n",
       "      <td>0.0</td>\n",
       "      <td>1.0</td>\n",
       "      <td>0.0</td>\n",
       "      <td>0.0</td>\n",
       "      <td>0.0</td>\n",
       "      <td>0.0</td>\n",
       "      <td>0.0</td>\n",
       "      <td>1.0</td>\n",
       "      <td>...</td>\n",
       "      <td>0.0</td>\n",
       "      <td>0.0</td>\n",
       "      <td>0.0</td>\n",
       "      <td>0.0</td>\n",
       "      <td>0.123288</td>\n",
       "      <td>0.125702</td>\n",
       "      <td>0.533333</td>\n",
       "      <td>0.000000</td>\n",
       "      <td>0.000000</td>\n",
       "      <td>0.500000</td>\n",
       "    </tr>\n",
       "    <tr>\n",
       "      <th>14</th>\n",
       "      <td>4971.0</td>\n",
       "      <td>1.0</td>\n",
       "      <td>0.0</td>\n",
       "      <td>0.0</td>\n",
       "      <td>0.0</td>\n",
       "      <td>0.0</td>\n",
       "      <td>0.0</td>\n",
       "      <td>0.0</td>\n",
       "      <td>0.0</td>\n",
       "      <td>1.0</td>\n",
       "      <td>...</td>\n",
       "      <td>0.0</td>\n",
       "      <td>0.0</td>\n",
       "      <td>0.0</td>\n",
       "      <td>0.0</td>\n",
       "      <td>0.397260</td>\n",
       "      <td>0.010972</td>\n",
       "      <td>0.533333</td>\n",
       "      <td>0.000000</td>\n",
       "      <td>0.000000</td>\n",
       "      <td>0.397959</td>\n",
       "    </tr>\n",
       "    <tr>\n",
       "      <th>15</th>\n",
       "      <td>29939.0</td>\n",
       "      <td>0.0</td>\n",
       "      <td>0.0</td>\n",
       "      <td>0.0</td>\n",
       "      <td>0.0</td>\n",
       "      <td>0.0</td>\n",
       "      <td>1.0</td>\n",
       "      <td>0.0</td>\n",
       "      <td>0.0</td>\n",
       "      <td>0.0</td>\n",
       "      <td>...</td>\n",
       "      <td>0.0</td>\n",
       "      <td>0.0</td>\n",
       "      <td>0.0</td>\n",
       "      <td>0.0</td>\n",
       "      <td>0.671233</td>\n",
       "      <td>0.060377</td>\n",
       "      <td>0.200000</td>\n",
       "      <td>0.000000</td>\n",
       "      <td>0.000000</td>\n",
       "      <td>0.500000</td>\n",
       "    </tr>\n",
       "    <tr>\n",
       "      <th>16</th>\n",
       "      <td>30747.0</td>\n",
       "      <td>0.0</td>\n",
       "      <td>0.0</td>\n",
       "      <td>1.0</td>\n",
       "      <td>0.0</td>\n",
       "      <td>0.0</td>\n",
       "      <td>0.0</td>\n",
       "      <td>0.0</td>\n",
       "      <td>0.0</td>\n",
       "      <td>1.0</td>\n",
       "      <td>...</td>\n",
       "      <td>0.0</td>\n",
       "      <td>0.0</td>\n",
       "      <td>0.0</td>\n",
       "      <td>0.0</td>\n",
       "      <td>0.643836</td>\n",
       "      <td>0.133109</td>\n",
       "      <td>0.533333</td>\n",
       "      <td>0.000000</td>\n",
       "      <td>0.000000</td>\n",
       "      <td>0.397959</td>\n",
       "    </tr>\n",
       "    <tr>\n",
       "      <th>17</th>\n",
       "      <td>22528.0</td>\n",
       "      <td>0.0</td>\n",
       "      <td>0.0</td>\n",
       "      <td>1.0</td>\n",
       "      <td>0.0</td>\n",
       "      <td>0.0</td>\n",
       "      <td>0.0</td>\n",
       "      <td>0.0</td>\n",
       "      <td>0.0</td>\n",
       "      <td>1.0</td>\n",
       "      <td>...</td>\n",
       "      <td>0.0</td>\n",
       "      <td>0.0</td>\n",
       "      <td>0.0</td>\n",
       "      <td>0.0</td>\n",
       "      <td>0.178082</td>\n",
       "      <td>0.213915</td>\n",
       "      <td>0.533333</td>\n",
       "      <td>0.000000</td>\n",
       "      <td>0.000000</td>\n",
       "      <td>0.397959</td>\n",
       "    </tr>\n",
       "    <tr>\n",
       "      <th>18</th>\n",
       "      <td>6698.0</td>\n",
       "      <td>0.0</td>\n",
       "      <td>0.0</td>\n",
       "      <td>0.0</td>\n",
       "      <td>0.0</td>\n",
       "      <td>0.0</td>\n",
       "      <td>1.0</td>\n",
       "      <td>0.0</td>\n",
       "      <td>0.0</td>\n",
       "      <td>1.0</td>\n",
       "      <td>...</td>\n",
       "      <td>0.0</td>\n",
       "      <td>0.0</td>\n",
       "      <td>0.0</td>\n",
       "      <td>0.0</td>\n",
       "      <td>0.287671</td>\n",
       "      <td>0.203476</td>\n",
       "      <td>0.533333</td>\n",
       "      <td>0.000000</td>\n",
       "      <td>0.000000</td>\n",
       "      <td>0.785714</td>\n",
       "    </tr>\n",
       "    <tr>\n",
       "      <th>19</th>\n",
       "      <td>7052.0</td>\n",
       "      <td>0.0</td>\n",
       "      <td>0.0</td>\n",
       "      <td>1.0</td>\n",
       "      <td>0.0</td>\n",
       "      <td>0.0</td>\n",
       "      <td>0.0</td>\n",
       "      <td>0.0</td>\n",
       "      <td>0.0</td>\n",
       "      <td>0.0</td>\n",
       "      <td>...</td>\n",
       "      <td>0.0</td>\n",
       "      <td>0.0</td>\n",
       "      <td>0.0</td>\n",
       "      <td>0.0</td>\n",
       "      <td>0.082192</td>\n",
       "      <td>0.267786</td>\n",
       "      <td>0.600000</td>\n",
       "      <td>0.000000</td>\n",
       "      <td>0.000000</td>\n",
       "      <td>0.377551</td>\n",
       "    </tr>\n",
       "    <tr>\n",
       "      <th>20</th>\n",
       "      <td>12033.0</td>\n",
       "      <td>0.0</td>\n",
       "      <td>0.0</td>\n",
       "      <td>1.0</td>\n",
       "      <td>0.0</td>\n",
       "      <td>0.0</td>\n",
       "      <td>0.0</td>\n",
       "      <td>0.0</td>\n",
       "      <td>0.0</td>\n",
       "      <td>0.0</td>\n",
       "      <td>...</td>\n",
       "      <td>0.0</td>\n",
       "      <td>0.0</td>\n",
       "      <td>0.0</td>\n",
       "      <td>0.0</td>\n",
       "      <td>0.191781</td>\n",
       "      <td>0.063596</td>\n",
       "      <td>0.600000</td>\n",
       "      <td>0.000000</td>\n",
       "      <td>0.000000</td>\n",
       "      <td>0.397959</td>\n",
       "    </tr>\n",
       "    <tr>\n",
       "      <th>21</th>\n",
       "      <td>4556.0</td>\n",
       "      <td>0.0</td>\n",
       "      <td>0.0</td>\n",
       "      <td>1.0</td>\n",
       "      <td>0.0</td>\n",
       "      <td>0.0</td>\n",
       "      <td>0.0</td>\n",
       "      <td>0.0</td>\n",
       "      <td>0.0</td>\n",
       "      <td>1.0</td>\n",
       "      <td>...</td>\n",
       "      <td>0.0</td>\n",
       "      <td>0.0</td>\n",
       "      <td>0.0</td>\n",
       "      <td>0.0</td>\n",
       "      <td>0.219178</td>\n",
       "      <td>0.150055</td>\n",
       "      <td>0.533333</td>\n",
       "      <td>0.000000</td>\n",
       "      <td>0.000000</td>\n",
       "      <td>0.397959</td>\n",
       "    </tr>\n",
       "    <tr>\n",
       "      <th>22</th>\n",
       "      <td>7661.0</td>\n",
       "      <td>0.0</td>\n",
       "      <td>0.0</td>\n",
       "      <td>1.0</td>\n",
       "      <td>0.0</td>\n",
       "      <td>0.0</td>\n",
       "      <td>0.0</td>\n",
       "      <td>0.0</td>\n",
       "      <td>0.0</td>\n",
       "      <td>0.0</td>\n",
       "      <td>...</td>\n",
       "      <td>0.0</td>\n",
       "      <td>0.0</td>\n",
       "      <td>0.0</td>\n",
       "      <td>0.0</td>\n",
       "      <td>0.013699</td>\n",
       "      <td>0.071335</td>\n",
       "      <td>0.466667</td>\n",
       "      <td>0.000000</td>\n",
       "      <td>0.000000</td>\n",
       "      <td>0.193878</td>\n",
       "    </tr>\n",
       "    <tr>\n",
       "      <th>23</th>\n",
       "      <td>1085.0</td>\n",
       "      <td>0.0</td>\n",
       "      <td>0.0</td>\n",
       "      <td>1.0</td>\n",
       "      <td>0.0</td>\n",
       "      <td>0.0</td>\n",
       "      <td>0.0</td>\n",
       "      <td>0.0</td>\n",
       "      <td>0.0</td>\n",
       "      <td>0.0</td>\n",
       "      <td>...</td>\n",
       "      <td>0.0</td>\n",
       "      <td>0.0</td>\n",
       "      <td>0.0</td>\n",
       "      <td>0.0</td>\n",
       "      <td>0.178082</td>\n",
       "      <td>0.154219</td>\n",
       "      <td>0.666667</td>\n",
       "      <td>0.000000</td>\n",
       "      <td>0.000000</td>\n",
       "      <td>0.397959</td>\n",
       "    </tr>\n",
       "    <tr>\n",
       "      <th>24</th>\n",
       "      <td>1836.0</td>\n",
       "      <td>0.0</td>\n",
       "      <td>0.0</td>\n",
       "      <td>1.0</td>\n",
       "      <td>0.0</td>\n",
       "      <td>0.0</td>\n",
       "      <td>0.0</td>\n",
       "      <td>0.0</td>\n",
       "      <td>1.0</td>\n",
       "      <td>0.0</td>\n",
       "      <td>...</td>\n",
       "      <td>0.0</td>\n",
       "      <td>0.0</td>\n",
       "      <td>0.0</td>\n",
       "      <td>0.0</td>\n",
       "      <td>0.178082</td>\n",
       "      <td>0.136562</td>\n",
       "      <td>0.800000</td>\n",
       "      <td>0.000000</td>\n",
       "      <td>0.000000</td>\n",
       "      <td>0.397959</td>\n",
       "    </tr>\n",
       "    <tr>\n",
       "      <th>25</th>\n",
       "      <td>31735.0</td>\n",
       "      <td>0.0</td>\n",
       "      <td>1.0</td>\n",
       "      <td>0.0</td>\n",
       "      <td>0.0</td>\n",
       "      <td>0.0</td>\n",
       "      <td>0.0</td>\n",
       "      <td>0.0</td>\n",
       "      <td>0.0</td>\n",
       "      <td>0.0</td>\n",
       "      <td>...</td>\n",
       "      <td>0.0</td>\n",
       "      <td>0.0</td>\n",
       "      <td>0.0</td>\n",
       "      <td>0.0</td>\n",
       "      <td>0.315068</td>\n",
       "      <td>0.013419</td>\n",
       "      <td>0.933333</td>\n",
       "      <td>0.000000</td>\n",
       "      <td>0.536961</td>\n",
       "      <td>0.346939</td>\n",
       "    </tr>\n",
       "    <tr>\n",
       "      <th>26</th>\n",
       "      <td>8929.0</td>\n",
       "      <td>0.0</td>\n",
       "      <td>0.0</td>\n",
       "      <td>1.0</td>\n",
       "      <td>0.0</td>\n",
       "      <td>0.0</td>\n",
       "      <td>0.0</td>\n",
       "      <td>0.0</td>\n",
       "      <td>1.0</td>\n",
       "      <td>0.0</td>\n",
       "      <td>...</td>\n",
       "      <td>0.0</td>\n",
       "      <td>0.0</td>\n",
       "      <td>0.0</td>\n",
       "      <td>0.0</td>\n",
       "      <td>0.356164</td>\n",
       "      <td>0.110126</td>\n",
       "      <td>0.800000</td>\n",
       "      <td>0.000000</td>\n",
       "      <td>0.000000</td>\n",
       "      <td>0.500000</td>\n",
       "    </tr>\n",
       "    <tr>\n",
       "      <th>27</th>\n",
       "      <td>4309.0</td>\n",
       "      <td>0.0</td>\n",
       "      <td>0.0</td>\n",
       "      <td>1.0</td>\n",
       "      <td>0.0</td>\n",
       "      <td>0.0</td>\n",
       "      <td>0.0</td>\n",
       "      <td>0.0</td>\n",
       "      <td>0.0</td>\n",
       "      <td>1.0</td>\n",
       "      <td>...</td>\n",
       "      <td>0.0</td>\n",
       "      <td>0.0</td>\n",
       "      <td>0.0</td>\n",
       "      <td>0.0</td>\n",
       "      <td>0.643836</td>\n",
       "      <td>0.040572</td>\n",
       "      <td>0.533333</td>\n",
       "      <td>0.000000</td>\n",
       "      <td>0.000000</td>\n",
       "      <td>0.500000</td>\n",
       "    </tr>\n",
       "    <tr>\n",
       "      <th>28</th>\n",
       "      <td>3315.0</td>\n",
       "      <td>0.0</td>\n",
       "      <td>0.0</td>\n",
       "      <td>1.0</td>\n",
       "      <td>0.0</td>\n",
       "      <td>0.0</td>\n",
       "      <td>0.0</td>\n",
       "      <td>0.0</td>\n",
       "      <td>0.0</td>\n",
       "      <td>0.0</td>\n",
       "      <td>...</td>\n",
       "      <td>0.0</td>\n",
       "      <td>0.0</td>\n",
       "      <td>0.0</td>\n",
       "      <td>0.0</td>\n",
       "      <td>0.698630</td>\n",
       "      <td>0.042265</td>\n",
       "      <td>0.466667</td>\n",
       "      <td>0.000000</td>\n",
       "      <td>0.000000</td>\n",
       "      <td>0.295918</td>\n",
       "    </tr>\n",
       "    <tr>\n",
       "      <th>29</th>\n",
       "      <td>25248.0</td>\n",
       "      <td>0.0</td>\n",
       "      <td>0.0</td>\n",
       "      <td>1.0</td>\n",
       "      <td>0.0</td>\n",
       "      <td>0.0</td>\n",
       "      <td>0.0</td>\n",
       "      <td>0.0</td>\n",
       "      <td>0.0</td>\n",
       "      <td>0.0</td>\n",
       "      <td>...</td>\n",
       "      <td>0.0</td>\n",
       "      <td>0.0</td>\n",
       "      <td>0.0</td>\n",
       "      <td>0.0</td>\n",
       "      <td>0.383562</td>\n",
       "      <td>0.042102</td>\n",
       "      <td>0.666667</td>\n",
       "      <td>0.000000</td>\n",
       "      <td>0.000000</td>\n",
       "      <td>0.397959</td>\n",
       "    </tr>\n",
       "    <tr>\n",
       "      <th>...</th>\n",
       "      <td>...</td>\n",
       "      <td>...</td>\n",
       "      <td>...</td>\n",
       "      <td>...</td>\n",
       "      <td>...</td>\n",
       "      <td>...</td>\n",
       "      <td>...</td>\n",
       "      <td>...</td>\n",
       "      <td>...</td>\n",
       "      <td>...</td>\n",
       "      <td>...</td>\n",
       "      <td>...</td>\n",
       "      <td>...</td>\n",
       "      <td>...</td>\n",
       "      <td>...</td>\n",
       "      <td>...</td>\n",
       "      <td>...</td>\n",
       "      <td>...</td>\n",
       "      <td>...</td>\n",
       "      <td>...</td>\n",
       "      <td>...</td>\n",
       "    </tr>\n",
       "    <tr>\n",
       "      <th>4970</th>\n",
       "      <td>20365.0</td>\n",
       "      <td>0.0</td>\n",
       "      <td>0.0</td>\n",
       "      <td>1.0</td>\n",
       "      <td>0.0</td>\n",
       "      <td>0.0</td>\n",
       "      <td>0.0</td>\n",
       "      <td>0.0</td>\n",
       "      <td>0.0</td>\n",
       "      <td>1.0</td>\n",
       "      <td>...</td>\n",
       "      <td>0.0</td>\n",
       "      <td>0.0</td>\n",
       "      <td>0.0</td>\n",
       "      <td>0.0</td>\n",
       "      <td>0.328767</td>\n",
       "      <td>0.216135</td>\n",
       "      <td>0.533333</td>\n",
       "      <td>0.000000</td>\n",
       "      <td>0.143480</td>\n",
       "      <td>0.397959</td>\n",
       "    </tr>\n",
       "    <tr>\n",
       "      <th>4971</th>\n",
       "      <td>11093.0</td>\n",
       "      <td>0.0</td>\n",
       "      <td>0.0</td>\n",
       "      <td>1.0</td>\n",
       "      <td>0.0</td>\n",
       "      <td>0.0</td>\n",
       "      <td>0.0</td>\n",
       "      <td>0.0</td>\n",
       "      <td>0.0</td>\n",
       "      <td>0.0</td>\n",
       "      <td>...</td>\n",
       "      <td>0.0</td>\n",
       "      <td>0.0</td>\n",
       "      <td>0.0</td>\n",
       "      <td>0.0</td>\n",
       "      <td>0.520548</td>\n",
       "      <td>0.075371</td>\n",
       "      <td>0.666667</td>\n",
       "      <td>0.000000</td>\n",
       "      <td>0.453857</td>\n",
       "      <td>0.500000</td>\n",
       "    </tr>\n",
       "    <tr>\n",
       "      <th>4972</th>\n",
       "      <td>1005.0</td>\n",
       "      <td>0.0</td>\n",
       "      <td>0.0</td>\n",
       "      <td>1.0</td>\n",
       "      <td>0.0</td>\n",
       "      <td>0.0</td>\n",
       "      <td>0.0</td>\n",
       "      <td>0.0</td>\n",
       "      <td>1.0</td>\n",
       "      <td>0.0</td>\n",
       "      <td>...</td>\n",
       "      <td>0.0</td>\n",
       "      <td>0.0</td>\n",
       "      <td>0.0</td>\n",
       "      <td>0.0</td>\n",
       "      <td>0.561644</td>\n",
       "      <td>0.231954</td>\n",
       "      <td>0.800000</td>\n",
       "      <td>0.000000</td>\n",
       "      <td>0.000000</td>\n",
       "      <td>0.397959</td>\n",
       "    </tr>\n",
       "    <tr>\n",
       "      <th>4973</th>\n",
       "      <td>21763.0</td>\n",
       "      <td>0.0</td>\n",
       "      <td>0.0</td>\n",
       "      <td>0.0</td>\n",
       "      <td>0.0</td>\n",
       "      <td>1.0</td>\n",
       "      <td>0.0</td>\n",
       "      <td>0.0</td>\n",
       "      <td>1.0</td>\n",
       "      <td>0.0</td>\n",
       "      <td>...</td>\n",
       "      <td>0.0</td>\n",
       "      <td>0.0</td>\n",
       "      <td>0.0</td>\n",
       "      <td>0.0</td>\n",
       "      <td>0.821918</td>\n",
       "      <td>0.111082</td>\n",
       "      <td>0.800000</td>\n",
       "      <td>0.038180</td>\n",
       "      <td>0.000000</td>\n",
       "      <td>0.132653</td>\n",
       "    </tr>\n",
       "    <tr>\n",
       "      <th>4974</th>\n",
       "      <td>27800.0</td>\n",
       "      <td>0.0</td>\n",
       "      <td>0.0</td>\n",
       "      <td>1.0</td>\n",
       "      <td>0.0</td>\n",
       "      <td>0.0</td>\n",
       "      <td>0.0</td>\n",
       "      <td>0.0</td>\n",
       "      <td>0.0</td>\n",
       "      <td>0.0</td>\n",
       "      <td>...</td>\n",
       "      <td>0.0</td>\n",
       "      <td>0.0</td>\n",
       "      <td>0.0</td>\n",
       "      <td>0.0</td>\n",
       "      <td>0.109589</td>\n",
       "      <td>0.111412</td>\n",
       "      <td>0.600000</td>\n",
       "      <td>0.000000</td>\n",
       "      <td>0.000000</td>\n",
       "      <td>0.346939</td>\n",
       "    </tr>\n",
       "    <tr>\n",
       "      <th>4975</th>\n",
       "      <td>15998.0</td>\n",
       "      <td>0.0</td>\n",
       "      <td>0.0</td>\n",
       "      <td>0.0</td>\n",
       "      <td>1.0</td>\n",
       "      <td>0.0</td>\n",
       "      <td>0.0</td>\n",
       "      <td>0.0</td>\n",
       "      <td>0.0</td>\n",
       "      <td>0.0</td>\n",
       "      <td>...</td>\n",
       "      <td>0.0</td>\n",
       "      <td>0.0</td>\n",
       "      <td>0.0</td>\n",
       "      <td>0.0</td>\n",
       "      <td>0.438356</td>\n",
       "      <td>0.122219</td>\n",
       "      <td>0.600000</td>\n",
       "      <td>0.000000</td>\n",
       "      <td>0.000000</td>\n",
       "      <td>0.397959</td>\n",
       "    </tr>\n",
       "    <tr>\n",
       "      <th>4976</th>\n",
       "      <td>7301.0</td>\n",
       "      <td>0.0</td>\n",
       "      <td>0.0</td>\n",
       "      <td>1.0</td>\n",
       "      <td>0.0</td>\n",
       "      <td>0.0</td>\n",
       "      <td>0.0</td>\n",
       "      <td>0.0</td>\n",
       "      <td>0.0</td>\n",
       "      <td>1.0</td>\n",
       "      <td>...</td>\n",
       "      <td>0.0</td>\n",
       "      <td>0.0</td>\n",
       "      <td>0.0</td>\n",
       "      <td>0.0</td>\n",
       "      <td>0.301370</td>\n",
       "      <td>0.012507</td>\n",
       "      <td>0.533333</td>\n",
       "      <td>0.000000</td>\n",
       "      <td>0.000000</td>\n",
       "      <td>0.806122</td>\n",
       "    </tr>\n",
       "    <tr>\n",
       "      <th>4977</th>\n",
       "      <td>324.0</td>\n",
       "      <td>0.0</td>\n",
       "      <td>1.0</td>\n",
       "      <td>0.0</td>\n",
       "      <td>0.0</td>\n",
       "      <td>0.0</td>\n",
       "      <td>0.0</td>\n",
       "      <td>0.0</td>\n",
       "      <td>0.0</td>\n",
       "      <td>0.0</td>\n",
       "      <td>...</td>\n",
       "      <td>0.0</td>\n",
       "      <td>0.0</td>\n",
       "      <td>0.0</td>\n",
       "      <td>0.0</td>\n",
       "      <td>0.808219</td>\n",
       "      <td>0.108888</td>\n",
       "      <td>0.866667</td>\n",
       "      <td>0.000000</td>\n",
       "      <td>0.000000</td>\n",
       "      <td>0.091837</td>\n",
       "    </tr>\n",
       "    <tr>\n",
       "      <th>4978</th>\n",
       "      <td>29451.0</td>\n",
       "      <td>0.0</td>\n",
       "      <td>1.0</td>\n",
       "      <td>0.0</td>\n",
       "      <td>0.0</td>\n",
       "      <td>0.0</td>\n",
       "      <td>0.0</td>\n",
       "      <td>0.0</td>\n",
       "      <td>0.0</td>\n",
       "      <td>1.0</td>\n",
       "      <td>...</td>\n",
       "      <td>0.0</td>\n",
       "      <td>0.0</td>\n",
       "      <td>0.0</td>\n",
       "      <td>0.0</td>\n",
       "      <td>0.205479</td>\n",
       "      <td>0.033028</td>\n",
       "      <td>0.533333</td>\n",
       "      <td>0.000000</td>\n",
       "      <td>0.000000</td>\n",
       "      <td>0.397959</td>\n",
       "    </tr>\n",
       "    <tr>\n",
       "      <th>4979</th>\n",
       "      <td>11199.0</td>\n",
       "      <td>1.0</td>\n",
       "      <td>0.0</td>\n",
       "      <td>0.0</td>\n",
       "      <td>0.0</td>\n",
       "      <td>0.0</td>\n",
       "      <td>0.0</td>\n",
       "      <td>0.0</td>\n",
       "      <td>0.0</td>\n",
       "      <td>0.0</td>\n",
       "      <td>...</td>\n",
       "      <td>0.0</td>\n",
       "      <td>0.0</td>\n",
       "      <td>0.0</td>\n",
       "      <td>0.0</td>\n",
       "      <td>0.287671</td>\n",
       "      <td>0.222188</td>\n",
       "      <td>0.733333</td>\n",
       "      <td>0.000000</td>\n",
       "      <td>0.000000</td>\n",
       "      <td>0.602041</td>\n",
       "    </tr>\n",
       "    <tr>\n",
       "      <th>4980</th>\n",
       "      <td>28519.0</td>\n",
       "      <td>0.0</td>\n",
       "      <td>0.0</td>\n",
       "      <td>0.0</td>\n",
       "      <td>1.0</td>\n",
       "      <td>0.0</td>\n",
       "      <td>0.0</td>\n",
       "      <td>0.0</td>\n",
       "      <td>0.0</td>\n",
       "      <td>0.0</td>\n",
       "      <td>...</td>\n",
       "      <td>0.0</td>\n",
       "      <td>0.0</td>\n",
       "      <td>0.0</td>\n",
       "      <td>0.0</td>\n",
       "      <td>0.301370</td>\n",
       "      <td>0.245759</td>\n",
       "      <td>0.933333</td>\n",
       "      <td>0.000000</td>\n",
       "      <td>0.433196</td>\n",
       "      <td>0.500000</td>\n",
       "    </tr>\n",
       "    <tr>\n",
       "      <th>4981</th>\n",
       "      <td>15600.0</td>\n",
       "      <td>0.0</td>\n",
       "      <td>0.0</td>\n",
       "      <td>1.0</td>\n",
       "      <td>0.0</td>\n",
       "      <td>0.0</td>\n",
       "      <td>0.0</td>\n",
       "      <td>0.0</td>\n",
       "      <td>0.0</td>\n",
       "      <td>0.0</td>\n",
       "      <td>...</td>\n",
       "      <td>0.0</td>\n",
       "      <td>0.0</td>\n",
       "      <td>0.0</td>\n",
       "      <td>0.0</td>\n",
       "      <td>0.671233</td>\n",
       "      <td>0.107205</td>\n",
       "      <td>0.600000</td>\n",
       "      <td>0.000000</td>\n",
       "      <td>0.000000</td>\n",
       "      <td>0.142857</td>\n",
       "    </tr>\n",
       "    <tr>\n",
       "      <th>4982</th>\n",
       "      <td>2576.0</td>\n",
       "      <td>0.0</td>\n",
       "      <td>0.0</td>\n",
       "      <td>0.0</td>\n",
       "      <td>0.0</td>\n",
       "      <td>0.0</td>\n",
       "      <td>1.0</td>\n",
       "      <td>0.0</td>\n",
       "      <td>0.0</td>\n",
       "      <td>0.0</td>\n",
       "      <td>...</td>\n",
       "      <td>0.0</td>\n",
       "      <td>0.0</td>\n",
       "      <td>0.0</td>\n",
       "      <td>0.0</td>\n",
       "      <td>0.369863</td>\n",
       "      <td>0.178952</td>\n",
       "      <td>0.400000</td>\n",
       "      <td>0.000000</td>\n",
       "      <td>0.000000</td>\n",
       "      <td>0.602041</td>\n",
       "    </tr>\n",
       "    <tr>\n",
       "      <th>4983</th>\n",
       "      <td>29285.0</td>\n",
       "      <td>0.0</td>\n",
       "      <td>0.0</td>\n",
       "      <td>1.0</td>\n",
       "      <td>0.0</td>\n",
       "      <td>0.0</td>\n",
       "      <td>0.0</td>\n",
       "      <td>0.0</td>\n",
       "      <td>1.0</td>\n",
       "      <td>0.0</td>\n",
       "      <td>...</td>\n",
       "      <td>0.0</td>\n",
       "      <td>0.0</td>\n",
       "      <td>0.0</td>\n",
       "      <td>0.0</td>\n",
       "      <td>0.671233</td>\n",
       "      <td>0.067595</td>\n",
       "      <td>0.800000</td>\n",
       "      <td>0.200512</td>\n",
       "      <td>0.000000</td>\n",
       "      <td>0.397959</td>\n",
       "    </tr>\n",
       "    <tr>\n",
       "      <th>4984</th>\n",
       "      <td>22939.0</td>\n",
       "      <td>1.0</td>\n",
       "      <td>0.0</td>\n",
       "      <td>0.0</td>\n",
       "      <td>0.0</td>\n",
       "      <td>0.0</td>\n",
       "      <td>0.0</td>\n",
       "      <td>0.0</td>\n",
       "      <td>0.0</td>\n",
       "      <td>1.0</td>\n",
       "      <td>...</td>\n",
       "      <td>0.0</td>\n",
       "      <td>0.0</td>\n",
       "      <td>0.0</td>\n",
       "      <td>0.0</td>\n",
       "      <td>0.452055</td>\n",
       "      <td>0.007650</td>\n",
       "      <td>0.533333</td>\n",
       "      <td>0.000000</td>\n",
       "      <td>0.000000</td>\n",
       "      <td>0.397959</td>\n",
       "    </tr>\n",
       "    <tr>\n",
       "      <th>4985</th>\n",
       "      <td>11343.0</td>\n",
       "      <td>0.0</td>\n",
       "      <td>1.0</td>\n",
       "      <td>0.0</td>\n",
       "      <td>0.0</td>\n",
       "      <td>0.0</td>\n",
       "      <td>0.0</td>\n",
       "      <td>0.0</td>\n",
       "      <td>0.0</td>\n",
       "      <td>1.0</td>\n",
       "      <td>...</td>\n",
       "      <td>0.0</td>\n",
       "      <td>0.0</td>\n",
       "      <td>0.0</td>\n",
       "      <td>0.0</td>\n",
       "      <td>0.273973</td>\n",
       "      <td>0.012693</td>\n",
       "      <td>0.533333</td>\n",
       "      <td>0.278283</td>\n",
       "      <td>0.000000</td>\n",
       "      <td>0.397959</td>\n",
       "    </tr>\n",
       "    <tr>\n",
       "      <th>4986</th>\n",
       "      <td>1673.0</td>\n",
       "      <td>0.0</td>\n",
       "      <td>0.0</td>\n",
       "      <td>0.0</td>\n",
       "      <td>1.0</td>\n",
       "      <td>0.0</td>\n",
       "      <td>0.0</td>\n",
       "      <td>0.0</td>\n",
       "      <td>0.0</td>\n",
       "      <td>0.0</td>\n",
       "      <td>...</td>\n",
       "      <td>0.0</td>\n",
       "      <td>0.0</td>\n",
       "      <td>0.0</td>\n",
       "      <td>0.0</td>\n",
       "      <td>0.410959</td>\n",
       "      <td>0.249873</td>\n",
       "      <td>0.600000</td>\n",
       "      <td>0.000000</td>\n",
       "      <td>0.433196</td>\n",
       "      <td>0.397959</td>\n",
       "    </tr>\n",
       "    <tr>\n",
       "      <th>4987</th>\n",
       "      <td>15179.0</td>\n",
       "      <td>0.0</td>\n",
       "      <td>1.0</td>\n",
       "      <td>0.0</td>\n",
       "      <td>0.0</td>\n",
       "      <td>0.0</td>\n",
       "      <td>0.0</td>\n",
       "      <td>0.0</td>\n",
       "      <td>0.0</td>\n",
       "      <td>0.0</td>\n",
       "      <td>...</td>\n",
       "      <td>0.0</td>\n",
       "      <td>0.0</td>\n",
       "      <td>0.0</td>\n",
       "      <td>0.0</td>\n",
       "      <td>0.369863</td>\n",
       "      <td>0.083617</td>\n",
       "      <td>0.600000</td>\n",
       "      <td>0.000000</td>\n",
       "      <td>0.000000</td>\n",
       "      <td>0.244898</td>\n",
       "    </tr>\n",
       "    <tr>\n",
       "      <th>4988</th>\n",
       "      <td>25805.0</td>\n",
       "      <td>0.0</td>\n",
       "      <td>0.0</td>\n",
       "      <td>1.0</td>\n",
       "      <td>0.0</td>\n",
       "      <td>0.0</td>\n",
       "      <td>0.0</td>\n",
       "      <td>0.0</td>\n",
       "      <td>0.0</td>\n",
       "      <td>1.0</td>\n",
       "      <td>...</td>\n",
       "      <td>0.0</td>\n",
       "      <td>0.0</td>\n",
       "      <td>0.0</td>\n",
       "      <td>0.0</td>\n",
       "      <td>0.027397</td>\n",
       "      <td>0.174052</td>\n",
       "      <td>0.533333</td>\n",
       "      <td>0.000000</td>\n",
       "      <td>0.000000</td>\n",
       "      <td>0.193878</td>\n",
       "    </tr>\n",
       "    <tr>\n",
       "      <th>4989</th>\n",
       "      <td>9124.0</td>\n",
       "      <td>0.0</td>\n",
       "      <td>1.0</td>\n",
       "      <td>0.0</td>\n",
       "      <td>0.0</td>\n",
       "      <td>0.0</td>\n",
       "      <td>0.0</td>\n",
       "      <td>0.0</td>\n",
       "      <td>0.0</td>\n",
       "      <td>1.0</td>\n",
       "      <td>...</td>\n",
       "      <td>0.0</td>\n",
       "      <td>0.0</td>\n",
       "      <td>0.0</td>\n",
       "      <td>0.0</td>\n",
       "      <td>0.219178</td>\n",
       "      <td>0.181147</td>\n",
       "      <td>0.533333</td>\n",
       "      <td>0.000000</td>\n",
       "      <td>0.000000</td>\n",
       "      <td>0.948980</td>\n",
       "    </tr>\n",
       "    <tr>\n",
       "      <th>4990</th>\n",
       "      <td>14750.0</td>\n",
       "      <td>0.0</td>\n",
       "      <td>0.0</td>\n",
       "      <td>1.0</td>\n",
       "      <td>0.0</td>\n",
       "      <td>0.0</td>\n",
       "      <td>0.0</td>\n",
       "      <td>0.0</td>\n",
       "      <td>0.0</td>\n",
       "      <td>0.0</td>\n",
       "      <td>...</td>\n",
       "      <td>0.0</td>\n",
       "      <td>0.0</td>\n",
       "      <td>0.0</td>\n",
       "      <td>0.0</td>\n",
       "      <td>0.369863</td>\n",
       "      <td>0.065285</td>\n",
       "      <td>1.000000</td>\n",
       "      <td>0.150242</td>\n",
       "      <td>0.000000</td>\n",
       "      <td>0.316327</td>\n",
       "    </tr>\n",
       "    <tr>\n",
       "      <th>4991</th>\n",
       "      <td>7681.0</td>\n",
       "      <td>0.0</td>\n",
       "      <td>0.0</td>\n",
       "      <td>1.0</td>\n",
       "      <td>0.0</td>\n",
       "      <td>0.0</td>\n",
       "      <td>0.0</td>\n",
       "      <td>0.0</td>\n",
       "      <td>1.0</td>\n",
       "      <td>0.0</td>\n",
       "      <td>...</td>\n",
       "      <td>0.0</td>\n",
       "      <td>0.0</td>\n",
       "      <td>0.0</td>\n",
       "      <td>0.0</td>\n",
       "      <td>0.150685</td>\n",
       "      <td>0.073495</td>\n",
       "      <td>0.800000</td>\n",
       "      <td>0.000000</td>\n",
       "      <td>0.000000</td>\n",
       "      <td>0.551020</td>\n",
       "    </tr>\n",
       "    <tr>\n",
       "      <th>4992</th>\n",
       "      <td>7949.0</td>\n",
       "      <td>0.0</td>\n",
       "      <td>0.0</td>\n",
       "      <td>1.0</td>\n",
       "      <td>0.0</td>\n",
       "      <td>0.0</td>\n",
       "      <td>0.0</td>\n",
       "      <td>0.0</td>\n",
       "      <td>0.0</td>\n",
       "      <td>1.0</td>\n",
       "      <td>...</td>\n",
       "      <td>0.0</td>\n",
       "      <td>0.0</td>\n",
       "      <td>0.0</td>\n",
       "      <td>0.0</td>\n",
       "      <td>0.219178</td>\n",
       "      <td>0.053872</td>\n",
       "      <td>0.533333</td>\n",
       "      <td>0.000000</td>\n",
       "      <td>0.000000</td>\n",
       "      <td>0.397959</td>\n",
       "    </tr>\n",
       "    <tr>\n",
       "      <th>4993</th>\n",
       "      <td>2.0</td>\n",
       "      <td>0.0</td>\n",
       "      <td>0.0</td>\n",
       "      <td>0.0</td>\n",
       "      <td>0.0</td>\n",
       "      <td>1.0</td>\n",
       "      <td>0.0</td>\n",
       "      <td>0.0</td>\n",
       "      <td>0.0</td>\n",
       "      <td>0.0</td>\n",
       "      <td>...</td>\n",
       "      <td>0.0</td>\n",
       "      <td>0.0</td>\n",
       "      <td>0.0</td>\n",
       "      <td>0.0</td>\n",
       "      <td>0.150685</td>\n",
       "      <td>0.219011</td>\n",
       "      <td>0.733333</td>\n",
       "      <td>0.000000</td>\n",
       "      <td>0.000000</td>\n",
       "      <td>0.397959</td>\n",
       "    </tr>\n",
       "    <tr>\n",
       "      <th>4994</th>\n",
       "      <td>11966.0</td>\n",
       "      <td>0.0</td>\n",
       "      <td>0.0</td>\n",
       "      <td>1.0</td>\n",
       "      <td>0.0</td>\n",
       "      <td>0.0</td>\n",
       "      <td>0.0</td>\n",
       "      <td>0.0</td>\n",
       "      <td>0.0</td>\n",
       "      <td>0.0</td>\n",
       "      <td>...</td>\n",
       "      <td>0.0</td>\n",
       "      <td>0.0</td>\n",
       "      <td>0.0</td>\n",
       "      <td>0.0</td>\n",
       "      <td>0.520548</td>\n",
       "      <td>0.047335</td>\n",
       "      <td>0.133333</td>\n",
       "      <td>0.000000</td>\n",
       "      <td>0.000000</td>\n",
       "      <td>0.397959</td>\n",
       "    </tr>\n",
       "    <tr>\n",
       "      <th>4995</th>\n",
       "      <td>16832.0</td>\n",
       "      <td>0.0</td>\n",
       "      <td>0.0</td>\n",
       "      <td>1.0</td>\n",
       "      <td>0.0</td>\n",
       "      <td>0.0</td>\n",
       "      <td>0.0</td>\n",
       "      <td>0.0</td>\n",
       "      <td>1.0</td>\n",
       "      <td>0.0</td>\n",
       "      <td>...</td>\n",
       "      <td>0.0</td>\n",
       "      <td>0.0</td>\n",
       "      <td>0.0</td>\n",
       "      <td>0.0</td>\n",
       "      <td>0.438356</td>\n",
       "      <td>0.142799</td>\n",
       "      <td>0.800000</td>\n",
       "      <td>0.000000</td>\n",
       "      <td>0.000000</td>\n",
       "      <td>0.551020</td>\n",
       "    </tr>\n",
       "    <tr>\n",
       "      <th>4996</th>\n",
       "      <td>24330.0</td>\n",
       "      <td>0.0</td>\n",
       "      <td>1.0</td>\n",
       "      <td>0.0</td>\n",
       "      <td>0.0</td>\n",
       "      <td>0.0</td>\n",
       "      <td>0.0</td>\n",
       "      <td>0.0</td>\n",
       "      <td>1.0</td>\n",
       "      <td>0.0</td>\n",
       "      <td>...</td>\n",
       "      <td>0.0</td>\n",
       "      <td>0.0</td>\n",
       "      <td>0.0</td>\n",
       "      <td>0.0</td>\n",
       "      <td>0.383562</td>\n",
       "      <td>0.099689</td>\n",
       "      <td>0.800000</td>\n",
       "      <td>0.000000</td>\n",
       "      <td>0.000000</td>\n",
       "      <td>0.448980</td>\n",
       "    </tr>\n",
       "    <tr>\n",
       "      <th>4997</th>\n",
       "      <td>1320.0</td>\n",
       "      <td>0.0</td>\n",
       "      <td>0.0</td>\n",
       "      <td>0.0</td>\n",
       "      <td>0.0</td>\n",
       "      <td>1.0</td>\n",
       "      <td>0.0</td>\n",
       "      <td>0.0</td>\n",
       "      <td>0.0</td>\n",
       "      <td>1.0</td>\n",
       "      <td>...</td>\n",
       "      <td>0.0</td>\n",
       "      <td>0.0</td>\n",
       "      <td>0.0</td>\n",
       "      <td>0.0</td>\n",
       "      <td>0.602740</td>\n",
       "      <td>0.059430</td>\n",
       "      <td>0.533333</td>\n",
       "      <td>0.014710</td>\n",
       "      <td>0.000000</td>\n",
       "      <td>0.346939</td>\n",
       "    </tr>\n",
       "    <tr>\n",
       "      <th>4998</th>\n",
       "      <td>14100.0</td>\n",
       "      <td>0.0</td>\n",
       "      <td>0.0</td>\n",
       "      <td>1.0</td>\n",
       "      <td>0.0</td>\n",
       "      <td>0.0</td>\n",
       "      <td>0.0</td>\n",
       "      <td>0.0</td>\n",
       "      <td>0.0</td>\n",
       "      <td>0.0</td>\n",
       "      <td>...</td>\n",
       "      <td>0.0</td>\n",
       "      <td>0.0</td>\n",
       "      <td>0.0</td>\n",
       "      <td>0.0</td>\n",
       "      <td>0.191781</td>\n",
       "      <td>0.128590</td>\n",
       "      <td>0.600000</td>\n",
       "      <td>0.000000</td>\n",
       "      <td>0.000000</td>\n",
       "      <td>0.448980</td>\n",
       "    </tr>\n",
       "    <tr>\n",
       "      <th>4999</th>\n",
       "      <td>2176.0</td>\n",
       "      <td>0.0</td>\n",
       "      <td>0.0</td>\n",
       "      <td>0.0</td>\n",
       "      <td>0.0</td>\n",
       "      <td>1.0</td>\n",
       "      <td>0.0</td>\n",
       "      <td>0.0</td>\n",
       "      <td>0.0</td>\n",
       "      <td>1.0</td>\n",
       "      <td>...</td>\n",
       "      <td>0.0</td>\n",
       "      <td>0.0</td>\n",
       "      <td>0.0</td>\n",
       "      <td>0.0</td>\n",
       "      <td>0.739726</td>\n",
       "      <td>0.100108</td>\n",
       "      <td>0.533333</td>\n",
       "      <td>0.000000</td>\n",
       "      <td>0.000000</td>\n",
       "      <td>0.020408</td>\n",
       "    </tr>\n",
       "  </tbody>\n",
       "</table>\n",
       "<p>5000 rows × 105 columns</p>\n",
       "</div>"
      ],
      "text/plain": [
       "           id    0    1    2    3    4    5    6    7    8    ...      94  \\\n",
       "0     16432.0  0.0  0.0  1.0  0.0  0.0  0.0  0.0  0.0  0.0    ...     0.0   \n",
       "1     11559.0  0.0  0.0  1.0  0.0  0.0  0.0  0.0  0.0  0.0    ...     0.0   \n",
       "2      7714.0  0.0  0.0  0.0  0.0  1.0  0.0  0.0  0.0  0.0    ...     0.0   \n",
       "3     11576.0  0.0  0.0  1.0  0.0  0.0  0.0  0.0  1.0  0.0    ...     0.0   \n",
       "4     10336.0  1.0  0.0  0.0  0.0  0.0  0.0  0.0  0.0  0.0    ...     0.0   \n",
       "5     11249.0  0.0  0.0  0.0  0.0  1.0  0.0  0.0  0.0  0.0    ...     0.0   \n",
       "6     11030.0  0.0  1.0  0.0  0.0  0.0  0.0  0.0  0.0  1.0    ...     0.0   \n",
       "7     10292.0  0.0  0.0  0.0  1.0  0.0  0.0  0.0  0.0  1.0    ...     0.0   \n",
       "8     13980.0  0.0  1.0  0.0  0.0  0.0  0.0  0.0  0.0  0.0    ...     0.0   \n",
       "9      5558.0  0.0  0.0  1.0  0.0  0.0  0.0  0.0  0.0  1.0    ...     0.0   \n",
       "10    22914.0  0.0  0.0  1.0  0.0  0.0  0.0  0.0  0.0  0.0    ...     0.0   \n",
       "11    16872.0  0.0  0.0  1.0  0.0  0.0  0.0  0.0  0.0  1.0    ...     0.0   \n",
       "12     7864.0  0.0  0.0  1.0  0.0  0.0  0.0  0.0  0.0  0.0    ...     0.0   \n",
       "13    15943.0  0.0  0.0  1.0  0.0  0.0  0.0  0.0  0.0  1.0    ...     0.0   \n",
       "14     4971.0  1.0  0.0  0.0  0.0  0.0  0.0  0.0  0.0  1.0    ...     0.0   \n",
       "15    29939.0  0.0  0.0  0.0  0.0  0.0  1.0  0.0  0.0  0.0    ...     0.0   \n",
       "16    30747.0  0.0  0.0  1.0  0.0  0.0  0.0  0.0  0.0  1.0    ...     0.0   \n",
       "17    22528.0  0.0  0.0  1.0  0.0  0.0  0.0  0.0  0.0  1.0    ...     0.0   \n",
       "18     6698.0  0.0  0.0  0.0  0.0  0.0  1.0  0.0  0.0  1.0    ...     0.0   \n",
       "19     7052.0  0.0  0.0  1.0  0.0  0.0  0.0  0.0  0.0  0.0    ...     0.0   \n",
       "20    12033.0  0.0  0.0  1.0  0.0  0.0  0.0  0.0  0.0  0.0    ...     0.0   \n",
       "21     4556.0  0.0  0.0  1.0  0.0  0.0  0.0  0.0  0.0  1.0    ...     0.0   \n",
       "22     7661.0  0.0  0.0  1.0  0.0  0.0  0.0  0.0  0.0  0.0    ...     0.0   \n",
       "23     1085.0  0.0  0.0  1.0  0.0  0.0  0.0  0.0  0.0  0.0    ...     0.0   \n",
       "24     1836.0  0.0  0.0  1.0  0.0  0.0  0.0  0.0  1.0  0.0    ...     0.0   \n",
       "25    31735.0  0.0  1.0  0.0  0.0  0.0  0.0  0.0  0.0  0.0    ...     0.0   \n",
       "26     8929.0  0.0  0.0  1.0  0.0  0.0  0.0  0.0  1.0  0.0    ...     0.0   \n",
       "27     4309.0  0.0  0.0  1.0  0.0  0.0  0.0  0.0  0.0  1.0    ...     0.0   \n",
       "28     3315.0  0.0  0.0  1.0  0.0  0.0  0.0  0.0  0.0  0.0    ...     0.0   \n",
       "29    25248.0  0.0  0.0  1.0  0.0  0.0  0.0  0.0  0.0  0.0    ...     0.0   \n",
       "...       ...  ...  ...  ...  ...  ...  ...  ...  ...  ...    ...     ...   \n",
       "4970  20365.0  0.0  0.0  1.0  0.0  0.0  0.0  0.0  0.0  1.0    ...     0.0   \n",
       "4971  11093.0  0.0  0.0  1.0  0.0  0.0  0.0  0.0  0.0  0.0    ...     0.0   \n",
       "4972   1005.0  0.0  0.0  1.0  0.0  0.0  0.0  0.0  1.0  0.0    ...     0.0   \n",
       "4973  21763.0  0.0  0.0  0.0  0.0  1.0  0.0  0.0  1.0  0.0    ...     0.0   \n",
       "4974  27800.0  0.0  0.0  1.0  0.0  0.0  0.0  0.0  0.0  0.0    ...     0.0   \n",
       "4975  15998.0  0.0  0.0  0.0  1.0  0.0  0.0  0.0  0.0  0.0    ...     0.0   \n",
       "4976   7301.0  0.0  0.0  1.0  0.0  0.0  0.0  0.0  0.0  1.0    ...     0.0   \n",
       "4977    324.0  0.0  1.0  0.0  0.0  0.0  0.0  0.0  0.0  0.0    ...     0.0   \n",
       "4978  29451.0  0.0  1.0  0.0  0.0  0.0  0.0  0.0  0.0  1.0    ...     0.0   \n",
       "4979  11199.0  1.0  0.0  0.0  0.0  0.0  0.0  0.0  0.0  0.0    ...     0.0   \n",
       "4980  28519.0  0.0  0.0  0.0  1.0  0.0  0.0  0.0  0.0  0.0    ...     0.0   \n",
       "4981  15600.0  0.0  0.0  1.0  0.0  0.0  0.0  0.0  0.0  0.0    ...     0.0   \n",
       "4982   2576.0  0.0  0.0  0.0  0.0  0.0  1.0  0.0  0.0  0.0    ...     0.0   \n",
       "4983  29285.0  0.0  0.0  1.0  0.0  0.0  0.0  0.0  1.0  0.0    ...     0.0   \n",
       "4984  22939.0  1.0  0.0  0.0  0.0  0.0  0.0  0.0  0.0  1.0    ...     0.0   \n",
       "4985  11343.0  0.0  1.0  0.0  0.0  0.0  0.0  0.0  0.0  1.0    ...     0.0   \n",
       "4986   1673.0  0.0  0.0  0.0  1.0  0.0  0.0  0.0  0.0  0.0    ...     0.0   \n",
       "4987  15179.0  0.0  1.0  0.0  0.0  0.0  0.0  0.0  0.0  0.0    ...     0.0   \n",
       "4988  25805.0  0.0  0.0  1.0  0.0  0.0  0.0  0.0  0.0  1.0    ...     0.0   \n",
       "4989   9124.0  0.0  1.0  0.0  0.0  0.0  0.0  0.0  0.0  1.0    ...     0.0   \n",
       "4990  14750.0  0.0  0.0  1.0  0.0  0.0  0.0  0.0  0.0  0.0    ...     0.0   \n",
       "4991   7681.0  0.0  0.0  1.0  0.0  0.0  0.0  0.0  1.0  0.0    ...     0.0   \n",
       "4992   7949.0  0.0  0.0  1.0  0.0  0.0  0.0  0.0  0.0  1.0    ...     0.0   \n",
       "4993      2.0  0.0  0.0  0.0  0.0  1.0  0.0  0.0  0.0  0.0    ...     0.0   \n",
       "4994  11966.0  0.0  0.0  1.0  0.0  0.0  0.0  0.0  0.0  0.0    ...     0.0   \n",
       "4995  16832.0  0.0  0.0  1.0  0.0  0.0  0.0  0.0  1.0  0.0    ...     0.0   \n",
       "4996  24330.0  0.0  1.0  0.0  0.0  0.0  0.0  0.0  1.0  0.0    ...     0.0   \n",
       "4997   1320.0  0.0  0.0  0.0  0.0  1.0  0.0  0.0  0.0  1.0    ...     0.0   \n",
       "4998  14100.0  0.0  0.0  1.0  0.0  0.0  0.0  0.0  0.0  0.0    ...     0.0   \n",
       "4999   2176.0  0.0  0.0  0.0  0.0  1.0  0.0  0.0  0.0  1.0    ...     0.0   \n",
       "\n",
       "       95   96   97         a         c         e         k         l  \\\n",
       "0     0.0  0.0  0.0  0.013699  0.172301  0.400000  0.000000  0.000000   \n",
       "1     0.0  0.0  0.0  0.205479  0.213920  0.866667  0.000000  0.000000   \n",
       "2     0.0  0.0  0.0  0.410959  0.074608  0.866667  0.076881  0.000000   \n",
       "3     0.0  0.0  0.0  0.260274  0.127311  0.800000  0.000000  0.000000   \n",
       "4     0.0  0.0  0.0  0.013699  0.120268  0.400000  0.000000  0.000000   \n",
       "5     0.0  0.0  0.0  0.424658  0.071419  0.333333  0.000000  0.000000   \n",
       "6     0.0  0.0  0.0  0.136986  0.018692  0.533333  0.000000  0.000000   \n",
       "7     0.0  0.0  0.0  0.246575  0.062316  0.533333  0.000000  0.000000   \n",
       "8     0.0  0.0  0.0  0.315068  0.103136  0.600000  0.000000  0.000000   \n",
       "9     0.0  0.0  0.0  0.328767  0.147226  0.533333  0.000000  0.000000   \n",
       "10    0.0  0.0  0.0  0.479452  0.291318  0.600000  0.000000  0.000000   \n",
       "11    0.0  0.0  0.0  0.260274  0.068722  0.533333  0.000000  0.000000   \n",
       "12    0.0  0.0  0.0  0.095890  0.121416  0.866667  0.000000  0.000000   \n",
       "13    0.0  0.0  0.0  0.123288  0.125702  0.533333  0.000000  0.000000   \n",
       "14    0.0  0.0  0.0  0.397260  0.010972  0.533333  0.000000  0.000000   \n",
       "15    0.0  0.0  0.0  0.671233  0.060377  0.200000  0.000000  0.000000   \n",
       "16    0.0  0.0  0.0  0.643836  0.133109  0.533333  0.000000  0.000000   \n",
       "17    0.0  0.0  0.0  0.178082  0.213915  0.533333  0.000000  0.000000   \n",
       "18    0.0  0.0  0.0  0.287671  0.203476  0.533333  0.000000  0.000000   \n",
       "19    0.0  0.0  0.0  0.082192  0.267786  0.600000  0.000000  0.000000   \n",
       "20    0.0  0.0  0.0  0.191781  0.063596  0.600000  0.000000  0.000000   \n",
       "21    0.0  0.0  0.0  0.219178  0.150055  0.533333  0.000000  0.000000   \n",
       "22    0.0  0.0  0.0  0.013699  0.071335  0.466667  0.000000  0.000000   \n",
       "23    0.0  0.0  0.0  0.178082  0.154219  0.666667  0.000000  0.000000   \n",
       "24    0.0  0.0  0.0  0.178082  0.136562  0.800000  0.000000  0.000000   \n",
       "25    0.0  0.0  0.0  0.315068  0.013419  0.933333  0.000000  0.536961   \n",
       "26    0.0  0.0  0.0  0.356164  0.110126  0.800000  0.000000  0.000000   \n",
       "27    0.0  0.0  0.0  0.643836  0.040572  0.533333  0.000000  0.000000   \n",
       "28    0.0  0.0  0.0  0.698630  0.042265  0.466667  0.000000  0.000000   \n",
       "29    0.0  0.0  0.0  0.383562  0.042102  0.666667  0.000000  0.000000   \n",
       "...   ...  ...  ...       ...       ...       ...       ...       ...   \n",
       "4970  0.0  0.0  0.0  0.328767  0.216135  0.533333  0.000000  0.143480   \n",
       "4971  0.0  0.0  0.0  0.520548  0.075371  0.666667  0.000000  0.453857   \n",
       "4972  0.0  0.0  0.0  0.561644  0.231954  0.800000  0.000000  0.000000   \n",
       "4973  0.0  0.0  0.0  0.821918  0.111082  0.800000  0.038180  0.000000   \n",
       "4974  0.0  0.0  0.0  0.109589  0.111412  0.600000  0.000000  0.000000   \n",
       "4975  0.0  0.0  0.0  0.438356  0.122219  0.600000  0.000000  0.000000   \n",
       "4976  0.0  0.0  0.0  0.301370  0.012507  0.533333  0.000000  0.000000   \n",
       "4977  0.0  0.0  0.0  0.808219  0.108888  0.866667  0.000000  0.000000   \n",
       "4978  0.0  0.0  0.0  0.205479  0.033028  0.533333  0.000000  0.000000   \n",
       "4979  0.0  0.0  0.0  0.287671  0.222188  0.733333  0.000000  0.000000   \n",
       "4980  0.0  0.0  0.0  0.301370  0.245759  0.933333  0.000000  0.433196   \n",
       "4981  0.0  0.0  0.0  0.671233  0.107205  0.600000  0.000000  0.000000   \n",
       "4982  0.0  0.0  0.0  0.369863  0.178952  0.400000  0.000000  0.000000   \n",
       "4983  0.0  0.0  0.0  0.671233  0.067595  0.800000  0.200512  0.000000   \n",
       "4984  0.0  0.0  0.0  0.452055  0.007650  0.533333  0.000000  0.000000   \n",
       "4985  0.0  0.0  0.0  0.273973  0.012693  0.533333  0.278283  0.000000   \n",
       "4986  0.0  0.0  0.0  0.410959  0.249873  0.600000  0.000000  0.433196   \n",
       "4987  0.0  0.0  0.0  0.369863  0.083617  0.600000  0.000000  0.000000   \n",
       "4988  0.0  0.0  0.0  0.027397  0.174052  0.533333  0.000000  0.000000   \n",
       "4989  0.0  0.0  0.0  0.219178  0.181147  0.533333  0.000000  0.000000   \n",
       "4990  0.0  0.0  0.0  0.369863  0.065285  1.000000  0.150242  0.000000   \n",
       "4991  0.0  0.0  0.0  0.150685  0.073495  0.800000  0.000000  0.000000   \n",
       "4992  0.0  0.0  0.0  0.219178  0.053872  0.533333  0.000000  0.000000   \n",
       "4993  0.0  0.0  0.0  0.150685  0.219011  0.733333  0.000000  0.000000   \n",
       "4994  0.0  0.0  0.0  0.520548  0.047335  0.133333  0.000000  0.000000   \n",
       "4995  0.0  0.0  0.0  0.438356  0.142799  0.800000  0.000000  0.000000   \n",
       "4996  0.0  0.0  0.0  0.383562  0.099689  0.800000  0.000000  0.000000   \n",
       "4997  0.0  0.0  0.0  0.602740  0.059430  0.533333  0.014710  0.000000   \n",
       "4998  0.0  0.0  0.0  0.191781  0.128590  0.600000  0.000000  0.000000   \n",
       "4999  0.0  0.0  0.0  0.739726  0.100108  0.533333  0.000000  0.000000   \n",
       "\n",
       "             m  \n",
       "0     0.142857  \n",
       "1     0.397959  \n",
       "2     0.602041  \n",
       "3     0.397959  \n",
       "4     0.193878  \n",
       "5     0.397959  \n",
       "6     0.295918  \n",
       "7     0.397959  \n",
       "8     0.397959  \n",
       "9     0.397959  \n",
       "10    0.602041  \n",
       "11    0.397959  \n",
       "12    0.397959  \n",
       "13    0.500000  \n",
       "14    0.397959  \n",
       "15    0.500000  \n",
       "16    0.397959  \n",
       "17    0.397959  \n",
       "18    0.785714  \n",
       "19    0.377551  \n",
       "20    0.397959  \n",
       "21    0.397959  \n",
       "22    0.193878  \n",
       "23    0.397959  \n",
       "24    0.397959  \n",
       "25    0.346939  \n",
       "26    0.500000  \n",
       "27    0.500000  \n",
       "28    0.295918  \n",
       "29    0.397959  \n",
       "...        ...  \n",
       "4970  0.397959  \n",
       "4971  0.500000  \n",
       "4972  0.397959  \n",
       "4973  0.132653  \n",
       "4974  0.346939  \n",
       "4975  0.397959  \n",
       "4976  0.806122  \n",
       "4977  0.091837  \n",
       "4978  0.397959  \n",
       "4979  0.602041  \n",
       "4980  0.500000  \n",
       "4981  0.142857  \n",
       "4982  0.602041  \n",
       "4983  0.397959  \n",
       "4984  0.397959  \n",
       "4985  0.397959  \n",
       "4986  0.397959  \n",
       "4987  0.244898  \n",
       "4988  0.193878  \n",
       "4989  0.948980  \n",
       "4990  0.316327  \n",
       "4991  0.551020  \n",
       "4992  0.397959  \n",
       "4993  0.397959  \n",
       "4994  0.397959  \n",
       "4995  0.551020  \n",
       "4996  0.448980  \n",
       "4997  0.346939  \n",
       "4998  0.448980  \n",
       "4999  0.020408  \n",
       "\n",
       "[5000 rows x 105 columns]"
      ]
     },
     "execution_count": 11,
     "metadata": {},
     "output_type": "execute_result"
    }
   ],
   "source": [
    "testX"
   ]
  },
  {
   "cell_type": "markdown",
   "metadata": {},
   "source": [
    "### Definição de funções"
   ]
  },
  {
   "cell_type": "code",
   "execution_count": 12,
   "metadata": {},
   "outputs": [],
   "source": [
    "def plot_confusion_matrix(cm, title='Confusion matrix', cmap=plt.cm.Blues):\n",
    "\n",
    "    plt.imshow(cm, interpolation='nearest', cmap=cmap)\n",
    "    plt.title(title)\n",
    "    plt.colorbar()\n",
    "    tick_marks = np.arange(2)\n",
    "    plt.xticks([])\n",
    "    plt.yticks([])\n",
    "\n",
    "    fmt = 'd'\n",
    "    thresh = cm.max() / 2.\n",
    "    for i, j in itertools.product(range(cm.shape[0]), range(cm.shape[1])):\n",
    "        plt.text(j, i, format(cm[i, j], fmt),\n",
    "                 horizontalalignment=\"center\",\n",
    "                 color=\"white\" if cm[i, j] > thresh else \"black\")\n",
    "\n",
    "    plt.tight_layout()\n",
    "    plt.ylabel('True label')\n",
    "    plt.xlabel('Predicted label')"
   ]
  },
  {
   "cell_type": "code",
   "execution_count": 13,
   "metadata": {},
   "outputs": [],
   "source": [
    "def create_scores_df(model):\n",
    "    predicted = model.predict(X_test)\n",
    "    scores ={\"Accuracy Score\": [accuracy_score(y_test, predicted)],\n",
    "            \"F1 Score\": [f1_score(y_test, predicted)],\n",
    "            \"Precision Score\": [precision_score(y_test, predicted)],\n",
    "            \"Recall Score\": [recall_score(y_test, predicted)]}\n",
    "\n",
    "    return pd.DataFrame(data=scores)"
   ]
  },
  {
   "cell_type": "markdown",
   "metadata": {},
   "source": [
    "### Divisão do conjunto de treino/teste"
   ]
  },
  {
   "cell_type": "code",
   "execution_count": 14,
   "metadata": {},
   "outputs": [],
   "source": [
    "X_train, X_test, y_train, y_test = train_test_split(X, y, test_size=0.33, random_state=0)"
   ]
  },
  {
   "cell_type": "code",
   "execution_count": 15,
   "metadata": {},
   "outputs": [
    {
     "name": "stdout",
     "output_type": "stream",
     "text": [
      "[[0.         0.         1.         ... 0.         0.         0.5       ]\n",
      " [0.         0.         1.         ... 0.         0.         0.29591837]\n",
      " [0.         0.         1.         ... 0.         0.58746556 0.5       ]\n",
      " ...\n",
      " [0.         0.         1.         ... 0.         0.         0.39795918]\n",
      " [0.         0.         1.         ... 0.         0.         0.39795918]\n",
      " [0.         1.         0.         ... 0.         0.         0.19387755]]\n",
      "\n",
      "26948\n"
     ]
    }
   ],
   "source": [
    "print(X_train, len(X_train), sep = '\\n\\n')"
   ]
  },
  {
   "cell_type": "code",
   "execution_count": 16,
   "metadata": {},
   "outputs": [
    {
     "name": "stdout",
     "output_type": "stream",
     "text": [
      "[[0.         0.         1.         ... 0.         0.         0.39795918]\n",
      " [0.         0.         1.         ... 0.         0.         0.35714286]\n",
      " [0.         0.         1.         ... 0.         0.         0.39795918]\n",
      " ...\n",
      " [0.         0.         1.         ... 0.         0.         0.34693878]\n",
      " [0.         0.         0.         ... 0.         0.         0.07142857]\n",
      " [0.         1.         0.         ... 0.04386044 0.         0.44897959]]\n",
      "\n",
      "13274\n"
     ]
    }
   ],
   "source": [
    "print(X_test, len(X_test), sep = '\\n\\n')"
   ]
  },
  {
   "cell_type": "code",
   "execution_count": 17,
   "metadata": {},
   "outputs": [
    {
     "name": "stdout",
     "output_type": "stream",
     "text": [
      "[1 0 1 ... 0 0 0]\n",
      "\n",
      "26948\n"
     ]
    }
   ],
   "source": [
    "print(y_train, len(y_train), sep = '\\n\\n')"
   ]
  },
  {
   "cell_type": "code",
   "execution_count": 18,
   "metadata": {},
   "outputs": [
    {
     "name": "stdout",
     "output_type": "stream",
     "text": [
      "[0 0 0 ... 0 0 1]\n",
      "\n",
      "13274\n"
     ]
    }
   ],
   "source": [
    "print(y_test, len(y_test), sep = '\\n\\n')"
   ]
  },
  {
   "cell_type": "markdown",
   "metadata": {},
   "source": [
    "### Random Forest Classifier"
   ]
  },
  {
   "cell_type": "markdown",
   "metadata": {},
   "source": [
    "#### Treino e matriz de confusão"
   ]
  },
  {
   "cell_type": "code",
   "execution_count": 22,
   "metadata": {},
   "outputs": [
    {
     "name": "stdout",
     "output_type": "stream",
     "text": [
      "Fitting 3 folds for each of 216 candidates, totalling 648 fits\n",
      "[CV] min_samples_split=2, max_depth=3, criterion=gini, max_features=1, bootstrap=True, min_samples_leaf=1 \n",
      "[CV] min_samples_split=2, max_depth=3, criterion=gini, max_features=1, bootstrap=True, min_samples_leaf=1 \n",
      "[CV] min_samples_split=2, max_depth=3, criterion=gini, max_features=1, bootstrap=True, min_samples_leaf=1 \n",
      "[CV] min_samples_split=3, max_depth=3, criterion=gini, max_features=1, bootstrap=True, min_samples_leaf=1 \n",
      "[CV] min_samples_split=3, max_depth=3, criterion=gini, max_features=1, bootstrap=True, min_samples_leaf=1 \n",
      "[CV] min_samples_split=3, max_depth=3, criterion=gini, max_features=1, bootstrap=True, min_samples_leaf=1 \n",
      "[CV] min_samples_split=10, max_depth=3, criterion=gini, max_features=1, bootstrap=True, min_samples_leaf=1 \n",
      "[CV] min_samples_split=10, max_depth=3, criterion=gini, max_features=1, bootstrap=True, min_samples_leaf=1 \n"
     ]
    },
    {
     "name": "stderr",
     "output_type": "stream",
     "text": [
      "/home/gaabrielfranco/Documents/github/data-mining-w2/venv/lib/python3.5/site-packages/sklearn/metrics/classification.py:1135: UndefinedMetricWarning: F-score is ill-defined and being set to 0.0 due to no predicted samples.\n",
      "  'precision', 'predicted', average, warn_for)\n",
      "/home/gaabrielfranco/Documents/github/data-mining-w2/venv/lib/python3.5/site-packages/sklearn/metrics/classification.py:1135: UndefinedMetricWarning: F-score is ill-defined and being set to 0.0 due to no predicted samples.\n",
      "  'precision', 'predicted', average, warn_for)\n",
      "/home/gaabrielfranco/Documents/github/data-mining-w2/venv/lib/python3.5/site-packages/sklearn/metrics/classification.py:1135: UndefinedMetricWarning: F-score is ill-defined and being set to 0.0 due to no predicted samples.\n",
      "  'precision', 'predicted', average, warn_for)\n",
      "/home/gaabrielfranco/Documents/github/data-mining-w2/venv/lib/python3.5/site-packages/sklearn/metrics/classification.py:1135: UndefinedMetricWarning: F-score is ill-defined and being set to 0.0 due to no predicted samples.\n",
      "  'precision', 'predicted', average, warn_for)\n",
      "/home/gaabrielfranco/Documents/github/data-mining-w2/venv/lib/python3.5/site-packages/sklearn/metrics/classification.py:1135: UndefinedMetricWarning: F-score is ill-defined and being set to 0.0 due to no predicted samples.\n",
      "  'precision', 'predicted', average, warn_for)\n",
      "/home/gaabrielfranco/Documents/github/data-mining-w2/venv/lib/python3.5/site-packages/sklearn/metrics/classification.py:1135: UndefinedMetricWarning: F-score is ill-defined and being set to 0.0 due to no predicted samples.\n",
      "  'precision', 'predicted', average, warn_for)\n",
      "/home/gaabrielfranco/Documents/github/data-mining-w2/venv/lib/python3.5/site-packages/sklearn/metrics/classification.py:1135: UndefinedMetricWarning: F-score is ill-defined and being set to 0.0 due to no predicted samples.\n",
      "  'precision', 'predicted', average, warn_for)\n",
      "/home/gaabrielfranco/Documents/github/data-mining-w2/venv/lib/python3.5/site-packages/sklearn/metrics/classification.py:1135: UndefinedMetricWarning: F-score is ill-defined and being set to 0.0 due to no predicted samples.\n",
      "  'precision', 'predicted', average, warn_for)\n"
     ]
    },
    {
     "name": "stdout",
     "output_type": "stream",
     "text": [
      "[CV]  min_samples_split=2, max_depth=3, criterion=gini, max_features=1, bootstrap=True, min_samples_leaf=1, score=0.0, total=   5.8s\n",
      "[CV] min_samples_split=10, max_depth=3, criterion=gini, max_features=1, bootstrap=True, min_samples_leaf=1 \n",
      "[CV]  min_samples_split=3, max_depth=3, criterion=gini, max_features=1, bootstrap=True, min_samples_leaf=1, score=0.0, total=   5.8s\n",
      "[CV] min_samples_split=2, max_depth=3, criterion=gini, max_features=1, bootstrap=True, min_samples_leaf=3 \n",
      "[CV]  min_samples_split=2, max_depth=3, criterion=gini, max_features=1, bootstrap=True, min_samples_leaf=1, score=0.0, total=   5.8s\n",
      "[CV] min_samples_split=2, max_depth=3, criterion=gini, max_features=1, bootstrap=True, min_samples_leaf=3 \n",
      "[CV]  min_samples_split=2, max_depth=3, criterion=gini, max_features=1, bootstrap=True, min_samples_leaf=1, score=0.0, total=   5.8s\n"
     ]
    },
    {
     "name": "stderr",
     "output_type": "stream",
     "text": [
      "[Parallel(n_jobs=-1)]: Done   2 tasks      | elapsed:    8.8s\n"
     ]
    },
    {
     "name": "stdout",
     "output_type": "stream",
     "text": [
      "[CV] min_samples_split=2, max_depth=3, criterion=gini, max_features=1, bootstrap=True, min_samples_leaf=3 \n",
      "[CV]  min_samples_split=10, max_depth=3, criterion=gini, max_features=1, bootstrap=True, min_samples_leaf=1, score=0.0, total=   6.1s\n",
      "[CV] min_samples_split=3, max_depth=3, criterion=gini, max_features=1, bootstrap=True, min_samples_leaf=3 \n",
      "[CV]  min_samples_split=10, max_depth=3, criterion=gini, max_features=1, bootstrap=True, min_samples_leaf=1, score=0.0, total=   6.0s\n",
      "[CV] min_samples_split=3, max_depth=3, criterion=gini, max_features=1, bootstrap=True, min_samples_leaf=3 \n",
      "[CV]  min_samples_split=3, max_depth=3, criterion=gini, max_features=1, bootstrap=True, min_samples_leaf=1, score=0.0, total=   6.6s\n",
      "[CV]  min_samples_split=3, max_depth=3, criterion=gini, max_features=1, bootstrap=True, min_samples_leaf=1, score=0.0, total=   6.5s\n",
      "[CV] min_samples_split=3, max_depth=3, criterion=gini, max_features=1, bootstrap=True, min_samples_leaf=3 \n",
      "[CV] min_samples_split=10, max_depth=3, criterion=gini, max_features=1, bootstrap=True, min_samples_leaf=3 \n"
     ]
    },
    {
     "name": "stderr",
     "output_type": "stream",
     "text": [
      "/home/gaabrielfranco/Documents/github/data-mining-w2/venv/lib/python3.5/site-packages/sklearn/metrics/classification.py:1135: UndefinedMetricWarning: F-score is ill-defined and being set to 0.0 due to no predicted samples.\n",
      "  'precision', 'predicted', average, warn_for)\n",
      "/home/gaabrielfranco/Documents/github/data-mining-w2/venv/lib/python3.5/site-packages/sklearn/metrics/classification.py:1135: UndefinedMetricWarning: F-score is ill-defined and being set to 0.0 due to no predicted samples.\n",
      "  'precision', 'predicted', average, warn_for)\n",
      "/home/gaabrielfranco/Documents/github/data-mining-w2/venv/lib/python3.5/site-packages/sklearn/metrics/classification.py:1135: UndefinedMetricWarning: F-score is ill-defined and being set to 0.0 due to no predicted samples.\n",
      "  'precision', 'predicted', average, warn_for)\n",
      "/home/gaabrielfranco/Documents/github/data-mining-w2/venv/lib/python3.5/site-packages/sklearn/metrics/classification.py:1135: UndefinedMetricWarning: F-score is ill-defined and being set to 0.0 due to no predicted samples.\n",
      "  'precision', 'predicted', average, warn_for)\n",
      "/home/gaabrielfranco/Documents/github/data-mining-w2/venv/lib/python3.5/site-packages/sklearn/metrics/classification.py:1135: UndefinedMetricWarning: F-score is ill-defined and being set to 0.0 due to no predicted samples.\n",
      "  'precision', 'predicted', average, warn_for)\n",
      "/home/gaabrielfranco/Documents/github/data-mining-w2/venv/lib/python3.5/site-packages/sklearn/metrics/classification.py:1135: UndefinedMetricWarning: F-score is ill-defined and being set to 0.0 due to no predicted samples.\n",
      "  'precision', 'predicted', average, warn_for)\n",
      "/home/gaabrielfranco/Documents/github/data-mining-w2/venv/lib/python3.5/site-packages/sklearn/metrics/classification.py:1135: UndefinedMetricWarning: F-score is ill-defined and being set to 0.0 due to no predicted samples.\n",
      "  'precision', 'predicted', average, warn_for)\n",
      "/home/gaabrielfranco/Documents/github/data-mining-w2/venv/lib/python3.5/site-packages/sklearn/metrics/classification.py:1135: UndefinedMetricWarning: F-score is ill-defined and being set to 0.0 due to no predicted samples.\n",
      "  'precision', 'predicted', average, warn_for)\n"
     ]
    },
    {
     "name": "stdout",
     "output_type": "stream",
     "text": [
      "[CV]  min_samples_split=10, max_depth=3, criterion=gini, max_features=1, bootstrap=True, min_samples_leaf=1, score=0.0, total=   6.0s\n",
      "[CV] min_samples_split=10, max_depth=3, criterion=gini, max_features=1, bootstrap=True, min_samples_leaf=3 \n"
     ]
    },
    {
     "name": "stderr",
     "output_type": "stream",
     "text": [
      "[Parallel(n_jobs=-1)]: Done   9 tasks      | elapsed:   17.6s\n"
     ]
    },
    {
     "name": "stdout",
     "output_type": "stream",
     "text": [
      "[CV]  min_samples_split=2, max_depth=3, criterion=gini, max_features=1, bootstrap=True, min_samples_leaf=3, score=0.0, total=   6.4s\n",
      "[CV] min_samples_split=10, max_depth=3, criterion=gini, max_features=1, bootstrap=True, min_samples_leaf=3 \n",
      "[CV]  min_samples_split=2, max_depth=3, criterion=gini, max_features=1, bootstrap=True, min_samples_leaf=3, score=0.0, total=   6.5s\n",
      "[CV]  min_samples_split=2, max_depth=3, criterion=gini, max_features=1, bootstrap=True, min_samples_leaf=3, score=0.0, total=   6.4s\n",
      "[CV] min_samples_split=2, max_depth=3, criterion=gini, max_features=1, bootstrap=True, min_samples_leaf=10 \n",
      "[CV] min_samples_split=2, max_depth=3, criterion=gini, max_features=1, bootstrap=True, min_samples_leaf=10 \n",
      "[CV]  min_samples_split=3, max_depth=3, criterion=gini, max_features=1, bootstrap=True, min_samples_leaf=3, score=0.0, total=   6.7s\n",
      "[CV] min_samples_split=2, max_depth=3, criterion=gini, max_features=1, bootstrap=True, min_samples_leaf=10 \n",
      "[CV]  min_samples_split=10, max_depth=3, criterion=gini, max_features=1, bootstrap=True, min_samples_leaf=3, score=0.0, total=   6.6s\n",
      "[CV]  min_samples_split=3, max_depth=3, criterion=gini, max_features=1, bootstrap=True, min_samples_leaf=3, score=0.0, total=   6.7s\n",
      "[CV] min_samples_split=3, max_depth=3, criterion=gini, max_features=1, bootstrap=True, min_samples_leaf=10 \n",
      "[CV] min_samples_split=3, max_depth=3, criterion=gini, max_features=1, bootstrap=True, min_samples_leaf=10 \n",
      "[CV]  min_samples_split=3, max_depth=3, criterion=gini, max_features=1, bootstrap=True, min_samples_leaf=3, score=0.0, total=   6.9s\n",
      "[CV] min_samples_split=3, max_depth=3, criterion=gini, max_features=1, bootstrap=True, min_samples_leaf=10 \n"
     ]
    },
    {
     "name": "stderr",
     "output_type": "stream",
     "text": [
      "[Parallel(n_jobs=-1)]: Done  16 tasks      | elapsed:   19.1s\n",
      "/home/gaabrielfranco/Documents/github/data-mining-w2/venv/lib/python3.5/site-packages/sklearn/metrics/classification.py:1135: UndefinedMetricWarning: F-score is ill-defined and being set to 0.0 due to no predicted samples.\n",
      "  'precision', 'predicted', average, warn_for)\n",
      "/home/gaabrielfranco/Documents/github/data-mining-w2/venv/lib/python3.5/site-packages/sklearn/metrics/classification.py:1135: UndefinedMetricWarning: F-score is ill-defined and being set to 0.0 due to no predicted samples.\n",
      "  'precision', 'predicted', average, warn_for)\n",
      "/home/gaabrielfranco/Documents/github/data-mining-w2/venv/lib/python3.5/site-packages/sklearn/metrics/classification.py:1135: UndefinedMetricWarning: F-score is ill-defined and being set to 0.0 due to no predicted samples.\n",
      "  'precision', 'predicted', average, warn_for)\n",
      "/home/gaabrielfranco/Documents/github/data-mining-w2/venv/lib/python3.5/site-packages/sklearn/metrics/classification.py:1135: UndefinedMetricWarning: F-score is ill-defined and being set to 0.0 due to no predicted samples.\n",
      "  'precision', 'predicted', average, warn_for)\n",
      "/home/gaabrielfranco/Documents/github/data-mining-w2/venv/lib/python3.5/site-packages/sklearn/metrics/classification.py:1135: UndefinedMetricWarning: F-score is ill-defined and being set to 0.0 due to no predicted samples.\n",
      "  'precision', 'predicted', average, warn_for)\n",
      "/home/gaabrielfranco/Documents/github/data-mining-w2/venv/lib/python3.5/site-packages/sklearn/metrics/classification.py:1135: UndefinedMetricWarning: F-score is ill-defined and being set to 0.0 due to no predicted samples.\n",
      "  'precision', 'predicted', average, warn_for)\n",
      "/home/gaabrielfranco/Documents/github/data-mining-w2/venv/lib/python3.5/site-packages/sklearn/metrics/classification.py:1135: UndefinedMetricWarning: F-score is ill-defined and being set to 0.0 due to no predicted samples.\n",
      "  'precision', 'predicted', average, warn_for)\n",
      "/home/gaabrielfranco/Documents/github/data-mining-w2/venv/lib/python3.5/site-packages/sklearn/metrics/classification.py:1135: UndefinedMetricWarning: F-score is ill-defined and being set to 0.0 due to no predicted samples.\n",
      "  'precision', 'predicted', average, warn_for)\n"
     ]
    },
    {
     "name": "stdout",
     "output_type": "stream",
     "text": [
      "[CV]  min_samples_split=2, max_depth=3, criterion=gini, max_features=1, bootstrap=True, min_samples_leaf=10, score=0.0, total=   5.7s\n",
      "[CV] min_samples_split=10, max_depth=3, criterion=gini, max_features=1, bootstrap=True, min_samples_leaf=10 \n",
      "[CV]  min_samples_split=2, max_depth=3, criterion=gini, max_features=1, bootstrap=True, min_samples_leaf=10, score=0.0, total=   5.9s\n",
      "[CV]  min_samples_split=10, max_depth=3, criterion=gini, max_features=1, bootstrap=True, min_samples_leaf=3, score=0.0, total=   6.3s\n",
      "[CV] min_samples_split=10, max_depth=3, criterion=gini, max_features=1, bootstrap=True, min_samples_leaf=10 \n",
      "[CV] min_samples_split=10, max_depth=3, criterion=gini, max_features=1, bootstrap=True, min_samples_leaf=10 \n",
      "[CV]  min_samples_split=2, max_depth=3, criterion=gini, max_features=1, bootstrap=True, min_samples_leaf=10, score=0.0, total=   6.3s\n",
      "[CV] min_samples_split=2, max_depth=3, criterion=gini, max_features=3, bootstrap=True, min_samples_leaf=1 \n",
      "[CV]  min_samples_split=10, max_depth=3, criterion=gini, max_features=1, bootstrap=True, min_samples_leaf=3, score=0.0, total=   6.7s\n",
      "[CV]  min_samples_split=3, max_depth=3, criterion=gini, max_features=1, bootstrap=True, min_samples_leaf=10, score=0.0, total=   6.3s\n",
      "[CV] min_samples_split=2, max_depth=3, criterion=gini, max_features=3, bootstrap=True, min_samples_leaf=1 \n",
      "[CV] min_samples_split=2, max_depth=3, criterion=gini, max_features=3, bootstrap=True, min_samples_leaf=1 \n",
      "[CV]  min_samples_split=3, max_depth=3, criterion=gini, max_features=1, bootstrap=True, min_samples_leaf=10, score=0.0, total=   6.7s\n",
      "[CV]  min_samples_split=3, max_depth=3, criterion=gini, max_features=1, bootstrap=True, min_samples_leaf=10, score=0.0, total=   6.5s\n",
      "[CV] min_samples_split=3, max_depth=3, criterion=gini, max_features=3, bootstrap=True, min_samples_leaf=1 \n",
      "[CV] min_samples_split=3, max_depth=3, criterion=gini, max_features=3, bootstrap=True, min_samples_leaf=1 \n"
     ]
    },
    {
     "name": "stderr",
     "output_type": "stream",
     "text": [
      "/home/gaabrielfranco/Documents/github/data-mining-w2/venv/lib/python3.5/site-packages/sklearn/metrics/classification.py:1135: UndefinedMetricWarning: F-score is ill-defined and being set to 0.0 due to no predicted samples.\n",
      "  'precision', 'predicted', average, warn_for)\n",
      "/home/gaabrielfranco/Documents/github/data-mining-w2/venv/lib/python3.5/site-packages/sklearn/metrics/classification.py:1135: UndefinedMetricWarning: F-score is ill-defined and being set to 0.0 due to no predicted samples.\n",
      "  'precision', 'predicted', average, warn_for)\n",
      "/home/gaabrielfranco/Documents/github/data-mining-w2/venv/lib/python3.5/site-packages/sklearn/metrics/classification.py:1135: UndefinedMetricWarning: F-score is ill-defined and being set to 0.0 due to no predicted samples.\n",
      "  'precision', 'predicted', average, warn_for)\n"
     ]
    },
    {
     "name": "stdout",
     "output_type": "stream",
     "text": [
      "[CV]  min_samples_split=10, max_depth=3, criterion=gini, max_features=1, bootstrap=True, min_samples_leaf=10, score=0.0, total=   5.5s\n",
      "[CV] min_samples_split=3, max_depth=3, criterion=gini, max_features=3, bootstrap=True, min_samples_leaf=1 \n"
     ]
    },
    {
     "name": "stderr",
     "output_type": "stream",
     "text": [
      "[Parallel(n_jobs=-1)]: Done  25 tasks      | elapsed:   33.4s\n"
     ]
    },
    {
     "name": "stdout",
     "output_type": "stream",
     "text": [
      "[CV]  min_samples_split=10, max_depth=3, criterion=gini, max_features=1, bootstrap=True, min_samples_leaf=10, score=0.0, total=   5.5s\n",
      "[CV] min_samples_split=10, max_depth=3, criterion=gini, max_features=3, bootstrap=True, min_samples_leaf=1 \n",
      "[CV]  min_samples_split=10, max_depth=3, criterion=gini, max_features=1, bootstrap=True, min_samples_leaf=10, score=0.0, total=   5.5s\n",
      "[CV] min_samples_split=10, max_depth=3, criterion=gini, max_features=3, bootstrap=True, min_samples_leaf=1 \n"
     ]
    },
    {
     "name": "stderr",
     "output_type": "stream",
     "text": [
      "/home/gaabrielfranco/Documents/github/data-mining-w2/venv/lib/python3.5/site-packages/sklearn/metrics/classification.py:1135: UndefinedMetricWarning: F-score is ill-defined and being set to 0.0 due to no predicted samples.\n",
      "  'precision', 'predicted', average, warn_for)\n",
      "/home/gaabrielfranco/Documents/github/data-mining-w2/venv/lib/python3.5/site-packages/sklearn/metrics/classification.py:1135: UndefinedMetricWarning: F-score is ill-defined and being set to 0.0 due to no predicted samples.\n",
      "  'precision', 'predicted', average, warn_for)\n",
      "/home/gaabrielfranco/Documents/github/data-mining-w2/venv/lib/python3.5/site-packages/sklearn/metrics/classification.py:1135: UndefinedMetricWarning: F-score is ill-defined and being set to 0.0 due to no predicted samples.\n",
      "  'precision', 'predicted', average, warn_for)\n",
      "/home/gaabrielfranco/Documents/github/data-mining-w2/venv/lib/python3.5/site-packages/sklearn/metrics/classification.py:1135: UndefinedMetricWarning: F-score is ill-defined and being set to 0.0 due to no predicted samples.\n",
      "  'precision', 'predicted', average, warn_for)\n",
      "/home/gaabrielfranco/Documents/github/data-mining-w2/venv/lib/python3.5/site-packages/sklearn/metrics/classification.py:1135: UndefinedMetricWarning: F-score is ill-defined and being set to 0.0 due to no predicted samples.\n",
      "  'precision', 'predicted', average, warn_for)\n"
     ]
    },
    {
     "name": "stdout",
     "output_type": "stream",
     "text": [
      "[CV]  min_samples_split=3, max_depth=3, criterion=gini, max_features=3, bootstrap=True, min_samples_leaf=1, score=0.0, total=   7.6s\n",
      "[CV] min_samples_split=10, max_depth=3, criterion=gini, max_features=3, bootstrap=True, min_samples_leaf=1 \n",
      "[CV]  min_samples_split=2, max_depth=3, criterion=gini, max_features=3, bootstrap=True, min_samples_leaf=1, score=0.0, total=   8.1s\n",
      "[CV]  min_samples_split=2, max_depth=3, criterion=gini, max_features=3, bootstrap=True, min_samples_leaf=1, score=0.0, total=   8.1s\n",
      "[CV] min_samples_split=2, max_depth=3, criterion=gini, max_features=3, bootstrap=True, min_samples_leaf=3 \n",
      "[CV] min_samples_split=2, max_depth=3, criterion=gini, max_features=3, bootstrap=True, min_samples_leaf=3 \n",
      "[CV]  min_samples_split=3, max_depth=3, criterion=gini, max_features=3, bootstrap=True, min_samples_leaf=1, score=0.0, total=   8.2s\n",
      "[CV] min_samples_split=2, max_depth=3, criterion=gini, max_features=3, bootstrap=True, min_samples_leaf=3 \n",
      "[CV]  min_samples_split=2, max_depth=3, criterion=gini, max_features=3, bootstrap=True, min_samples_leaf=1, score=0.0, total=   8.8s\n",
      "[CV] min_samples_split=3, max_depth=3, criterion=gini, max_features=3, bootstrap=True, min_samples_leaf=3 \n"
     ]
    },
    {
     "name": "stderr",
     "output_type": "stream",
     "text": [
      "/home/gaabrielfranco/Documents/github/data-mining-w2/venv/lib/python3.5/site-packages/sklearn/metrics/classification.py:1135: UndefinedMetricWarning: F-score is ill-defined and being set to 0.0 due to no predicted samples.\n",
      "  'precision', 'predicted', average, warn_for)\n",
      "/home/gaabrielfranco/Documents/github/data-mining-w2/venv/lib/python3.5/site-packages/sklearn/metrics/classification.py:1135: UndefinedMetricWarning: F-score is ill-defined and being set to 0.0 due to no predicted samples.\n",
      "  'precision', 'predicted', average, warn_for)\n",
      "/home/gaabrielfranco/Documents/github/data-mining-w2/venv/lib/python3.5/site-packages/sklearn/metrics/classification.py:1135: UndefinedMetricWarning: F-score is ill-defined and being set to 0.0 due to no predicted samples.\n",
      "  'precision', 'predicted', average, warn_for)\n"
     ]
    },
    {
     "name": "stdout",
     "output_type": "stream",
     "text": [
      "[CV]  min_samples_split=3, max_depth=3, criterion=gini, max_features=3, bootstrap=True, min_samples_leaf=1, score=0.0, total=   8.3s\n",
      "[CV] min_samples_split=3, max_depth=3, criterion=gini, max_features=3, bootstrap=True, min_samples_leaf=3 \n",
      "[CV]  min_samples_split=10, max_depth=3, criterion=gini, max_features=3, bootstrap=True, min_samples_leaf=1, score=0.0, total=   8.5s\n",
      "[CV] min_samples_split=3, max_depth=3, criterion=gini, max_features=3, bootstrap=True, min_samples_leaf=3 \n"
     ]
    },
    {
     "name": "stderr",
     "output_type": "stream",
     "text": [
      "[Parallel(n_jobs=-1)]: Done  34 tasks      | elapsed:   44.9s\n"
     ]
    },
    {
     "name": "stdout",
     "output_type": "stream",
     "text": [
      "[CV]  min_samples_split=10, max_depth=3, criterion=gini, max_features=3, bootstrap=True, min_samples_leaf=1, score=0.0, total=   8.9s\n",
      "[CV] min_samples_split=10, max_depth=3, criterion=gini, max_features=3, bootstrap=True, min_samples_leaf=3 \n"
     ]
    },
    {
     "name": "stderr",
     "output_type": "stream",
     "text": [
      "/home/gaabrielfranco/Documents/github/data-mining-w2/venv/lib/python3.5/site-packages/sklearn/metrics/classification.py:1135: UndefinedMetricWarning: F-score is ill-defined and being set to 0.0 due to no predicted samples.\n",
      "  'precision', 'predicted', average, warn_for)\n",
      "/home/gaabrielfranco/Documents/github/data-mining-w2/venv/lib/python3.5/site-packages/sklearn/metrics/classification.py:1135: UndefinedMetricWarning: F-score is ill-defined and being set to 0.0 due to no predicted samples.\n",
      "  'precision', 'predicted', average, warn_for)\n",
      "/home/gaabrielfranco/Documents/github/data-mining-w2/venv/lib/python3.5/site-packages/sklearn/metrics/classification.py:1135: UndefinedMetricWarning: F-score is ill-defined and being set to 0.0 due to no predicted samples.\n",
      "  'precision', 'predicted', average, warn_for)\n",
      "/home/gaabrielfranco/Documents/github/data-mining-w2/venv/lib/python3.5/site-packages/sklearn/metrics/classification.py:1135: UndefinedMetricWarning: F-score is ill-defined and being set to 0.0 due to no predicted samples.\n",
      "  'precision', 'predicted', average, warn_for)\n",
      "/home/gaabrielfranco/Documents/github/data-mining-w2/venv/lib/python3.5/site-packages/sklearn/metrics/classification.py:1135: UndefinedMetricWarning: F-score is ill-defined and being set to 0.0 due to no predicted samples.\n",
      "  'precision', 'predicted', average, warn_for)\n"
     ]
    },
    {
     "name": "stdout",
     "output_type": "stream",
     "text": [
      "[CV]  min_samples_split=10, max_depth=3, criterion=gini, max_features=3, bootstrap=True, min_samples_leaf=1, score=0.0, total=   8.9s\n",
      "[CV] min_samples_split=10, max_depth=3, criterion=gini, max_features=3, bootstrap=True, min_samples_leaf=3 \n",
      "[CV]  min_samples_split=2, max_depth=3, criterion=gini, max_features=3, bootstrap=True, min_samples_leaf=3, score=0.0, total=   8.6s\n",
      "[CV] min_samples_split=10, max_depth=3, criterion=gini, max_features=3, bootstrap=True, min_samples_leaf=3 \n",
      "[CV]  min_samples_split=2, max_depth=3, criterion=gini, max_features=3, bootstrap=True, min_samples_leaf=3, score=0.0, total=   9.4s\n",
      "[CV] min_samples_split=2, max_depth=3, criterion=gini, max_features=3, bootstrap=True, min_samples_leaf=10 \n",
      "[CV]  min_samples_split=3, max_depth=3, criterion=gini, max_features=3, bootstrap=True, min_samples_leaf=3, score=0.0, total=   9.1s\n",
      "[CV] min_samples_split=2, max_depth=3, criterion=gini, max_features=3, bootstrap=True, min_samples_leaf=10 \n",
      "[CV]  min_samples_split=2, max_depth=3, criterion=gini, max_features=3, bootstrap=True, min_samples_leaf=3, score=0.0, total=  10.3s\n",
      "[CV] min_samples_split=2, max_depth=3, criterion=gini, max_features=3, bootstrap=True, min_samples_leaf=10 \n"
     ]
    },
    {
     "name": "stderr",
     "output_type": "stream",
     "text": [
      "/home/gaabrielfranco/Documents/github/data-mining-w2/venv/lib/python3.5/site-packages/sklearn/metrics/classification.py:1135: UndefinedMetricWarning: F-score is ill-defined and being set to 0.0 due to no predicted samples.\n",
      "  'precision', 'predicted', average, warn_for)\n",
      "/home/gaabrielfranco/Documents/github/data-mining-w2/venv/lib/python3.5/site-packages/sklearn/metrics/classification.py:1135: UndefinedMetricWarning: F-score is ill-defined and being set to 0.0 due to no predicted samples.\n",
      "  'precision', 'predicted', average, warn_for)\n",
      "/home/gaabrielfranco/Documents/github/data-mining-w2/venv/lib/python3.5/site-packages/sklearn/metrics/classification.py:1135: UndefinedMetricWarning: F-score is ill-defined and being set to 0.0 due to no predicted samples.\n",
      "  'precision', 'predicted', average, warn_for)\n"
     ]
    },
    {
     "name": "stdout",
     "output_type": "stream",
     "text": [
      "[CV]  min_samples_split=3, max_depth=3, criterion=gini, max_features=3, bootstrap=True, min_samples_leaf=3, score=0.0, total=   9.2s\n",
      "[CV] min_samples_split=3, max_depth=3, criterion=gini, max_features=3, bootstrap=True, min_samples_leaf=10 \n",
      "[CV]  min_samples_split=3, max_depth=3, criterion=gini, max_features=3, bootstrap=True, min_samples_leaf=3, score=0.0, total=   9.3s\n",
      "[CV] min_samples_split=3, max_depth=3, criterion=gini, max_features=3, bootstrap=True, min_samples_leaf=10 \n",
      "[CV]  min_samples_split=10, max_depth=3, criterion=gini, max_features=3, bootstrap=True, min_samples_leaf=3, score=0.0, total=  10.0s\n",
      "[CV] min_samples_split=3, max_depth=3, criterion=gini, max_features=3, bootstrap=True, min_samples_leaf=10 \n"
     ]
    },
    {
     "name": "stderr",
     "output_type": "stream",
     "text": [
      "/home/gaabrielfranco/Documents/github/data-mining-w2/venv/lib/python3.5/site-packages/sklearn/metrics/classification.py:1135: UndefinedMetricWarning: F-score is ill-defined and being set to 0.0 due to no predicted samples.\n",
      "  'precision', 'predicted', average, warn_for)\n",
      "/home/gaabrielfranco/Documents/github/data-mining-w2/venv/lib/python3.5/site-packages/sklearn/metrics/classification.py:1135: UndefinedMetricWarning: F-score is ill-defined and being set to 0.0 due to no predicted samples.\n",
      "  'precision', 'predicted', average, warn_for)\n",
      "/home/gaabrielfranco/Documents/github/data-mining-w2/venv/lib/python3.5/site-packages/sklearn/metrics/classification.py:1135: UndefinedMetricWarning: F-score is ill-defined and being set to 0.0 due to no predicted samples.\n",
      "  'precision', 'predicted', average, warn_for)\n",
      "/home/gaabrielfranco/Documents/github/data-mining-w2/venv/lib/python3.5/site-packages/sklearn/metrics/classification.py:1135: UndefinedMetricWarning: F-score is ill-defined and being set to 0.0 due to no predicted samples.\n",
      "  'precision', 'predicted', average, warn_for)\n",
      "/home/gaabrielfranco/Documents/github/data-mining-w2/venv/lib/python3.5/site-packages/sklearn/metrics/classification.py:1135: UndefinedMetricWarning: F-score is ill-defined and being set to 0.0 due to no predicted samples.\n",
      "  'precision', 'predicted', average, warn_for)\n"
     ]
    },
    {
     "name": "stdout",
     "output_type": "stream",
     "text": [
      "[CV]  min_samples_split=2, max_depth=3, criterion=gini, max_features=3, bootstrap=True, min_samples_leaf=10, score=0.0, total=   8.5s\n",
      "[CV] min_samples_split=10, max_depth=3, criterion=gini, max_features=3, bootstrap=True, min_samples_leaf=10 \n",
      "[CV]  min_samples_split=10, max_depth=3, criterion=gini, max_features=3, bootstrap=True, min_samples_leaf=3, score=0.0, total=   8.5s\n",
      "[CV] min_samples_split=10, max_depth=3, criterion=gini, max_features=3, bootstrap=True, min_samples_leaf=10 \n",
      "[CV]  min_samples_split=10, max_depth=3, criterion=gini, max_features=3, bootstrap=True, min_samples_leaf=3, score=0.0, total=   8.8s\n",
      "[CV] min_samples_split=10, max_depth=3, criterion=gini, max_features=3, bootstrap=True, min_samples_leaf=10 \n"
     ]
    },
    {
     "name": "stderr",
     "output_type": "stream",
     "text": [
      "[Parallel(n_jobs=-1)]: Done  45 tasks      | elapsed:  1.0min\n"
     ]
    },
    {
     "name": "stdout",
     "output_type": "stream",
     "text": [
      "[CV]  min_samples_split=2, max_depth=3, criterion=gini, max_features=3, bootstrap=True, min_samples_leaf=10, score=0.0, total=   8.5s\n",
      "[CV] min_samples_split=2, max_depth=3, criterion=gini, max_features=10, bootstrap=True, min_samples_leaf=1 \n",
      "[CV]  min_samples_split=2, max_depth=3, criterion=gini, max_features=3, bootstrap=True, min_samples_leaf=10, score=0.0, total=   9.3s\n",
      "[CV] min_samples_split=2, max_depth=3, criterion=gini, max_features=10, bootstrap=True, min_samples_leaf=1 \n"
     ]
    },
    {
     "name": "stderr",
     "output_type": "stream",
     "text": [
      "/home/gaabrielfranco/Documents/github/data-mining-w2/venv/lib/python3.5/site-packages/sklearn/metrics/classification.py:1135: UndefinedMetricWarning: F-score is ill-defined and being set to 0.0 due to no predicted samples.\n",
      "  'precision', 'predicted', average, warn_for)\n",
      "/home/gaabrielfranco/Documents/github/data-mining-w2/venv/lib/python3.5/site-packages/sklearn/metrics/classification.py:1135: UndefinedMetricWarning: F-score is ill-defined and being set to 0.0 due to no predicted samples.\n",
      "  'precision', 'predicted', average, warn_for)\n"
     ]
    },
    {
     "name": "stdout",
     "output_type": "stream",
     "text": [
      "[CV]  min_samples_split=3, max_depth=3, criterion=gini, max_features=3, bootstrap=True, min_samples_leaf=10, score=0.0, total=   8.1s\n",
      "[CV] min_samples_split=2, max_depth=3, criterion=gini, max_features=10, bootstrap=True, min_samples_leaf=1 \n"
     ]
    },
    {
     "name": "stderr",
     "output_type": "stream",
     "text": [
      "/home/gaabrielfranco/Documents/github/data-mining-w2/venv/lib/python3.5/site-packages/sklearn/metrics/classification.py:1135: UndefinedMetricWarning: F-score is ill-defined and being set to 0.0 due to no predicted samples.\n",
      "  'precision', 'predicted', average, warn_for)\n"
     ]
    },
    {
     "name": "stdout",
     "output_type": "stream",
     "text": [
      "[CV]  min_samples_split=3, max_depth=3, criterion=gini, max_features=3, bootstrap=True, min_samples_leaf=10, score=0.0, total=   8.6s\n",
      "[CV] min_samples_split=3, max_depth=3, criterion=gini, max_features=10, bootstrap=True, min_samples_leaf=1 \n",
      "[CV]  min_samples_split=3, max_depth=3, criterion=gini, max_features=3, bootstrap=True, min_samples_leaf=10, score=0.0, total=   9.2s\n",
      "[CV] min_samples_split=3, max_depth=3, criterion=gini, max_features=10, bootstrap=True, min_samples_leaf=1 \n"
     ]
    },
    {
     "name": "stderr",
     "output_type": "stream",
     "text": [
      "/home/gaabrielfranco/Documents/github/data-mining-w2/venv/lib/python3.5/site-packages/sklearn/metrics/classification.py:1135: UndefinedMetricWarning: F-score is ill-defined and being set to 0.0 due to no predicted samples.\n",
      "  'precision', 'predicted', average, warn_for)\n",
      "/home/gaabrielfranco/Documents/github/data-mining-w2/venv/lib/python3.5/site-packages/sklearn/metrics/classification.py:1135: UndefinedMetricWarning: F-score is ill-defined and being set to 0.0 due to no predicted samples.\n",
      "  'precision', 'predicted', average, warn_for)\n",
      "/home/gaabrielfranco/Documents/github/data-mining-w2/venv/lib/python3.5/site-packages/sklearn/metrics/classification.py:1135: UndefinedMetricWarning: F-score is ill-defined and being set to 0.0 due to no predicted samples.\n",
      "  'precision', 'predicted', average, warn_for)\n"
     ]
    },
    {
     "name": "stdout",
     "output_type": "stream",
     "text": [
      "[CV]  min_samples_split=10, max_depth=3, criterion=gini, max_features=3, bootstrap=True, min_samples_leaf=10, score=0.0, total=   8.5s\n",
      "[CV] min_samples_split=3, max_depth=3, criterion=gini, max_features=10, bootstrap=True, min_samples_leaf=1 \n",
      "[CV]  min_samples_split=10, max_depth=3, criterion=gini, max_features=3, bootstrap=True, min_samples_leaf=10, score=0.0, total=   8.4s\n",
      "[CV] min_samples_split=10, max_depth=3, criterion=gini, max_features=10, bootstrap=True, min_samples_leaf=1 \n",
      "[CV]  min_samples_split=10, max_depth=3, criterion=gini, max_features=3, bootstrap=True, min_samples_leaf=10, score=0.0, total=   8.5s\n",
      "[CV] min_samples_split=10, max_depth=3, criterion=gini, max_features=10, bootstrap=True, min_samples_leaf=1 \n",
      "[CV]  min_samples_split=2, max_depth=3, criterion=gini, max_features=10, bootstrap=True, min_samples_leaf=1, score=0.2873607376104495, total=  14.5s\n",
      "[CV] min_samples_split=10, max_depth=3, criterion=gini, max_features=10, bootstrap=True, min_samples_leaf=1 \n",
      "[CV]  min_samples_split=2, max_depth=3, criterion=gini, max_features=10, bootstrap=True, min_samples_leaf=1, score=0.2649006622516556, total=  14.1s\n",
      "[CV] min_samples_split=2, max_depth=3, criterion=gini, max_features=10, bootstrap=True, min_samples_leaf=3 \n"
     ]
    },
    {
     "name": "stderr",
     "output_type": "stream",
     "text": [
      "[Parallel(n_jobs=-1)]: Done  56 tasks      | elapsed:  1.3min\n"
     ]
    },
    {
     "name": "stdout",
     "output_type": "stream",
     "text": [
      "[CV]  min_samples_split=2, max_depth=3, criterion=gini, max_features=10, bootstrap=True, min_samples_leaf=1, score=0.2441906262307995, total=  14.0s\n",
      "[CV] min_samples_split=2, max_depth=3, criterion=gini, max_features=10, bootstrap=True, min_samples_leaf=3 \n",
      "[CV]  min_samples_split=3, max_depth=3, criterion=gini, max_features=10, bootstrap=True, min_samples_leaf=1, score=0.24318989340702724, total=  13.9s\n",
      "[CV] min_samples_split=2, max_depth=3, criterion=gini, max_features=10, bootstrap=True, min_samples_leaf=3 \n",
      "[CV]  min_samples_split=3, max_depth=3, criterion=gini, max_features=10, bootstrap=True, min_samples_leaf=1, score=0.25713169206721376, total=  15.5s\n",
      "[CV] min_samples_split=3, max_depth=3, criterion=gini, max_features=10, bootstrap=True, min_samples_leaf=3 \n",
      "[CV]  min_samples_split=3, max_depth=3, criterion=gini, max_features=10, bootstrap=True, min_samples_leaf=1, score=0.24823252160251377, total=  14.9s\n",
      "[CV] min_samples_split=3, max_depth=3, criterion=gini, max_features=10, bootstrap=True, min_samples_leaf=3 \n",
      "[CV]  min_samples_split=10, max_depth=3, criterion=gini, max_features=10, bootstrap=True, min_samples_leaf=1, score=0.24318989340702724, total=  14.7s\n",
      "[CV] min_samples_split=3, max_depth=3, criterion=gini, max_features=10, bootstrap=True, min_samples_leaf=3 \n",
      "[CV]  min_samples_split=10, max_depth=3, criterion=gini, max_features=10, bootstrap=True, min_samples_leaf=1, score=0.25781250000000006, total=  17.1s\n",
      "[CV] min_samples_split=10, max_depth=3, criterion=gini, max_features=10, bootstrap=True, min_samples_leaf=3 \n",
      "[CV]  min_samples_split=10, max_depth=3, criterion=gini, max_features=10, bootstrap=True, min_samples_leaf=1, score=0.24892029839026303, total=  15.1s\n",
      "[CV] min_samples_split=10, max_depth=3, criterion=gini, max_features=10, bootstrap=True, min_samples_leaf=3 \n",
      "[CV]  min_samples_split=2, max_depth=3, criterion=gini, max_features=10, bootstrap=True, min_samples_leaf=3, score=0.25713169206721376, total=  15.9s\n",
      "[CV] min_samples_split=10, max_depth=3, criterion=gini, max_features=10, bootstrap=True, min_samples_leaf=3 \n",
      "[CV]  min_samples_split=2, max_depth=3, criterion=gini, max_features=10, bootstrap=True, min_samples_leaf=3, score=0.26365054602184085, total=  15.9s\n",
      "[CV] min_samples_split=2, max_depth=3, criterion=gini, max_features=10, bootstrap=True, min_samples_leaf=10 \n",
      "[CV]  min_samples_split=3, max_depth=3, criterion=gini, max_features=10, bootstrap=True, min_samples_leaf=3, score=0.2641215426567978, total=  14.6s\n",
      "[CV] min_samples_split=2, max_depth=3, criterion=gini, max_features=10, bootstrap=True, min_samples_leaf=10 \n",
      "[CV]  min_samples_split=2, max_depth=3, criterion=gini, max_features=10, bootstrap=True, min_samples_leaf=3, score=0.27321981424148606, total=  15.4s\n",
      "[CV] min_samples_split=2, max_depth=3, criterion=gini, max_features=10, bootstrap=True, min_samples_leaf=10 \n",
      "[CV]  min_samples_split=3, max_depth=3, criterion=gini, max_features=10, bootstrap=True, min_samples_leaf=3, score=0.26365054602184085, total=  15.0s\n",
      "[CV] min_samples_split=3, max_depth=3, criterion=gini, max_features=10, bootstrap=True, min_samples_leaf=10 \n",
      "[CV]  min_samples_split=3, max_depth=3, criterion=gini, max_features=10, bootstrap=True, min_samples_leaf=3, score=0.27321981424148606, total=  15.0s\n",
      "[CV] min_samples_split=3, max_depth=3, criterion=gini, max_features=10, bootstrap=True, min_samples_leaf=10 \n"
     ]
    },
    {
     "name": "stderr",
     "output_type": "stream",
     "text": [
      "[Parallel(n_jobs=-1)]: Done  69 tasks      | elapsed:  1.8min\n"
     ]
    },
    {
     "name": "stdout",
     "output_type": "stream",
     "text": [
      "[CV]  min_samples_split=10, max_depth=3, criterion=gini, max_features=10, bootstrap=True, min_samples_leaf=3, score=0.264797507788162, total=  15.9s\n",
      "[CV] min_samples_split=3, max_depth=3, criterion=gini, max_features=10, bootstrap=True, min_samples_leaf=10 \n",
      "[CV]  min_samples_split=10, max_depth=3, criterion=gini, max_features=10, bootstrap=True, min_samples_leaf=3, score=0.26365054602184085, total=  15.8s\n",
      "[CV] min_samples_split=10, max_depth=3, criterion=gini, max_features=10, bootstrap=True, min_samples_leaf=10 \n",
      "[CV]  min_samples_split=10, max_depth=3, criterion=gini, max_features=10, bootstrap=True, min_samples_leaf=3, score=0.27332559039876114, total=  15.1s\n",
      "[CV] min_samples_split=10, max_depth=3, criterion=gini, max_features=10, bootstrap=True, min_samples_leaf=10 \n",
      "[CV]  min_samples_split=2, max_depth=3, criterion=gini, max_features=10, bootstrap=True, min_samples_leaf=10, score=0.29042145593869734, total=  14.5s\n",
      "[CV] min_samples_split=10, max_depth=3, criterion=gini, max_features=10, bootstrap=True, min_samples_leaf=10 \n",
      "[CV]  min_samples_split=2, max_depth=3, criterion=gini, max_features=10, bootstrap=True, min_samples_leaf=10, score=0.25019669551534224, total=  14.8s\n",
      "[CV] min_samples_split=2, max_depth=None, criterion=gini, max_features=1, bootstrap=True, min_samples_leaf=1 \n",
      "[CV]  min_samples_split=2, max_depth=3, criterion=gini, max_features=10, bootstrap=True, min_samples_leaf=10, score=0.25680933852140075, total=  15.2s\n",
      "[CV] min_samples_split=2, max_depth=None, criterion=gini, max_features=1, bootstrap=True, min_samples_leaf=1 \n",
      "[CV]  min_samples_split=3, max_depth=3, criterion=gini, max_features=10, bootstrap=True, min_samples_leaf=10, score=0.29042145593869734, total=  14.8s\n",
      "[CV] min_samples_split=2, max_depth=None, criterion=gini, max_features=1, bootstrap=True, min_samples_leaf=1 \n",
      "[CV]  min_samples_split=3, max_depth=3, criterion=gini, max_features=10, bootstrap=True, min_samples_leaf=10, score=0.25019669551534224, total=  15.1s\n",
      "[CV] min_samples_split=3, max_depth=None, criterion=gini, max_features=1, bootstrap=True, min_samples_leaf=1 \n",
      "[CV]  min_samples_split=3, max_depth=3, criterion=gini, max_features=10, bootstrap=True, min_samples_leaf=10, score=0.25680933852140075, total=  15.6s\n",
      "[CV] min_samples_split=3, max_depth=None, criterion=gini, max_features=1, bootstrap=True, min_samples_leaf=1 \n",
      "[CV]  min_samples_split=10, max_depth=3, criterion=gini, max_features=10, bootstrap=True, min_samples_leaf=10, score=0.25019669551534224, total=  14.0s\n",
      "[CV] min_samples_split=3, max_depth=None, criterion=gini, max_features=1, bootstrap=True, min_samples_leaf=1 \n",
      "[CV]  min_samples_split=10, max_depth=3, criterion=gini, max_features=10, bootstrap=True, min_samples_leaf=10, score=0.29042145593869734, total=  14.5s\n",
      "[CV] min_samples_split=10, max_depth=None, criterion=gini, max_features=1, bootstrap=True, min_samples_leaf=1 \n",
      "[CV]  min_samples_split=10, max_depth=3, criterion=gini, max_features=10, bootstrap=True, min_samples_leaf=10, score=0.26005466614603673, total=  13.7s\n",
      "[CV] min_samples_split=10, max_depth=None, criterion=gini, max_features=1, bootstrap=True, min_samples_leaf=1 \n",
      "[CV]  min_samples_split=2, max_depth=None, criterion=gini, max_features=1, bootstrap=True, min_samples_leaf=1, score=0.648322471638909, total=  23.5s\n",
      "[CV] min_samples_split=10, max_depth=None, criterion=gini, max_features=1, bootstrap=True, min_samples_leaf=1 \n"
     ]
    },
    {
     "name": "stderr",
     "output_type": "stream",
     "text": [
      "[Parallel(n_jobs=-1)]: Done  82 tasks      | elapsed:  2.5min\n"
     ]
    },
    {
     "name": "stdout",
     "output_type": "stream",
     "text": [
      "[CV]  min_samples_split=2, max_depth=None, criterion=gini, max_features=1, bootstrap=True, min_samples_leaf=1, score=0.6465981399902105, total=  23.4s\n",
      "[CV] min_samples_split=2, max_depth=None, criterion=gini, max_features=1, bootstrap=True, min_samples_leaf=3 \n",
      "[CV]  min_samples_split=2, max_depth=None, criterion=gini, max_features=1, bootstrap=True, min_samples_leaf=1, score=0.6376811594202898, total=  21.8s\n",
      "[CV] min_samples_split=2, max_depth=None, criterion=gini, max_features=1, bootstrap=True, min_samples_leaf=3 \n",
      "[CV]  min_samples_split=3, max_depth=None, criterion=gini, max_features=1, bootstrap=True, min_samples_leaf=1, score=0.6556820935304095, total=  22.6s\n",
      "[CV] min_samples_split=2, max_depth=None, criterion=gini, max_features=1, bootstrap=True, min_samples_leaf=3 \n",
      "[CV]  min_samples_split=3, max_depth=None, criterion=gini, max_features=1, bootstrap=True, min_samples_leaf=1, score=0.6465942744323792, total=  22.2s\n",
      "[CV] min_samples_split=3, max_depth=None, criterion=gini, max_features=1, bootstrap=True, min_samples_leaf=3 \n",
      "[CV]  min_samples_split=10, max_depth=None, criterion=gini, max_features=1, bootstrap=True, min_samples_leaf=1, score=0.6540284360189574, total=  18.2s\n",
      "[CV] min_samples_split=3, max_depth=None, criterion=gini, max_features=1, bootstrap=True, min_samples_leaf=3 \n",
      "[CV]  min_samples_split=10, max_depth=None, criterion=gini, max_features=1, bootstrap=True, min_samples_leaf=1, score=0.6502941928882067, total=  18.9s\n",
      "[CV] min_samples_split=3, max_depth=None, criterion=gini, max_features=1, bootstrap=True, min_samples_leaf=3 \n",
      "[CV]  min_samples_split=3, max_depth=None, criterion=gini, max_features=1, bootstrap=True, min_samples_leaf=1, score=0.6361838853188334, total=  21.7s\n",
      "[CV] min_samples_split=10, max_depth=None, criterion=gini, max_features=1, bootstrap=True, min_samples_leaf=3 \n",
      "[CV]  min_samples_split=2, max_depth=None, criterion=gini, max_features=1, bootstrap=True, min_samples_leaf=3, score=0.2046548956661316, total=   9.6s\n",
      "[CV] min_samples_split=10, max_depth=None, criterion=gini, max_features=1, bootstrap=True, min_samples_leaf=3 \n",
      "[CV]  min_samples_split=2, max_depth=None, criterion=gini, max_features=1, bootstrap=True, min_samples_leaf=3, score=0.1512255920232655, total=   9.9s\n",
      "[CV] min_samples_split=10, max_depth=None, criterion=gini, max_features=1, bootstrap=True, min_samples_leaf=3 \n",
      "[CV]  min_samples_split=2, max_depth=None, criterion=gini, max_features=1, bootstrap=True, min_samples_leaf=3, score=0.19652244237767894, total=  10.4s\n",
      "[CV] min_samples_split=2, max_depth=None, criterion=gini, max_features=1, bootstrap=True, min_samples_leaf=10 \n",
      "[CV]  min_samples_split=3, max_depth=None, criterion=gini, max_features=1, bootstrap=True, min_samples_leaf=3, score=0.1512255920232655, total=  10.2s\n",
      "[CV] min_samples_split=2, max_depth=None, criterion=gini, max_features=1, bootstrap=True, min_samples_leaf=10 \n",
      "[CV]  min_samples_split=3, max_depth=None, criterion=gini, max_features=1, bootstrap=True, min_samples_leaf=3, score=0.2046548956661316, total=  11.0s\n",
      "[CV] min_samples_split=2, max_depth=None, criterion=gini, max_features=1, bootstrap=True, min_samples_leaf=10 \n",
      "[CV]  min_samples_split=3, max_depth=None, criterion=gini, max_features=1, bootstrap=True, min_samples_leaf=3, score=0.21673306772908366, total=  11.0s\n",
      "[CV] min_samples_split=3, max_depth=None, criterion=gini, max_features=1, bootstrap=True, min_samples_leaf=10 \n"
     ]
    },
    {
     "name": "stderr",
     "output_type": "stream",
     "text": [
      "/home/gaabrielfranco/Documents/github/data-mining-w2/venv/lib/python3.5/site-packages/sklearn/metrics/classification.py:1135: UndefinedMetricWarning: F-score is ill-defined and being set to 0.0 due to no predicted samples.\n",
      "  'precision', 'predicted', average, warn_for)\n"
     ]
    },
    {
     "name": "stdout",
     "output_type": "stream",
     "text": [
      "[CV]  min_samples_split=10, max_depth=None, criterion=gini, max_features=1, bootstrap=True, min_samples_leaf=3, score=0.20786516853932585, total=  11.2s\n",
      "[CV] min_samples_split=3, max_depth=None, criterion=gini, max_features=1, bootstrap=True, min_samples_leaf=10 \n",
      "[CV]  min_samples_split=2, max_depth=None, criterion=gini, max_features=1, bootstrap=True, min_samples_leaf=10, score=0.0, total=   6.5s\n",
      "[CV] min_samples_split=3, max_depth=None, criterion=gini, max_features=1, bootstrap=True, min_samples_leaf=10 \n"
     ]
    },
    {
     "name": "stderr",
     "output_type": "stream",
     "text": [
      "[Parallel(n_jobs=-1)]: Done  97 tasks      | elapsed:  2.9min\n",
      "/home/gaabrielfranco/Documents/github/data-mining-w2/venv/lib/python3.5/site-packages/sklearn/metrics/classification.py:1135: UndefinedMetricWarning: F-score is ill-defined and being set to 0.0 due to no predicted samples.\n",
      "  'precision', 'predicted', average, warn_for)\n",
      "/home/gaabrielfranco/Documents/github/data-mining-w2/venv/lib/python3.5/site-packages/sklearn/metrics/classification.py:1135: UndefinedMetricWarning: F-score is ill-defined and being set to 0.0 due to no predicted samples.\n",
      "  'precision', 'predicted', average, warn_for)\n"
     ]
    },
    {
     "name": "stdout",
     "output_type": "stream",
     "text": [
      "[CV]  min_samples_split=10, max_depth=None, criterion=gini, max_features=1, bootstrap=True, min_samples_leaf=1, score=0.6435267291613883, total=  20.9s\n",
      "[CV] min_samples_split=10, max_depth=None, criterion=gini, max_features=1, bootstrap=True, min_samples_leaf=10 \n",
      "[CV]  min_samples_split=2, max_depth=None, criterion=gini, max_features=1, bootstrap=True, min_samples_leaf=10, score=0.0, total=   6.7s\n",
      "[CV] min_samples_split=10, max_depth=None, criterion=gini, max_features=1, bootstrap=True, min_samples_leaf=10 \n",
      "[CV]  min_samples_split=10, max_depth=None, criterion=gini, max_features=1, bootstrap=True, min_samples_leaf=3, score=0.19975737970076826, total=  11.2s\n",
      "[CV] min_samples_split=10, max_depth=None, criterion=gini, max_features=1, bootstrap=True, min_samples_leaf=10 \n",
      "[CV]  min_samples_split=2, max_depth=None, criterion=gini, max_features=1, bootstrap=True, min_samples_leaf=10, score=0.0, total=   6.8s\n",
      "[CV] min_samples_split=2, max_depth=None, criterion=gini, max_features=3, bootstrap=True, min_samples_leaf=1 \n"
     ]
    },
    {
     "name": "stderr",
     "output_type": "stream",
     "text": [
      "/home/gaabrielfranco/Documents/github/data-mining-w2/venv/lib/python3.5/site-packages/sklearn/metrics/classification.py:1135: UndefinedMetricWarning: F-score is ill-defined and being set to 0.0 due to no predicted samples.\n",
      "  'precision', 'predicted', average, warn_for)\n"
     ]
    },
    {
     "name": "stdout",
     "output_type": "stream",
     "text": [
      "[CV]  min_samples_split=10, max_depth=None, criterion=gini, max_features=1, bootstrap=True, min_samples_leaf=3, score=0.22319301032565528, total=  11.9s\n",
      "[CV] min_samples_split=2, max_depth=None, criterion=gini, max_features=3, bootstrap=True, min_samples_leaf=1 \n"
     ]
    },
    {
     "name": "stderr",
     "output_type": "stream",
     "text": [
      "/home/gaabrielfranco/Documents/github/data-mining-w2/venv/lib/python3.5/site-packages/sklearn/metrics/classification.py:1135: UndefinedMetricWarning: F-score is ill-defined and being set to 0.0 due to no predicted samples.\n",
      "  'precision', 'predicted', average, warn_for)\n"
     ]
    },
    {
     "name": "stdout",
     "output_type": "stream",
     "text": [
      "[CV]  min_samples_split=3, max_depth=None, criterion=gini, max_features=1, bootstrap=True, min_samples_leaf=10, score=0.0, total=   7.1s\n",
      "[CV] min_samples_split=2, max_depth=None, criterion=gini, max_features=3, bootstrap=True, min_samples_leaf=1 \n"
     ]
    },
    {
     "name": "stderr",
     "output_type": "stream",
     "text": [
      "/home/gaabrielfranco/Documents/github/data-mining-w2/venv/lib/python3.5/site-packages/sklearn/metrics/classification.py:1135: UndefinedMetricWarning: F-score is ill-defined and being set to 0.0 due to no predicted samples.\n",
      "  'precision', 'predicted', average, warn_for)\n"
     ]
    },
    {
     "name": "stdout",
     "output_type": "stream",
     "text": [
      "[CV]  min_samples_split=3, max_depth=None, criterion=gini, max_features=1, bootstrap=True, min_samples_leaf=10, score=0.0, total=   6.8s\n",
      "[CV] min_samples_split=3, max_depth=None, criterion=gini, max_features=3, bootstrap=True, min_samples_leaf=1 \n"
     ]
    },
    {
     "name": "stderr",
     "output_type": "stream",
     "text": [
      "/home/gaabrielfranco/Documents/github/data-mining-w2/venv/lib/python3.5/site-packages/sklearn/metrics/classification.py:1135: UndefinedMetricWarning: F-score is ill-defined and being set to 0.0 due to no predicted samples.\n",
      "  'precision', 'predicted', average, warn_for)\n"
     ]
    },
    {
     "name": "stdout",
     "output_type": "stream",
     "text": [
      "[CV]  min_samples_split=3, max_depth=None, criterion=gini, max_features=1, bootstrap=True, min_samples_leaf=10, score=0.0, total=   7.0s\n"
     ]
    },
    {
     "name": "stderr",
     "output_type": "stream",
     "text": [
      "/home/gaabrielfranco/Documents/github/data-mining-w2/venv/lib/python3.5/site-packages/sklearn/metrics/classification.py:1135: UndefinedMetricWarning: F-score is ill-defined and being set to 0.0 due to no predicted samples.\n",
      "  'precision', 'predicted', average, warn_for)\n"
     ]
    },
    {
     "name": "stdout",
     "output_type": "stream",
     "text": [
      "[CV] min_samples_split=3, max_depth=None, criterion=gini, max_features=3, bootstrap=True, min_samples_leaf=1 \n"
     ]
    },
    {
     "name": "stderr",
     "output_type": "stream",
     "text": [
      "/home/gaabrielfranco/Documents/github/data-mining-w2/venv/lib/python3.5/site-packages/sklearn/metrics/classification.py:1135: UndefinedMetricWarning: F-score is ill-defined and being set to 0.0 due to no predicted samples.\n",
      "  'precision', 'predicted', average, warn_for)\n"
     ]
    },
    {
     "name": "stdout",
     "output_type": "stream",
     "text": [
      "[CV]  min_samples_split=10, max_depth=None, criterion=gini, max_features=1, bootstrap=True, min_samples_leaf=10, score=0.0, total=   6.9s\n",
      "[CV] min_samples_split=3, max_depth=None, criterion=gini, max_features=3, bootstrap=True, min_samples_leaf=1 \n",
      "[CV]  min_samples_split=10, max_depth=None, criterion=gini, max_features=1, bootstrap=True, min_samples_leaf=10, score=0.0, total=   6.6s\n",
      "[CV] min_samples_split=10, max_depth=None, criterion=gini, max_features=3, bootstrap=True, min_samples_leaf=1 \n",
      "[CV]  min_samples_split=10, max_depth=None, criterion=gini, max_features=1, bootstrap=True, min_samples_leaf=10, score=0.0, total=   7.0s\n",
      "[CV] min_samples_split=10, max_depth=None, criterion=gini, max_features=3, bootstrap=True, min_samples_leaf=1 \n",
      "[CV]  min_samples_split=2, max_depth=None, criterion=gini, max_features=3, bootstrap=True, min_samples_leaf=1, score=0.6528724440116845, total=  24.2s\n",
      "[CV] min_samples_split=10, max_depth=None, criterion=gini, max_features=3, bootstrap=True, min_samples_leaf=1 \n",
      "[CV]  min_samples_split=2, max_depth=None, criterion=gini, max_features=3, bootstrap=True, min_samples_leaf=1, score=0.6567664670658682, total=  26.0s\n",
      "[CV] min_samples_split=2, max_depth=None, criterion=gini, max_features=3, bootstrap=True, min_samples_leaf=3 \n",
      "[CV]  min_samples_split=2, max_depth=None, criterion=gini, max_features=3, bootstrap=True, min_samples_leaf=1, score=0.6445959104186952, total=  25.3s\n",
      "[CV] min_samples_split=2, max_depth=None, criterion=gini, max_features=3, bootstrap=True, min_samples_leaf=3 \n",
      "[CV]  min_samples_split=10, max_depth=None, criterion=gini, max_features=3, bootstrap=True, min_samples_leaf=1, score=0.6673213847287012, total=  22.4s\n",
      "[CV] min_samples_split=2, max_depth=None, criterion=gini, max_features=3, bootstrap=True, min_samples_leaf=3 \n",
      "[CV]  min_samples_split=3, max_depth=None, criterion=gini, max_features=3, bootstrap=True, min_samples_leaf=1, score=0.6613794760874789, total=  24.7s\n"
     ]
    },
    {
     "name": "stderr",
     "output_type": "stream",
     "text": [
      "[Parallel(n_jobs=-1)]: Done 112 tasks      | elapsed:  3.5min\n"
     ]
    },
    {
     "name": "stdout",
     "output_type": "stream",
     "text": [
      "[CV] min_samples_split=3, max_depth=None, criterion=gini, max_features=3, bootstrap=True, min_samples_leaf=3 \n",
      "[CV]  min_samples_split=3, max_depth=None, criterion=gini, max_features=3, bootstrap=True, min_samples_leaf=1, score=0.6535141800246609, total=  23.6s\n",
      "[CV] min_samples_split=3, max_depth=None, criterion=gini, max_features=3, bootstrap=True, min_samples_leaf=3 \n",
      "[CV]  min_samples_split=10, max_depth=None, criterion=gini, max_features=3, bootstrap=True, min_samples_leaf=1, score=0.6638018200202225, total=  22.6s\n",
      "[CV] min_samples_split=3, max_depth=None, criterion=gini, max_features=3, bootstrap=True, min_samples_leaf=3 \n",
      "[CV]  min_samples_split=3, max_depth=None, criterion=gini, max_features=3, bootstrap=True, min_samples_leaf=1, score=0.6475490196078433, total=  24.7s\n",
      "[CV] min_samples_split=10, max_depth=None, criterion=gini, max_features=3, bootstrap=True, min_samples_leaf=3 \n",
      "[CV]  min_samples_split=2, max_depth=None, criterion=gini, max_features=3, bootstrap=True, min_samples_leaf=3, score=0.5987082280258355, total=  15.5s\n",
      "[CV] min_samples_split=10, max_depth=None, criterion=gini, max_features=3, bootstrap=True, min_samples_leaf=3 \n",
      "[CV]  min_samples_split=3, max_depth=None, criterion=gini, max_features=3, bootstrap=True, min_samples_leaf=3, score=0.5987082280258355, total=  15.4s\n",
      "[CV] min_samples_split=10, max_depth=None, criterion=gini, max_features=3, bootstrap=True, min_samples_leaf=3 \n",
      "[CV]  min_samples_split=2, max_depth=None, criterion=gini, max_features=3, bootstrap=True, min_samples_leaf=3, score=0.5799299883313885, total=  15.9s\n",
      "[CV] min_samples_split=2, max_depth=None, criterion=gini, max_features=3, bootstrap=True, min_samples_leaf=10 \n",
      "[CV]  min_samples_split=2, max_depth=None, criterion=gini, max_features=3, bootstrap=True, min_samples_leaf=3, score=0.5810466760961811, total=  16.2s\n",
      "[CV] min_samples_split=2, max_depth=None, criterion=gini, max_features=3, bootstrap=True, min_samples_leaf=10 \n",
      "[CV]  min_samples_split=3, max_depth=None, criterion=gini, max_features=3, bootstrap=True, min_samples_leaf=3, score=0.5799299883313885, total=  15.9s\n",
      "[CV]  min_samples_split=3, max_depth=None, criterion=gini, max_features=3, bootstrap=True, min_samples_leaf=3, score=0.5810466760961811, total=  15.6s\n",
      "[CV] min_samples_split=2, max_depth=None, criterion=gini, max_features=3, bootstrap=True, min_samples_leaf=10 \n",
      "[CV] min_samples_split=3, max_depth=None, criterion=gini, max_features=3, bootstrap=True, min_samples_leaf=10 \n",
      "[CV]  min_samples_split=10, max_depth=None, criterion=gini, max_features=3, bootstrap=True, min_samples_leaf=3, score=0.6025245441795232, total=  17.2s\n",
      "[CV] min_samples_split=3, max_depth=None, criterion=gini, max_features=3, bootstrap=True, min_samples_leaf=10 \n",
      "[CV]  min_samples_split=10, max_depth=None, criterion=gini, max_features=3, bootstrap=True, min_samples_leaf=1, score=0.6573216520650814, total=  22.4s\n",
      "[CV] min_samples_split=3, max_depth=None, criterion=gini, max_features=3, bootstrap=True, min_samples_leaf=10 \n",
      "[CV]  min_samples_split=10, max_depth=None, criterion=gini, max_features=3, bootstrap=True, min_samples_leaf=3, score=0.5780245470485097, total=  15.8s\n",
      "[CV] min_samples_split=10, max_depth=None, criterion=gini, max_features=3, bootstrap=True, min_samples_leaf=10 \n",
      "[CV]  min_samples_split=2, max_depth=None, criterion=gini, max_features=3, bootstrap=True, min_samples_leaf=10, score=0.49857459613557176, total=  13.5s\n",
      "[CV] min_samples_split=10, max_depth=None, criterion=gini, max_features=3, bootstrap=True, min_samples_leaf=10 \n",
      "[CV]  min_samples_split=2, max_depth=None, criterion=gini, max_features=3, bootstrap=True, min_samples_leaf=10, score=0.4901712111604312, total=  13.1s\n",
      "[CV] min_samples_split=10, max_depth=None, criterion=gini, max_features=3, bootstrap=True, min_samples_leaf=10 \n",
      "[CV]  min_samples_split=3, max_depth=None, criterion=gini, max_features=3, bootstrap=True, min_samples_leaf=10, score=0.49857459613557176, total=  14.3s\n",
      "[CV] min_samples_split=2, max_depth=None, criterion=gini, max_features=10, bootstrap=True, min_samples_leaf=1 \n",
      "[CV]  min_samples_split=2, max_depth=None, criterion=gini, max_features=3, bootstrap=True, min_samples_leaf=10, score=0.5007994883274705, total=  14.5s\n",
      "[CV] min_samples_split=2, max_depth=None, criterion=gini, max_features=10, bootstrap=True, min_samples_leaf=1 \n"
     ]
    },
    {
     "name": "stderr",
     "output_type": "stream",
     "text": [
      "[Parallel(n_jobs=-1)]: Done 129 tasks      | elapsed:  4.1min\n"
     ]
    },
    {
     "name": "stdout",
     "output_type": "stream",
     "text": [
      "[CV]  min_samples_split=10, max_depth=None, criterion=gini, max_features=3, bootstrap=True, min_samples_leaf=3, score=0.5829343846803717, total=  15.5s\n",
      "[CV] min_samples_split=2, max_depth=None, criterion=gini, max_features=10, bootstrap=True, min_samples_leaf=1 \n",
      "[CV]  min_samples_split=3, max_depth=None, criterion=gini, max_features=3, bootstrap=True, min_samples_leaf=10, score=0.4865565273728539, total=  14.6s\n",
      "[CV] min_samples_split=3, max_depth=None, criterion=gini, max_features=10, bootstrap=True, min_samples_leaf=1 \n",
      "[CV]  min_samples_split=3, max_depth=None, criterion=gini, max_features=3, bootstrap=True, min_samples_leaf=10, score=0.49573729081149354, total=  14.6s\n",
      "[CV] min_samples_split=3, max_depth=None, criterion=gini, max_features=10, bootstrap=True, min_samples_leaf=1 \n",
      "[CV]  min_samples_split=10, max_depth=None, criterion=gini, max_features=3, bootstrap=True, min_samples_leaf=10, score=0.49857459613557176, total=  12.5s\n",
      "[CV] min_samples_split=3, max_depth=None, criterion=gini, max_features=10, bootstrap=True, min_samples_leaf=1 \n",
      "[CV]  min_samples_split=10, max_depth=None, criterion=gini, max_features=3, bootstrap=True, min_samples_leaf=10, score=0.4909724421919544, total=  11.7s\n",
      "[CV] min_samples_split=10, max_depth=None, criterion=gini, max_features=10, bootstrap=True, min_samples_leaf=1 \n",
      "[CV]  min_samples_split=10, max_depth=None, criterion=gini, max_features=3, bootstrap=True, min_samples_leaf=10, score=0.4880722114764667, total=  12.8s\n",
      "[CV] min_samples_split=10, max_depth=None, criterion=gini, max_features=10, bootstrap=True, min_samples_leaf=1 \n",
      "[CV]  min_samples_split=2, max_depth=None, criterion=gini, max_features=10, bootstrap=True, min_samples_leaf=1, score=0.6640851887705711, total=  33.6s\n",
      "[CV] min_samples_split=10, max_depth=None, criterion=gini, max_features=10, bootstrap=True, min_samples_leaf=1 \n",
      "[CV]  min_samples_split=2, max_depth=None, criterion=gini, max_features=10, bootstrap=True, min_samples_leaf=1, score=0.6728395061728395, total=  34.7s\n",
      "[CV] min_samples_split=2, max_depth=None, criterion=gini, max_features=10, bootstrap=True, min_samples_leaf=3 \n",
      "[CV]  min_samples_split=2, max_depth=None, criterion=gini, max_features=10, bootstrap=True, min_samples_leaf=1, score=0.671688942891859, total=  35.3s\n",
      "[CV] min_samples_split=2, max_depth=None, criterion=gini, max_features=10, bootstrap=True, min_samples_leaf=3 \n",
      "[CV]  min_samples_split=3, max_depth=None, criterion=gini, max_features=10, bootstrap=True, min_samples_leaf=1, score=0.6773499162879695, total=  34.5s\n",
      "[CV] min_samples_split=2, max_depth=None, criterion=gini, max_features=10, bootstrap=True, min_samples_leaf=3 \n",
      "[CV]  min_samples_split=3, max_depth=None, criterion=gini, max_features=10, bootstrap=True, min_samples_leaf=1, score=0.6752803510482692, total=  34.8s\n",
      "[CV] min_samples_split=3, max_depth=None, criterion=gini, max_features=10, bootstrap=True, min_samples_leaf=3 \n",
      "[CV]  min_samples_split=10, max_depth=None, criterion=gini, max_features=10, bootstrap=True, min_samples_leaf=1, score=0.6813559322033899, total=  28.1s\n",
      "[CV] min_samples_split=3, max_depth=None, criterion=gini, max_features=10, bootstrap=True, min_samples_leaf=3 \n",
      "[CV]  min_samples_split=10, max_depth=None, criterion=gini, max_features=10, bootstrap=True, min_samples_leaf=1, score=0.6812749003984064, total=  31.3s\n",
      "[CV] min_samples_split=3, max_depth=None, criterion=gini, max_features=10, bootstrap=True, min_samples_leaf=3 \n",
      "[CV]  min_samples_split=3, max_depth=None, criterion=gini, max_features=10, bootstrap=True, min_samples_leaf=1, score=0.6681275870465059, total=  34.1s\n",
      "[CV] min_samples_split=10, max_depth=None, criterion=gini, max_features=10, bootstrap=True, min_samples_leaf=3 \n",
      "[CV]  min_samples_split=2, max_depth=None, criterion=gini, max_features=10, bootstrap=True, min_samples_leaf=3, score=0.6736359000509944, total=  26.5s\n",
      "[CV] min_samples_split=10, max_depth=None, criterion=gini, max_features=10, bootstrap=True, min_samples_leaf=3 \n",
      "[CV]  min_samples_split=2, max_depth=None, criterion=gini, max_features=10, bootstrap=True, min_samples_leaf=3, score=0.672452268782544, total=  30.2s\n",
      "[CV] min_samples_split=10, max_depth=None, criterion=gini, max_features=10, bootstrap=True, min_samples_leaf=3 \n",
      "[CV]  min_samples_split=2, max_depth=None, criterion=gini, max_features=10, bootstrap=True, min_samples_leaf=3, score=0.6769768021950612, total=  28.5s\n",
      "[CV] min_samples_split=2, max_depth=None, criterion=gini, max_features=10, bootstrap=True, min_samples_leaf=10 \n"
     ]
    },
    {
     "name": "stderr",
     "output_type": "stream",
     "text": [
      "[Parallel(n_jobs=-1)]: Done 146 tasks      | elapsed:  5.3min\n"
     ]
    },
    {
     "name": "stdout",
     "output_type": "stream",
     "text": [
      "[CV]  min_samples_split=3, max_depth=None, criterion=gini, max_features=10, bootstrap=True, min_samples_leaf=3, score=0.6759651307596514, total=  27.2s\n",
      "[CV] min_samples_split=2, max_depth=None, criterion=gini, max_features=10, bootstrap=True, min_samples_leaf=10 \n",
      "[CV]  min_samples_split=3, max_depth=None, criterion=gini, max_features=10, bootstrap=True, min_samples_leaf=3, score=0.6736465781409602, total=  26.3s\n",
      "[CV] min_samples_split=2, max_depth=None, criterion=gini, max_features=10, bootstrap=True, min_samples_leaf=10 \n",
      "[CV]  min_samples_split=10, max_depth=None, criterion=gini, max_features=10, bootstrap=True, min_samples_leaf=1, score=0.6745329400196657, total=  32.1s\n",
      "[CV] min_samples_split=3, max_depth=None, criterion=gini, max_features=10, bootstrap=True, min_samples_leaf=10 \n",
      "[CV]  min_samples_split=3, max_depth=None, criterion=gini, max_features=10, bootstrap=True, min_samples_leaf=3, score=0.6739835370416563, total=  29.2s\n",
      "[CV] min_samples_split=3, max_depth=None, criterion=gini, max_features=10, bootstrap=True, min_samples_leaf=10 \n",
      "[CV]  min_samples_split=10, max_depth=None, criterion=gini, max_features=10, bootstrap=True, min_samples_leaf=3, score=0.676251859196827, total=  30.8s\n",
      "[CV] min_samples_split=3, max_depth=None, criterion=gini, max_features=10, bootstrap=True, min_samples_leaf=10 \n",
      "[CV]  min_samples_split=2, max_depth=None, criterion=gini, max_features=10, bootstrap=True, min_samples_leaf=10, score=0.6578478758585602, total=  25.4s\n",
      "[CV] min_samples_split=10, max_depth=None, criterion=gini, max_features=10, bootstrap=True, min_samples_leaf=10 \n",
      "[CV]  min_samples_split=3, max_depth=None, criterion=gini, max_features=10, bootstrap=True, min_samples_leaf=10, score=0.6707132018209409, total=  27.7s\n",
      "[CV] min_samples_split=10, max_depth=None, criterion=gini, max_features=10, bootstrap=True, min_samples_leaf=10 \n",
      "[CV]  min_samples_split=10, max_depth=None, criterion=gini, max_features=10, bootstrap=True, min_samples_leaf=3, score=0.6721144024514811, total=  31.8s\n",
      "[CV] min_samples_split=10, max_depth=None, criterion=gini, max_features=10, bootstrap=True, min_samples_leaf=10 \n",
      "[CV]  min_samples_split=2, max_depth=None, criterion=gini, max_features=10, bootstrap=True, min_samples_leaf=10, score=0.6707132018209409, total=  30.4s\n",
      "[CV] min_samples_split=2, max_depth=3, criterion=entropy, max_features=1, bootstrap=True, min_samples_leaf=1 \n",
      "[CV]  min_samples_split=10, max_depth=None, criterion=gini, max_features=10, bootstrap=True, min_samples_leaf=3, score=0.6781868269471575, total=  31.7s\n",
      "[CV] min_samples_split=2, max_depth=3, criterion=entropy, max_features=1, bootstrap=True, min_samples_leaf=1 \n",
      "[CV]  min_samples_split=2, max_depth=None, criterion=gini, max_features=10, bootstrap=True, min_samples_leaf=10, score=0.6625129802699896, total=  31.2s\n",
      "[CV] min_samples_split=2, max_depth=3, criterion=entropy, max_features=1, bootstrap=True, min_samples_leaf=1 \n",
      "[CV]  min_samples_split=3, max_depth=None, criterion=gini, max_features=10, bootstrap=True, min_samples_leaf=10, score=0.6618257261410788, total=  26.6s\n",
      "[CV] min_samples_split=3, max_depth=3, criterion=entropy, max_features=1, bootstrap=True, min_samples_leaf=1 \n"
     ]
    },
    {
     "name": "stderr",
     "output_type": "stream",
     "text": [
      "/home/gaabrielfranco/Documents/github/data-mining-w2/venv/lib/python3.5/site-packages/sklearn/metrics/classification.py:1135: UndefinedMetricWarning: F-score is ill-defined and being set to 0.0 due to no predicted samples.\n",
      "  'precision', 'predicted', average, warn_for)\n",
      "/home/gaabrielfranco/Documents/github/data-mining-w2/venv/lib/python3.5/site-packages/sklearn/metrics/classification.py:1135: UndefinedMetricWarning: F-score is ill-defined and being set to 0.0 due to no predicted samples.\n",
      "  'precision', 'predicted', average, warn_for)\n",
      "/home/gaabrielfranco/Documents/github/data-mining-w2/venv/lib/python3.5/site-packages/sklearn/metrics/classification.py:1135: UndefinedMetricWarning: F-score is ill-defined and being set to 0.0 due to no predicted samples.\n",
      "  'precision', 'predicted', average, warn_for)\n"
     ]
    },
    {
     "name": "stdout",
     "output_type": "stream",
     "text": [
      "[CV]  min_samples_split=2, max_depth=3, criterion=entropy, max_features=1, bootstrap=True, min_samples_leaf=1, score=0.0, total=   6.0s\n",
      "[CV] min_samples_split=3, max_depth=3, criterion=entropy, max_features=1, bootstrap=True, min_samples_leaf=1 \n",
      "[CV]  min_samples_split=2, max_depth=3, criterion=entropy, max_features=1, bootstrap=True, min_samples_leaf=1, score=0.0, total=   6.0s\n",
      "[CV] min_samples_split=3, max_depth=3, criterion=entropy, max_features=1, bootstrap=True, min_samples_leaf=1 \n",
      "[CV]  min_samples_split=2, max_depth=3, criterion=entropy, max_features=1, bootstrap=True, min_samples_leaf=1, score=0.0, total=   6.1s\n",
      "[CV] min_samples_split=10, max_depth=3, criterion=entropy, max_features=1, bootstrap=True, min_samples_leaf=1 \n"
     ]
    },
    {
     "name": "stderr",
     "output_type": "stream",
     "text": [
      "/home/gaabrielfranco/Documents/github/data-mining-w2/venv/lib/python3.5/site-packages/sklearn/metrics/classification.py:1135: UndefinedMetricWarning: F-score is ill-defined and being set to 0.0 due to no predicted samples.\n",
      "  'precision', 'predicted', average, warn_for)\n"
     ]
    },
    {
     "name": "stdout",
     "output_type": "stream",
     "text": [
      "[CV]  min_samples_split=3, max_depth=None, criterion=gini, max_features=10, bootstrap=True, min_samples_leaf=10, score=0.6653133722405481, total=  30.2s\n",
      "[CV] min_samples_split=10, max_depth=3, criterion=entropy, max_features=1, bootstrap=True, min_samples_leaf=1 \n",
      "[CV]  min_samples_split=3, max_depth=3, criterion=entropy, max_features=1, bootstrap=True, min_samples_leaf=1, score=0.0, total=   6.0s\n",
      "[CV] min_samples_split=10, max_depth=3, criterion=entropy, max_features=1, bootstrap=True, min_samples_leaf=1 \n"
     ]
    },
    {
     "name": "stderr",
     "output_type": "stream",
     "text": [
      "/home/gaabrielfranco/Documents/github/data-mining-w2/venv/lib/python3.5/site-packages/sklearn/metrics/classification.py:1135: UndefinedMetricWarning: F-score is ill-defined and being set to 0.0 due to no predicted samples.\n",
      "  'precision', 'predicted', average, warn_for)\n",
      "/home/gaabrielfranco/Documents/github/data-mining-w2/venv/lib/python3.5/site-packages/sklearn/metrics/classification.py:1135: UndefinedMetricWarning: F-score is ill-defined and being set to 0.0 due to no predicted samples.\n",
      "  'precision', 'predicted', average, warn_for)\n"
     ]
    },
    {
     "name": "stdout",
     "output_type": "stream",
     "text": [
      "[CV]  min_samples_split=3, max_depth=3, criterion=entropy, max_features=1, bootstrap=True, min_samples_leaf=1, score=0.0, total=   5.6s\n",
      "[CV] min_samples_split=2, max_depth=3, criterion=entropy, max_features=1, bootstrap=True, min_samples_leaf=3 \n"
     ]
    },
    {
     "name": "stderr",
     "output_type": "stream",
     "text": [
      "/home/gaabrielfranco/Documents/github/data-mining-w2/venv/lib/python3.5/site-packages/sklearn/metrics/classification.py:1135: UndefinedMetricWarning: F-score is ill-defined and being set to 0.0 due to no predicted samples.\n",
      "  'precision', 'predicted', average, warn_for)\n"
     ]
    },
    {
     "name": "stdout",
     "output_type": "stream",
     "text": [
      "[CV]  min_samples_split=3, max_depth=3, criterion=entropy, max_features=1, bootstrap=True, min_samples_leaf=1, score=0.0, total=   6.0s\n",
      "[CV] min_samples_split=2, max_depth=3, criterion=entropy, max_features=1, bootstrap=True, min_samples_leaf=3 \n"
     ]
    },
    {
     "name": "stderr",
     "output_type": "stream",
     "text": [
      "[Parallel(n_jobs=-1)]: Done 165 tasks      | elapsed:  6.2min\n"
     ]
    },
    {
     "name": "stdout",
     "output_type": "stream",
     "text": [
      "[CV]  min_samples_split=10, max_depth=3, criterion=entropy, max_features=1, bootstrap=True, min_samples_leaf=1, score=0.0, total=   6.2s\n",
      "[CV] min_samples_split=2, max_depth=3, criterion=entropy, max_features=1, bootstrap=True, min_samples_leaf=3 \n"
     ]
    },
    {
     "name": "stderr",
     "output_type": "stream",
     "text": [
      "/home/gaabrielfranco/Documents/github/data-mining-w2/venv/lib/python3.5/site-packages/sklearn/metrics/classification.py:1135: UndefinedMetricWarning: F-score is ill-defined and being set to 0.0 due to no predicted samples.\n",
      "  'precision', 'predicted', average, warn_for)\n",
      "/home/gaabrielfranco/Documents/github/data-mining-w2/venv/lib/python3.5/site-packages/sklearn/metrics/classification.py:1135: UndefinedMetricWarning: F-score is ill-defined and being set to 0.0 due to no predicted samples.\n",
      "  'precision', 'predicted', average, warn_for)\n"
     ]
    },
    {
     "name": "stdout",
     "output_type": "stream",
     "text": [
      "[CV]  min_samples_split=10, max_depth=3, criterion=entropy, max_features=1, bootstrap=True, min_samples_leaf=1, score=0.0, total=   6.4s\n",
      "[CV] min_samples_split=3, max_depth=3, criterion=entropy, max_features=1, bootstrap=True, min_samples_leaf=3 \n",
      "[CV]  min_samples_split=10, max_depth=3, criterion=entropy, max_features=1, bootstrap=True, min_samples_leaf=1, score=0.0, total=   6.4s\n",
      "[CV] min_samples_split=3, max_depth=3, criterion=entropy, max_features=1, bootstrap=True, min_samples_leaf=3 \n"
     ]
    },
    {
     "name": "stderr",
     "output_type": "stream",
     "text": [
      "/home/gaabrielfranco/Documents/github/data-mining-w2/venv/lib/python3.5/site-packages/sklearn/metrics/classification.py:1135: UndefinedMetricWarning: F-score is ill-defined and being set to 0.0 due to no predicted samples.\n",
      "  'precision', 'predicted', average, warn_for)\n"
     ]
    },
    {
     "name": "stdout",
     "output_type": "stream",
     "text": [
      "[CV]  min_samples_split=2, max_depth=3, criterion=entropy, max_features=1, bootstrap=True, min_samples_leaf=3, score=0.0, total=   6.4s\n",
      "[CV] min_samples_split=3, max_depth=3, criterion=entropy, max_features=1, bootstrap=True, min_samples_leaf=3 \n"
     ]
    },
    {
     "name": "stderr",
     "output_type": "stream",
     "text": [
      "/home/gaabrielfranco/Documents/github/data-mining-w2/venv/lib/python3.5/site-packages/sklearn/metrics/classification.py:1135: UndefinedMetricWarning: F-score is ill-defined and being set to 0.0 due to no predicted samples.\n",
      "  'precision', 'predicted', average, warn_for)\n",
      "/home/gaabrielfranco/Documents/github/data-mining-w2/venv/lib/python3.5/site-packages/sklearn/metrics/classification.py:1135: UndefinedMetricWarning: F-score is ill-defined and being set to 0.0 due to no predicted samples.\n",
      "  'precision', 'predicted', average, warn_for)\n"
     ]
    },
    {
     "name": "stdout",
     "output_type": "stream",
     "text": [
      "[CV]  min_samples_split=2, max_depth=3, criterion=entropy, max_features=1, bootstrap=True, min_samples_leaf=3, score=0.0, total=   6.5s\n",
      "[CV] min_samples_split=10, max_depth=3, criterion=entropy, max_features=1, bootstrap=True, min_samples_leaf=3 \n",
      "[CV]  min_samples_split=2, max_depth=3, criterion=entropy, max_features=1, bootstrap=True, min_samples_leaf=3, score=0.0, total=   6.0s\n",
      "[CV] min_samples_split=10, max_depth=3, criterion=entropy, max_features=1, bootstrap=True, min_samples_leaf=3 \n"
     ]
    },
    {
     "name": "stderr",
     "output_type": "stream",
     "text": [
      "/home/gaabrielfranco/Documents/github/data-mining-w2/venv/lib/python3.5/site-packages/sklearn/metrics/classification.py:1135: UndefinedMetricWarning: F-score is ill-defined and being set to 0.0 due to no predicted samples.\n",
      "  'precision', 'predicted', average, warn_for)\n",
      "/home/gaabrielfranco/Documents/github/data-mining-w2/venv/lib/python3.5/site-packages/sklearn/metrics/classification.py:1135: UndefinedMetricWarning: F-score is ill-defined and being set to 0.0 due to no predicted samples.\n",
      "  'precision', 'predicted', average, warn_for)\n"
     ]
    },
    {
     "name": "stdout",
     "output_type": "stream",
     "text": [
      "[CV]  min_samples_split=10, max_depth=None, criterion=gini, max_features=10, bootstrap=True, min_samples_leaf=10, score=0.6728877679697352, total=  29.0s\n",
      "[CV] min_samples_split=10, max_depth=3, criterion=entropy, max_features=1, bootstrap=True, min_samples_leaf=3 \n",
      "[CV]  min_samples_split=3, max_depth=3, criterion=entropy, max_features=1, bootstrap=True, min_samples_leaf=3, score=0.0, total=   6.1s\n",
      "[CV] min_samples_split=2, max_depth=3, criterion=entropy, max_features=1, bootstrap=True, min_samples_leaf=10 \n",
      "[CV]  min_samples_split=3, max_depth=3, criterion=entropy, max_features=1, bootstrap=True, min_samples_leaf=3, score=0.0, total=   6.2s\n",
      "[CV] min_samples_split=2, max_depth=3, criterion=entropy, max_features=1, bootstrap=True, min_samples_leaf=10 \n"
     ]
    },
    {
     "name": "stderr",
     "output_type": "stream",
     "text": [
      "/home/gaabrielfranco/Documents/github/data-mining-w2/venv/lib/python3.5/site-packages/sklearn/metrics/classification.py:1135: UndefinedMetricWarning: F-score is ill-defined and being set to 0.0 due to no predicted samples.\n",
      "  'precision', 'predicted', average, warn_for)\n"
     ]
    },
    {
     "name": "stdout",
     "output_type": "stream",
     "text": [
      "[CV]  min_samples_split=10, max_depth=None, criterion=gini, max_features=10, bootstrap=True, min_samples_leaf=10, score=0.6578478758585602, total=  30.1s\n",
      "[CV] min_samples_split=2, max_depth=3, criterion=entropy, max_features=1, bootstrap=True, min_samples_leaf=10 \n",
      "[CV]  min_samples_split=3, max_depth=3, criterion=entropy, max_features=1, bootstrap=True, min_samples_leaf=3, score=0.0, total=   6.3s\n",
      "[CV] min_samples_split=3, max_depth=3, criterion=entropy, max_features=1, bootstrap=True, min_samples_leaf=10 \n"
     ]
    },
    {
     "name": "stderr",
     "output_type": "stream",
     "text": [
      "/home/gaabrielfranco/Documents/github/data-mining-w2/venv/lib/python3.5/site-packages/sklearn/metrics/classification.py:1135: UndefinedMetricWarning: F-score is ill-defined and being set to 0.0 due to no predicted samples.\n",
      "  'precision', 'predicted', average, warn_for)\n",
      "/home/gaabrielfranco/Documents/github/data-mining-w2/venv/lib/python3.5/site-packages/sklearn/metrics/classification.py:1135: UndefinedMetricWarning: F-score is ill-defined and being set to 0.0 due to no predicted samples.\n",
      "  'precision', 'predicted', average, warn_for)\n"
     ]
    },
    {
     "name": "stdout",
     "output_type": "stream",
     "text": [
      "[CV]  min_samples_split=10, max_depth=None, criterion=gini, max_features=10, bootstrap=True, min_samples_leaf=10, score=0.6638982610952504, total=  32.3s\n",
      "[CV] min_samples_split=3, max_depth=3, criterion=entropy, max_features=1, bootstrap=True, min_samples_leaf=10 \n"
     ]
    },
    {
     "name": "stderr",
     "output_type": "stream",
     "text": [
      "/home/gaabrielfranco/Documents/github/data-mining-w2/venv/lib/python3.5/site-packages/sklearn/metrics/classification.py:1135: UndefinedMetricWarning: F-score is ill-defined and being set to 0.0 due to no predicted samples.\n",
      "  'precision', 'predicted', average, warn_for)\n"
     ]
    },
    {
     "name": "stdout",
     "output_type": "stream",
     "text": [
      "[CV]  min_samples_split=10, max_depth=3, criterion=entropy, max_features=1, bootstrap=True, min_samples_leaf=3, score=0.0, total=   6.2s\n",
      "[CV] min_samples_split=3, max_depth=3, criterion=entropy, max_features=1, bootstrap=True, min_samples_leaf=10 \n",
      "[CV]  min_samples_split=10, max_depth=3, criterion=entropy, max_features=1, bootstrap=True, min_samples_leaf=3, score=0.0, total=   6.3s\n",
      "[CV] min_samples_split=10, max_depth=3, criterion=entropy, max_features=1, bootstrap=True, min_samples_leaf=10 \n"
     ]
    },
    {
     "name": "stderr",
     "output_type": "stream",
     "text": [
      "/home/gaabrielfranco/Documents/github/data-mining-w2/venv/lib/python3.5/site-packages/sklearn/metrics/classification.py:1135: UndefinedMetricWarning: F-score is ill-defined and being set to 0.0 due to no predicted samples.\n",
      "  'precision', 'predicted', average, warn_for)\n",
      "/home/gaabrielfranco/Documents/github/data-mining-w2/venv/lib/python3.5/site-packages/sklearn/metrics/classification.py:1135: UndefinedMetricWarning: F-score is ill-defined and being set to 0.0 due to no predicted samples.\n",
      "  'precision', 'predicted', average, warn_for)\n"
     ]
    },
    {
     "name": "stdout",
     "output_type": "stream",
     "text": [
      "[CV]  min_samples_split=2, max_depth=3, criterion=entropy, max_features=1, bootstrap=True, min_samples_leaf=10, score=0.0, total=   5.7s\n",
      "[CV] min_samples_split=10, max_depth=3, criterion=entropy, max_features=1, bootstrap=True, min_samples_leaf=10 \n",
      "[CV]  min_samples_split=2, max_depth=3, criterion=entropy, max_features=1, bootstrap=True, min_samples_leaf=10, score=0.0, total=   6.1s\n",
      "[CV] min_samples_split=10, max_depth=3, criterion=entropy, max_features=1, bootstrap=True, min_samples_leaf=10 \n",
      "[CV]  min_samples_split=10, max_depth=3, criterion=entropy, max_features=1, bootstrap=True, min_samples_leaf=3, score=0.0, total=   6.5s\n",
      "[CV] min_samples_split=2, max_depth=3, criterion=entropy, max_features=3, bootstrap=True, min_samples_leaf=1 \n"
     ]
    },
    {
     "name": "stderr",
     "output_type": "stream",
     "text": [
      "/home/gaabrielfranco/Documents/github/data-mining-w2/venv/lib/python3.5/site-packages/sklearn/metrics/classification.py:1135: UndefinedMetricWarning: F-score is ill-defined and being set to 0.0 due to no predicted samples.\n",
      "  'precision', 'predicted', average, warn_for)\n",
      "/home/gaabrielfranco/Documents/github/data-mining-w2/venv/lib/python3.5/site-packages/sklearn/metrics/classification.py:1135: UndefinedMetricWarning: F-score is ill-defined and being set to 0.0 due to no predicted samples.\n",
      "  'precision', 'predicted', average, warn_for)\n"
     ]
    },
    {
     "name": "stdout",
     "output_type": "stream",
     "text": [
      "[CV]  min_samples_split=3, max_depth=3, criterion=entropy, max_features=1, bootstrap=True, min_samples_leaf=10, score=0.0, total=   5.9s\n",
      "[CV] min_samples_split=2, max_depth=3, criterion=entropy, max_features=3, bootstrap=True, min_samples_leaf=1 \n",
      "[CV]  min_samples_split=2, max_depth=3, criterion=entropy, max_features=1, bootstrap=True, min_samples_leaf=10, score=0.0, total=   5.9s\n",
      "[CV] min_samples_split=2, max_depth=3, criterion=entropy, max_features=3, bootstrap=True, min_samples_leaf=1 \n"
     ]
    },
    {
     "name": "stderr",
     "output_type": "stream",
     "text": [
      "[Parallel(n_jobs=-1)]: Done 184 tasks      | elapsed:  6.5min\n",
      "/home/gaabrielfranco/Documents/github/data-mining-w2/venv/lib/python3.5/site-packages/sklearn/metrics/classification.py:1135: UndefinedMetricWarning: F-score is ill-defined and being set to 0.0 due to no predicted samples.\n",
      "  'precision', 'predicted', average, warn_for)\n",
      "/home/gaabrielfranco/Documents/github/data-mining-w2/venv/lib/python3.5/site-packages/sklearn/metrics/classification.py:1135: UndefinedMetricWarning: F-score is ill-defined and being set to 0.0 due to no predicted samples.\n",
      "  'precision', 'predicted', average, warn_for)\n",
      "/home/gaabrielfranco/Documents/github/data-mining-w2/venv/lib/python3.5/site-packages/sklearn/metrics/classification.py:1135: UndefinedMetricWarning: F-score is ill-defined and being set to 0.0 due to no predicted samples.\n",
      "  'precision', 'predicted', average, warn_for)\n",
      "/home/gaabrielfranco/Documents/github/data-mining-w2/venv/lib/python3.5/site-packages/sklearn/metrics/classification.py:1135: UndefinedMetricWarning: F-score is ill-defined and being set to 0.0 due to no predicted samples.\n",
      "  'precision', 'predicted', average, warn_for)\n"
     ]
    },
    {
     "name": "stdout",
     "output_type": "stream",
     "text": [
      "[CV]  min_samples_split=3, max_depth=3, criterion=entropy, max_features=1, bootstrap=True, min_samples_leaf=10, score=0.0, total=   5.6s\n",
      "[CV] min_samples_split=3, max_depth=3, criterion=entropy, max_features=3, bootstrap=True, min_samples_leaf=1 \n",
      "[CV]  min_samples_split=3, max_depth=3, criterion=entropy, max_features=1, bootstrap=True, min_samples_leaf=10, score=0.0, total=   5.7s\n",
      "[CV] min_samples_split=3, max_depth=3, criterion=entropy, max_features=3, bootstrap=True, min_samples_leaf=1 \n"
     ]
    },
    {
     "name": "stderr",
     "output_type": "stream",
     "text": [
      "/home/gaabrielfranco/Documents/github/data-mining-w2/venv/lib/python3.5/site-packages/sklearn/metrics/classification.py:1135: UndefinedMetricWarning: F-score is ill-defined and being set to 0.0 due to no predicted samples.\n",
      "  'precision', 'predicted', average, warn_for)\n"
     ]
    },
    {
     "name": "stdout",
     "output_type": "stream",
     "text": [
      "[CV]  min_samples_split=10, max_depth=3, criterion=entropy, max_features=1, bootstrap=True, min_samples_leaf=10, score=0.0, total=   5.8s\n",
      "[CV] min_samples_split=3, max_depth=3, criterion=entropy, max_features=3, bootstrap=True, min_samples_leaf=1 \n",
      "[CV]  min_samples_split=10, max_depth=3, criterion=entropy, max_features=1, bootstrap=True, min_samples_leaf=10, score=0.0, total=   5.5s\n",
      "[CV] min_samples_split=10, max_depth=3, criterion=entropy, max_features=3, bootstrap=True, min_samples_leaf=1 \n",
      "[CV]  min_samples_split=10, max_depth=3, criterion=entropy, max_features=1, bootstrap=True, min_samples_leaf=10, score=0.0, total=   6.2s\n",
      "[CV] min_samples_split=10, max_depth=3, criterion=entropy, max_features=3, bootstrap=True, min_samples_leaf=1 \n"
     ]
    },
    {
     "name": "stderr",
     "output_type": "stream",
     "text": [
      "/home/gaabrielfranco/Documents/github/data-mining-w2/venv/lib/python3.5/site-packages/sklearn/metrics/classification.py:1135: UndefinedMetricWarning: F-score is ill-defined and being set to 0.0 due to no predicted samples.\n",
      "  'precision', 'predicted', average, warn_for)\n"
     ]
    },
    {
     "name": "stdout",
     "output_type": "stream",
     "text": [
      "[CV]  min_samples_split=2, max_depth=3, criterion=entropy, max_features=3, bootstrap=True, min_samples_leaf=1, score=0.0, total=   8.1s\n",
      "[CV] min_samples_split=10, max_depth=3, criterion=entropy, max_features=3, bootstrap=True, min_samples_leaf=1 \n"
     ]
    },
    {
     "name": "stderr",
     "output_type": "stream",
     "text": [
      "/home/gaabrielfranco/Documents/github/data-mining-w2/venv/lib/python3.5/site-packages/sklearn/metrics/classification.py:1135: UndefinedMetricWarning: F-score is ill-defined and being set to 0.0 due to no predicted samples.\n",
      "  'precision', 'predicted', average, warn_for)\n",
      "/home/gaabrielfranco/Documents/github/data-mining-w2/venv/lib/python3.5/site-packages/sklearn/metrics/classification.py:1135: UndefinedMetricWarning: F-score is ill-defined and being set to 0.0 due to no predicted samples.\n",
      "  'precision', 'predicted', average, warn_for)\n"
     ]
    },
    {
     "name": "stdout",
     "output_type": "stream",
     "text": [
      "[CV]  min_samples_split=2, max_depth=3, criterion=entropy, max_features=3, bootstrap=True, min_samples_leaf=1, score=0.0, total=   8.4s\n",
      "[CV] min_samples_split=2, max_depth=3, criterion=entropy, max_features=3, bootstrap=True, min_samples_leaf=3 \n"
     ]
    },
    {
     "name": "stderr",
     "output_type": "stream",
     "text": [
      "/home/gaabrielfranco/Documents/github/data-mining-w2/venv/lib/python3.5/site-packages/sklearn/metrics/classification.py:1135: UndefinedMetricWarning: F-score is ill-defined and being set to 0.0 due to no predicted samples.\n",
      "  'precision', 'predicted', average, warn_for)\n"
     ]
    },
    {
     "name": "stdout",
     "output_type": "stream",
     "text": [
      "[CV]  min_samples_split=2, max_depth=3, criterion=entropy, max_features=3, bootstrap=True, min_samples_leaf=1, score=0.0, total=   8.2s\n",
      "[CV] min_samples_split=2, max_depth=3, criterion=entropy, max_features=3, bootstrap=True, min_samples_leaf=3 \n"
     ]
    },
    {
     "name": "stderr",
     "output_type": "stream",
     "text": [
      "/home/gaabrielfranco/Documents/github/data-mining-w2/venv/lib/python3.5/site-packages/sklearn/metrics/classification.py:1135: UndefinedMetricWarning: F-score is ill-defined and being set to 0.0 due to no predicted samples.\n",
      "  'precision', 'predicted', average, warn_for)\n",
      "/home/gaabrielfranco/Documents/github/data-mining-w2/venv/lib/python3.5/site-packages/sklearn/metrics/classification.py:1135: UndefinedMetricWarning: F-score is ill-defined and being set to 0.0 due to no predicted samples.\n",
      "  'precision', 'predicted', average, warn_for)\n",
      "/home/gaabrielfranco/Documents/github/data-mining-w2/venv/lib/python3.5/site-packages/sklearn/metrics/classification.py:1135: UndefinedMetricWarning: F-score is ill-defined and being set to 0.0 due to no predicted samples.\n",
      "  'precision', 'predicted', average, warn_for)\n"
     ]
    },
    {
     "name": "stdout",
     "output_type": "stream",
     "text": [
      "[CV]  min_samples_split=3, max_depth=3, criterion=entropy, max_features=3, bootstrap=True, min_samples_leaf=1, score=0.0, total=   8.3s\n",
      "[CV] min_samples_split=2, max_depth=3, criterion=entropy, max_features=3, bootstrap=True, min_samples_leaf=3 \n",
      "[CV]  min_samples_split=3, max_depth=3, criterion=entropy, max_features=3, bootstrap=True, min_samples_leaf=1, score=0.0, total=   8.6s\n",
      "[CV] min_samples_split=3, max_depth=3, criterion=entropy, max_features=3, bootstrap=True, min_samples_leaf=3 \n"
     ]
    },
    {
     "name": "stderr",
     "output_type": "stream",
     "text": [
      "/home/gaabrielfranco/Documents/github/data-mining-w2/venv/lib/python3.5/site-packages/sklearn/metrics/classification.py:1135: UndefinedMetricWarning: F-score is ill-defined and being set to 0.0 due to no predicted samples.\n",
      "  'precision', 'predicted', average, warn_for)\n"
     ]
    },
    {
     "name": "stdout",
     "output_type": "stream",
     "text": [
      "[CV]  min_samples_split=10, max_depth=3, criterion=entropy, max_features=3, bootstrap=True, min_samples_leaf=1, score=0.0, total=   8.4s\n",
      "[CV] min_samples_split=3, max_depth=3, criterion=entropy, max_features=3, bootstrap=True, min_samples_leaf=3 \n",
      "[CV]  min_samples_split=3, max_depth=3, criterion=entropy, max_features=3, bootstrap=True, min_samples_leaf=1, score=0.0, total=   8.9s\n",
      "[CV] min_samples_split=3, max_depth=3, criterion=entropy, max_features=3, bootstrap=True, min_samples_leaf=3 \n",
      "[CV]  min_samples_split=10, max_depth=3, criterion=entropy, max_features=3, bootstrap=True, min_samples_leaf=1, score=0.0, total=   9.2s\n",
      "[CV] min_samples_split=10, max_depth=3, criterion=entropy, max_features=3, bootstrap=True, min_samples_leaf=3 \n"
     ]
    },
    {
     "name": "stderr",
     "output_type": "stream",
     "text": [
      "/home/gaabrielfranco/Documents/github/data-mining-w2/venv/lib/python3.5/site-packages/sklearn/metrics/classification.py:1135: UndefinedMetricWarning: F-score is ill-defined and being set to 0.0 due to no predicted samples.\n",
      "  'precision', 'predicted', average, warn_for)\n"
     ]
    },
    {
     "name": "stdout",
     "output_type": "stream",
     "text": [
      "[CV]  min_samples_split=10, max_depth=3, criterion=entropy, max_features=3, bootstrap=True, min_samples_leaf=1, score=0.0, total=   8.6s\n",
      "[CV] min_samples_split=10, max_depth=3, criterion=entropy, max_features=3, bootstrap=True, min_samples_leaf=3 \n"
     ]
    },
    {
     "name": "stderr",
     "output_type": "stream",
     "text": [
      "/home/gaabrielfranco/Documents/github/data-mining-w2/venv/lib/python3.5/site-packages/sklearn/metrics/classification.py:1135: UndefinedMetricWarning: F-score is ill-defined and being set to 0.0 due to no predicted samples.\n",
      "  'precision', 'predicted', average, warn_for)\n",
      "/home/gaabrielfranco/Documents/github/data-mining-w2/venv/lib/python3.5/site-packages/sklearn/metrics/classification.py:1135: UndefinedMetricWarning: F-score is ill-defined and being set to 0.0 due to no predicted samples.\n",
      "  'precision', 'predicted', average, warn_for)\n"
     ]
    },
    {
     "name": "stdout",
     "output_type": "stream",
     "text": [
      "[CV]  min_samples_split=2, max_depth=3, criterion=entropy, max_features=3, bootstrap=True, min_samples_leaf=3, score=0.0, total=   8.2s\n",
      "[CV] min_samples_split=10, max_depth=3, criterion=entropy, max_features=3, bootstrap=True, min_samples_leaf=3 \n"
     ]
    },
    {
     "name": "stderr",
     "output_type": "stream",
     "text": [
      "/home/gaabrielfranco/Documents/github/data-mining-w2/venv/lib/python3.5/site-packages/sklearn/metrics/classification.py:1135: UndefinedMetricWarning: F-score is ill-defined and being set to 0.0 due to no predicted samples.\n",
      "  'precision', 'predicted', average, warn_for)\n",
      "/home/gaabrielfranco/Documents/github/data-mining-w2/venv/lib/python3.5/site-packages/sklearn/metrics/classification.py:1135: UndefinedMetricWarning: F-score is ill-defined and being set to 0.0 due to no predicted samples.\n",
      "  'precision', 'predicted', average, warn_for)\n"
     ]
    },
    {
     "name": "stdout",
     "output_type": "stream",
     "text": [
      "[CV]  min_samples_split=2, max_depth=3, criterion=entropy, max_features=3, bootstrap=True, min_samples_leaf=3, score=0.0, total=   9.1s\n",
      "[CV] min_samples_split=2, max_depth=3, criterion=entropy, max_features=3, bootstrap=True, min_samples_leaf=10 \n"
     ]
    },
    {
     "name": "stderr",
     "output_type": "stream",
     "text": [
      "/home/gaabrielfranco/Documents/github/data-mining-w2/venv/lib/python3.5/site-packages/sklearn/metrics/classification.py:1135: UndefinedMetricWarning: F-score is ill-defined and being set to 0.0 due to no predicted samples.\n",
      "  'precision', 'predicted', average, warn_for)\n",
      "/home/gaabrielfranco/Documents/github/data-mining-w2/venv/lib/python3.5/site-packages/sklearn/metrics/classification.py:1135: UndefinedMetricWarning: F-score is ill-defined and being set to 0.0 due to no predicted samples.\n",
      "  'precision', 'predicted', average, warn_for)\n"
     ]
    },
    {
     "name": "stdout",
     "output_type": "stream",
     "text": [
      "[CV]  min_samples_split=3, max_depth=3, criterion=entropy, max_features=3, bootstrap=True, min_samples_leaf=3, score=0.0, total=   8.1s\n",
      "[CV] min_samples_split=2, max_depth=3, criterion=entropy, max_features=3, bootstrap=True, min_samples_leaf=10 \n",
      "[CV]  min_samples_split=2, max_depth=3, criterion=entropy, max_features=3, bootstrap=True, min_samples_leaf=3, score=0.0, total=   9.1s\n",
      "[CV] min_samples_split=2, max_depth=3, criterion=entropy, max_features=3, bootstrap=True, min_samples_leaf=10 \n",
      "[CV]  min_samples_split=3, max_depth=3, criterion=entropy, max_features=3, bootstrap=True, min_samples_leaf=3, score=0.0, total=   8.5s\n",
      "[CV] min_samples_split=3, max_depth=3, criterion=entropy, max_features=3, bootstrap=True, min_samples_leaf=10 \n",
      "[CV]  min_samples_split=3, max_depth=3, criterion=entropy, max_features=3, bootstrap=True, min_samples_leaf=3, score=0.0, total=   8.5s\n"
     ]
    },
    {
     "name": "stderr",
     "output_type": "stream",
     "text": [
      "/home/gaabrielfranco/Documents/github/data-mining-w2/venv/lib/python3.5/site-packages/sklearn/metrics/classification.py:1135: UndefinedMetricWarning: F-score is ill-defined and being set to 0.0 due to no predicted samples.\n",
      "  'precision', 'predicted', average, warn_for)\n"
     ]
    },
    {
     "name": "stdout",
     "output_type": "stream",
     "text": [
      "[CV] min_samples_split=3, max_depth=3, criterion=entropy, max_features=3, bootstrap=True, min_samples_leaf=10 \n"
     ]
    },
    {
     "name": "stderr",
     "output_type": "stream",
     "text": [
      "/home/gaabrielfranco/Documents/github/data-mining-w2/venv/lib/python3.5/site-packages/sklearn/metrics/classification.py:1135: UndefinedMetricWarning: F-score is ill-defined and being set to 0.0 due to no predicted samples.\n",
      "  'precision', 'predicted', average, warn_for)\n"
     ]
    },
    {
     "name": "stdout",
     "output_type": "stream",
     "text": [
      "[CV]  min_samples_split=10, max_depth=3, criterion=entropy, max_features=3, bootstrap=True, min_samples_leaf=3, score=0.0, total=   9.5s\n",
      "[CV] min_samples_split=3, max_depth=3, criterion=entropy, max_features=3, bootstrap=True, min_samples_leaf=10 \n"
     ]
    },
    {
     "name": "stderr",
     "output_type": "stream",
     "text": [
      "[Parallel(n_jobs=-1)]: Done 205 tasks      | elapsed:  7.0min\n"
     ]
    },
    {
     "name": "stdout",
     "output_type": "stream",
     "text": [
      "[CV]  min_samples_split=10, max_depth=3, criterion=entropy, max_features=3, bootstrap=True, min_samples_leaf=3, score=0.0, total=   8.2s\n",
      "[CV] min_samples_split=10, max_depth=3, criterion=entropy, max_features=3, bootstrap=True, min_samples_leaf=10 \n"
     ]
    },
    {
     "name": "stderr",
     "output_type": "stream",
     "text": [
      "/home/gaabrielfranco/Documents/github/data-mining-w2/venv/lib/python3.5/site-packages/sklearn/metrics/classification.py:1135: UndefinedMetricWarning: F-score is ill-defined and being set to 0.0 due to no predicted samples.\n",
      "  'precision', 'predicted', average, warn_for)\n",
      "/home/gaabrielfranco/Documents/github/data-mining-w2/venv/lib/python3.5/site-packages/sklearn/metrics/classification.py:1135: UndefinedMetricWarning: F-score is ill-defined and being set to 0.0 due to no predicted samples.\n",
      "  'precision', 'predicted', average, warn_for)\n"
     ]
    },
    {
     "name": "stdout",
     "output_type": "stream",
     "text": [
      "[CV]  min_samples_split=10, max_depth=3, criterion=entropy, max_features=3, bootstrap=True, min_samples_leaf=3, score=0.0, total=   8.8s\n",
      "[CV] min_samples_split=10, max_depth=3, criterion=entropy, max_features=3, bootstrap=True, min_samples_leaf=10 \n",
      "[CV]  min_samples_split=2, max_depth=3, criterion=entropy, max_features=3, bootstrap=True, min_samples_leaf=10, score=0.0, total=   8.3s\n",
      "[CV] min_samples_split=10, max_depth=3, criterion=entropy, max_features=3, bootstrap=True, min_samples_leaf=10 \n"
     ]
    },
    {
     "name": "stderr",
     "output_type": "stream",
     "text": [
      "/home/gaabrielfranco/Documents/github/data-mining-w2/venv/lib/python3.5/site-packages/sklearn/metrics/classification.py:1135: UndefinedMetricWarning: F-score is ill-defined and being set to 0.0 due to no predicted samples.\n",
      "  'precision', 'predicted', average, warn_for)\n",
      "/home/gaabrielfranco/Documents/github/data-mining-w2/venv/lib/python3.5/site-packages/sklearn/metrics/classification.py:1135: UndefinedMetricWarning: F-score is ill-defined and being set to 0.0 due to no predicted samples.\n",
      "  'precision', 'predicted', average, warn_for)\n",
      "/home/gaabrielfranco/Documents/github/data-mining-w2/venv/lib/python3.5/site-packages/sklearn/metrics/classification.py:1135: UndefinedMetricWarning: F-score is ill-defined and being set to 0.0 due to no predicted samples.\n",
      "  'precision', 'predicted', average, warn_for)\n",
      "/home/gaabrielfranco/Documents/github/data-mining-w2/venv/lib/python3.5/site-packages/sklearn/metrics/classification.py:1135: UndefinedMetricWarning: F-score is ill-defined and being set to 0.0 due to no predicted samples.\n",
      "  'precision', 'predicted', average, warn_for)\n"
     ]
    },
    {
     "name": "stdout",
     "output_type": "stream",
     "text": [
      "[CV]  min_samples_split=2, max_depth=3, criterion=entropy, max_features=3, bootstrap=True, min_samples_leaf=10, score=0.0, total=   8.8s\n",
      "[CV] min_samples_split=2, max_depth=3, criterion=entropy, max_features=10, bootstrap=True, min_samples_leaf=1 \n",
      "[CV]  min_samples_split=3, max_depth=3, criterion=entropy, max_features=3, bootstrap=True, min_samples_leaf=10, score=0.0, total=   8.3s\n",
      "[CV] min_samples_split=2, max_depth=3, criterion=entropy, max_features=10, bootstrap=True, min_samples_leaf=1 \n",
      "[CV]  min_samples_split=2, max_depth=3, criterion=entropy, max_features=3, bootstrap=True, min_samples_leaf=10, score=0.0, total=   9.4s\n",
      "[CV] min_samples_split=2, max_depth=3, criterion=entropy, max_features=10, bootstrap=True, min_samples_leaf=1 \n"
     ]
    },
    {
     "name": "stderr",
     "output_type": "stream",
     "text": [
      "/home/gaabrielfranco/Documents/github/data-mining-w2/venv/lib/python3.5/site-packages/sklearn/metrics/classification.py:1135: UndefinedMetricWarning: F-score is ill-defined and being set to 0.0 due to no predicted samples.\n",
      "  'precision', 'predicted', average, warn_for)\n"
     ]
    },
    {
     "name": "stdout",
     "output_type": "stream",
     "text": [
      "[CV]  min_samples_split=3, max_depth=3, criterion=entropy, max_features=3, bootstrap=True, min_samples_leaf=10, score=0.0, total=   8.9s\n",
      "[CV] min_samples_split=3, max_depth=3, criterion=entropy, max_features=10, bootstrap=True, min_samples_leaf=1 \n"
     ]
    },
    {
     "name": "stderr",
     "output_type": "stream",
     "text": [
      "/home/gaabrielfranco/Documents/github/data-mining-w2/venv/lib/python3.5/site-packages/sklearn/metrics/classification.py:1135: UndefinedMetricWarning: F-score is ill-defined and being set to 0.0 due to no predicted samples.\n",
      "  'precision', 'predicted', average, warn_for)\n"
     ]
    },
    {
     "name": "stdout",
     "output_type": "stream",
     "text": [
      "[CV]  min_samples_split=3, max_depth=3, criterion=entropy, max_features=3, bootstrap=True, min_samples_leaf=10, score=0.0, total=   8.7s\n",
      "[CV] min_samples_split=3, max_depth=3, criterion=entropy, max_features=10, bootstrap=True, min_samples_leaf=1 \n",
      "[CV]  min_samples_split=10, max_depth=3, criterion=entropy, max_features=3, bootstrap=True, min_samples_leaf=10, score=0.0, total=   8.5s\n",
      "[CV] min_samples_split=3, max_depth=3, criterion=entropy, max_features=10, bootstrap=True, min_samples_leaf=1 \n"
     ]
    },
    {
     "name": "stderr",
     "output_type": "stream",
     "text": [
      "/home/gaabrielfranco/Documents/github/data-mining-w2/venv/lib/python3.5/site-packages/sklearn/metrics/classification.py:1135: UndefinedMetricWarning: F-score is ill-defined and being set to 0.0 due to no predicted samples.\n",
      "  'precision', 'predicted', average, warn_for)\n",
      "/home/gaabrielfranco/Documents/github/data-mining-w2/venv/lib/python3.5/site-packages/sklearn/metrics/classification.py:1135: UndefinedMetricWarning: F-score is ill-defined and being set to 0.0 due to no predicted samples.\n",
      "  'precision', 'predicted', average, warn_for)\n"
     ]
    },
    {
     "name": "stdout",
     "output_type": "stream",
     "text": [
      "[CV]  min_samples_split=10, max_depth=3, criterion=entropy, max_features=3, bootstrap=True, min_samples_leaf=10, score=0.0, total=   8.5s\n",
      "[CV] min_samples_split=10, max_depth=3, criterion=entropy, max_features=10, bootstrap=True, min_samples_leaf=1 \n",
      "[CV]  min_samples_split=10, max_depth=3, criterion=entropy, max_features=3, bootstrap=True, min_samples_leaf=10, score=0.0, total=   8.4s\n",
      "[CV] min_samples_split=10, max_depth=3, criterion=entropy, max_features=10, bootstrap=True, min_samples_leaf=1 \n",
      "[CV]  min_samples_split=2, max_depth=3, criterion=entropy, max_features=10, bootstrap=True, min_samples_leaf=1, score=0.2656797818465135, total=  14.7s\n",
      "[CV] min_samples_split=10, max_depth=3, criterion=entropy, max_features=10, bootstrap=True, min_samples_leaf=1 \n",
      "[CV]  min_samples_split=2, max_depth=3, criterion=entropy, max_features=10, bootstrap=True, min_samples_leaf=1, score=0.2107803700724055, total=  15.0s\n",
      "[CV] min_samples_split=2, max_depth=3, criterion=entropy, max_features=10, bootstrap=True, min_samples_leaf=3 \n",
      "[CV]  min_samples_split=2, max_depth=3, criterion=entropy, max_features=10, bootstrap=True, min_samples_leaf=1, score=0.24813506085590892, total=  14.9s\n",
      "[CV] min_samples_split=2, max_depth=3, criterion=entropy, max_features=10, bootstrap=True, min_samples_leaf=3 \n",
      "[CV]  min_samples_split=3, max_depth=3, criterion=entropy, max_features=10, bootstrap=True, min_samples_leaf=1, score=0.2768754833720031, total=  15.4s\n",
      "[CV] min_samples_split=2, max_depth=3, criterion=entropy, max_features=10, bootstrap=True, min_samples_leaf=3 \n",
      "[CV]  min_samples_split=3, max_depth=3, criterion=entropy, max_features=10, bootstrap=True, min_samples_leaf=1, score=0.2208, total=  15.7s\n",
      "[CV] min_samples_split=3, max_depth=3, criterion=entropy, max_features=10, bootstrap=True, min_samples_leaf=3 \n",
      "[CV]  min_samples_split=3, max_depth=3, criterion=entropy, max_features=10, bootstrap=True, min_samples_leaf=1, score=0.24813506085590892, total=  14.9s\n",
      "[CV] min_samples_split=3, max_depth=3, criterion=entropy, max_features=10, bootstrap=True, min_samples_leaf=3 \n",
      "[CV]  min_samples_split=10, max_depth=3, criterion=entropy, max_features=10, bootstrap=True, min_samples_leaf=1, score=0.2768754833720031, total=  15.5s\n",
      "[CV] min_samples_split=3, max_depth=3, criterion=entropy, max_features=10, bootstrap=True, min_samples_leaf=3 \n",
      "[CV]  min_samples_split=10, max_depth=3, criterion=entropy, max_features=10, bootstrap=True, min_samples_leaf=1, score=0.22151139544182327, total=  15.4s\n",
      "[CV] min_samples_split=10, max_depth=3, criterion=entropy, max_features=10, bootstrap=True, min_samples_leaf=3 \n",
      "[CV]  min_samples_split=10, max_depth=3, criterion=entropy, max_features=10, bootstrap=True, min_samples_leaf=1, score=0.2286852589641434, total=  15.9s\n",
      "[CV]  min_samples_split=2, max_depth=3, criterion=entropy, max_features=10, bootstrap=True, min_samples_leaf=3, score=0.25206124852767964, total=  15.5s\n",
      "[CV] min_samples_split=10, max_depth=3, criterion=entropy, max_features=10, bootstrap=True, min_samples_leaf=3 \n",
      "[CV] min_samples_split=10, max_depth=3, criterion=entropy, max_features=10, bootstrap=True, min_samples_leaf=3 \n",
      "[CV]  min_samples_split=2, max_depth=3, criterion=entropy, max_features=10, bootstrap=True, min_samples_leaf=3, score=0.2529457973291438, total=  15.5s\n",
      "[CV] min_samples_split=2, max_depth=3, criterion=entropy, max_features=10, bootstrap=True, min_samples_leaf=10 \n"
     ]
    },
    {
     "name": "stderr",
     "output_type": "stream",
     "text": [
      "[Parallel(n_jobs=-1)]: Done 226 tasks      | elapsed:  7.7min\n"
     ]
    },
    {
     "name": "stdout",
     "output_type": "stream",
     "text": [
      "[CV]  min_samples_split=2, max_depth=3, criterion=entropy, max_features=10, bootstrap=True, min_samples_leaf=3, score=0.21482965931863726, total=  15.9s\n",
      "[CV] min_samples_split=2, max_depth=3, criterion=entropy, max_features=10, bootstrap=True, min_samples_leaf=10 \n",
      "[CV]  min_samples_split=3, max_depth=3, criterion=entropy, max_features=10, bootstrap=True, min_samples_leaf=3, score=0.2768754833720031, total=  15.6s\n",
      "[CV] min_samples_split=2, max_depth=3, criterion=entropy, max_features=10, bootstrap=True, min_samples_leaf=10 \n",
      "[CV]  min_samples_split=3, max_depth=3, criterion=entropy, max_features=10, bootstrap=True, min_samples_leaf=3, score=0.2529457973291438, total=  15.2s\n",
      "[CV] min_samples_split=3, max_depth=3, criterion=entropy, max_features=10, bootstrap=True, min_samples_leaf=10 \n",
      "[CV]  min_samples_split=10, max_depth=3, criterion=entropy, max_features=10, bootstrap=True, min_samples_leaf=3, score=0.2717391304347826, total=  14.2s\n",
      "[CV] min_samples_split=3, max_depth=3, criterion=entropy, max_features=10, bootstrap=True, min_samples_leaf=10 \n",
      "[CV]  min_samples_split=3, max_depth=3, criterion=entropy, max_features=10, bootstrap=True, min_samples_leaf=3, score=0.21482965931863726, total=  15.3s\n",
      "[CV] min_samples_split=3, max_depth=3, criterion=entropy, max_features=10, bootstrap=True, min_samples_leaf=10 \n",
      "[CV]  min_samples_split=10, max_depth=3, criterion=entropy, max_features=10, bootstrap=True, min_samples_leaf=3, score=0.23174603174603176, total=  13.6s\n",
      "[CV] min_samples_split=10, max_depth=3, criterion=entropy, max_features=10, bootstrap=True, min_samples_leaf=10 \n",
      "[CV]  min_samples_split=10, max_depth=3, criterion=entropy, max_features=10, bootstrap=True, min_samples_leaf=3, score=0.22151139544182327, total=  14.6s\n",
      "[CV] min_samples_split=10, max_depth=3, criterion=entropy, max_features=10, bootstrap=True, min_samples_leaf=10 \n",
      "[CV]  min_samples_split=2, max_depth=3, criterion=entropy, max_features=10, bootstrap=True, min_samples_leaf=10, score=0.2405063291139241, total=  15.6s\n",
      "[CV] min_samples_split=10, max_depth=3, criterion=entropy, max_features=10, bootstrap=True, min_samples_leaf=10 \n",
      "[CV]  min_samples_split=2, max_depth=3, criterion=entropy, max_features=10, bootstrap=True, min_samples_leaf=10, score=0.2334259626836046, total=  15.7s\n",
      "[CV] min_samples_split=2, max_depth=None, criterion=entropy, max_features=1, bootstrap=True, min_samples_leaf=1 \n",
      "[CV]  min_samples_split=3, max_depth=3, criterion=entropy, max_features=10, bootstrap=True, min_samples_leaf=10, score=0.2405063291139241, total=  14.5s\n",
      "[CV] min_samples_split=2, max_depth=None, criterion=entropy, max_features=1, bootstrap=True, min_samples_leaf=1 \n",
      "[CV]  min_samples_split=2, max_depth=3, criterion=entropy, max_features=10, bootstrap=True, min_samples_leaf=10, score=0.21411387329591014, total=  14.9s\n",
      "[CV] min_samples_split=2, max_depth=None, criterion=entropy, max_features=1, bootstrap=True, min_samples_leaf=1 \n",
      "[CV]  min_samples_split=3, max_depth=3, criterion=entropy, max_features=10, bootstrap=True, min_samples_leaf=10, score=0.25157232704402516, total=  14.7s\n",
      "[CV] min_samples_split=3, max_depth=None, criterion=entropy, max_features=1, bootstrap=True, min_samples_leaf=1 \n",
      "[CV]  min_samples_split=3, max_depth=3, criterion=entropy, max_features=10, bootstrap=True, min_samples_leaf=10, score=0.2258579409417398, total=  15.1s\n",
      "[CV] min_samples_split=3, max_depth=None, criterion=entropy, max_features=1, bootstrap=True, min_samples_leaf=1 \n",
      "[CV]  min_samples_split=10, max_depth=3, criterion=entropy, max_features=10, bootstrap=True, min_samples_leaf=10, score=0.22008803521408565, total=  12.5s\n",
      "[CV] min_samples_split=3, max_depth=None, criterion=entropy, max_features=1, bootstrap=True, min_samples_leaf=1 \n",
      "[CV]  min_samples_split=10, max_depth=3, criterion=entropy, max_features=10, bootstrap=True, min_samples_leaf=10, score=0.22008803521408565, total=  12.4s\n",
      "[CV] min_samples_split=10, max_depth=None, criterion=entropy, max_features=1, bootstrap=True, min_samples_leaf=1 \n",
      "[CV]  min_samples_split=10, max_depth=3, criterion=entropy, max_features=10, bootstrap=True, min_samples_leaf=10, score=0.2258579409417398, total=  12.5s\n",
      "[CV] min_samples_split=10, max_depth=None, criterion=entropy, max_features=1, bootstrap=True, min_samples_leaf=1 \n",
      "[CV]  min_samples_split=2, max_depth=None, criterion=entropy, max_features=1, bootstrap=True, min_samples_leaf=1, score=0.6371681415929203, total=  23.6s\n",
      "[CV] min_samples_split=10, max_depth=None, criterion=entropy, max_features=1, bootstrap=True, min_samples_leaf=1 \n",
      "[CV]  min_samples_split=2, max_depth=None, criterion=entropy, max_features=1, bootstrap=True, min_samples_leaf=1, score=0.6512301013024602, total=  24.6s\n",
      "[CV] min_samples_split=2, max_depth=None, criterion=entropy, max_features=1, bootstrap=True, min_samples_leaf=3 \n",
      "[CV]  min_samples_split=2, max_depth=None, criterion=entropy, max_features=1, bootstrap=True, min_samples_leaf=1, score=0.6437118437118438, total=  24.7s\n",
      "[CV] min_samples_split=2, max_depth=None, criterion=entropy, max_features=1, bootstrap=True, min_samples_leaf=3 \n",
      "[CV]  min_samples_split=3, max_depth=None, criterion=entropy, max_features=1, bootstrap=True, min_samples_leaf=1, score=0.6531302876480541, total=  23.0s\n",
      "[CV] min_samples_split=2, max_depth=None, criterion=entropy, max_features=1, bootstrap=True, min_samples_leaf=3 \n",
      "[CV]  min_samples_split=3, max_depth=None, criterion=entropy, max_features=1, bootstrap=True, min_samples_leaf=1, score=0.6477692876509735, total=  23.1s\n",
      "[CV] min_samples_split=3, max_depth=None, criterion=entropy, max_features=1, bootstrap=True, min_samples_leaf=3 \n",
      "[CV]  min_samples_split=10, max_depth=None, criterion=entropy, max_features=1, bootstrap=True, min_samples_leaf=1, score=0.6539130434782608, total=  20.5s\n",
      "[CV] min_samples_split=3, max_depth=None, criterion=entropy, max_features=1, bootstrap=True, min_samples_leaf=3 \n"
     ]
    },
    {
     "name": "stderr",
     "output_type": "stream",
     "text": [
      "[Parallel(n_jobs=-1)]: Done 249 tasks      | elapsed:  8.6min\n"
     ]
    },
    {
     "name": "stdout",
     "output_type": "stream",
     "text": [
      "[CV]  min_samples_split=10, max_depth=None, criterion=entropy, max_features=1, bootstrap=True, min_samples_leaf=1, score=0.6531027466937945, total=  20.0s\n",
      "[CV] min_samples_split=3, max_depth=None, criterion=entropy, max_features=1, bootstrap=True, min_samples_leaf=3 \n",
      "[CV]  min_samples_split=3, max_depth=None, criterion=entropy, max_features=1, bootstrap=True, min_samples_leaf=1, score=0.6389301634472512, total=  23.7s\n",
      "[CV] min_samples_split=10, max_depth=None, criterion=entropy, max_features=1, bootstrap=True, min_samples_leaf=3 \n",
      "[CV]  min_samples_split=2, max_depth=None, criterion=entropy, max_features=1, bootstrap=True, min_samples_leaf=3, score=0.2686798296554394, total=   9.4s\n",
      "[CV] min_samples_split=10, max_depth=None, criterion=entropy, max_features=1, bootstrap=True, min_samples_leaf=3 \n",
      "[CV]  min_samples_split=2, max_depth=None, criterion=entropy, max_features=1, bootstrap=True, min_samples_leaf=3, score=0.18811074918566775, total=   9.5s\n",
      "[CV] min_samples_split=10, max_depth=None, criterion=entropy, max_features=1, bootstrap=True, min_samples_leaf=3 \n",
      "[CV]  min_samples_split=2, max_depth=None, criterion=entropy, max_features=1, bootstrap=True, min_samples_leaf=3, score=0.18307567127746135, total=   9.6s\n",
      "[CV] min_samples_split=2, max_depth=None, criterion=entropy, max_features=1, bootstrap=True, min_samples_leaf=10 \n",
      "[CV]  min_samples_split=3, max_depth=None, criterion=entropy, max_features=1, bootstrap=True, min_samples_leaf=3, score=0.2686798296554394, total=  10.5s\n",
      "[CV] min_samples_split=2, max_depth=None, criterion=entropy, max_features=1, bootstrap=True, min_samples_leaf=10 \n",
      "[CV]  min_samples_split=3, max_depth=None, criterion=entropy, max_features=1, bootstrap=True, min_samples_leaf=3, score=0.16865487453722747, total=  10.0s\n",
      "[CV] min_samples_split=2, max_depth=None, criterion=entropy, max_features=1, bootstrap=True, min_samples_leaf=10 \n"
     ]
    },
    {
     "name": "stderr",
     "output_type": "stream",
     "text": [
      "/home/gaabrielfranco/Documents/github/data-mining-w2/venv/lib/python3.5/site-packages/sklearn/metrics/classification.py:1135: UndefinedMetricWarning: F-score is ill-defined and being set to 0.0 due to no predicted samples.\n",
      "  'precision', 'predicted', average, warn_for)\n"
     ]
    },
    {
     "name": "stdout",
     "output_type": "stream",
     "text": [
      "[CV]  min_samples_split=3, max_depth=None, criterion=entropy, max_features=1, bootstrap=True, min_samples_leaf=3, score=0.20145044319097505, total=   9.8s\n",
      "[CV] min_samples_split=3, max_depth=None, criterion=entropy, max_features=1, bootstrap=True, min_samples_leaf=10 \n",
      "[CV]  min_samples_split=2, max_depth=None, criterion=entropy, max_features=1, bootstrap=True, min_samples_leaf=10, score=0.0, total=   6.7s\n",
      "[CV] min_samples_split=3, max_depth=None, criterion=entropy, max_features=1, bootstrap=True, min_samples_leaf=10 \n"
     ]
    },
    {
     "name": "stderr",
     "output_type": "stream",
     "text": [
      "/home/gaabrielfranco/Documents/github/data-mining-w2/venv/lib/python3.5/site-packages/sklearn/metrics/classification.py:1135: UndefinedMetricWarning: F-score is ill-defined and being set to 0.0 due to no predicted samples.\n",
      "  'precision', 'predicted', average, warn_for)\n"
     ]
    },
    {
     "name": "stdout",
     "output_type": "stream",
     "text": [
      "[CV]  min_samples_split=10, max_depth=None, criterion=entropy, max_features=1, bootstrap=True, min_samples_leaf=3, score=0.18315018315018314, total=  10.4s\n",
      "[CV] min_samples_split=3, max_depth=None, criterion=entropy, max_features=1, bootstrap=True, min_samples_leaf=10 \n",
      "[CV]  min_samples_split=2, max_depth=None, criterion=entropy, max_features=1, bootstrap=True, min_samples_leaf=10, score=0.0, total=   6.7s\n",
      "[CV] min_samples_split=10, max_depth=None, criterion=entropy, max_features=1, bootstrap=True, min_samples_leaf=10 \n",
      "[CV]  min_samples_split=10, max_depth=None, criterion=entropy, max_features=1, bootstrap=True, min_samples_leaf=3, score=0.21107544141252008, total=  10.4s\n",
      "[CV] min_samples_split=10, max_depth=None, criterion=entropy, max_features=1, bootstrap=True, min_samples_leaf=10 \n",
      "[CV]  min_samples_split=10, max_depth=None, criterion=entropy, max_features=1, bootstrap=True, min_samples_leaf=3, score=0.20570510245078344, total=  10.4s\n",
      "[CV] min_samples_split=10, max_depth=None, criterion=entropy, max_features=1, bootstrap=True, min_samples_leaf=10 \n",
      "[CV]  min_samples_split=10, max_depth=None, criterion=entropy, max_features=1, bootstrap=True, min_samples_leaf=1, score=0.6442307692307693, total=  21.6s\n",
      "[CV] min_samples_split=2, max_depth=None, criterion=entropy, max_features=3, bootstrap=True, min_samples_leaf=1 \n"
     ]
    },
    {
     "name": "stderr",
     "output_type": "stream",
     "text": [
      "/home/gaabrielfranco/Documents/github/data-mining-w2/venv/lib/python3.5/site-packages/sklearn/metrics/classification.py:1135: UndefinedMetricWarning: F-score is ill-defined and being set to 0.0 due to no predicted samples.\n",
      "  'precision', 'predicted', average, warn_for)\n",
      "/home/gaabrielfranco/Documents/github/data-mining-w2/venv/lib/python3.5/site-packages/sklearn/metrics/classification.py:1135: UndefinedMetricWarning: F-score is ill-defined and being set to 0.0 due to no predicted samples.\n",
      "  'precision', 'predicted', average, warn_for)\n",
      "/home/gaabrielfranco/Documents/github/data-mining-w2/venv/lib/python3.5/site-packages/sklearn/metrics/classification.py:1135: UndefinedMetricWarning: F-score is ill-defined and being set to 0.0 due to no predicted samples.\n",
      "  'precision', 'predicted', average, warn_for)\n"
     ]
    },
    {
     "name": "stdout",
     "output_type": "stream",
     "text": [
      "[CV]  min_samples_split=2, max_depth=None, criterion=entropy, max_features=1, bootstrap=True, min_samples_leaf=10, score=0.0, total=   6.8s\n",
      "[CV] min_samples_split=2, max_depth=None, criterion=entropy, max_features=3, bootstrap=True, min_samples_leaf=1 \n",
      "[CV]  min_samples_split=3, max_depth=None, criterion=entropy, max_features=1, bootstrap=True, min_samples_leaf=10, score=0.0, total=   6.8s\n",
      "[CV] min_samples_split=2, max_depth=None, criterion=entropy, max_features=3, bootstrap=True, min_samples_leaf=1 \n"
     ]
    },
    {
     "name": "stderr",
     "output_type": "stream",
     "text": [
      "/home/gaabrielfranco/Documents/github/data-mining-w2/venv/lib/python3.5/site-packages/sklearn/metrics/classification.py:1135: UndefinedMetricWarning: F-score is ill-defined and being set to 0.0 due to no predicted samples.\n",
      "  'precision', 'predicted', average, warn_for)\n"
     ]
    },
    {
     "name": "stdout",
     "output_type": "stream",
     "text": [
      "[CV]  min_samples_split=3, max_depth=None, criterion=entropy, max_features=1, bootstrap=True, min_samples_leaf=10, score=0.0, total=   6.6s\n",
      "[CV] min_samples_split=3, max_depth=None, criterion=entropy, max_features=3, bootstrap=True, min_samples_leaf=1 \n"
     ]
    },
    {
     "name": "stderr",
     "output_type": "stream",
     "text": [
      "/home/gaabrielfranco/Documents/github/data-mining-w2/venv/lib/python3.5/site-packages/sklearn/metrics/classification.py:1135: UndefinedMetricWarning: F-score is ill-defined and being set to 0.0 due to no predicted samples.\n",
      "  'precision', 'predicted', average, warn_for)\n",
      "/home/gaabrielfranco/Documents/github/data-mining-w2/venv/lib/python3.5/site-packages/sklearn/metrics/classification.py:1135: UndefinedMetricWarning: F-score is ill-defined and being set to 0.0 due to no predicted samples.\n",
      "  'precision', 'predicted', average, warn_for)\n"
     ]
    },
    {
     "name": "stdout",
     "output_type": "stream",
     "text": [
      "[CV]  min_samples_split=3, max_depth=None, criterion=entropy, max_features=1, bootstrap=True, min_samples_leaf=10, score=0.0, total=   6.2s\n",
      "[CV] min_samples_split=3, max_depth=None, criterion=entropy, max_features=3, bootstrap=True, min_samples_leaf=1 \n"
     ]
    },
    {
     "name": "stderr",
     "output_type": "stream",
     "text": [
      "/home/gaabrielfranco/Documents/github/data-mining-w2/venv/lib/python3.5/site-packages/sklearn/metrics/classification.py:1135: UndefinedMetricWarning: F-score is ill-defined and being set to 0.0 due to no predicted samples.\n",
      "  'precision', 'predicted', average, warn_for)\n"
     ]
    },
    {
     "name": "stdout",
     "output_type": "stream",
     "text": [
      "[CV]  min_samples_split=10, max_depth=None, criterion=entropy, max_features=1, bootstrap=True, min_samples_leaf=10, score=0.0, total=   6.3s\n",
      "[CV] min_samples_split=3, max_depth=None, criterion=entropy, max_features=3, bootstrap=True, min_samples_leaf=1 \n",
      "[CV]  min_samples_split=10, max_depth=None, criterion=entropy, max_features=1, bootstrap=True, min_samples_leaf=10, score=0.0, total=   6.6s\n",
      "[CV] min_samples_split=10, max_depth=None, criterion=entropy, max_features=3, bootstrap=True, min_samples_leaf=1 \n",
      "[CV]  min_samples_split=10, max_depth=None, criterion=entropy, max_features=1, bootstrap=True, min_samples_leaf=10, score=0.0, total=   6.7s\n",
      "[CV] min_samples_split=10, max_depth=None, criterion=entropy, max_features=3, bootstrap=True, min_samples_leaf=1 \n",
      "[CV]  min_samples_split=2, max_depth=None, criterion=entropy, max_features=3, bootstrap=True, min_samples_leaf=1, score=0.6617189370361504, total=  26.0s\n",
      "[CV] min_samples_split=10, max_depth=None, criterion=entropy, max_features=3, bootstrap=True, min_samples_leaf=1 \n",
      "[CV]  min_samples_split=10, max_depth=None, criterion=entropy, max_features=3, bootstrap=True, min_samples_leaf=1, score=0.6687882496940025, total=  22.1s\n",
      "[CV] min_samples_split=2, max_depth=None, criterion=entropy, max_features=3, bootstrap=True, min_samples_leaf=3 \n",
      "[CV]  min_samples_split=2, max_depth=None, criterion=entropy, max_features=3, bootstrap=True, min_samples_leaf=1, score=0.6551556420233462, total=  26.0s\n",
      "[CV]  min_samples_split=2, max_depth=None, criterion=entropy, max_features=3, bootstrap=True, min_samples_leaf=1, score=0.6473453482708231, total=  25.7s\n",
      "[CV] min_samples_split=2, max_depth=None, criterion=entropy, max_features=3, bootstrap=True, min_samples_leaf=3 \n"
     ]
    },
    {
     "name": "stderr",
     "output_type": "stream",
     "text": [
      "[Parallel(n_jobs=-1)]: Done 272 tasks      | elapsed:  9.5min\n"
     ]
    },
    {
     "name": "stdout",
     "output_type": "stream",
     "text": [
      "[CV] min_samples_split=2, max_depth=None, criterion=entropy, max_features=3, bootstrap=True, min_samples_leaf=3 \n",
      "[CV]  min_samples_split=10, max_depth=None, criterion=entropy, max_features=3, bootstrap=True, min_samples_leaf=1, score=0.6691748181590168, total=  22.6s\n",
      "[CV] min_samples_split=3, max_depth=None, criterion=entropy, max_features=3, bootstrap=True, min_samples_leaf=3 \n",
      "[CV]  min_samples_split=3, max_depth=None, criterion=entropy, max_features=3, bootstrap=True, min_samples_leaf=1, score=0.6679435001197032, total=  25.7s\n",
      "[CV] min_samples_split=3, max_depth=None, criterion=entropy, max_features=3, bootstrap=True, min_samples_leaf=3 \n",
      "[CV]  min_samples_split=3, max_depth=None, criterion=entropy, max_features=3, bootstrap=True, min_samples_leaf=1, score=0.6602941176470588, total=  25.3s\n",
      "[CV] min_samples_split=3, max_depth=None, criterion=entropy, max_features=3, bootstrap=True, min_samples_leaf=3 \n",
      "[CV]  min_samples_split=3, max_depth=None, criterion=entropy, max_features=3, bootstrap=True, min_samples_leaf=1, score=0.6483300589390963, total=  24.9s\n",
      "[CV] min_samples_split=10, max_depth=None, criterion=entropy, max_features=3, bootstrap=True, min_samples_leaf=3 \n",
      "[CV]  min_samples_split=2, max_depth=None, criterion=entropy, max_features=3, bootstrap=True, min_samples_leaf=3, score=0.6029783647091879, total=  14.6s\n",
      "[CV]  min_samples_split=2, max_depth=None, criterion=entropy, max_features=3, bootstrap=True, min_samples_leaf=3, score=0.5889145496535797, total=  14.5s\n",
      "[CV] min_samples_split=10, max_depth=None, criterion=entropy, max_features=3, bootstrap=True, min_samples_leaf=3 \n",
      "[CV] min_samples_split=10, max_depth=None, criterion=entropy, max_features=3, bootstrap=True, min_samples_leaf=3 \n",
      "[CV]  min_samples_split=2, max_depth=None, criterion=entropy, max_features=3, bootstrap=True, min_samples_leaf=3, score=0.5782312925170068, total=  15.6s\n",
      "[CV] min_samples_split=2, max_depth=None, criterion=entropy, max_features=3, bootstrap=True, min_samples_leaf=10 \n",
      "[CV]  min_samples_split=3, max_depth=None, criterion=entropy, max_features=3, bootstrap=True, min_samples_leaf=3, score=0.6061452513966481, total=  15.9s\n",
      "[CV] min_samples_split=2, max_depth=None, criterion=entropy, max_features=3, bootstrap=True, min_samples_leaf=10 \n",
      "[CV]  min_samples_split=3, max_depth=None, criterion=entropy, max_features=3, bootstrap=True, min_samples_leaf=3, score=0.5866741953698476, total=  15.1s\n",
      "[CV] min_samples_split=2, max_depth=None, criterion=entropy, max_features=3, bootstrap=True, min_samples_leaf=10 \n",
      "[CV]  min_samples_split=10, max_depth=None, criterion=entropy, max_features=3, bootstrap=True, min_samples_leaf=3, score=0.6073123081216858, total=  15.7s\n",
      "[CV] min_samples_split=3, max_depth=None, criterion=entropy, max_features=3, bootstrap=True, min_samples_leaf=10 \n",
      "[CV]  min_samples_split=3, max_depth=None, criterion=entropy, max_features=3, bootstrap=True, min_samples_leaf=3, score=0.5888119953863898, total=  17.1s\n",
      "[CV] min_samples_split=3, max_depth=None, criterion=entropy, max_features=3, bootstrap=True, min_samples_leaf=10 \n",
      "[CV]  min_samples_split=10, max_depth=None, criterion=entropy, max_features=3, bootstrap=True, min_samples_leaf=1, score=0.6601941747572815, total=  25.4s\n",
      "[CV] min_samples_split=3, max_depth=None, criterion=entropy, max_features=3, bootstrap=True, min_samples_leaf=10 \n",
      "[CV]  min_samples_split=2, max_depth=None, criterion=entropy, max_features=3, bootstrap=True, min_samples_leaf=10, score=0.512271869100063, total=  12.6s\n",
      "[CV] min_samples_split=10, max_depth=None, criterion=entropy, max_features=3, bootstrap=True, min_samples_leaf=10 \n",
      "[CV]  min_samples_split=2, max_depth=None, criterion=entropy, max_features=3, bootstrap=True, min_samples_leaf=10, score=0.4978001257071024, total=  12.9s\n",
      "[CV] min_samples_split=10, max_depth=None, criterion=entropy, max_features=3, bootstrap=True, min_samples_leaf=10 \n",
      "[CV]  min_samples_split=2, max_depth=None, criterion=entropy, max_features=3, bootstrap=True, min_samples_leaf=10, score=0.4903100775193798, total=  13.6s\n",
      "[CV] min_samples_split=10, max_depth=None, criterion=entropy, max_features=3, bootstrap=True, min_samples_leaf=10 \n",
      "[CV]  min_samples_split=10, max_depth=None, criterion=entropy, max_features=3, bootstrap=True, min_samples_leaf=3, score=0.5903337169159955, total=  15.8s\n",
      "[CV] min_samples_split=2, max_depth=None, criterion=entropy, max_features=10, bootstrap=True, min_samples_leaf=1 \n",
      "[CV]  min_samples_split=3, max_depth=None, criterion=entropy, max_features=3, bootstrap=True, min_samples_leaf=10, score=0.48083170890188426, total=  13.2s\n",
      "[CV] min_samples_split=2, max_depth=None, criterion=entropy, max_features=10, bootstrap=True, min_samples_leaf=1 \n",
      "[CV]  min_samples_split=3, max_depth=None, criterion=entropy, max_features=3, bootstrap=True, min_samples_leaf=10, score=0.5085497150094997, total=  14.0s\n",
      "[CV] min_samples_split=2, max_depth=None, criterion=entropy, max_features=10, bootstrap=True, min_samples_leaf=1 \n",
      "[CV]  min_samples_split=10, max_depth=None, criterion=entropy, max_features=3, bootstrap=True, min_samples_leaf=3, score=0.5805539853024307, total=  17.1s\n",
      "[CV] min_samples_split=3, max_depth=None, criterion=entropy, max_features=10, bootstrap=True, min_samples_leaf=1 \n",
      "[CV]  min_samples_split=3, max_depth=None, criterion=entropy, max_features=3, bootstrap=True, min_samples_leaf=10, score=0.49385826771653546, total=  13.3s\n",
      "[CV] min_samples_split=3, max_depth=None, criterion=entropy, max_features=10, bootstrap=True, min_samples_leaf=1 \n",
      "[CV]  min_samples_split=10, max_depth=None, criterion=entropy, max_features=3, bootstrap=True, min_samples_leaf=10, score=0.5085497150094997, total=  11.7s\n",
      "[CV] min_samples_split=3, max_depth=None, criterion=entropy, max_features=10, bootstrap=True, min_samples_leaf=1 \n",
      "[CV]  min_samples_split=10, max_depth=None, criterion=entropy, max_features=3, bootstrap=True, min_samples_leaf=10, score=0.4893617021276596, total=  12.1s\n",
      "[CV] min_samples_split=10, max_depth=None, criterion=entropy, max_features=10, bootstrap=True, min_samples_leaf=1 \n",
      "[CV]  min_samples_split=10, max_depth=None, criterion=entropy, max_features=3, bootstrap=True, min_samples_leaf=10, score=0.4855861627162076, total=  11.8s\n",
      "[CV] min_samples_split=10, max_depth=None, criterion=entropy, max_features=10, bootstrap=True, min_samples_leaf=1 \n"
     ]
    },
    {
     "name": "stderr",
     "output_type": "stream",
     "text": [
      "[Parallel(n_jobs=-1)]: Done 297 tasks      | elapsed: 10.3min\n"
     ]
    },
    {
     "name": "stdout",
     "output_type": "stream",
     "text": [
      "[CV]  min_samples_split=2, max_depth=None, criterion=entropy, max_features=10, bootstrap=True, min_samples_leaf=1, score=0.6715709539629806, total=  34.0s\n",
      "[CV] min_samples_split=10, max_depth=None, criterion=entropy, max_features=10, bootstrap=True, min_samples_leaf=1 \n",
      "[CV]  min_samples_split=2, max_depth=None, criterion=entropy, max_features=10, bootstrap=True, min_samples_leaf=1, score=0.6708799222168206, total=  34.5s\n",
      "[CV] min_samples_split=2, max_depth=None, criterion=entropy, max_features=10, bootstrap=True, min_samples_leaf=3 \n",
      "[CV]  min_samples_split=3, max_depth=None, criterion=entropy, max_features=10, bootstrap=True, min_samples_leaf=1, score=0.6744630071599045, total=  35.2s\n",
      "[CV] min_samples_split=2, max_depth=None, criterion=entropy, max_features=10, bootstrap=True, min_samples_leaf=3 \n",
      "[CV]  min_samples_split=3, max_depth=None, criterion=entropy, max_features=10, bootstrap=True, min_samples_leaf=1, score=0.6735143066764488, total=  32.4s\n",
      "[CV] min_samples_split=2, max_depth=None, criterion=entropy, max_features=10, bootstrap=True, min_samples_leaf=3 \n",
      "[CV]  min_samples_split=2, max_depth=None, criterion=entropy, max_features=10, bootstrap=True, min_samples_leaf=1, score=0.6622839055271488, total=  37.2s\n",
      "[CV] min_samples_split=3, max_depth=None, criterion=entropy, max_features=10, bootstrap=True, min_samples_leaf=3 \n",
      "[CV]  min_samples_split=3, max_depth=None, criterion=entropy, max_features=10, bootstrap=True, min_samples_leaf=1, score=0.6684478989555501, total=  32.8s\n",
      "[CV] min_samples_split=3, max_depth=None, criterion=entropy, max_features=10, bootstrap=True, min_samples_leaf=3 \n",
      "[CV]  min_samples_split=10, max_depth=None, criterion=entropy, max_features=10, bootstrap=True, min_samples_leaf=1, score=0.6812205408087323, total=  32.7s\n",
      "[CV] min_samples_split=3, max_depth=None, criterion=entropy, max_features=10, bootstrap=True, min_samples_leaf=3 \n",
      "[CV]  min_samples_split=10, max_depth=None, criterion=entropy, max_features=10, bootstrap=True, min_samples_leaf=1, score=0.679236161469664, total=  33.8s\n",
      "[CV] min_samples_split=10, max_depth=None, criterion=entropy, max_features=10, bootstrap=True, min_samples_leaf=3 \n",
      "[CV]  min_samples_split=2, max_depth=None, criterion=entropy, max_features=10, bootstrap=True, min_samples_leaf=3, score=0.6744416873449132, total=  27.1s\n",
      "[CV] min_samples_split=10, max_depth=None, criterion=entropy, max_features=10, bootstrap=True, min_samples_leaf=3 \n",
      "[CV]  min_samples_split=2, max_depth=None, criterion=entropy, max_features=10, bootstrap=True, min_samples_leaf=3, score=0.6791137664924073, total=  25.9s\n",
      "[CV] min_samples_split=10, max_depth=None, criterion=entropy, max_features=10, bootstrap=True, min_samples_leaf=3 \n",
      "[CV]  min_samples_split=2, max_depth=None, criterion=entropy, max_features=10, bootstrap=True, min_samples_leaf=3, score=0.6763580719204285, total=  28.5s\n",
      "[CV] min_samples_split=2, max_depth=None, criterion=entropy, max_features=10, bootstrap=True, min_samples_leaf=10 \n",
      "[CV]  min_samples_split=3, max_depth=None, criterion=entropy, max_features=10, bootstrap=True, min_samples_leaf=3, score=0.6731246895181321, total=  29.8s\n",
      "[CV] min_samples_split=2, max_depth=None, criterion=entropy, max_features=10, bootstrap=True, min_samples_leaf=10 \n",
      "[CV]  min_samples_split=10, max_depth=None, criterion=entropy, max_features=10, bootstrap=True, min_samples_leaf=1, score=0.6772771792360431, total=  33.7s\n",
      "[CV] min_samples_split=2, max_depth=None, criterion=entropy, max_features=10, bootstrap=True, min_samples_leaf=10 \n",
      "[CV]  min_samples_split=3, max_depth=None, criterion=entropy, max_features=10, bootstrap=True, min_samples_leaf=3, score=0.6743002544529261, total=  30.8s\n",
      "[CV] min_samples_split=3, max_depth=None, criterion=entropy, max_features=10, bootstrap=True, min_samples_leaf=10 \n",
      "[CV]  min_samples_split=3, max_depth=None, criterion=entropy, max_features=10, bootstrap=True, min_samples_leaf=3, score=0.6766169154228856, total=  29.3s\n",
      "[CV] min_samples_split=3, max_depth=None, criterion=entropy, max_features=10, bootstrap=True, min_samples_leaf=10 \n",
      "[CV]  min_samples_split=10, max_depth=None, criterion=entropy, max_features=10, bootstrap=True, min_samples_leaf=3, score=0.6754212091179386, total=  30.4s\n",
      "[CV] min_samples_split=3, max_depth=None, criterion=entropy, max_features=10, bootstrap=True, min_samples_leaf=10 \n",
      "[CV]  min_samples_split=10, max_depth=None, criterion=entropy, max_features=10, bootstrap=True, min_samples_leaf=3, score=0.6751497005988024, total=  27.6s\n",
      "[CV] min_samples_split=10, max_depth=None, criterion=entropy, max_features=10, bootstrap=True, min_samples_leaf=10 \n",
      "[CV]  min_samples_split=2, max_depth=None, criterion=entropy, max_features=10, bootstrap=True, min_samples_leaf=10, score=0.6718828874305907, total=  29.3s\n",
      "[CV] min_samples_split=10, max_depth=None, criterion=entropy, max_features=10, bootstrap=True, min_samples_leaf=10 \n",
      "[CV]  min_samples_split=10, max_depth=None, criterion=entropy, max_features=10, bootstrap=True, min_samples_leaf=3, score=0.6738186462324394, total=  33.4s\n",
      "[CV] min_samples_split=10, max_depth=None, criterion=entropy, max_features=10, bootstrap=True, min_samples_leaf=10 \n",
      "[CV]  min_samples_split=2, max_depth=None, criterion=entropy, max_features=10, bootstrap=True, min_samples_leaf=10, score=0.6612945152066546, total=  29.6s\n",
      "[CV] min_samples_split=2, max_depth=3, criterion=gini, max_features=1, bootstrap=False, min_samples_leaf=1 \n",
      "[CV]  min_samples_split=2, max_depth=None, criterion=entropy, max_features=10, bootstrap=True, min_samples_leaf=10, score=0.663437021927588, total=  29.4s\n",
      "[CV] min_samples_split=2, max_depth=3, criterion=gini, max_features=1, bootstrap=False, min_samples_leaf=1 \n",
      "[CV]  min_samples_split=3, max_depth=None, criterion=entropy, max_features=10, bootstrap=True, min_samples_leaf=10, score=0.6718828874305907, total=  27.0s\n",
      "[CV] min_samples_split=2, max_depth=3, criterion=gini, max_features=1, bootstrap=False, min_samples_leaf=1 \n"
     ]
    },
    {
     "name": "stderr",
     "output_type": "stream",
     "text": [
      "/home/gaabrielfranco/Documents/github/data-mining-w2/venv/lib/python3.5/site-packages/sklearn/metrics/classification.py:1135: UndefinedMetricWarning: F-score is ill-defined and being set to 0.0 due to no predicted samples.\n",
      "  'precision', 'predicted', average, warn_for)\n",
      "/home/gaabrielfranco/Documents/github/data-mining-w2/venv/lib/python3.5/site-packages/sklearn/metrics/classification.py:1135: UndefinedMetricWarning: F-score is ill-defined and being set to 0.0 due to no predicted samples.\n",
      "  'precision', 'predicted', average, warn_for)\n"
     ]
    },
    {
     "name": "stdout",
     "output_type": "stream",
     "text": [
      "[CV]  min_samples_split=3, max_depth=None, criterion=entropy, max_features=10, bootstrap=True, min_samples_leaf=10, score=0.6612945152066546, total=  29.4s\n",
      "[CV] min_samples_split=3, max_depth=3, criterion=gini, max_features=1, bootstrap=False, min_samples_leaf=1 \n",
      "[CV]  min_samples_split=2, max_depth=3, criterion=gini, max_features=1, bootstrap=False, min_samples_leaf=1, score=0.0, total=   6.2s\n",
      "[CV] min_samples_split=3, max_depth=3, criterion=gini, max_features=1, bootstrap=False, min_samples_leaf=1 \n",
      "[CV]  min_samples_split=2, max_depth=3, criterion=gini, max_features=1, bootstrap=False, min_samples_leaf=1, score=0.0, total=   6.2s\n",
      "[CV] min_samples_split=3, max_depth=3, criterion=gini, max_features=1, bootstrap=False, min_samples_leaf=1 \n"
     ]
    },
    {
     "name": "stderr",
     "output_type": "stream",
     "text": [
      "[Parallel(n_jobs=-1)]: Done 322 tasks      | elapsed: 12.0min\n"
     ]
    },
    {
     "name": "stdout",
     "output_type": "stream",
     "text": [
      "[CV]  min_samples_split=3, max_depth=None, criterion=entropy, max_features=10, bootstrap=True, min_samples_leaf=10, score=0.6602287166454892, total=  30.7s\n",
      "[CV] min_samples_split=10, max_depth=3, criterion=gini, max_features=1, bootstrap=False, min_samples_leaf=1 \n"
     ]
    },
    {
     "name": "stderr",
     "output_type": "stream",
     "text": [
      "/home/gaabrielfranco/Documents/github/data-mining-w2/venv/lib/python3.5/site-packages/sklearn/metrics/classification.py:1135: UndefinedMetricWarning: F-score is ill-defined and being set to 0.0 due to no predicted samples.\n",
      "  'precision', 'predicted', average, warn_for)\n"
     ]
    },
    {
     "name": "stdout",
     "output_type": "stream",
     "text": [
      "[CV]  min_samples_split=2, max_depth=3, criterion=gini, max_features=1, bootstrap=False, min_samples_leaf=1, score=0.0, total=   5.9s\n",
      "[CV] min_samples_split=10, max_depth=3, criterion=gini, max_features=1, bootstrap=False, min_samples_leaf=1 \n"
     ]
    },
    {
     "name": "stderr",
     "output_type": "stream",
     "text": [
      "/home/gaabrielfranco/Documents/github/data-mining-w2/venv/lib/python3.5/site-packages/sklearn/metrics/classification.py:1135: UndefinedMetricWarning: F-score is ill-defined and being set to 0.0 due to no predicted samples.\n",
      "  'precision', 'predicted', average, warn_for)\n",
      "/home/gaabrielfranco/Documents/github/data-mining-w2/venv/lib/python3.5/site-packages/sklearn/metrics/classification.py:1135: UndefinedMetricWarning: F-score is ill-defined and being set to 0.0 due to no predicted samples.\n",
      "  'precision', 'predicted', average, warn_for)\n",
      "/home/gaabrielfranco/Documents/github/data-mining-w2/venv/lib/python3.5/site-packages/sklearn/metrics/classification.py:1135: UndefinedMetricWarning: F-score is ill-defined and being set to 0.0 due to no predicted samples.\n",
      "  'precision', 'predicted', average, warn_for)\n"
     ]
    },
    {
     "name": "stdout",
     "output_type": "stream",
     "text": [
      "[CV]  min_samples_split=3, max_depth=3, criterion=gini, max_features=1, bootstrap=False, min_samples_leaf=1, score=0.0, total=   6.4s\n",
      "[CV] min_samples_split=10, max_depth=3, criterion=gini, max_features=1, bootstrap=False, min_samples_leaf=1 \n",
      "[CV]  min_samples_split=3, max_depth=3, criterion=gini, max_features=1, bootstrap=False, min_samples_leaf=1, score=0.0, total=   6.2s\n",
      "[CV]  min_samples_split=3, max_depth=3, criterion=gini, max_features=1, bootstrap=False, min_samples_leaf=1, score=0.0, total=   5.8s\n",
      "[CV] min_samples_split=2, max_depth=3, criterion=gini, max_features=1, bootstrap=False, min_samples_leaf=3 \n",
      "[CV] min_samples_split=2, max_depth=3, criterion=gini, max_features=1, bootstrap=False, min_samples_leaf=3 \n"
     ]
    },
    {
     "name": "stderr",
     "output_type": "stream",
     "text": [
      "/home/gaabrielfranco/Documents/github/data-mining-w2/venv/lib/python3.5/site-packages/sklearn/metrics/classification.py:1135: UndefinedMetricWarning: F-score is ill-defined and being set to 0.0 due to no predicted samples.\n",
      "  'precision', 'predicted', average, warn_for)\n"
     ]
    },
    {
     "name": "stdout",
     "output_type": "stream",
     "text": [
      "[CV]  min_samples_split=10, max_depth=3, criterion=gini, max_features=1, bootstrap=False, min_samples_leaf=1, score=0.0, total=   6.1s\n",
      "[CV] min_samples_split=2, max_depth=3, criterion=gini, max_features=1, bootstrap=False, min_samples_leaf=3 \n"
     ]
    },
    {
     "name": "stderr",
     "output_type": "stream",
     "text": [
      "/home/gaabrielfranco/Documents/github/data-mining-w2/venv/lib/python3.5/site-packages/sklearn/metrics/classification.py:1135: UndefinedMetricWarning: F-score is ill-defined and being set to 0.0 due to no predicted samples.\n",
      "  'precision', 'predicted', average, warn_for)\n"
     ]
    },
    {
     "name": "stdout",
     "output_type": "stream",
     "text": [
      "[CV]  min_samples_split=10, max_depth=3, criterion=gini, max_features=1, bootstrap=False, min_samples_leaf=1, score=0.0, total=   6.0s\n",
      "[CV] min_samples_split=3, max_depth=3, criterion=gini, max_features=1, bootstrap=False, min_samples_leaf=3 \n"
     ]
    },
    {
     "name": "stderr",
     "output_type": "stream",
     "text": [
      "/home/gaabrielfranco/Documents/github/data-mining-w2/venv/lib/python3.5/site-packages/sklearn/metrics/classification.py:1135: UndefinedMetricWarning: F-score is ill-defined and being set to 0.0 due to no predicted samples.\n",
      "  'precision', 'predicted', average, warn_for)\n",
      "/home/gaabrielfranco/Documents/github/data-mining-w2/venv/lib/python3.5/site-packages/sklearn/metrics/classification.py:1135: UndefinedMetricWarning: F-score is ill-defined and being set to 0.0 due to no predicted samples.\n",
      "  'precision', 'predicted', average, warn_for)\n",
      "/home/gaabrielfranco/Documents/github/data-mining-w2/venv/lib/python3.5/site-packages/sklearn/metrics/classification.py:1135: UndefinedMetricWarning: F-score is ill-defined and being set to 0.0 due to no predicted samples.\n",
      "  'precision', 'predicted', average, warn_for)\n"
     ]
    },
    {
     "name": "stdout",
     "output_type": "stream",
     "text": [
      "[CV]  min_samples_split=2, max_depth=3, criterion=gini, max_features=1, bootstrap=False, min_samples_leaf=3, score=0.0, total=   5.7s\n",
      "[CV] min_samples_split=3, max_depth=3, criterion=gini, max_features=1, bootstrap=False, min_samples_leaf=3 \n",
      "[CV]  min_samples_split=2, max_depth=3, criterion=gini, max_features=1, bootstrap=False, min_samples_leaf=3, score=0.0, total=   5.8s\n",
      "[CV] min_samples_split=3, max_depth=3, criterion=gini, max_features=1, bootstrap=False, min_samples_leaf=3 \n",
      "[CV]  min_samples_split=10, max_depth=3, criterion=gini, max_features=1, bootstrap=False, min_samples_leaf=1, score=0.0, total=   5.9s\n",
      "[CV] min_samples_split=10, max_depth=3, criterion=gini, max_features=1, bootstrap=False, min_samples_leaf=3 \n"
     ]
    },
    {
     "name": "stderr",
     "output_type": "stream",
     "text": [
      "/home/gaabrielfranco/Documents/github/data-mining-w2/venv/lib/python3.5/site-packages/sklearn/metrics/classification.py:1135: UndefinedMetricWarning: F-score is ill-defined and being set to 0.0 due to no predicted samples.\n",
      "  'precision', 'predicted', average, warn_for)\n"
     ]
    },
    {
     "name": "stdout",
     "output_type": "stream",
     "text": [
      "[CV]  min_samples_split=10, max_depth=None, criterion=entropy, max_features=10, bootstrap=True, min_samples_leaf=10, score=0.6722348772462667, total=  29.7s\n",
      "[CV] min_samples_split=10, max_depth=3, criterion=gini, max_features=1, bootstrap=False, min_samples_leaf=3 \n",
      "[CV]  min_samples_split=2, max_depth=3, criterion=gini, max_features=1, bootstrap=False, min_samples_leaf=3, score=0.0, total=   6.5s\n",
      "[CV] min_samples_split=10, max_depth=3, criterion=gini, max_features=1, bootstrap=False, min_samples_leaf=3 \n"
     ]
    },
    {
     "name": "stderr",
     "output_type": "stream",
     "text": [
      "/home/gaabrielfranco/Documents/github/data-mining-w2/venv/lib/python3.5/site-packages/sklearn/metrics/classification.py:1135: UndefinedMetricWarning: F-score is ill-defined and being set to 0.0 due to no predicted samples.\n",
      "  'precision', 'predicted', average, warn_for)\n"
     ]
    },
    {
     "name": "stdout",
     "output_type": "stream",
     "text": [
      "[CV]  min_samples_split=3, max_depth=3, criterion=gini, max_features=1, bootstrap=False, min_samples_leaf=3, score=0.0, total=   5.9s\n",
      "[CV] min_samples_split=2, max_depth=3, criterion=gini, max_features=1, bootstrap=False, min_samples_leaf=10 \n"
     ]
    },
    {
     "name": "stderr",
     "output_type": "stream",
     "text": [
      "/home/gaabrielfranco/Documents/github/data-mining-w2/venv/lib/python3.5/site-packages/sklearn/metrics/classification.py:1135: UndefinedMetricWarning: F-score is ill-defined and being set to 0.0 due to no predicted samples.\n",
      "  'precision', 'predicted', average, warn_for)\n",
      "/home/gaabrielfranco/Documents/github/data-mining-w2/venv/lib/python3.5/site-packages/sklearn/metrics/classification.py:1135: UndefinedMetricWarning: F-score is ill-defined and being set to 0.0 due to no predicted samples.\n",
      "  'precision', 'predicted', average, warn_for)\n",
      "/home/gaabrielfranco/Documents/github/data-mining-w2/venv/lib/python3.5/site-packages/sklearn/metrics/classification.py:1135: UndefinedMetricWarning: F-score is ill-defined and being set to 0.0 due to no predicted samples.\n",
      "  'precision', 'predicted', average, warn_for)\n"
     ]
    },
    {
     "name": "stdout",
     "output_type": "stream",
     "text": [
      "[CV]  min_samples_split=10, max_depth=None, criterion=entropy, max_features=10, bootstrap=True, min_samples_leaf=10, score=0.6642449403217436, total=  32.2s\n",
      "[CV] min_samples_split=2, max_depth=3, criterion=gini, max_features=1, bootstrap=False, min_samples_leaf=10 \n",
      "[CV]  min_samples_split=10, max_depth=None, criterion=entropy, max_features=10, bootstrap=True, min_samples_leaf=10, score=0.6634639696586598, total=  30.1s\n",
      "[CV] min_samples_split=2, max_depth=3, criterion=gini, max_features=1, bootstrap=False, min_samples_leaf=10 \n"
     ]
    },
    {
     "name": "stderr",
     "output_type": "stream",
     "text": [
      "/home/gaabrielfranco/Documents/github/data-mining-w2/venv/lib/python3.5/site-packages/sklearn/metrics/classification.py:1135: UndefinedMetricWarning: F-score is ill-defined and being set to 0.0 due to no predicted samples.\n",
      "  'precision', 'predicted', average, warn_for)\n",
      "/home/gaabrielfranco/Documents/github/data-mining-w2/venv/lib/python3.5/site-packages/sklearn/metrics/classification.py:1135: UndefinedMetricWarning: F-score is ill-defined and being set to 0.0 due to no predicted samples.\n",
      "  'precision', 'predicted', average, warn_for)\n"
     ]
    },
    {
     "name": "stdout",
     "output_type": "stream",
     "text": [
      "[CV]  min_samples_split=3, max_depth=3, criterion=gini, max_features=1, bootstrap=False, min_samples_leaf=3, score=0.0, total=   6.5s\n",
      "[CV] min_samples_split=3, max_depth=3, criterion=gini, max_features=1, bootstrap=False, min_samples_leaf=10 \n",
      "[CV]  min_samples_split=3, max_depth=3, criterion=gini, max_features=1, bootstrap=False, min_samples_leaf=3, score=0.0, total=   6.6s\n",
      "[CV] min_samples_split=3, max_depth=3, criterion=gini, max_features=1, bootstrap=False, min_samples_leaf=10 \n",
      "[CV]  min_samples_split=10, max_depth=3, criterion=gini, max_features=1, bootstrap=False, min_samples_leaf=3, score=0.0, total=   6.4s\n",
      "[CV] min_samples_split=3, max_depth=3, criterion=gini, max_features=1, bootstrap=False, min_samples_leaf=10 \n",
      "[CV]  min_samples_split=10, max_depth=3, criterion=gini, max_features=1, bootstrap=False, min_samples_leaf=3, score=0.0, total=   6.6s\n",
      "[CV] min_samples_split=10, max_depth=3, criterion=gini, max_features=1, bootstrap=False, min_samples_leaf=10 \n",
      "[CV]  min_samples_split=10, max_depth=3, criterion=gini, max_features=1, bootstrap=False, min_samples_leaf=3, score=0.0, total=   7.0s\n",
      "[CV] min_samples_split=10, max_depth=3, criterion=gini, max_features=1, bootstrap=False, min_samples_leaf=10 \n"
     ]
    },
    {
     "name": "stderr",
     "output_type": "stream",
     "text": [
      "/home/gaabrielfranco/Documents/github/data-mining-w2/venv/lib/python3.5/site-packages/sklearn/metrics/classification.py:1135: UndefinedMetricWarning: F-score is ill-defined and being set to 0.0 due to no predicted samples.\n",
      "  'precision', 'predicted', average, warn_for)\n"
     ]
    },
    {
     "name": "stdout",
     "output_type": "stream",
     "text": [
      "[CV]  min_samples_split=2, max_depth=3, criterion=gini, max_features=1, bootstrap=False, min_samples_leaf=10, score=0.0, total=   6.0s\n",
      "[CV] min_samples_split=10, max_depth=3, criterion=gini, max_features=1, bootstrap=False, min_samples_leaf=10 \n"
     ]
    },
    {
     "name": "stderr",
     "output_type": "stream",
     "text": [
      "/home/gaabrielfranco/Documents/github/data-mining-w2/venv/lib/python3.5/site-packages/sklearn/metrics/classification.py:1135: UndefinedMetricWarning: F-score is ill-defined and being set to 0.0 due to no predicted samples.\n",
      "  'precision', 'predicted', average, warn_for)\n",
      "/home/gaabrielfranco/Documents/github/data-mining-w2/venv/lib/python3.5/site-packages/sklearn/metrics/classification.py:1135: UndefinedMetricWarning: F-score is ill-defined and being set to 0.0 due to no predicted samples.\n",
      "  'precision', 'predicted', average, warn_for)\n",
      "/home/gaabrielfranco/Documents/github/data-mining-w2/venv/lib/python3.5/site-packages/sklearn/metrics/classification.py:1135: UndefinedMetricWarning: F-score is ill-defined and being set to 0.0 due to no predicted samples.\n",
      "  'precision', 'predicted', average, warn_for)\n",
      "/home/gaabrielfranco/Documents/github/data-mining-w2/venv/lib/python3.5/site-packages/sklearn/metrics/classification.py:1135: UndefinedMetricWarning: F-score is ill-defined and being set to 0.0 due to no predicted samples.\n",
      "  'precision', 'predicted', average, warn_for)\n",
      "/home/gaabrielfranco/Documents/github/data-mining-w2/venv/lib/python3.5/site-packages/sklearn/metrics/classification.py:1135: UndefinedMetricWarning: F-score is ill-defined and being set to 0.0 due to no predicted samples.\n",
      "  'precision', 'predicted', average, warn_for)\n"
     ]
    },
    {
     "name": "stdout",
     "output_type": "stream",
     "text": [
      "[CV]  min_samples_split=2, max_depth=3, criterion=gini, max_features=1, bootstrap=False, min_samples_leaf=10, score=0.0, total=   5.7s\n",
      "[CV] min_samples_split=2, max_depth=3, criterion=gini, max_features=3, bootstrap=False, min_samples_leaf=1 \n",
      "[CV]  min_samples_split=2, max_depth=3, criterion=gini, max_features=1, bootstrap=False, min_samples_leaf=10, score=0.0, total=   5.8s\n",
      "[CV] min_samples_split=2, max_depth=3, criterion=gini, max_features=3, bootstrap=False, min_samples_leaf=1 \n",
      "[CV]  min_samples_split=3, max_depth=3, criterion=gini, max_features=1, bootstrap=False, min_samples_leaf=10, score=0.0, total=   5.8s\n",
      "[CV] min_samples_split=2, max_depth=3, criterion=gini, max_features=3, bootstrap=False, min_samples_leaf=1 \n"
     ]
    },
    {
     "name": "stderr",
     "output_type": "stream",
     "text": [
      "/home/gaabrielfranco/Documents/github/data-mining-w2/venv/lib/python3.5/site-packages/sklearn/metrics/classification.py:1135: UndefinedMetricWarning: F-score is ill-defined and being set to 0.0 due to no predicted samples.\n",
      "  'precision', 'predicted', average, warn_for)\n"
     ]
    },
    {
     "name": "stdout",
     "output_type": "stream",
     "text": [
      "[CV]  min_samples_split=3, max_depth=3, criterion=gini, max_features=1, bootstrap=False, min_samples_leaf=10, score=0.0, total=   6.0s\n",
      "[CV] min_samples_split=3, max_depth=3, criterion=gini, max_features=3, bootstrap=False, min_samples_leaf=1 \n"
     ]
    },
    {
     "name": "stderr",
     "output_type": "stream",
     "text": [
      "/home/gaabrielfranco/Documents/github/data-mining-w2/venv/lib/python3.5/site-packages/sklearn/metrics/classification.py:1135: UndefinedMetricWarning: F-score is ill-defined and being set to 0.0 due to no predicted samples.\n",
      "  'precision', 'predicted', average, warn_for)\n"
     ]
    },
    {
     "name": "stdout",
     "output_type": "stream",
     "text": [
      "[CV]  min_samples_split=3, max_depth=3, criterion=gini, max_features=1, bootstrap=False, min_samples_leaf=10, score=0.0, total=   5.8s\n",
      "[CV] min_samples_split=3, max_depth=3, criterion=gini, max_features=3, bootstrap=False, min_samples_leaf=1 \n",
      "[CV]  min_samples_split=10, max_depth=3, criterion=gini, max_features=1, bootstrap=False, min_samples_leaf=10, score=0.0, total=   6.3s\n",
      "[CV] min_samples_split=3, max_depth=3, criterion=gini, max_features=3, bootstrap=False, min_samples_leaf=1 \n",
      "[CV]  min_samples_split=10, max_depth=3, criterion=gini, max_features=1, bootstrap=False, min_samples_leaf=10, score=0.0, total=   6.6s\n",
      "[CV] min_samples_split=10, max_depth=3, criterion=gini, max_features=3, bootstrap=False, min_samples_leaf=1 \n"
     ]
    },
    {
     "name": "stderr",
     "output_type": "stream",
     "text": [
      "[Parallel(n_jobs=-1)]: Done 349 tasks      | elapsed: 12.6min\n",
      "/home/gaabrielfranco/Documents/github/data-mining-w2/venv/lib/python3.5/site-packages/sklearn/metrics/classification.py:1135: UndefinedMetricWarning: F-score is ill-defined and being set to 0.0 due to no predicted samples.\n",
      "  'precision', 'predicted', average, warn_for)\n"
     ]
    },
    {
     "name": "stdout",
     "output_type": "stream",
     "text": [
      "[CV]  min_samples_split=10, max_depth=3, criterion=gini, max_features=1, bootstrap=False, min_samples_leaf=10, score=0.0, total=   6.0s\n",
      "[CV] min_samples_split=10, max_depth=3, criterion=gini, max_features=3, bootstrap=False, min_samples_leaf=1 \n"
     ]
    },
    {
     "name": "stderr",
     "output_type": "stream",
     "text": [
      "/home/gaabrielfranco/Documents/github/data-mining-w2/venv/lib/python3.5/site-packages/sklearn/metrics/classification.py:1135: UndefinedMetricWarning: F-score is ill-defined and being set to 0.0 due to no predicted samples.\n",
      "  'precision', 'predicted', average, warn_for)\n",
      "/home/gaabrielfranco/Documents/github/data-mining-w2/venv/lib/python3.5/site-packages/sklearn/metrics/classification.py:1135: UndefinedMetricWarning: F-score is ill-defined and being set to 0.0 due to no predicted samples.\n",
      "  'precision', 'predicted', average, warn_for)\n",
      "/home/gaabrielfranco/Documents/github/data-mining-w2/venv/lib/python3.5/site-packages/sklearn/metrics/classification.py:1135: UndefinedMetricWarning: F-score is ill-defined and being set to 0.0 due to no predicted samples.\n",
      "  'precision', 'predicted', average, warn_for)\n",
      "/home/gaabrielfranco/Documents/github/data-mining-w2/venv/lib/python3.5/site-packages/sklearn/metrics/classification.py:1135: UndefinedMetricWarning: F-score is ill-defined and being set to 0.0 due to no predicted samples.\n",
      "  'precision', 'predicted', average, warn_for)\n",
      "/home/gaabrielfranco/Documents/github/data-mining-w2/venv/lib/python3.5/site-packages/sklearn/metrics/classification.py:1135: UndefinedMetricWarning: F-score is ill-defined and being set to 0.0 due to no predicted samples.\n",
      "  'precision', 'predicted', average, warn_for)\n"
     ]
    },
    {
     "name": "stdout",
     "output_type": "stream",
     "text": [
      "[CV]  min_samples_split=2, max_depth=3, criterion=gini, max_features=3, bootstrap=False, min_samples_leaf=1, score=0.0, total=   9.1s\n",
      "[CV] min_samples_split=10, max_depth=3, criterion=gini, max_features=3, bootstrap=False, min_samples_leaf=1 \n",
      "[CV]  min_samples_split=2, max_depth=3, criterion=gini, max_features=3, bootstrap=False, min_samples_leaf=1, score=0.0, total=   8.7s\n",
      "[CV] min_samples_split=2, max_depth=3, criterion=gini, max_features=3, bootstrap=False, min_samples_leaf=3 \n"
     ]
    },
    {
     "name": "stderr",
     "output_type": "stream",
     "text": [
      "/home/gaabrielfranco/Documents/github/data-mining-w2/venv/lib/python3.5/site-packages/sklearn/metrics/classification.py:1135: UndefinedMetricWarning: F-score is ill-defined and being set to 0.0 due to no predicted samples.\n",
      "  'precision', 'predicted', average, warn_for)\n",
      "/home/gaabrielfranco/Documents/github/data-mining-w2/venv/lib/python3.5/site-packages/sklearn/metrics/classification.py:1135: UndefinedMetricWarning: F-score is ill-defined and being set to 0.0 due to no predicted samples.\n",
      "  'precision', 'predicted', average, warn_for)\n"
     ]
    },
    {
     "name": "stdout",
     "output_type": "stream",
     "text": [
      "[CV]  min_samples_split=3, max_depth=3, criterion=gini, max_features=3, bootstrap=False, min_samples_leaf=1, score=0.0, total=   9.2s\n",
      "[CV] min_samples_split=2, max_depth=3, criterion=gini, max_features=3, bootstrap=False, min_samples_leaf=3 \n",
      "[CV]  min_samples_split=3, max_depth=3, criterion=gini, max_features=3, bootstrap=False, min_samples_leaf=1, score=0.0, total=   9.4s\n",
      "[CV] min_samples_split=2, max_depth=3, criterion=gini, max_features=3, bootstrap=False, min_samples_leaf=3 \n",
      "[CV]  min_samples_split=2, max_depth=3, criterion=gini, max_features=3, bootstrap=False, min_samples_leaf=1, score=0.0, total=   9.5s\n",
      "[CV] min_samples_split=3, max_depth=3, criterion=gini, max_features=3, bootstrap=False, min_samples_leaf=3 \n",
      "[CV]  min_samples_split=3, max_depth=3, criterion=gini, max_features=3, bootstrap=False, min_samples_leaf=1, score=0.0, total=   9.7s\n",
      "[CV] min_samples_split=3, max_depth=3, criterion=gini, max_features=3, bootstrap=False, min_samples_leaf=3 \n",
      "[CV]  min_samples_split=10, max_depth=3, criterion=gini, max_features=3, bootstrap=False, min_samples_leaf=1, score=0.0, total=   9.5s\n",
      "[CV] min_samples_split=3, max_depth=3, criterion=gini, max_features=3, bootstrap=False, min_samples_leaf=3 \n"
     ]
    },
    {
     "name": "stderr",
     "output_type": "stream",
     "text": [
      "/home/gaabrielfranco/Documents/github/data-mining-w2/venv/lib/python3.5/site-packages/sklearn/metrics/classification.py:1135: UndefinedMetricWarning: F-score is ill-defined and being set to 0.0 due to no predicted samples.\n",
      "  'precision', 'predicted', average, warn_for)\n"
     ]
    },
    {
     "name": "stdout",
     "output_type": "stream",
     "text": [
      "[CV]  min_samples_split=10, max_depth=3, criterion=gini, max_features=3, bootstrap=False, min_samples_leaf=1, score=0.0, total=   9.6s\n",
      "[CV] min_samples_split=10, max_depth=3, criterion=gini, max_features=3, bootstrap=False, min_samples_leaf=3 \n"
     ]
    },
    {
     "name": "stderr",
     "output_type": "stream",
     "text": [
      "/home/gaabrielfranco/Documents/github/data-mining-w2/venv/lib/python3.5/site-packages/sklearn/metrics/classification.py:1135: UndefinedMetricWarning: F-score is ill-defined and being set to 0.0 due to no predicted samples.\n",
      "  'precision', 'predicted', average, warn_for)\n",
      "/home/gaabrielfranco/Documents/github/data-mining-w2/venv/lib/python3.5/site-packages/sklearn/metrics/classification.py:1135: UndefinedMetricWarning: F-score is ill-defined and being set to 0.0 due to no predicted samples.\n",
      "  'precision', 'predicted', average, warn_for)\n",
      "/home/gaabrielfranco/Documents/github/data-mining-w2/venv/lib/python3.5/site-packages/sklearn/metrics/classification.py:1135: UndefinedMetricWarning: F-score is ill-defined and being set to 0.0 due to no predicted samples.\n",
      "  'precision', 'predicted', average, warn_for)\n",
      "/home/gaabrielfranco/Documents/github/data-mining-w2/venv/lib/python3.5/site-packages/sklearn/metrics/classification.py:1135: UndefinedMetricWarning: F-score is ill-defined and being set to 0.0 due to no predicted samples.\n",
      "  'precision', 'predicted', average, warn_for)\n",
      "/home/gaabrielfranco/Documents/github/data-mining-w2/venv/lib/python3.5/site-packages/sklearn/metrics/classification.py:1135: UndefinedMetricWarning: F-score is ill-defined and being set to 0.0 due to no predicted samples.\n",
      "  'precision', 'predicted', average, warn_for)\n"
     ]
    },
    {
     "name": "stdout",
     "output_type": "stream",
     "text": [
      "[CV]  min_samples_split=2, max_depth=3, criterion=gini, max_features=3, bootstrap=False, min_samples_leaf=3, score=0.0, total=   8.8s\n",
      "[CV] min_samples_split=10, max_depth=3, criterion=gini, max_features=3, bootstrap=False, min_samples_leaf=3 \n",
      "[CV]  min_samples_split=10, max_depth=3, criterion=gini, max_features=3, bootstrap=False, min_samples_leaf=1, score=0.0, total=   9.1s\n",
      "[CV] min_samples_split=10, max_depth=3, criterion=gini, max_features=3, bootstrap=False, min_samples_leaf=3 \n"
     ]
    },
    {
     "name": "stderr",
     "output_type": "stream",
     "text": [
      "/home/gaabrielfranco/Documents/github/data-mining-w2/venv/lib/python3.5/site-packages/sklearn/metrics/classification.py:1135: UndefinedMetricWarning: F-score is ill-defined and being set to 0.0 due to no predicted samples.\n",
      "  'precision', 'predicted', average, warn_for)\n",
      "/home/gaabrielfranco/Documents/github/data-mining-w2/venv/lib/python3.5/site-packages/sklearn/metrics/classification.py:1135: UndefinedMetricWarning: F-score is ill-defined and being set to 0.0 due to no predicted samples.\n",
      "  'precision', 'predicted', average, warn_for)\n"
     ]
    },
    {
     "name": "stdout",
     "output_type": "stream",
     "text": [
      "[CV]  min_samples_split=2, max_depth=3, criterion=gini, max_features=3, bootstrap=False, min_samples_leaf=3, score=0.0, total=   9.3s\n",
      "[CV] min_samples_split=2, max_depth=3, criterion=gini, max_features=3, bootstrap=False, min_samples_leaf=10 \n",
      "[CV]  min_samples_split=3, max_depth=3, criterion=gini, max_features=3, bootstrap=False, min_samples_leaf=3, score=0.0, total=   9.2s\n",
      "[CV] min_samples_split=2, max_depth=3, criterion=gini, max_features=3, bootstrap=False, min_samples_leaf=10 \n",
      "[CV]  min_samples_split=2, max_depth=3, criterion=gini, max_features=3, bootstrap=False, min_samples_leaf=3, score=0.0, total=   9.7s\n",
      "[CV] min_samples_split=2, max_depth=3, criterion=gini, max_features=3, bootstrap=False, min_samples_leaf=10 \n",
      "[CV]  min_samples_split=3, max_depth=3, criterion=gini, max_features=3, bootstrap=False, min_samples_leaf=3, score=0.0, total=   9.3s\n",
      "[CV] min_samples_split=3, max_depth=3, criterion=gini, max_features=3, bootstrap=False, min_samples_leaf=10 \n",
      "[CV]  min_samples_split=3, max_depth=3, criterion=gini, max_features=3, bootstrap=False, min_samples_leaf=3, score=0.0, total=   9.6s\n",
      "[CV] min_samples_split=3, max_depth=3, criterion=gini, max_features=3, bootstrap=False, min_samples_leaf=10 \n"
     ]
    },
    {
     "name": "stderr",
     "output_type": "stream",
     "text": [
      "/home/gaabrielfranco/Documents/github/data-mining-w2/venv/lib/python3.5/site-packages/sklearn/metrics/classification.py:1135: UndefinedMetricWarning: F-score is ill-defined and being set to 0.0 due to no predicted samples.\n",
      "  'precision', 'predicted', average, warn_for)\n"
     ]
    },
    {
     "name": "stdout",
     "output_type": "stream",
     "text": [
      "[CV]  min_samples_split=10, max_depth=3, criterion=gini, max_features=3, bootstrap=False, min_samples_leaf=3, score=0.0, total=   9.6s\n",
      "[CV] min_samples_split=3, max_depth=3, criterion=gini, max_features=3, bootstrap=False, min_samples_leaf=10 \n"
     ]
    },
    {
     "name": "stderr",
     "output_type": "stream",
     "text": [
      "/home/gaabrielfranco/Documents/github/data-mining-w2/venv/lib/python3.5/site-packages/sklearn/metrics/classification.py:1135: UndefinedMetricWarning: F-score is ill-defined and being set to 0.0 due to no predicted samples.\n",
      "  'precision', 'predicted', average, warn_for)\n",
      "/home/gaabrielfranco/Documents/github/data-mining-w2/venv/lib/python3.5/site-packages/sklearn/metrics/classification.py:1135: UndefinedMetricWarning: F-score is ill-defined and being set to 0.0 due to no predicted samples.\n",
      "  'precision', 'predicted', average, warn_for)\n",
      "/home/gaabrielfranco/Documents/github/data-mining-w2/venv/lib/python3.5/site-packages/sklearn/metrics/classification.py:1135: UndefinedMetricWarning: F-score is ill-defined and being set to 0.0 due to no predicted samples.\n",
      "  'precision', 'predicted', average, warn_for)\n",
      "/home/gaabrielfranco/Documents/github/data-mining-w2/venv/lib/python3.5/site-packages/sklearn/metrics/classification.py:1135: UndefinedMetricWarning: F-score is ill-defined and being set to 0.0 due to no predicted samples.\n",
      "  'precision', 'predicted', average, warn_for)\n"
     ]
    },
    {
     "name": "stdout",
     "output_type": "stream",
     "text": [
      "[CV]  min_samples_split=10, max_depth=3, criterion=gini, max_features=3, bootstrap=False, min_samples_leaf=3, score=0.0, total=   8.8s\n",
      "[CV] min_samples_split=10, max_depth=3, criterion=gini, max_features=3, bootstrap=False, min_samples_leaf=10 \n",
      "[CV]  min_samples_split=10, max_depth=3, criterion=gini, max_features=3, bootstrap=False, min_samples_leaf=3, score=0.0, total=   9.0s\n",
      "[CV] min_samples_split=10, max_depth=3, criterion=gini, max_features=3, bootstrap=False, min_samples_leaf=10 \n"
     ]
    },
    {
     "name": "stderr",
     "output_type": "stream",
     "text": [
      "/home/gaabrielfranco/Documents/github/data-mining-w2/venv/lib/python3.5/site-packages/sklearn/metrics/classification.py:1135: UndefinedMetricWarning: F-score is ill-defined and being set to 0.0 due to no predicted samples.\n",
      "  'precision', 'predicted', average, warn_for)\n",
      "/home/gaabrielfranco/Documents/github/data-mining-w2/venv/lib/python3.5/site-packages/sklearn/metrics/classification.py:1135: UndefinedMetricWarning: F-score is ill-defined and being set to 0.0 due to no predicted samples.\n",
      "  'precision', 'predicted', average, warn_for)\n",
      "/home/gaabrielfranco/Documents/github/data-mining-w2/venv/lib/python3.5/site-packages/sklearn/metrics/classification.py:1135: UndefinedMetricWarning: F-score is ill-defined and being set to 0.0 due to no predicted samples.\n",
      "  'precision', 'predicted', average, warn_for)\n"
     ]
    },
    {
     "name": "stdout",
     "output_type": "stream",
     "text": [
      "[CV]  min_samples_split=2, max_depth=3, criterion=gini, max_features=3, bootstrap=False, min_samples_leaf=10, score=0.0, total=   9.3s\n",
      "[CV] min_samples_split=10, max_depth=3, criterion=gini, max_features=3, bootstrap=False, min_samples_leaf=10 \n",
      "[CV]  min_samples_split=2, max_depth=3, criterion=gini, max_features=3, bootstrap=False, min_samples_leaf=10, score=0.0, total=   9.2s\n",
      "[CV] min_samples_split=2, max_depth=3, criterion=gini, max_features=10, bootstrap=False, min_samples_leaf=1 \n",
      "[CV]  min_samples_split=2, max_depth=3, criterion=gini, max_features=3, bootstrap=False, min_samples_leaf=10, score=0.0, total=   9.4s\n",
      "[CV] min_samples_split=2, max_depth=3, criterion=gini, max_features=10, bootstrap=False, min_samples_leaf=1 \n",
      "[CV]  min_samples_split=3, max_depth=3, criterion=gini, max_features=3, bootstrap=False, min_samples_leaf=10, score=0.0, total=   9.5s\n",
      "[CV] min_samples_split=2, max_depth=3, criterion=gini, max_features=10, bootstrap=False, min_samples_leaf=1 \n",
      "[CV]  min_samples_split=3, max_depth=3, criterion=gini, max_features=3, bootstrap=False, min_samples_leaf=10, score=0.0, total=   9.7s\n",
      "[CV] min_samples_split=3, max_depth=3, criterion=gini, max_features=10, bootstrap=False, min_samples_leaf=1 \n"
     ]
    },
    {
     "name": "stderr",
     "output_type": "stream",
     "text": [
      "/home/gaabrielfranco/Documents/github/data-mining-w2/venv/lib/python3.5/site-packages/sklearn/metrics/classification.py:1135: UndefinedMetricWarning: F-score is ill-defined and being set to 0.0 due to no predicted samples.\n",
      "  'precision', 'predicted', average, warn_for)\n"
     ]
    },
    {
     "name": "stdout",
     "output_type": "stream",
     "text": [
      "[CV]  min_samples_split=3, max_depth=3, criterion=gini, max_features=3, bootstrap=False, min_samples_leaf=10, score=0.0, total=   9.6s\n",
      "[CV] min_samples_split=3, max_depth=3, criterion=gini, max_features=10, bootstrap=False, min_samples_leaf=1 \n"
     ]
    },
    {
     "name": "stderr",
     "output_type": "stream",
     "text": [
      "/home/gaabrielfranco/Documents/github/data-mining-w2/venv/lib/python3.5/site-packages/sklearn/metrics/classification.py:1135: UndefinedMetricWarning: F-score is ill-defined and being set to 0.0 due to no predicted samples.\n",
      "  'precision', 'predicted', average, warn_for)\n",
      "/home/gaabrielfranco/Documents/github/data-mining-w2/venv/lib/python3.5/site-packages/sklearn/metrics/classification.py:1135: UndefinedMetricWarning: F-score is ill-defined and being set to 0.0 due to no predicted samples.\n",
      "  'precision', 'predicted', average, warn_for)\n"
     ]
    },
    {
     "name": "stdout",
     "output_type": "stream",
     "text": [
      "[CV]  min_samples_split=10, max_depth=3, criterion=gini, max_features=3, bootstrap=False, min_samples_leaf=10, score=0.0, total=   8.6s\n",
      "[CV] min_samples_split=3, max_depth=3, criterion=gini, max_features=10, bootstrap=False, min_samples_leaf=1 \n"
     ]
    },
    {
     "name": "stderr",
     "output_type": "stream",
     "text": [
      "/home/gaabrielfranco/Documents/github/data-mining-w2/venv/lib/python3.5/site-packages/sklearn/metrics/classification.py:1135: UndefinedMetricWarning: F-score is ill-defined and being set to 0.0 due to no predicted samples.\n",
      "  'precision', 'predicted', average, warn_for)\n",
      "[Parallel(n_jobs=-1)]: Done 376 tasks      | elapsed: 13.3min\n"
     ]
    },
    {
     "name": "stdout",
     "output_type": "stream",
     "text": [
      "[CV]  min_samples_split=10, max_depth=3, criterion=gini, max_features=3, bootstrap=False, min_samples_leaf=10, score=0.0, total=   9.3s\n",
      "[CV] min_samples_split=10, max_depth=3, criterion=gini, max_features=10, bootstrap=False, min_samples_leaf=1 \n",
      "[CV]  min_samples_split=10, max_depth=3, criterion=gini, max_features=3, bootstrap=False, min_samples_leaf=10, score=0.0, total=   9.3s\n",
      "[CV] min_samples_split=10, max_depth=3, criterion=gini, max_features=10, bootstrap=False, min_samples_leaf=1 \n",
      "[CV]  min_samples_split=2, max_depth=3, criterion=gini, max_features=10, bootstrap=False, min_samples_leaf=1, score=0.2899884925201381, total=  18.1s\n",
      "[CV] min_samples_split=10, max_depth=3, criterion=gini, max_features=10, bootstrap=False, min_samples_leaf=1 \n",
      "[CV]  min_samples_split=2, max_depth=3, criterion=gini, max_features=10, bootstrap=False, min_samples_leaf=1, score=0.2529457973291438, total=  19.3s\n",
      "[CV] min_samples_split=2, max_depth=3, criterion=gini, max_features=10, bootstrap=False, min_samples_leaf=3 \n",
      "[CV]  min_samples_split=2, max_depth=3, criterion=gini, max_features=10, bootstrap=False, min_samples_leaf=1, score=0.2693053938688398, total=  19.1s\n",
      "[CV] min_samples_split=2, max_depth=3, criterion=gini, max_features=10, bootstrap=False, min_samples_leaf=3 \n",
      "[CV]  min_samples_split=3, max_depth=3, criterion=gini, max_features=10, bootstrap=False, min_samples_leaf=1, score=0.27307990690457723, total=  19.7s\n",
      "[CV] min_samples_split=2, max_depth=3, criterion=gini, max_features=10, bootstrap=False, min_samples_leaf=3 \n",
      "[CV]  min_samples_split=3, max_depth=3, criterion=gini, max_features=10, bootstrap=False, min_samples_leaf=1, score=0.2529457973291438, total=  19.5s\n",
      "[CV] min_samples_split=3, max_depth=3, criterion=gini, max_features=10, bootstrap=False, min_samples_leaf=3 \n",
      "[CV]  min_samples_split=3, max_depth=3, criterion=gini, max_features=10, bootstrap=False, min_samples_leaf=1, score=0.2709378618294095, total=  19.4s\n",
      "[CV] min_samples_split=3, max_depth=3, criterion=gini, max_features=10, bootstrap=False, min_samples_leaf=3 \n",
      "[CV]  min_samples_split=10, max_depth=3, criterion=gini, max_features=10, bootstrap=False, min_samples_leaf=1, score=0.26354775828460036, total=  21.2s\n",
      "[CV]  min_samples_split=10, max_depth=3, criterion=gini, max_features=10, bootstrap=False, min_samples_leaf=1, score=0.2529457973291438, total=  19.4s\n",
      "[CV] min_samples_split=3, max_depth=3, criterion=gini, max_features=10, bootstrap=False, min_samples_leaf=3 \n",
      "[CV] min_samples_split=10, max_depth=3, criterion=gini, max_features=10, bootstrap=False, min_samples_leaf=3 \n",
      "[CV]  min_samples_split=10, max_depth=3, criterion=gini, max_features=10, bootstrap=False, min_samples_leaf=1, score=0.290950744558992, total=  18.2s\n",
      "[CV] min_samples_split=10, max_depth=3, criterion=gini, max_features=10, bootstrap=False, min_samples_leaf=3 \n",
      "[CV]  min_samples_split=2, max_depth=3, criterion=gini, max_features=10, bootstrap=False, min_samples_leaf=3, score=0.23421992854307266, total=  18.5s\n",
      "[CV] min_samples_split=10, max_depth=3, criterion=gini, max_features=10, bootstrap=False, min_samples_leaf=3 \n",
      "[CV]  min_samples_split=2, max_depth=3, criterion=gini, max_features=10, bootstrap=False, min_samples_leaf=3, score=0.27307990690457723, total=  19.4s\n",
      "[CV] min_samples_split=2, max_depth=3, criterion=gini, max_features=10, bootstrap=False, min_samples_leaf=10 \n",
      "[CV]  min_samples_split=2, max_depth=3, criterion=gini, max_features=10, bootstrap=False, min_samples_leaf=3, score=0.2678018575851393, total=  19.5s\n",
      "[CV] min_samples_split=2, max_depth=3, criterion=gini, max_features=10, bootstrap=False, min_samples_leaf=10 \n",
      "[CV]  min_samples_split=3, max_depth=3, criterion=gini, max_features=10, bootstrap=False, min_samples_leaf=3, score=0.27307990690457723, total=  19.4s\n",
      "[CV] min_samples_split=2, max_depth=3, criterion=gini, max_features=10, bootstrap=False, min_samples_leaf=10 \n",
      "[CV]  min_samples_split=3, max_depth=3, criterion=gini, max_features=10, bootstrap=False, min_samples_leaf=3, score=0.2335186656076251, total=  19.4s\n",
      "[CV] min_samples_split=3, max_depth=3, criterion=gini, max_features=10, bootstrap=False, min_samples_leaf=10 \n",
      "[CV]  min_samples_split=10, max_depth=3, criterion=gini, max_features=10, bootstrap=False, min_samples_leaf=3, score=0.2744186046511628, total=  19.3s\n",
      "[CV] min_samples_split=3, max_depth=3, criterion=gini, max_features=10, bootstrap=False, min_samples_leaf=10 \n",
      "[CV]  min_samples_split=3, max_depth=3, criterion=gini, max_features=10, bootstrap=False, min_samples_leaf=3, score=0.23217115689381934, total=  20.7s\n",
      "[CV] min_samples_split=3, max_depth=3, criterion=gini, max_features=10, bootstrap=False, min_samples_leaf=10 \n",
      "[CV]  min_samples_split=10, max_depth=3, criterion=gini, max_features=10, bootstrap=False, min_samples_leaf=3, score=0.2555685814771395, total=  18.8s\n",
      "[CV] min_samples_split=10, max_depth=3, criterion=gini, max_features=10, bootstrap=False, min_samples_leaf=10 \n",
      "[CV]  min_samples_split=10, max_depth=3, criterion=gini, max_features=10, bootstrap=False, min_samples_leaf=3, score=0.23207920792079206, total=  18.5s\n",
      "[CV] min_samples_split=10, max_depth=3, criterion=gini, max_features=10, bootstrap=False, min_samples_leaf=10 \n",
      "[CV]  min_samples_split=2, max_depth=3, criterion=gini, max_features=10, bootstrap=False, min_samples_leaf=10, score=0.2713178294573643, total=  19.7s\n",
      "[CV] min_samples_split=10, max_depth=3, criterion=gini, max_features=10, bootstrap=False, min_samples_leaf=10 \n",
      "[CV]  min_samples_split=2, max_depth=3, criterion=gini, max_features=10, bootstrap=False, min_samples_leaf=10, score=0.27564847077042204, total=  19.3s\n",
      "[CV] min_samples_split=2, max_depth=None, criterion=gini, max_features=1, bootstrap=False, min_samples_leaf=1 \n",
      "[CV]  min_samples_split=2, max_depth=3, criterion=gini, max_features=10, bootstrap=False, min_samples_leaf=10, score=0.2679055361982191, total=  19.8s\n",
      "[CV] min_samples_split=2, max_depth=None, criterion=gini, max_features=1, bootstrap=False, min_samples_leaf=1 \n",
      "[CV]  min_samples_split=3, max_depth=3, criterion=gini, max_features=10, bootstrap=False, min_samples_leaf=10, score=0.2649006622516556, total=  19.4s\n",
      "[CV] min_samples_split=2, max_depth=None, criterion=gini, max_features=1, bootstrap=False, min_samples_leaf=1 \n",
      "[CV]  min_samples_split=3, max_depth=3, criterion=gini, max_features=10, bootstrap=False, min_samples_leaf=10, score=0.2526480972930561, total=  19.1s\n",
      "[CV] min_samples_split=3, max_depth=None, criterion=gini, max_features=1, bootstrap=False, min_samples_leaf=1 \n",
      "[CV]  min_samples_split=3, max_depth=3, criterion=gini, max_features=10, bootstrap=False, min_samples_leaf=10, score=0.2536203522504893, total=  19.9s\n",
      "[CV] min_samples_split=3, max_depth=None, criterion=gini, max_features=1, bootstrap=False, min_samples_leaf=1 \n",
      "[CV]  min_samples_split=10, max_depth=3, criterion=gini, max_features=10, bootstrap=False, min_samples_leaf=10, score=0.3243647234678625, total=  16.6s\n",
      "[CV] min_samples_split=3, max_depth=None, criterion=gini, max_features=1, bootstrap=False, min_samples_leaf=1 \n",
      "[CV]  min_samples_split=10, max_depth=3, criterion=gini, max_features=10, bootstrap=False, min_samples_leaf=10, score=0.2390185991294025, total=  16.1s\n",
      "[CV] min_samples_split=10, max_depth=None, criterion=gini, max_features=1, bootstrap=False, min_samples_leaf=1 \n",
      "[CV]  min_samples_split=10, max_depth=3, criterion=gini, max_features=10, bootstrap=False, min_samples_leaf=10, score=0.2846212700841622, total=  16.3s\n",
      "[CV] min_samples_split=10, max_depth=None, criterion=gini, max_features=1, bootstrap=False, min_samples_leaf=1 \n"
     ]
    },
    {
     "name": "stderr",
     "output_type": "stream",
     "text": [
      "[Parallel(n_jobs=-1)]: Done 405 tasks      | elapsed: 14.5min\n"
     ]
    },
    {
     "name": "stdout",
     "output_type": "stream",
     "text": [
      "[CV]  min_samples_split=2, max_depth=None, criterion=gini, max_features=1, bootstrap=False, min_samples_leaf=1, score=0.6429080541696365, total=  33.2s\n",
      "[CV] min_samples_split=10, max_depth=None, criterion=gini, max_features=1, bootstrap=False, min_samples_leaf=1 \n",
      "[CV]  min_samples_split=2, max_depth=None, criterion=gini, max_features=1, bootstrap=False, min_samples_leaf=1, score=0.6361457334611696, total=  31.9s\n",
      "[CV] min_samples_split=2, max_depth=None, criterion=gini, max_features=1, bootstrap=False, min_samples_leaf=3 \n",
      "[CV]  min_samples_split=2, max_depth=None, criterion=gini, max_features=1, bootstrap=False, min_samples_leaf=1, score=0.6282950423216446, total=  30.0s\n",
      "[CV] min_samples_split=2, max_depth=None, criterion=gini, max_features=1, bootstrap=False, min_samples_leaf=3 \n",
      "[CV]  min_samples_split=10, max_depth=None, criterion=gini, max_features=1, bootstrap=False, min_samples_leaf=1, score=0.6565260058881256, total=  23.8s\n",
      "[CV] min_samples_split=2, max_depth=None, criterion=gini, max_features=1, bootstrap=False, min_samples_leaf=3 \n",
      "[CV]  min_samples_split=3, max_depth=None, criterion=gini, max_features=1, bootstrap=False, min_samples_leaf=1, score=0.644481685420158, total=  30.2s\n",
      "[CV] min_samples_split=3, max_depth=None, criterion=gini, max_features=1, bootstrap=False, min_samples_leaf=3 \n",
      "[CV]  min_samples_split=3, max_depth=None, criterion=gini, max_features=1, bootstrap=False, min_samples_leaf=1, score=0.629186018088487, total=  27.3s\n",
      "[CV] min_samples_split=3, max_depth=None, criterion=gini, max_features=1, bootstrap=False, min_samples_leaf=3 \n",
      "[CV]  min_samples_split=3, max_depth=None, criterion=gini, max_features=1, bootstrap=False, min_samples_leaf=1, score=0.6437168993740974, total=  30.8s\n",
      "[CV] min_samples_split=3, max_depth=None, criterion=gini, max_features=1, bootstrap=False, min_samples_leaf=3 \n",
      "[CV]  min_samples_split=10, max_depth=None, criterion=gini, max_features=1, bootstrap=False, min_samples_leaf=1, score=0.6495128653509867, total=  25.6s\n",
      "[CV] min_samples_split=10, max_depth=None, criterion=gini, max_features=1, bootstrap=False, min_samples_leaf=3 \n",
      "[CV]  min_samples_split=2, max_depth=None, criterion=gini, max_features=1, bootstrap=False, min_samples_leaf=3, score=0.35124413992066356, total=  12.5s\n",
      "[CV] min_samples_split=10, max_depth=None, criterion=gini, max_features=1, bootstrap=False, min_samples_leaf=3 \n",
      "[CV]  min_samples_split=2, max_depth=None, criterion=gini, max_features=1, bootstrap=False, min_samples_leaf=3, score=0.37002509860164934, total=  13.7s\n",
      "[CV] min_samples_split=10, max_depth=None, criterion=gini, max_features=1, bootstrap=False, min_samples_leaf=3 \n",
      "[CV]  min_samples_split=2, max_depth=None, criterion=gini, max_features=1, bootstrap=False, min_samples_leaf=3, score=0.36992159657875984, total=  13.0s\n",
      "[CV] min_samples_split=2, max_depth=None, criterion=gini, max_features=1, bootstrap=False, min_samples_leaf=10 \n",
      "[CV]  min_samples_split=3, max_depth=None, criterion=gini, max_features=1, bootstrap=False, min_samples_leaf=3, score=0.35124413992066356, total=  14.4s\n",
      "[CV] min_samples_split=2, max_depth=None, criterion=gini, max_features=1, bootstrap=False, min_samples_leaf=10 \n",
      "[CV]  min_samples_split=3, max_depth=None, criterion=gini, max_features=1, bootstrap=False, min_samples_leaf=3, score=0.3753121655369248, total=  13.3s\n",
      "[CV] min_samples_split=2, max_depth=None, criterion=gini, max_features=1, bootstrap=False, min_samples_leaf=10 \n",
      "[CV]  min_samples_split=3, max_depth=None, criterion=gini, max_features=1, bootstrap=False, min_samples_leaf=3, score=0.36992159657875984, total=  14.1s\n",
      "[CV] min_samples_split=3, max_depth=None, criterion=gini, max_features=1, bootstrap=False, min_samples_leaf=10 \n",
      "[CV]  min_samples_split=10, max_depth=None, criterion=gini, max_features=1, bootstrap=False, min_samples_leaf=3, score=0.3625940523109997, total=  14.7s\n",
      "[CV] min_samples_split=3, max_depth=None, criterion=gini, max_features=1, bootstrap=False, min_samples_leaf=10 \n"
     ]
    },
    {
     "name": "stderr",
     "output_type": "stream",
     "text": [
      "/home/gaabrielfranco/Documents/github/data-mining-w2/venv/lib/python3.5/site-packages/sklearn/metrics/classification.py:1135: UndefinedMetricWarning: F-score is ill-defined and being set to 0.0 due to no predicted samples.\n",
      "  'precision', 'predicted', average, warn_for)\n"
     ]
    },
    {
     "name": "stdout",
     "output_type": "stream",
     "text": [
      "[CV]  min_samples_split=2, max_depth=None, criterion=gini, max_features=1, bootstrap=False, min_samples_leaf=10, score=0.0, total=   7.7s\n",
      "[CV] min_samples_split=3, max_depth=None, criterion=gini, max_features=1, bootstrap=False, min_samples_leaf=10 \n"
     ]
    },
    {
     "name": "stderr",
     "output_type": "stream",
     "text": [
      "/home/gaabrielfranco/Documents/github/data-mining-w2/venv/lib/python3.5/site-packages/sklearn/metrics/classification.py:1135: UndefinedMetricWarning: F-score is ill-defined and being set to 0.0 due to no predicted samples.\n",
      "  'precision', 'predicted', average, warn_for)\n",
      "/home/gaabrielfranco/Documents/github/data-mining-w2/venv/lib/python3.5/site-packages/sklearn/metrics/classification.py:1135: UndefinedMetricWarning: F-score is ill-defined and being set to 0.0 due to no predicted samples.\n",
      "  'precision', 'predicted', average, warn_for)\n"
     ]
    },
    {
     "name": "stdout",
     "output_type": "stream",
     "text": [
      "[CV]  min_samples_split=2, max_depth=None, criterion=gini, max_features=1, bootstrap=False, min_samples_leaf=10, score=0.0, total=   8.2s\n",
      "[CV] min_samples_split=10, max_depth=None, criterion=gini, max_features=1, bootstrap=False, min_samples_leaf=10 \n",
      "[CV]  min_samples_split=10, max_depth=None, criterion=gini, max_features=1, bootstrap=False, min_samples_leaf=3, score=0.36540540540540534, total=  14.4s\n",
      "[CV] min_samples_split=10, max_depth=None, criterion=gini, max_features=1, bootstrap=False, min_samples_leaf=10 \n",
      "[CV]  min_samples_split=2, max_depth=None, criterion=gini, max_features=1, bootstrap=False, min_samples_leaf=10, score=0.0, total=   8.0s\n",
      "[CV] min_samples_split=10, max_depth=None, criterion=gini, max_features=1, bootstrap=False, min_samples_leaf=10 \n"
     ]
    },
    {
     "name": "stderr",
     "output_type": "stream",
     "text": [
      "/home/gaabrielfranco/Documents/github/data-mining-w2/venv/lib/python3.5/site-packages/sklearn/metrics/classification.py:1135: UndefinedMetricWarning: F-score is ill-defined and being set to 0.0 due to no predicted samples.\n",
      "  'precision', 'predicted', average, warn_for)\n",
      "/home/gaabrielfranco/Documents/github/data-mining-w2/venv/lib/python3.5/site-packages/sklearn/metrics/classification.py:1135: UndefinedMetricWarning: F-score is ill-defined and being set to 0.0 due to no predicted samples.\n",
      "  'precision', 'predicted', average, warn_for)\n"
     ]
    },
    {
     "name": "stdout",
     "output_type": "stream",
     "text": [
      "[CV]  min_samples_split=10, max_depth=None, criterion=gini, max_features=1, bootstrap=False, min_samples_leaf=1, score=0.6400399400898653, total=  29.6s\n",
      "[CV] min_samples_split=2, max_depth=None, criterion=gini, max_features=3, bootstrap=False, min_samples_leaf=1 \n",
      "[CV]  min_samples_split=3, max_depth=None, criterion=gini, max_features=1, bootstrap=False, min_samples_leaf=10, score=0.0, total=   9.1s\n",
      "[CV] min_samples_split=2, max_depth=None, criterion=gini, max_features=3, bootstrap=False, min_samples_leaf=1 \n",
      "[CV]  min_samples_split=3, max_depth=None, criterion=gini, max_features=1, bootstrap=False, min_samples_leaf=10, score=0.0, total=   8.6s\n",
      "[CV] min_samples_split=2, max_depth=None, criterion=gini, max_features=3, bootstrap=False, min_samples_leaf=1 \n",
      "[CV]  min_samples_split=10, max_depth=None, criterion=gini, max_features=1, bootstrap=False, min_samples_leaf=3, score=0.37393162393162394, total=  15.1s\n",
      "[CV] min_samples_split=3, max_depth=None, criterion=gini, max_features=3, bootstrap=False, min_samples_leaf=1 \n"
     ]
    },
    {
     "name": "stderr",
     "output_type": "stream",
     "text": [
      "/home/gaabrielfranco/Documents/github/data-mining-w2/venv/lib/python3.5/site-packages/sklearn/metrics/classification.py:1135: UndefinedMetricWarning: F-score is ill-defined and being set to 0.0 due to no predicted samples.\n",
      "  'precision', 'predicted', average, warn_for)\n"
     ]
    },
    {
     "name": "stdout",
     "output_type": "stream",
     "text": [
      "[CV]  min_samples_split=3, max_depth=None, criterion=gini, max_features=1, bootstrap=False, min_samples_leaf=10, score=0.0, total=   8.1s\n",
      "[CV] min_samples_split=3, max_depth=None, criterion=gini, max_features=3, bootstrap=False, min_samples_leaf=1 \n"
     ]
    },
    {
     "name": "stderr",
     "output_type": "stream",
     "text": [
      "/home/gaabrielfranco/Documents/github/data-mining-w2/venv/lib/python3.5/site-packages/sklearn/metrics/classification.py:1135: UndefinedMetricWarning: F-score is ill-defined and being set to 0.0 due to no predicted samples.\n",
      "  'precision', 'predicted', average, warn_for)\n",
      "/home/gaabrielfranco/Documents/github/data-mining-w2/venv/lib/python3.5/site-packages/sklearn/metrics/classification.py:1135: UndefinedMetricWarning: F-score is ill-defined and being set to 0.0 due to no predicted samples.\n",
      "  'precision', 'predicted', average, warn_for)\n",
      "/home/gaabrielfranco/Documents/github/data-mining-w2/venv/lib/python3.5/site-packages/sklearn/metrics/classification.py:1135: UndefinedMetricWarning: F-score is ill-defined and being set to 0.0 due to no predicted samples.\n",
      "  'precision', 'predicted', average, warn_for)\n"
     ]
    },
    {
     "name": "stdout",
     "output_type": "stream",
     "text": [
      "[CV]  min_samples_split=10, max_depth=None, criterion=gini, max_features=1, bootstrap=False, min_samples_leaf=10, score=0.0, total=   7.9s\n",
      "[CV] min_samples_split=3, max_depth=None, criterion=gini, max_features=3, bootstrap=False, min_samples_leaf=1 \n",
      "[CV]  min_samples_split=10, max_depth=None, criterion=gini, max_features=1, bootstrap=False, min_samples_leaf=10, score=0.0, total=   8.3s\n",
      "[CV] min_samples_split=10, max_depth=None, criterion=gini, max_features=3, bootstrap=False, min_samples_leaf=1 \n",
      "[CV]  min_samples_split=10, max_depth=None, criterion=gini, max_features=1, bootstrap=False, min_samples_leaf=10, score=0.0, total=   7.8s\n",
      "[CV] min_samples_split=10, max_depth=None, criterion=gini, max_features=3, bootstrap=False, min_samples_leaf=1 \n",
      "[CV]  min_samples_split=2, max_depth=None, criterion=gini, max_features=3, bootstrap=False, min_samples_leaf=1, score=0.6501650165016502, total=  34.8s\n",
      "[CV] min_samples_split=10, max_depth=None, criterion=gini, max_features=3, bootstrap=False, min_samples_leaf=1 \n",
      "[CV]  min_samples_split=10, max_depth=None, criterion=gini, max_features=3, bootstrap=False, min_samples_leaf=1, score=0.6637037037037038, total=  27.1s\n",
      "[CV] min_samples_split=2, max_depth=None, criterion=gini, max_features=3, bootstrap=False, min_samples_leaf=3 \n"
     ]
    },
    {
     "name": "stderr",
     "output_type": "stream",
     "text": [
      "[Parallel(n_jobs=-1)]: Done 434 tasks      | elapsed: 16.1min\n"
     ]
    },
    {
     "name": "stdout",
     "output_type": "stream",
     "text": [
      "[CV]  min_samples_split=3, max_depth=None, criterion=gini, max_features=3, bootstrap=False, min_samples_leaf=1, score=0.6526114039290849, total=  30.8s\n",
      "[CV] min_samples_split=2, max_depth=None, criterion=gini, max_features=3, bootstrap=False, min_samples_leaf=3 \n",
      "[CV]  min_samples_split=2, max_depth=None, criterion=gini, max_features=3, bootstrap=False, min_samples_leaf=1, score=0.6368421052631578, total=  34.9s\n",
      "[CV] min_samples_split=2, max_depth=None, criterion=gini, max_features=3, bootstrap=False, min_samples_leaf=3 \n",
      "[CV]  min_samples_split=10, max_depth=None, criterion=gini, max_features=3, bootstrap=False, min_samples_leaf=1, score=0.6684466019417475, total=  28.8s\n",
      "[CV] min_samples_split=3, max_depth=None, criterion=gini, max_features=3, bootstrap=False, min_samples_leaf=3 \n",
      "[CV]  min_samples_split=3, max_depth=None, criterion=gini, max_features=3, bootstrap=False, min_samples_leaf=1, score=0.6544763714082166, total=  34.5s\n",
      "[CV] min_samples_split=3, max_depth=None, criterion=gini, max_features=3, bootstrap=False, min_samples_leaf=3 \n",
      "[CV]  min_samples_split=2, max_depth=None, criterion=gini, max_features=3, bootstrap=False, min_samples_leaf=1, score=0.6472692582876222, total=  36.0s\n",
      "[CV] min_samples_split=3, max_depth=None, criterion=gini, max_features=3, bootstrap=False, min_samples_leaf=3 \n",
      "[CV]  min_samples_split=3, max_depth=None, criterion=gini, max_features=3, bootstrap=False, min_samples_leaf=1, score=0.6394195888754534, total=  33.6s\n",
      "[CV] min_samples_split=10, max_depth=None, criterion=gini, max_features=3, bootstrap=False, min_samples_leaf=3 \n",
      "[CV]  min_samples_split=2, max_depth=None, criterion=gini, max_features=3, bootstrap=False, min_samples_leaf=3, score=0.6156819436775262, total=  20.1s\n",
      "[CV] min_samples_split=10, max_depth=None, criterion=gini, max_features=3, bootstrap=False, min_samples_leaf=3 \n",
      "[CV]  min_samples_split=2, max_depth=None, criterion=gini, max_features=3, bootstrap=False, min_samples_leaf=3, score=0.5974985787379193, total=  20.4s\n",
      "[CV] min_samples_split=10, max_depth=None, criterion=gini, max_features=3, bootstrap=False, min_samples_leaf=3 \n",
      "[CV]  min_samples_split=3, max_depth=None, criterion=gini, max_features=3, bootstrap=False, min_samples_leaf=3, score=0.5900361814639576, total=  21.5s\n",
      "[CV] min_samples_split=2, max_depth=None, criterion=gini, max_features=3, bootstrap=False, min_samples_leaf=10 \n",
      "[CV]  min_samples_split=2, max_depth=None, criterion=gini, max_features=3, bootstrap=False, min_samples_leaf=3, score=0.5884658454647257, total=  22.7s\n",
      "[CV] min_samples_split=2, max_depth=None, criterion=gini, max_features=3, bootstrap=False, min_samples_leaf=10 \n",
      "[CV]  min_samples_split=3, max_depth=None, criterion=gini, max_features=3, bootstrap=False, min_samples_leaf=3, score=0.6217702034084662, total=  22.6s\n",
      "[CV] min_samples_split=2, max_depth=None, criterion=gini, max_features=3, bootstrap=False, min_samples_leaf=10 \n",
      "[CV]  min_samples_split=3, max_depth=None, criterion=gini, max_features=3, bootstrap=False, min_samples_leaf=3, score=0.6018702181921224, total=  22.3s\n",
      "[CV] min_samples_split=3, max_depth=None, criterion=gini, max_features=3, bootstrap=False, min_samples_leaf=10 \n",
      "[CV]  min_samples_split=10, max_depth=None, criterion=gini, max_features=3, bootstrap=False, min_samples_leaf=3, score=0.615980094000553, total=  22.7s\n",
      "[CV] min_samples_split=3, max_depth=None, criterion=gini, max_features=3, bootstrap=False, min_samples_leaf=10 \n",
      "[CV]  min_samples_split=10, max_depth=None, criterion=gini, max_features=3, bootstrap=False, min_samples_leaf=1, score=0.6531720562823995, total=  33.7s\n",
      "[CV] min_samples_split=3, max_depth=None, criterion=gini, max_features=3, bootstrap=False, min_samples_leaf=10 \n",
      "[CV]  min_samples_split=2, max_depth=None, criterion=gini, max_features=3, bootstrap=False, min_samples_leaf=10, score=0.5318952234206471, total=  17.9s\n",
      "[CV] min_samples_split=10, max_depth=None, criterion=gini, max_features=3, bootstrap=False, min_samples_leaf=10 \n",
      "[CV]  min_samples_split=10, max_depth=None, criterion=gini, max_features=3, bootstrap=False, min_samples_leaf=3, score=0.5960605195546674, total=  21.4s\n",
      "[CV] min_samples_split=10, max_depth=None, criterion=gini, max_features=3, bootstrap=False, min_samples_leaf=10 \n",
      "[CV]  min_samples_split=2, max_depth=None, criterion=gini, max_features=3, bootstrap=False, min_samples_leaf=10, score=0.5214460784313726, total=  18.8s\n",
      "[CV] min_samples_split=10, max_depth=None, criterion=gini, max_features=3, bootstrap=False, min_samples_leaf=10 \n",
      "[CV]  min_samples_split=3, max_depth=None, criterion=gini, max_features=3, bootstrap=False, min_samples_leaf=10, score=0.5466586393738713, total=  19.8s\n",
      "[CV] min_samples_split=2, max_depth=None, criterion=gini, max_features=10, bootstrap=False, min_samples_leaf=1 \n",
      "[CV]  min_samples_split=10, max_depth=None, criterion=gini, max_features=3, bootstrap=False, min_samples_leaf=3, score=0.5901001112347053, total=  22.6s\n",
      "[CV] min_samples_split=2, max_depth=None, criterion=gini, max_features=10, bootstrap=False, min_samples_leaf=1 \n",
      "[CV]  min_samples_split=2, max_depth=None, criterion=gini, max_features=3, bootstrap=False, min_samples_leaf=10, score=0.5408843125378558, total=  20.9s\n",
      "[CV] min_samples_split=2, max_depth=None, criterion=gini, max_features=10, bootstrap=False, min_samples_leaf=1 \n",
      "[CV]  min_samples_split=3, max_depth=None, criterion=gini, max_features=3, bootstrap=False, min_samples_leaf=10, score=0.5318952234206471, total=  19.5s\n",
      "[CV] min_samples_split=3, max_depth=None, criterion=gini, max_features=10, bootstrap=False, min_samples_leaf=1 \n",
      "[CV]  min_samples_split=3, max_depth=None, criterion=gini, max_features=3, bootstrap=False, min_samples_leaf=10, score=0.5132798023471278, total=  21.1s\n",
      "[CV] min_samples_split=3, max_depth=None, criterion=gini, max_features=10, bootstrap=False, min_samples_leaf=1 \n",
      "[CV]  min_samples_split=10, max_depth=None, criterion=gini, max_features=3, bootstrap=False, min_samples_leaf=10, score=0.5267057733868478, total=  18.8s\n",
      "[CV] min_samples_split=3, max_depth=None, criterion=gini, max_features=10, bootstrap=False, min_samples_leaf=1 \n",
      "[CV]  min_samples_split=10, max_depth=None, criterion=gini, max_features=3, bootstrap=False, min_samples_leaf=10, score=0.5302469135802468, total=  19.2s\n",
      "[CV] min_samples_split=10, max_depth=None, criterion=gini, max_features=10, bootstrap=False, min_samples_leaf=1 \n",
      "[CV]  min_samples_split=10, max_depth=None, criterion=gini, max_features=3, bootstrap=False, min_samples_leaf=10, score=0.5249470819473844, total=  20.0s\n",
      "[CV] min_samples_split=10, max_depth=None, criterion=gini, max_features=10, bootstrap=False, min_samples_leaf=1 \n",
      "[CV]  min_samples_split=2, max_depth=None, criterion=gini, max_features=10, bootstrap=False, min_samples_leaf=1, score=0.6532855436081243, total=  50.5s\n",
      "[CV] min_samples_split=10, max_depth=None, criterion=gini, max_features=10, bootstrap=False, min_samples_leaf=1 \n",
      "[CV]  min_samples_split=2, max_depth=None, criterion=gini, max_features=10, bootstrap=False, min_samples_leaf=1, score=0.6588628762541806, total=  51.0s\n",
      "[CV] min_samples_split=2, max_depth=None, criterion=gini, max_features=10, bootstrap=False, min_samples_leaf=3 \n",
      "[CV]  min_samples_split=2, max_depth=None, criterion=gini, max_features=10, bootstrap=False, min_samples_leaf=1, score=0.6610407876230662, total=  52.5s\n",
      "[CV] min_samples_split=2, max_depth=None, criterion=gini, max_features=10, bootstrap=False, min_samples_leaf=3 \n",
      "[CV]  min_samples_split=3, max_depth=None, criterion=gini, max_features=10, bootstrap=False, min_samples_leaf=1, score=0.6608490566037735, total=  50.5s\n",
      "[CV] min_samples_split=2, max_depth=None, criterion=gini, max_features=10, bootstrap=False, min_samples_leaf=3 \n",
      "[CV]  min_samples_split=10, max_depth=None, criterion=gini, max_features=10, bootstrap=False, min_samples_leaf=1, score=0.6784604350944298, total=  43.2s\n",
      "[CV] min_samples_split=3, max_depth=None, criterion=gini, max_features=10, bootstrap=False, min_samples_leaf=3 \n",
      "[CV]  min_samples_split=3, max_depth=None, criterion=gini, max_features=10, bootstrap=False, min_samples_leaf=1, score=0.6653855392745617, total=  50.6s\n",
      "[CV] min_samples_split=3, max_depth=None, criterion=gini, max_features=10, bootstrap=False, min_samples_leaf=3 \n"
     ]
    },
    {
     "name": "stderr",
     "output_type": "stream",
     "text": [
      "[Parallel(n_jobs=-1)]: Done 465 tasks      | elapsed: 18.1min\n"
     ]
    },
    {
     "name": "stdout",
     "output_type": "stream",
     "text": [
      "[CV]  min_samples_split=3, max_depth=None, criterion=gini, max_features=10, bootstrap=False, min_samples_leaf=1, score=0.656867469879518, total=  45.4s\n",
      "[CV] min_samples_split=3, max_depth=None, criterion=gini, max_features=10, bootstrap=False, min_samples_leaf=3 \n",
      "[CV]  min_samples_split=10, max_depth=None, criterion=gini, max_features=10, bootstrap=False, min_samples_leaf=1, score=0.6766658470617163, total=  47.8s\n",
      "[CV] min_samples_split=10, max_depth=None, criterion=gini, max_features=10, bootstrap=False, min_samples_leaf=3 \n",
      "[CV]  min_samples_split=2, max_depth=None, criterion=gini, max_features=10, bootstrap=False, min_samples_leaf=3, score=0.6760633036597429, total=  38.7s\n",
      "[CV] min_samples_split=10, max_depth=None, criterion=gini, max_features=10, bootstrap=False, min_samples_leaf=3 \n",
      "[CV]  min_samples_split=10, max_depth=None, criterion=gini, max_features=10, bootstrap=False, min_samples_leaf=1, score=0.6710526315789473, total=  44.1s\n",
      "[CV] min_samples_split=10, max_depth=None, criterion=gini, max_features=10, bootstrap=False, min_samples_leaf=3 \n",
      "[CV]  min_samples_split=2, max_depth=None, criterion=gini, max_features=10, bootstrap=False, min_samples_leaf=3, score=0.6763064434297312, total=  43.7s\n",
      "[CV] min_samples_split=2, max_depth=None, criterion=gini, max_features=10, bootstrap=False, min_samples_leaf=10 \n",
      "[CV]  min_samples_split=2, max_depth=None, criterion=gini, max_features=10, bootstrap=False, min_samples_leaf=3, score=0.6752795031055899, total=  43.1s\n",
      "[CV] min_samples_split=2, max_depth=None, criterion=gini, max_features=10, bootstrap=False, min_samples_leaf=10 \n",
      "[CV]  min_samples_split=3, max_depth=None, criterion=gini, max_features=10, bootstrap=False, min_samples_leaf=3, score=0.6730911786508524, total=  40.2s\n",
      "[CV] min_samples_split=2, max_depth=None, criterion=gini, max_features=10, bootstrap=False, min_samples_leaf=10 \n",
      "[CV]  min_samples_split=3, max_depth=None, criterion=gini, max_features=10, bootstrap=False, min_samples_leaf=3, score=0.6772908366533865, total=  39.5s\n",
      "[CV] min_samples_split=3, max_depth=None, criterion=gini, max_features=10, bootstrap=False, min_samples_leaf=10 \n",
      "[CV]  min_samples_split=3, max_depth=None, criterion=gini, max_features=10, bootstrap=False, min_samples_leaf=3, score=0.6773373983739838, total=  44.9s\n",
      "[CV] min_samples_split=3, max_depth=None, criterion=gini, max_features=10, bootstrap=False, min_samples_leaf=10 \n",
      "[CV]  min_samples_split=10, max_depth=None, criterion=gini, max_features=10, bootstrap=False, min_samples_leaf=3, score=0.6744128553770086, total=  45.7s\n",
      "[CV] min_samples_split=3, max_depth=None, criterion=gini, max_features=10, bootstrap=False, min_samples_leaf=10 \n",
      "[CV]  min_samples_split=10, max_depth=None, criterion=gini, max_features=10, bootstrap=False, min_samples_leaf=3, score=0.6732824427480915, total=  40.2s\n",
      "[CV] min_samples_split=10, max_depth=None, criterion=gini, max_features=10, bootstrap=False, min_samples_leaf=10 \n",
      "[CV]  min_samples_split=2, max_depth=None, criterion=gini, max_features=10, bootstrap=False, min_samples_leaf=10, score=0.672713529856387, total=  41.6s\n",
      "[CV] min_samples_split=10, max_depth=None, criterion=gini, max_features=10, bootstrap=False, min_samples_leaf=10 \n",
      "[CV]  min_samples_split=2, max_depth=None, criterion=gini, max_features=10, bootstrap=False, min_samples_leaf=10, score=0.6670116429495472, total=  41.3s\n",
      "[CV] min_samples_split=10, max_depth=None, criterion=gini, max_features=10, bootstrap=False, min_samples_leaf=10 \n",
      "[CV]  min_samples_split=2, max_depth=None, criterion=gini, max_features=10, bootstrap=False, min_samples_leaf=10, score=0.6681783824640967, total=  37.5s\n",
      "[CV] min_samples_split=2, max_depth=3, criterion=entropy, max_features=1, bootstrap=False, min_samples_leaf=1 \n",
      "[CV]  min_samples_split=3, max_depth=None, criterion=gini, max_features=10, bootstrap=False, min_samples_leaf=10, score=0.675546619753707, total=  37.4s\n",
      "[CV] min_samples_split=2, max_depth=3, criterion=entropy, max_features=1, bootstrap=False, min_samples_leaf=1 \n",
      "[CV]  min_samples_split=10, max_depth=None, criterion=gini, max_features=10, bootstrap=False, min_samples_leaf=3, score=0.6772987789683528, total=  48.0s\n",
      "[CV] min_samples_split=2, max_depth=3, criterion=entropy, max_features=1, bootstrap=False, min_samples_leaf=1 \n"
     ]
    },
    {
     "name": "stderr",
     "output_type": "stream",
     "text": [
      "/home/gaabrielfranco/Documents/github/data-mining-w2/venv/lib/python3.5/site-packages/sklearn/metrics/classification.py:1135: UndefinedMetricWarning: F-score is ill-defined and being set to 0.0 due to no predicted samples.\n",
      "  'precision', 'predicted', average, warn_for)\n",
      "/home/gaabrielfranco/Documents/github/data-mining-w2/venv/lib/python3.5/site-packages/sklearn/metrics/classification.py:1135: UndefinedMetricWarning: F-score is ill-defined and being set to 0.0 due to no predicted samples.\n",
      "  'precision', 'predicted', average, warn_for)\n"
     ]
    },
    {
     "name": "stdout",
     "output_type": "stream",
     "text": [
      "[CV]  min_samples_split=2, max_depth=3, criterion=entropy, max_features=1, bootstrap=False, min_samples_leaf=1, score=0.0, total=   5.3s\n",
      "[CV] min_samples_split=3, max_depth=3, criterion=entropy, max_features=1, bootstrap=False, min_samples_leaf=1 \n",
      "[CV]  min_samples_split=2, max_depth=3, criterion=entropy, max_features=1, bootstrap=False, min_samples_leaf=1, score=0.0, total=   5.6s\n",
      "[CV] min_samples_split=3, max_depth=3, criterion=entropy, max_features=1, bootstrap=False, min_samples_leaf=1 \n"
     ]
    },
    {
     "name": "stderr",
     "output_type": "stream",
     "text": [
      "/home/gaabrielfranco/Documents/github/data-mining-w2/venv/lib/python3.5/site-packages/sklearn/metrics/classification.py:1135: UndefinedMetricWarning: F-score is ill-defined and being set to 0.0 due to no predicted samples.\n",
      "  'precision', 'predicted', average, warn_for)\n"
     ]
    },
    {
     "name": "stdout",
     "output_type": "stream",
     "text": [
      "[CV]  min_samples_split=2, max_depth=3, criterion=entropy, max_features=1, bootstrap=False, min_samples_leaf=1, score=0.0, total=   5.9s\n",
      "[CV] min_samples_split=3, max_depth=3, criterion=entropy, max_features=1, bootstrap=False, min_samples_leaf=1 \n"
     ]
    },
    {
     "name": "stderr",
     "output_type": "stream",
     "text": [
      "/home/gaabrielfranco/Documents/github/data-mining-w2/venv/lib/python3.5/site-packages/sklearn/metrics/classification.py:1135: UndefinedMetricWarning: F-score is ill-defined and being set to 0.0 due to no predicted samples.\n",
      "  'precision', 'predicted', average, warn_for)\n"
     ]
    },
    {
     "name": "stdout",
     "output_type": "stream",
     "text": [
      "[CV]  min_samples_split=3, max_depth=None, criterion=gini, max_features=10, bootstrap=False, min_samples_leaf=10, score=0.6666666666666667, total=  44.8s\n",
      "[CV] min_samples_split=10, max_depth=3, criterion=entropy, max_features=1, bootstrap=False, min_samples_leaf=1 \n",
      "[CV]  min_samples_split=3, max_depth=None, criterion=gini, max_features=10, bootstrap=False, min_samples_leaf=10, score=0.6678418534374213, total=  39.7s\n",
      "[CV] min_samples_split=10, max_depth=3, criterion=entropy, max_features=1, bootstrap=False, min_samples_leaf=1 \n"
     ]
    },
    {
     "name": "stderr",
     "output_type": "stream",
     "text": [
      "/home/gaabrielfranco/Documents/github/data-mining-w2/venv/lib/python3.5/site-packages/sklearn/metrics/classification.py:1135: UndefinedMetricWarning: F-score is ill-defined and being set to 0.0 due to no predicted samples.\n",
      "  'precision', 'predicted', average, warn_for)\n"
     ]
    },
    {
     "name": "stdout",
     "output_type": "stream",
     "text": [
      "[CV]  min_samples_split=3, max_depth=3, criterion=entropy, max_features=1, bootstrap=False, min_samples_leaf=1, score=0.0, total=   5.8s\n",
      "[CV] min_samples_split=10, max_depth=3, criterion=entropy, max_features=1, bootstrap=False, min_samples_leaf=1 \n",
      "[CV]  min_samples_split=3, max_depth=3, criterion=entropy, max_features=1, bootstrap=False, min_samples_leaf=1, score=0.0, total=   6.0s\n",
      "[CV] min_samples_split=2, max_depth=3, criterion=entropy, max_features=1, bootstrap=False, min_samples_leaf=3 \n"
     ]
    },
    {
     "name": "stderr",
     "output_type": "stream",
     "text": [
      "/home/gaabrielfranco/Documents/github/data-mining-w2/venv/lib/python3.5/site-packages/sklearn/metrics/classification.py:1135: UndefinedMetricWarning: F-score is ill-defined and being set to 0.0 due to no predicted samples.\n",
      "  'precision', 'predicted', average, warn_for)\n",
      "/home/gaabrielfranco/Documents/github/data-mining-w2/venv/lib/python3.5/site-packages/sklearn/metrics/classification.py:1135: UndefinedMetricWarning: F-score is ill-defined and being set to 0.0 due to no predicted samples.\n",
      "  'precision', 'predicted', average, warn_for)\n"
     ]
    },
    {
     "name": "stdout",
     "output_type": "stream",
     "text": [
      "[CV]  min_samples_split=3, max_depth=3, criterion=entropy, max_features=1, bootstrap=False, min_samples_leaf=1, score=0.0, total=   6.2s\n",
      "[CV] min_samples_split=2, max_depth=3, criterion=entropy, max_features=1, bootstrap=False, min_samples_leaf=3 \n"
     ]
    },
    {
     "name": "stderr",
     "output_type": "stream",
     "text": [
      "/home/gaabrielfranco/Documents/github/data-mining-w2/venv/lib/python3.5/site-packages/sklearn/metrics/classification.py:1135: UndefinedMetricWarning: F-score is ill-defined and being set to 0.0 due to no predicted samples.\n",
      "  'precision', 'predicted', average, warn_for)\n",
      "/home/gaabrielfranco/Documents/github/data-mining-w2/venv/lib/python3.5/site-packages/sklearn/metrics/classification.py:1135: UndefinedMetricWarning: F-score is ill-defined and being set to 0.0 due to no predicted samples.\n",
      "  'precision', 'predicted', average, warn_for)\n"
     ]
    },
    {
     "name": "stdout",
     "output_type": "stream",
     "text": [
      "[CV]  min_samples_split=10, max_depth=3, criterion=entropy, max_features=1, bootstrap=False, min_samples_leaf=1, score=0.0, total=   5.8s\n",
      "[CV] min_samples_split=2, max_depth=3, criterion=entropy, max_features=1, bootstrap=False, min_samples_leaf=3 \n",
      "[CV]  min_samples_split=10, max_depth=3, criterion=entropy, max_features=1, bootstrap=False, min_samples_leaf=1, score=0.0, total=   6.2s\n",
      "[CV] min_samples_split=3, max_depth=3, criterion=entropy, max_features=1, bootstrap=False, min_samples_leaf=3 \n"
     ]
    },
    {
     "name": "stderr",
     "output_type": "stream",
     "text": [
      "/home/gaabrielfranco/Documents/github/data-mining-w2/venv/lib/python3.5/site-packages/sklearn/metrics/classification.py:1135: UndefinedMetricWarning: F-score is ill-defined and being set to 0.0 due to no predicted samples.\n",
      "  'precision', 'predicted', average, warn_for)\n"
     ]
    },
    {
     "name": "stdout",
     "output_type": "stream",
     "text": [
      "[CV]  min_samples_split=10, max_depth=3, criterion=entropy, max_features=1, bootstrap=False, min_samples_leaf=1, score=0.0, total=   6.3s\n",
      "[CV] min_samples_split=3, max_depth=3, criterion=entropy, max_features=1, bootstrap=False, min_samples_leaf=3 \n",
      "[CV]  min_samples_split=2, max_depth=3, criterion=entropy, max_features=1, bootstrap=False, min_samples_leaf=3, score=0.0, total=   6.4s\n",
      "[CV] min_samples_split=3, max_depth=3, criterion=entropy, max_features=1, bootstrap=False, min_samples_leaf=3 \n"
     ]
    },
    {
     "name": "stderr",
     "output_type": "stream",
     "text": [
      "/home/gaabrielfranco/Documents/github/data-mining-w2/venv/lib/python3.5/site-packages/sklearn/metrics/classification.py:1135: UndefinedMetricWarning: F-score is ill-defined and being set to 0.0 due to no predicted samples.\n",
      "  'precision', 'predicted', average, warn_for)\n",
      "/home/gaabrielfranco/Documents/github/data-mining-w2/venv/lib/python3.5/site-packages/sklearn/metrics/classification.py:1135: UndefinedMetricWarning: F-score is ill-defined and being set to 0.0 due to no predicted samples.\n",
      "  'precision', 'predicted', average, warn_for)\n"
     ]
    },
    {
     "name": "stdout",
     "output_type": "stream",
     "text": [
      "[CV]  min_samples_split=2, max_depth=3, criterion=entropy, max_features=1, bootstrap=False, min_samples_leaf=3, score=0.0, total=   6.1s\n",
      "[CV] min_samples_split=10, max_depth=3, criterion=entropy, max_features=1, bootstrap=False, min_samples_leaf=3 \n"
     ]
    },
    {
     "name": "stderr",
     "output_type": "stream",
     "text": [
      "/home/gaabrielfranco/Documents/github/data-mining-w2/venv/lib/python3.5/site-packages/sklearn/metrics/classification.py:1135: UndefinedMetricWarning: F-score is ill-defined and being set to 0.0 due to no predicted samples.\n",
      "  'precision', 'predicted', average, warn_for)\n",
      "/home/gaabrielfranco/Documents/github/data-mining-w2/venv/lib/python3.5/site-packages/sklearn/metrics/classification.py:1135: UndefinedMetricWarning: F-score is ill-defined and being set to 0.0 due to no predicted samples.\n",
      "  'precision', 'predicted', average, warn_for)\n"
     ]
    },
    {
     "name": "stdout",
     "output_type": "stream",
     "text": [
      "[CV]  min_samples_split=2, max_depth=3, criterion=entropy, max_features=1, bootstrap=False, min_samples_leaf=3, score=0.0, total=   5.8s\n",
      "[CV] min_samples_split=10, max_depth=3, criterion=entropy, max_features=1, bootstrap=False, min_samples_leaf=3 \n",
      "[CV]  min_samples_split=3, max_depth=3, criterion=entropy, max_features=1, bootstrap=False, min_samples_leaf=3, score=0.0, total=   6.0s\n",
      "[CV] min_samples_split=10, max_depth=3, criterion=entropy, max_features=1, bootstrap=False, min_samples_leaf=3 \n"
     ]
    },
    {
     "name": "stderr",
     "output_type": "stream",
     "text": [
      "[Parallel(n_jobs=-1)]: Done 496 tasks      | elapsed: 20.0min\n",
      "/home/gaabrielfranco/Documents/github/data-mining-w2/venv/lib/python3.5/site-packages/sklearn/metrics/classification.py:1135: UndefinedMetricWarning: F-score is ill-defined and being set to 0.0 due to no predicted samples.\n",
      "  'precision', 'predicted', average, warn_for)\n"
     ]
    },
    {
     "name": "stdout",
     "output_type": "stream",
     "text": [
      "[CV]  min_samples_split=3, max_depth=3, criterion=entropy, max_features=1, bootstrap=False, min_samples_leaf=3, score=0.0, total=   6.1s\n",
      "[CV] min_samples_split=2, max_depth=3, criterion=entropy, max_features=1, bootstrap=False, min_samples_leaf=10 \n",
      "[CV]  min_samples_split=3, max_depth=3, criterion=entropy, max_features=1, bootstrap=False, min_samples_leaf=3, score=0.0, total=   6.2s\n",
      "[CV] min_samples_split=2, max_depth=3, criterion=entropy, max_features=1, bootstrap=False, min_samples_leaf=10 \n"
     ]
    },
    {
     "name": "stderr",
     "output_type": "stream",
     "text": [
      "/home/gaabrielfranco/Documents/github/data-mining-w2/venv/lib/python3.5/site-packages/sklearn/metrics/classification.py:1135: UndefinedMetricWarning: F-score is ill-defined and being set to 0.0 due to no predicted samples.\n",
      "  'precision', 'predicted', average, warn_for)\n",
      "/home/gaabrielfranco/Documents/github/data-mining-w2/venv/lib/python3.5/site-packages/sklearn/metrics/classification.py:1135: UndefinedMetricWarning: F-score is ill-defined and being set to 0.0 due to no predicted samples.\n",
      "  'precision', 'predicted', average, warn_for)\n",
      "/home/gaabrielfranco/Documents/github/data-mining-w2/venv/lib/python3.5/site-packages/sklearn/metrics/classification.py:1135: UndefinedMetricWarning: F-score is ill-defined and being set to 0.0 due to no predicted samples.\n",
      "  'precision', 'predicted', average, warn_for)\n"
     ]
    },
    {
     "name": "stdout",
     "output_type": "stream",
     "text": [
      "[CV]  min_samples_split=10, max_depth=3, criterion=entropy, max_features=1, bootstrap=False, min_samples_leaf=3, score=0.0, total=   6.3s\n",
      "[CV] min_samples_split=2, max_depth=3, criterion=entropy, max_features=1, bootstrap=False, min_samples_leaf=10 \n"
     ]
    },
    {
     "name": "stderr",
     "output_type": "stream",
     "text": [
      "/home/gaabrielfranco/Documents/github/data-mining-w2/venv/lib/python3.5/site-packages/sklearn/metrics/classification.py:1135: UndefinedMetricWarning: F-score is ill-defined and being set to 0.0 due to no predicted samples.\n",
      "  'precision', 'predicted', average, warn_for)\n"
     ]
    },
    {
     "name": "stdout",
     "output_type": "stream",
     "text": [
      "[CV]  min_samples_split=10, max_depth=3, criterion=entropy, max_features=1, bootstrap=False, min_samples_leaf=3, score=0.0, total=   6.0s\n",
      "[CV] min_samples_split=3, max_depth=3, criterion=entropy, max_features=1, bootstrap=False, min_samples_leaf=10 \n",
      "[CV]  min_samples_split=10, max_depth=None, criterion=gini, max_features=10, bootstrap=False, min_samples_leaf=10, score=0.6740498363956708, total=  44.7s\n",
      "[CV] min_samples_split=3, max_depth=3, criterion=entropy, max_features=1, bootstrap=False, min_samples_leaf=10 \n",
      "[CV]  min_samples_split=10, max_depth=3, criterion=entropy, max_features=1, bootstrap=False, min_samples_leaf=3, score=0.0, total=   6.2s\n"
     ]
    },
    {
     "name": "stderr",
     "output_type": "stream",
     "text": [
      "/home/gaabrielfranco/Documents/github/data-mining-w2/venv/lib/python3.5/site-packages/sklearn/metrics/classification.py:1135: UndefinedMetricWarning: F-score is ill-defined and being set to 0.0 due to no predicted samples.\n",
      "  'precision', 'predicted', average, warn_for)\n"
     ]
    },
    {
     "name": "stdout",
     "output_type": "stream",
     "text": [
      "[CV] min_samples_split=3, max_depth=3, criterion=entropy, max_features=1, bootstrap=False, min_samples_leaf=10 \n",
      "[CV]  min_samples_split=2, max_depth=3, criterion=entropy, max_features=1, bootstrap=False, min_samples_leaf=10, score=0.0, total=   6.0s\n",
      "[CV] min_samples_split=10, max_depth=3, criterion=entropy, max_features=1, bootstrap=False, min_samples_leaf=10 \n",
      "[CV]  min_samples_split=2, max_depth=3, criterion=entropy, max_features=1, bootstrap=False, min_samples_leaf=10, score=0.0, total=   5.9s\n",
      "[CV] min_samples_split=10, max_depth=3, criterion=entropy, max_features=1, bootstrap=False, min_samples_leaf=10 \n"
     ]
    },
    {
     "name": "stderr",
     "output_type": "stream",
     "text": [
      "/home/gaabrielfranco/Documents/github/data-mining-w2/venv/lib/python3.5/site-packages/sklearn/metrics/classification.py:1135: UndefinedMetricWarning: F-score is ill-defined and being set to 0.0 due to no predicted samples.\n",
      "  'precision', 'predicted', average, warn_for)\n",
      "/home/gaabrielfranco/Documents/github/data-mining-w2/venv/lib/python3.5/site-packages/sklearn/metrics/classification.py:1135: UndefinedMetricWarning: F-score is ill-defined and being set to 0.0 due to no predicted samples.\n",
      "  'precision', 'predicted', average, warn_for)\n",
      "/home/gaabrielfranco/Documents/github/data-mining-w2/venv/lib/python3.5/site-packages/sklearn/metrics/classification.py:1135: UndefinedMetricWarning: F-score is ill-defined and being set to 0.0 due to no predicted samples.\n",
      "  'precision', 'predicted', average, warn_for)\n"
     ]
    },
    {
     "name": "stdout",
     "output_type": "stream",
     "text": [
      "[CV]  min_samples_split=2, max_depth=3, criterion=entropy, max_features=1, bootstrap=False, min_samples_leaf=10, score=0.0, total=   5.6s\n",
      "[CV] min_samples_split=10, max_depth=3, criterion=entropy, max_features=1, bootstrap=False, min_samples_leaf=10 \n"
     ]
    },
    {
     "name": "stderr",
     "output_type": "stream",
     "text": [
      "/home/gaabrielfranco/Documents/github/data-mining-w2/venv/lib/python3.5/site-packages/sklearn/metrics/classification.py:1135: UndefinedMetricWarning: F-score is ill-defined and being set to 0.0 due to no predicted samples.\n",
      "  'precision', 'predicted', average, warn_for)\n"
     ]
    },
    {
     "name": "stdout",
     "output_type": "stream",
     "text": [
      "[CV]  min_samples_split=3, max_depth=3, criterion=entropy, max_features=1, bootstrap=False, min_samples_leaf=10, score=0.0, total=   5.5s\n",
      "[CV] min_samples_split=2, max_depth=3, criterion=entropy, max_features=3, bootstrap=False, min_samples_leaf=1 \n"
     ]
    },
    {
     "name": "stderr",
     "output_type": "stream",
     "text": [
      "/home/gaabrielfranco/Documents/github/data-mining-w2/venv/lib/python3.5/site-packages/sklearn/metrics/classification.py:1135: UndefinedMetricWarning: F-score is ill-defined and being set to 0.0 due to no predicted samples.\n",
      "  'precision', 'predicted', average, warn_for)\n"
     ]
    },
    {
     "name": "stdout",
     "output_type": "stream",
     "text": [
      "[CV]  min_samples_split=3, max_depth=3, criterion=entropy, max_features=1, bootstrap=False, min_samples_leaf=10, score=0.0, total=   5.7s\n",
      "[CV] min_samples_split=2, max_depth=3, criterion=entropy, max_features=3, bootstrap=False, min_samples_leaf=1 \n",
      "[CV]  min_samples_split=10, max_depth=None, criterion=gini, max_features=10, bootstrap=False, min_samples_leaf=10, score=0.6697554697554697, total=  44.8s\n",
      "[CV] min_samples_split=2, max_depth=3, criterion=entropy, max_features=3, bootstrap=False, min_samples_leaf=1 \n"
     ]
    },
    {
     "name": "stderr",
     "output_type": "stream",
     "text": [
      "/home/gaabrielfranco/Documents/github/data-mining-w2/venv/lib/python3.5/site-packages/sklearn/metrics/classification.py:1135: UndefinedMetricWarning: F-score is ill-defined and being set to 0.0 due to no predicted samples.\n",
      "  'precision', 'predicted', average, warn_for)\n"
     ]
    },
    {
     "name": "stdout",
     "output_type": "stream",
     "text": [
      "[CV]  min_samples_split=3, max_depth=3, criterion=entropy, max_features=1, bootstrap=False, min_samples_leaf=10, score=0.0, total=   6.0s\n",
      "[CV] min_samples_split=3, max_depth=3, criterion=entropy, max_features=3, bootstrap=False, min_samples_leaf=1 \n",
      "[CV]  min_samples_split=10, max_depth=3, criterion=entropy, max_features=1, bootstrap=False, min_samples_leaf=10, score=0.0, total=   6.1s\n",
      "[CV] min_samples_split=3, max_depth=3, criterion=entropy, max_features=3, bootstrap=False, min_samples_leaf=1 \n",
      "[CV]  min_samples_split=10, max_depth=3, criterion=entropy, max_features=1, bootstrap=False, min_samples_leaf=10, score=0.0, total=   6.3s\n",
      "[CV] min_samples_split=3, max_depth=3, criterion=entropy, max_features=3, bootstrap=False, min_samples_leaf=1 \n"
     ]
    },
    {
     "name": "stderr",
     "output_type": "stream",
     "text": [
      "/home/gaabrielfranco/Documents/github/data-mining-w2/venv/lib/python3.5/site-packages/sklearn/metrics/classification.py:1135: UndefinedMetricWarning: F-score is ill-defined and being set to 0.0 due to no predicted samples.\n",
      "  'precision', 'predicted', average, warn_for)\n"
     ]
    },
    {
     "name": "stdout",
     "output_type": "stream",
     "text": [
      "[CV]  min_samples_split=10, max_depth=3, criterion=entropy, max_features=1, bootstrap=False, min_samples_leaf=10, score=0.0, total=   5.6s\n",
      "[CV] min_samples_split=10, max_depth=3, criterion=entropy, max_features=3, bootstrap=False, min_samples_leaf=1 \n",
      "[CV]  min_samples_split=10, max_depth=None, criterion=gini, max_features=10, bootstrap=False, min_samples_leaf=10, score=0.6678418534374213, total=  49.0s\n",
      "[CV] min_samples_split=10, max_depth=3, criterion=entropy, max_features=3, bootstrap=False, min_samples_leaf=1 \n"
     ]
    },
    {
     "name": "stderr",
     "output_type": "stream",
     "text": [
      "/home/gaabrielfranco/Documents/github/data-mining-w2/venv/lib/python3.5/site-packages/sklearn/metrics/classification.py:1135: UndefinedMetricWarning: F-score is ill-defined and being set to 0.0 due to no predicted samples.\n",
      "  'precision', 'predicted', average, warn_for)\n",
      "/home/gaabrielfranco/Documents/github/data-mining-w2/venv/lib/python3.5/site-packages/sklearn/metrics/classification.py:1135: UndefinedMetricWarning: F-score is ill-defined and being set to 0.0 due to no predicted samples.\n",
      "  'precision', 'predicted', average, warn_for)\n",
      "/home/gaabrielfranco/Documents/github/data-mining-w2/venv/lib/python3.5/site-packages/sklearn/metrics/classification.py:1135: UndefinedMetricWarning: F-score is ill-defined and being set to 0.0 due to no predicted samples.\n",
      "  'precision', 'predicted', average, warn_for)\n",
      "/home/gaabrielfranco/Documents/github/data-mining-w2/venv/lib/python3.5/site-packages/sklearn/metrics/classification.py:1135: UndefinedMetricWarning: F-score is ill-defined and being set to 0.0 due to no predicted samples.\n",
      "  'precision', 'predicted', average, warn_for)\n",
      "/home/gaabrielfranco/Documents/github/data-mining-w2/venv/lib/python3.5/site-packages/sklearn/metrics/classification.py:1135: UndefinedMetricWarning: F-score is ill-defined and being set to 0.0 due to no predicted samples.\n",
      "  'precision', 'predicted', average, warn_for)\n"
     ]
    },
    {
     "name": "stdout",
     "output_type": "stream",
     "text": [
      "[CV]  min_samples_split=2, max_depth=3, criterion=entropy, max_features=3, bootstrap=False, min_samples_leaf=1, score=0.0, total=   8.9s\n",
      "[CV] min_samples_split=10, max_depth=3, criterion=entropy, max_features=3, bootstrap=False, min_samples_leaf=1 \n"
     ]
    },
    {
     "name": "stderr",
     "output_type": "stream",
     "text": [
      "/home/gaabrielfranco/Documents/github/data-mining-w2/venv/lib/python3.5/site-packages/sklearn/metrics/classification.py:1135: UndefinedMetricWarning: F-score is ill-defined and being set to 0.0 due to no predicted samples.\n",
      "  'precision', 'predicted', average, warn_for)\n"
     ]
    },
    {
     "name": "stdout",
     "output_type": "stream",
     "text": [
      "[CV]  min_samples_split=2, max_depth=3, criterion=entropy, max_features=3, bootstrap=False, min_samples_leaf=1, score=0.0, total=   8.7s\n",
      "[CV] min_samples_split=2, max_depth=3, criterion=entropy, max_features=3, bootstrap=False, min_samples_leaf=3 \n",
      "[CV]  min_samples_split=2, max_depth=3, criterion=entropy, max_features=3, bootstrap=False, min_samples_leaf=1, score=0.0, total=   9.3s\n",
      "[CV] min_samples_split=2, max_depth=3, criterion=entropy, max_features=3, bootstrap=False, min_samples_leaf=3 \n",
      "[CV]  min_samples_split=3, max_depth=3, criterion=entropy, max_features=3, bootstrap=False, min_samples_leaf=1, score=0.0, total=   9.3s\n",
      "[CV] min_samples_split=2, max_depth=3, criterion=entropy, max_features=3, bootstrap=False, min_samples_leaf=3 \n",
      "[CV]  min_samples_split=3, max_depth=3, criterion=entropy, max_features=3, bootstrap=False, min_samples_leaf=1, score=0.0, total=   8.9s\n",
      "[CV] min_samples_split=3, max_depth=3, criterion=entropy, max_features=3, bootstrap=False, min_samples_leaf=3 \n",
      "[CV]  min_samples_split=3, max_depth=3, criterion=entropy, max_features=3, bootstrap=False, min_samples_leaf=1, score=0.0, total=   9.4s\n",
      "[CV] min_samples_split=3, max_depth=3, criterion=entropy, max_features=3, bootstrap=False, min_samples_leaf=3 \n"
     ]
    },
    {
     "name": "stderr",
     "output_type": "stream",
     "text": [
      "/home/gaabrielfranco/Documents/github/data-mining-w2/venv/lib/python3.5/site-packages/sklearn/metrics/classification.py:1135: UndefinedMetricWarning: F-score is ill-defined and being set to 0.0 due to no predicted samples.\n",
      "  'precision', 'predicted', average, warn_for)\n",
      "/home/gaabrielfranco/Documents/github/data-mining-w2/venv/lib/python3.5/site-packages/sklearn/metrics/classification.py:1135: UndefinedMetricWarning: F-score is ill-defined and being set to 0.0 due to no predicted samples.\n",
      "  'precision', 'predicted', average, warn_for)\n"
     ]
    },
    {
     "name": "stdout",
     "output_type": "stream",
     "text": [
      "[CV]  min_samples_split=10, max_depth=3, criterion=entropy, max_features=3, bootstrap=False, min_samples_leaf=1, score=0.0, total=   9.3s\n",
      "[CV] min_samples_split=3, max_depth=3, criterion=entropy, max_features=3, bootstrap=False, min_samples_leaf=3 \n",
      "[CV]  min_samples_split=10, max_depth=3, criterion=entropy, max_features=3, bootstrap=False, min_samples_leaf=1, score=0.0, total=   9.1s\n",
      "[CV] min_samples_split=10, max_depth=3, criterion=entropy, max_features=3, bootstrap=False, min_samples_leaf=3 \n"
     ]
    },
    {
     "name": "stderr",
     "output_type": "stream",
     "text": [
      "/home/gaabrielfranco/Documents/github/data-mining-w2/venv/lib/python3.5/site-packages/sklearn/metrics/classification.py:1135: UndefinedMetricWarning: F-score is ill-defined and being set to 0.0 due to no predicted samples.\n",
      "  'precision', 'predicted', average, warn_for)\n",
      "/home/gaabrielfranco/Documents/github/data-mining-w2/venv/lib/python3.5/site-packages/sklearn/metrics/classification.py:1135: UndefinedMetricWarning: F-score is ill-defined and being set to 0.0 due to no predicted samples.\n",
      "  'precision', 'predicted', average, warn_for)\n",
      "/home/gaabrielfranco/Documents/github/data-mining-w2/venv/lib/python3.5/site-packages/sklearn/metrics/classification.py:1135: UndefinedMetricWarning: F-score is ill-defined and being set to 0.0 due to no predicted samples.\n",
      "  'precision', 'predicted', average, warn_for)\n"
     ]
    },
    {
     "name": "stdout",
     "output_type": "stream",
     "text": [
      "[CV]  min_samples_split=10, max_depth=3, criterion=entropy, max_features=3, bootstrap=False, min_samples_leaf=1, score=0.0, total=   9.0s\n",
      "[CV] min_samples_split=10, max_depth=3, criterion=entropy, max_features=3, bootstrap=False, min_samples_leaf=3 \n"
     ]
    },
    {
     "name": "stderr",
     "output_type": "stream",
     "text": [
      "/home/gaabrielfranco/Documents/github/data-mining-w2/venv/lib/python3.5/site-packages/sklearn/metrics/classification.py:1135: UndefinedMetricWarning: F-score is ill-defined and being set to 0.0 due to no predicted samples.\n",
      "  'precision', 'predicted', average, warn_for)\n",
      "/home/gaabrielfranco/Documents/github/data-mining-w2/venv/lib/python3.5/site-packages/sklearn/metrics/classification.py:1135: UndefinedMetricWarning: F-score is ill-defined and being set to 0.0 due to no predicted samples.\n",
      "  'precision', 'predicted', average, warn_for)\n",
      "/home/gaabrielfranco/Documents/github/data-mining-w2/venv/lib/python3.5/site-packages/sklearn/metrics/classification.py:1135: UndefinedMetricWarning: F-score is ill-defined and being set to 0.0 due to no predicted samples.\n",
      "  'precision', 'predicted', average, warn_for)\n"
     ]
    },
    {
     "name": "stdout",
     "output_type": "stream",
     "text": [
      "[CV]  min_samples_split=2, max_depth=3, criterion=entropy, max_features=3, bootstrap=False, min_samples_leaf=3, score=0.0, total=   9.1s\n",
      "[CV] min_samples_split=10, max_depth=3, criterion=entropy, max_features=3, bootstrap=False, min_samples_leaf=3 \n",
      "[CV]  min_samples_split=2, max_depth=3, criterion=entropy, max_features=3, bootstrap=False, min_samples_leaf=3, score=0.0, total=   9.3s\n",
      "[CV] min_samples_split=2, max_depth=3, criterion=entropy, max_features=3, bootstrap=False, min_samples_leaf=10 \n",
      "[CV]  min_samples_split=2, max_depth=3, criterion=entropy, max_features=3, bootstrap=False, min_samples_leaf=3, score=0.0, total=   9.8s\n",
      "[CV] min_samples_split=2, max_depth=3, criterion=entropy, max_features=3, bootstrap=False, min_samples_leaf=10 \n",
      "[CV]  min_samples_split=3, max_depth=3, criterion=entropy, max_features=3, bootstrap=False, min_samples_leaf=3, score=0.0, total=   9.7s\n",
      "[CV] min_samples_split=2, max_depth=3, criterion=entropy, max_features=3, bootstrap=False, min_samples_leaf=10 \n",
      "[CV]  min_samples_split=3, max_depth=3, criterion=entropy, max_features=3, bootstrap=False, min_samples_leaf=3, score=0.0, total=   9.5s\n",
      "[CV] min_samples_split=3, max_depth=3, criterion=entropy, max_features=3, bootstrap=False, min_samples_leaf=10 \n"
     ]
    },
    {
     "name": "stderr",
     "output_type": "stream",
     "text": [
      "/home/gaabrielfranco/Documents/github/data-mining-w2/venv/lib/python3.5/site-packages/sklearn/metrics/classification.py:1135: UndefinedMetricWarning: F-score is ill-defined and being set to 0.0 due to no predicted samples.\n",
      "  'precision', 'predicted', average, warn_for)\n",
      "/home/gaabrielfranco/Documents/github/data-mining-w2/venv/lib/python3.5/site-packages/sklearn/metrics/classification.py:1135: UndefinedMetricWarning: F-score is ill-defined and being set to 0.0 due to no predicted samples.\n",
      "  'precision', 'predicted', average, warn_for)\n"
     ]
    },
    {
     "name": "stdout",
     "output_type": "stream",
     "text": [
      "[CV]  min_samples_split=3, max_depth=3, criterion=entropy, max_features=3, bootstrap=False, min_samples_leaf=3, score=0.0, total=   9.1s\n",
      "[CV] min_samples_split=3, max_depth=3, criterion=entropy, max_features=3, bootstrap=False, min_samples_leaf=10 \n",
      "[CV]  min_samples_split=10, max_depth=3, criterion=entropy, max_features=3, bootstrap=False, min_samples_leaf=3, score=0.0, total=   9.2s\n",
      "[CV] min_samples_split=3, max_depth=3, criterion=entropy, max_features=3, bootstrap=False, min_samples_leaf=10 \n"
     ]
    },
    {
     "name": "stderr",
     "output_type": "stream",
     "text": [
      "[Parallel(n_jobs=-1)]: Done 529 tasks      | elapsed: 20.7min\n",
      "/home/gaabrielfranco/Documents/github/data-mining-w2/venv/lib/python3.5/site-packages/sklearn/metrics/classification.py:1135: UndefinedMetricWarning: F-score is ill-defined and being set to 0.0 due to no predicted samples.\n",
      "  'precision', 'predicted', average, warn_for)\n",
      "/home/gaabrielfranco/Documents/github/data-mining-w2/venv/lib/python3.5/site-packages/sklearn/metrics/classification.py:1135: UndefinedMetricWarning: F-score is ill-defined and being set to 0.0 due to no predicted samples.\n",
      "  'precision', 'predicted', average, warn_for)\n",
      "/home/gaabrielfranco/Documents/github/data-mining-w2/venv/lib/python3.5/site-packages/sklearn/metrics/classification.py:1135: UndefinedMetricWarning: F-score is ill-defined and being set to 0.0 due to no predicted samples.\n",
      "  'precision', 'predicted', average, warn_for)\n"
     ]
    },
    {
     "name": "stdout",
     "output_type": "stream",
     "text": [
      "[CV]  min_samples_split=10, max_depth=3, criterion=entropy, max_features=3, bootstrap=False, min_samples_leaf=3, score=0.0, total=   9.1s\n",
      "[CV] min_samples_split=10, max_depth=3, criterion=entropy, max_features=3, bootstrap=False, min_samples_leaf=10 \n"
     ]
    },
    {
     "name": "stderr",
     "output_type": "stream",
     "text": [
      "/home/gaabrielfranco/Documents/github/data-mining-w2/venv/lib/python3.5/site-packages/sklearn/metrics/classification.py:1135: UndefinedMetricWarning: F-score is ill-defined and being set to 0.0 due to no predicted samples.\n",
      "  'precision', 'predicted', average, warn_for)\n",
      "/home/gaabrielfranco/Documents/github/data-mining-w2/venv/lib/python3.5/site-packages/sklearn/metrics/classification.py:1135: UndefinedMetricWarning: F-score is ill-defined and being set to 0.0 due to no predicted samples.\n",
      "  'precision', 'predicted', average, warn_for)\n"
     ]
    },
    {
     "name": "stdout",
     "output_type": "stream",
     "text": [
      "[CV]  min_samples_split=10, max_depth=3, criterion=entropy, max_features=3, bootstrap=False, min_samples_leaf=3, score=0.0, total=   8.7s\n",
      "[CV] min_samples_split=10, max_depth=3, criterion=entropy, max_features=3, bootstrap=False, min_samples_leaf=10 \n"
     ]
    },
    {
     "name": "stderr",
     "output_type": "stream",
     "text": [
      "/home/gaabrielfranco/Documents/github/data-mining-w2/venv/lib/python3.5/site-packages/sklearn/metrics/classification.py:1135: UndefinedMetricWarning: F-score is ill-defined and being set to 0.0 due to no predicted samples.\n",
      "  'precision', 'predicted', average, warn_for)\n"
     ]
    },
    {
     "name": "stdout",
     "output_type": "stream",
     "text": [
      "[CV]  min_samples_split=2, max_depth=3, criterion=entropy, max_features=3, bootstrap=False, min_samples_leaf=10, score=0.0, total=   9.1s\n",
      "[CV] min_samples_split=10, max_depth=3, criterion=entropy, max_features=3, bootstrap=False, min_samples_leaf=10 \n",
      "[CV]  min_samples_split=2, max_depth=3, criterion=entropy, max_features=3, bootstrap=False, min_samples_leaf=10, score=0.0, total=   9.6s\n",
      "[CV] min_samples_split=2, max_depth=3, criterion=entropy, max_features=10, bootstrap=False, min_samples_leaf=1 \n",
      "[CV]  min_samples_split=2, max_depth=3, criterion=entropy, max_features=3, bootstrap=False, min_samples_leaf=10, score=0.0, total=   9.7s\n",
      "[CV] min_samples_split=2, max_depth=3, criterion=entropy, max_features=10, bootstrap=False, min_samples_leaf=1 \n",
      "[CV]  min_samples_split=3, max_depth=3, criterion=entropy, max_features=3, bootstrap=False, min_samples_leaf=10, score=0.0, total=   9.5s\n",
      "[CV] min_samples_split=2, max_depth=3, criterion=entropy, max_features=10, bootstrap=False, min_samples_leaf=1 \n"
     ]
    },
    {
     "name": "stderr",
     "output_type": "stream",
     "text": [
      "/home/gaabrielfranco/Documents/github/data-mining-w2/venv/lib/python3.5/site-packages/sklearn/metrics/classification.py:1135: UndefinedMetricWarning: F-score is ill-defined and being set to 0.0 due to no predicted samples.\n",
      "  'precision', 'predicted', average, warn_for)\n",
      "/home/gaabrielfranco/Documents/github/data-mining-w2/venv/lib/python3.5/site-packages/sklearn/metrics/classification.py:1135: UndefinedMetricWarning: F-score is ill-defined and being set to 0.0 due to no predicted samples.\n",
      "  'precision', 'predicted', average, warn_for)\n"
     ]
    },
    {
     "name": "stdout",
     "output_type": "stream",
     "text": [
      "[CV]  min_samples_split=3, max_depth=3, criterion=entropy, max_features=3, bootstrap=False, min_samples_leaf=10, score=0.0, total=   9.3s\n",
      "[CV] min_samples_split=3, max_depth=3, criterion=entropy, max_features=10, bootstrap=False, min_samples_leaf=1 \n",
      "[CV]  min_samples_split=3, max_depth=3, criterion=entropy, max_features=3, bootstrap=False, min_samples_leaf=10, score=0.0, total=   9.3s\n",
      "[CV] min_samples_split=3, max_depth=3, criterion=entropy, max_features=10, bootstrap=False, min_samples_leaf=1 \n"
     ]
    },
    {
     "name": "stderr",
     "output_type": "stream",
     "text": [
      "/home/gaabrielfranco/Documents/github/data-mining-w2/venv/lib/python3.5/site-packages/sklearn/metrics/classification.py:1135: UndefinedMetricWarning: F-score is ill-defined and being set to 0.0 due to no predicted samples.\n",
      "  'precision', 'predicted', average, warn_for)\n",
      "/home/gaabrielfranco/Documents/github/data-mining-w2/venv/lib/python3.5/site-packages/sklearn/metrics/classification.py:1135: UndefinedMetricWarning: F-score is ill-defined and being set to 0.0 due to no predicted samples.\n",
      "  'precision', 'predicted', average, warn_for)\n",
      "/home/gaabrielfranco/Documents/github/data-mining-w2/venv/lib/python3.5/site-packages/sklearn/metrics/classification.py:1135: UndefinedMetricWarning: F-score is ill-defined and being set to 0.0 due to no predicted samples.\n",
      "  'precision', 'predicted', average, warn_for)\n"
     ]
    },
    {
     "name": "stdout",
     "output_type": "stream",
     "text": [
      "[CV]  min_samples_split=10, max_depth=3, criterion=entropy, max_features=3, bootstrap=False, min_samples_leaf=10, score=0.0, total=   9.1s\n",
      "[CV] min_samples_split=3, max_depth=3, criterion=entropy, max_features=10, bootstrap=False, min_samples_leaf=1 \n",
      "[CV]  min_samples_split=10, max_depth=3, criterion=entropy, max_features=3, bootstrap=False, min_samples_leaf=10, score=0.0, total=   8.7s\n",
      "[CV] min_samples_split=10, max_depth=3, criterion=entropy, max_features=10, bootstrap=False, min_samples_leaf=1 \n",
      "[CV]  min_samples_split=10, max_depth=3, criterion=entropy, max_features=3, bootstrap=False, min_samples_leaf=10, score=0.0, total=   9.3s\n",
      "[CV] min_samples_split=10, max_depth=3, criterion=entropy, max_features=10, bootstrap=False, min_samples_leaf=1 \n",
      "[CV]  min_samples_split=2, max_depth=3, criterion=entropy, max_features=10, bootstrap=False, min_samples_leaf=1, score=0.25146427176884034, total=  18.5s\n",
      "[CV] min_samples_split=10, max_depth=3, criterion=entropy, max_features=10, bootstrap=False, min_samples_leaf=1 \n",
      "[CV]  min_samples_split=2, max_depth=3, criterion=entropy, max_features=10, bootstrap=False, min_samples_leaf=1, score=0.2248803827751196, total=  19.6s\n",
      "[CV] min_samples_split=2, max_depth=3, criterion=entropy, max_features=10, bootstrap=False, min_samples_leaf=3 \n",
      "[CV]  min_samples_split=2, max_depth=3, criterion=entropy, max_features=10, bootstrap=False, min_samples_leaf=1, score=0.21508828250401285, total=  19.7s\n",
      "[CV] min_samples_split=2, max_depth=3, criterion=entropy, max_features=10, bootstrap=False, min_samples_leaf=3 \n",
      "[CV]  min_samples_split=3, max_depth=3, criterion=entropy, max_features=10, bootstrap=False, min_samples_leaf=1, score=0.24161073825503354, total=  20.0s\n",
      "[CV] min_samples_split=2, max_depth=3, criterion=entropy, max_features=10, bootstrap=False, min_samples_leaf=3 \n",
      "[CV]  min_samples_split=3, max_depth=3, criterion=entropy, max_features=10, bootstrap=False, min_samples_leaf=1, score=0.2802006947124662, total=  20.1s\n",
      "[CV] min_samples_split=3, max_depth=3, criterion=entropy, max_features=10, bootstrap=False, min_samples_leaf=3 \n",
      "[CV]  min_samples_split=3, max_depth=3, criterion=entropy, max_features=10, bootstrap=False, min_samples_leaf=1, score=0.2753846153846154, total=  20.4s\n",
      "[CV] min_samples_split=3, max_depth=3, criterion=entropy, max_features=10, bootstrap=False, min_samples_leaf=3 \n",
      "[CV]  min_samples_split=10, max_depth=3, criterion=entropy, max_features=10, bootstrap=False, min_samples_leaf=1, score=0.2594763579523251, total=  20.5s\n",
      "[CV] min_samples_split=3, max_depth=3, criterion=entropy, max_features=10, bootstrap=False, min_samples_leaf=3 \n",
      "[CV]  min_samples_split=10, max_depth=3, criterion=entropy, max_features=10, bootstrap=False, min_samples_leaf=1, score=0.24862313139260428, total=  21.6s\n",
      "[CV] min_samples_split=10, max_depth=3, criterion=entropy, max_features=10, bootstrap=False, min_samples_leaf=3 \n",
      "[CV]  min_samples_split=10, max_depth=3, criterion=entropy, max_features=10, bootstrap=False, min_samples_leaf=1, score=0.2139423076923077, total=  20.2s\n",
      "[CV] min_samples_split=10, max_depth=3, criterion=entropy, max_features=10, bootstrap=False, min_samples_leaf=3 \n",
      "[CV]  min_samples_split=2, max_depth=3, criterion=entropy, max_features=10, bootstrap=False, min_samples_leaf=3, score=0.24566929133858265, total=  20.1s\n",
      "[CV] min_samples_split=10, max_depth=3, criterion=entropy, max_features=10, bootstrap=False, min_samples_leaf=3 \n",
      "[CV]  min_samples_split=2, max_depth=3, criterion=entropy, max_features=10, bootstrap=False, min_samples_leaf=3, score=0.2107803700724055, total=  21.4s\n",
      "[CV] min_samples_split=2, max_depth=3, criterion=entropy, max_features=10, bootstrap=False, min_samples_leaf=10 \n",
      "[CV]  min_samples_split=2, max_depth=3, criterion=entropy, max_features=10, bootstrap=False, min_samples_leaf=3, score=0.2728323699421965, total=  20.0s\n",
      "[CV] min_samples_split=2, max_depth=3, criterion=entropy, max_features=10, bootstrap=False, min_samples_leaf=10 \n",
      "[CV]  min_samples_split=3, max_depth=3, criterion=entropy, max_features=10, bootstrap=False, min_samples_leaf=3, score=0.24113475177304963, total=  20.1s\n",
      "[CV] min_samples_split=2, max_depth=3, criterion=entropy, max_features=10, bootstrap=False, min_samples_leaf=10 \n",
      "[CV]  min_samples_split=3, max_depth=3, criterion=entropy, max_features=10, bootstrap=False, min_samples_leaf=3, score=0.23394131641554322, total=  18.3s\n",
      "[CV] min_samples_split=3, max_depth=3, criterion=entropy, max_features=10, bootstrap=False, min_samples_leaf=10 \n",
      "[CV]  min_samples_split=3, max_depth=3, criterion=entropy, max_features=10, bootstrap=False, min_samples_leaf=3, score=0.21437173825772782, total=  20.3s\n",
      "[CV] min_samples_split=3, max_depth=3, criterion=entropy, max_features=10, bootstrap=False, min_samples_leaf=10 \n",
      "[CV]  min_samples_split=10, max_depth=3, criterion=entropy, max_features=10, bootstrap=False, min_samples_leaf=3, score=0.26385636221701797, total=  21.8s\n",
      "[CV] min_samples_split=3, max_depth=3, criterion=entropy, max_features=10, bootstrap=False, min_samples_leaf=10 \n",
      "[CV]  min_samples_split=10, max_depth=3, criterion=entropy, max_features=10, bootstrap=False, min_samples_leaf=3, score=0.21580425190533495, total=  20.6s\n",
      "[CV] min_samples_split=10, max_depth=3, criterion=entropy, max_features=10, bootstrap=False, min_samples_leaf=10 \n",
      "[CV]  min_samples_split=10, max_depth=3, criterion=entropy, max_features=10, bootstrap=False, min_samples_leaf=3, score=0.24536489151873767, total=  20.0s\n",
      "[CV] min_samples_split=10, max_depth=3, criterion=entropy, max_features=10, bootstrap=False, min_samples_leaf=10 \n",
      "[CV]  min_samples_split=2, max_depth=3, criterion=entropy, max_features=10, bootstrap=False, min_samples_leaf=10, score=0.24321133412042506, total=  21.4s\n",
      "[CV] min_samples_split=10, max_depth=3, criterion=entropy, max_features=10, bootstrap=False, min_samples_leaf=10 \n",
      "[CV]  min_samples_split=2, max_depth=3, criterion=entropy, max_features=10, bootstrap=False, min_samples_leaf=10, score=0.21365461847389558, total=  20.4s\n",
      "[CV] min_samples_split=2, max_depth=None, criterion=entropy, max_features=1, bootstrap=False, min_samples_leaf=1 \n",
      "[CV]  min_samples_split=2, max_depth=3, criterion=entropy, max_features=10, bootstrap=False, min_samples_leaf=10, score=0.2190247801758593, total=  19.9s\n",
      "[CV] min_samples_split=2, max_depth=None, criterion=entropy, max_features=1, bootstrap=False, min_samples_leaf=1 \n",
      "[CV]  min_samples_split=3, max_depth=3, criterion=entropy, max_features=10, bootstrap=False, min_samples_leaf=10, score=0.23981005144440048, total=  19.7s\n",
      "[CV] min_samples_split=2, max_depth=None, criterion=entropy, max_features=1, bootstrap=False, min_samples_leaf=1 \n"
     ]
    },
    {
     "name": "stderr",
     "output_type": "stream",
     "text": [
      "[Parallel(n_jobs=-1)]: Done 562 tasks      | elapsed: 22.1min\n"
     ]
    },
    {
     "name": "stdout",
     "output_type": "stream",
     "text": [
      "[CV]  min_samples_split=3, max_depth=3, criterion=entropy, max_features=10, bootstrap=False, min_samples_leaf=10, score=0.2107803700724055, total=  20.2s\n",
      "[CV] min_samples_split=3, max_depth=None, criterion=entropy, max_features=1, bootstrap=False, min_samples_leaf=1 \n",
      "[CV]  min_samples_split=3, max_depth=3, criterion=entropy, max_features=10, bootstrap=False, min_samples_leaf=10, score=0.2474469756480754, total=  19.3s\n",
      "[CV] min_samples_split=3, max_depth=None, criterion=entropy, max_features=1, bootstrap=False, min_samples_leaf=1 \n",
      "[CV]  min_samples_split=10, max_depth=3, criterion=entropy, max_features=10, bootstrap=False, min_samples_leaf=10, score=0.26692607003891056, total=  15.9s\n",
      "[CV] min_samples_split=3, max_depth=None, criterion=entropy, max_features=1, bootstrap=False, min_samples_leaf=1 \n",
      "[CV]  min_samples_split=10, max_depth=3, criterion=entropy, max_features=10, bootstrap=False, min_samples_leaf=10, score=0.24428684003152087, total=  15.8s\n",
      "[CV] min_samples_split=10, max_depth=None, criterion=entropy, max_features=1, bootstrap=False, min_samples_leaf=1 \n",
      "[CV]  min_samples_split=10, max_depth=3, criterion=entropy, max_features=10, bootstrap=False, min_samples_leaf=10, score=0.20963855421686747, total=  16.1s\n",
      "[CV] min_samples_split=10, max_depth=None, criterion=entropy, max_features=1, bootstrap=False, min_samples_leaf=1 \n",
      "[CV]  min_samples_split=2, max_depth=None, criterion=entropy, max_features=1, bootstrap=False, min_samples_leaf=1, score=0.62782859894078, total=  33.3s\n",
      "[CV] min_samples_split=10, max_depth=None, criterion=entropy, max_features=1, bootstrap=False, min_samples_leaf=1 \n",
      "[CV]  min_samples_split=2, max_depth=None, criterion=entropy, max_features=1, bootstrap=False, min_samples_leaf=1, score=0.6338062034142823, total=  35.5s\n",
      "[CV] min_samples_split=2, max_depth=None, criterion=entropy, max_features=1, bootstrap=False, min_samples_leaf=3 \n",
      "[CV]  min_samples_split=2, max_depth=None, criterion=entropy, max_features=1, bootstrap=False, min_samples_leaf=1, score=0.6411960132890365, total=  36.0s\n",
      "[CV] min_samples_split=2, max_depth=None, criterion=entropy, max_features=1, bootstrap=False, min_samples_leaf=3 \n",
      "[CV]  min_samples_split=3, max_depth=None, criterion=entropy, max_features=1, bootstrap=False, min_samples_leaf=1, score=0.6430439952437574, total=  34.6s\n",
      "[CV] min_samples_split=2, max_depth=None, criterion=entropy, max_features=1, bootstrap=False, min_samples_leaf=3 \n",
      "[CV]  min_samples_split=10, max_depth=None, criterion=entropy, max_features=1, bootstrap=False, min_samples_leaf=1, score=0.6564102564102565, total=  28.0s\n",
      "[CV] min_samples_split=3, max_depth=None, criterion=entropy, max_features=1, bootstrap=False, min_samples_leaf=3 \n",
      "[CV]  min_samples_split=3, max_depth=None, criterion=entropy, max_features=1, bootstrap=False, min_samples_leaf=1, score=0.6382260785731502, total=  32.7s\n",
      "[CV] min_samples_split=3, max_depth=None, criterion=entropy, max_features=1, bootstrap=False, min_samples_leaf=3 \n",
      "[CV]  min_samples_split=10, max_depth=None, criterion=entropy, max_features=1, bootstrap=False, min_samples_leaf=1, score=0.652271034996277, total=  29.5s\n",
      "[CV]  min_samples_split=3, max_depth=None, criterion=entropy, max_features=1, bootstrap=False, min_samples_leaf=1, score=0.6266699052708282, total=  31.9s\n",
      "[CV] min_samples_split=3, max_depth=None, criterion=entropy, max_features=1, bootstrap=False, min_samples_leaf=3 \n",
      "[CV] min_samples_split=10, max_depth=None, criterion=entropy, max_features=1, bootstrap=False, min_samples_leaf=3 \n",
      "[CV]  min_samples_split=2, max_depth=None, criterion=entropy, max_features=1, bootstrap=False, min_samples_leaf=3, score=0.3567293777134588, total=  13.4s\n",
      "[CV] min_samples_split=10, max_depth=None, criterion=entropy, max_features=1, bootstrap=False, min_samples_leaf=3 \n",
      "[CV]  min_samples_split=2, max_depth=None, criterion=entropy, max_features=1, bootstrap=False, min_samples_leaf=3, score=0.3987430167597765, total=  14.1s\n",
      "[CV] min_samples_split=10, max_depth=None, criterion=entropy, max_features=1, bootstrap=False, min_samples_leaf=3 \n",
      "[CV]  min_samples_split=2, max_depth=None, criterion=entropy, max_features=1, bootstrap=False, min_samples_leaf=3, score=0.3558282208588957, total=  13.7s\n",
      "[CV] min_samples_split=2, max_depth=None, criterion=entropy, max_features=1, bootstrap=False, min_samples_leaf=10 \n",
      "[CV]  min_samples_split=3, max_depth=None, criterion=entropy, max_features=1, bootstrap=False, min_samples_leaf=3, score=0.3870285512865703, total=  13.9s\n",
      "[CV] min_samples_split=2, max_depth=None, criterion=entropy, max_features=1, bootstrap=False, min_samples_leaf=10 \n",
      "[CV]  min_samples_split=3, max_depth=None, criterion=entropy, max_features=1, bootstrap=False, min_samples_leaf=3, score=0.3697056712132089, total=  13.8s\n",
      "[CV] min_samples_split=2, max_depth=None, criterion=entropy, max_features=1, bootstrap=False, min_samples_leaf=10 \n",
      "[CV]  min_samples_split=10, max_depth=None, criterion=entropy, max_features=1, bootstrap=False, min_samples_leaf=3, score=0.40458811261730965, total=  14.0s\n",
      "[CV] min_samples_split=3, max_depth=None, criterion=entropy, max_features=1, bootstrap=False, min_samples_leaf=10 \n",
      "[CV]  min_samples_split=3, max_depth=None, criterion=entropy, max_features=1, bootstrap=False, min_samples_leaf=3, score=0.3693404634581105, total=  14.6s\n",
      "[CV] min_samples_split=3, max_depth=None, criterion=entropy, max_features=1, bootstrap=False, min_samples_leaf=10 \n"
     ]
    },
    {
     "name": "stderr",
     "output_type": "stream",
     "text": [
      "/home/gaabrielfranco/Documents/github/data-mining-w2/venv/lib/python3.5/site-packages/sklearn/metrics/classification.py:1135: UndefinedMetricWarning: F-score is ill-defined and being set to 0.0 due to no predicted samples.\n",
      "  'precision', 'predicted', average, warn_for)\n",
      "/home/gaabrielfranco/Documents/github/data-mining-w2/venv/lib/python3.5/site-packages/sklearn/metrics/classification.py:1135: UndefinedMetricWarning: F-score is ill-defined and being set to 0.0 due to no predicted samples.\n",
      "  'precision', 'predicted', average, warn_for)\n",
      "/home/gaabrielfranco/Documents/github/data-mining-w2/venv/lib/python3.5/site-packages/sklearn/metrics/classification.py:1135: UndefinedMetricWarning: F-score is ill-defined and being set to 0.0 due to no predicted samples.\n",
      "  'precision', 'predicted', average, warn_for)\n"
     ]
    },
    {
     "name": "stdout",
     "output_type": "stream",
     "text": [
      "[CV]  min_samples_split=2, max_depth=None, criterion=entropy, max_features=1, bootstrap=False, min_samples_leaf=10, score=0.0, total=   8.4s\n",
      "[CV] min_samples_split=3, max_depth=None, criterion=entropy, max_features=1, bootstrap=False, min_samples_leaf=10 \n",
      "[CV]  min_samples_split=2, max_depth=None, criterion=entropy, max_features=1, bootstrap=False, min_samples_leaf=10, score=0.0, total=   8.0s\n",
      "[CV] min_samples_split=10, max_depth=None, criterion=entropy, max_features=1, bootstrap=False, min_samples_leaf=10 \n",
      "[CV]  min_samples_split=2, max_depth=None, criterion=entropy, max_features=1, bootstrap=False, min_samples_leaf=10, score=0.0, total=   8.0s\n",
      "[CV] min_samples_split=10, max_depth=None, criterion=entropy, max_features=1, bootstrap=False, min_samples_leaf=10 \n"
     ]
    },
    {
     "name": "stderr",
     "output_type": "stream",
     "text": [
      "/home/gaabrielfranco/Documents/github/data-mining-w2/venv/lib/python3.5/site-packages/sklearn/metrics/classification.py:1135: UndefinedMetricWarning: F-score is ill-defined and being set to 0.0 due to no predicted samples.\n",
      "  'precision', 'predicted', average, warn_for)\n",
      "/home/gaabrielfranco/Documents/github/data-mining-w2/venv/lib/python3.5/site-packages/sklearn/metrics/classification.py:1135: UndefinedMetricWarning: F-score is ill-defined and being set to 0.0 due to no predicted samples.\n",
      "  'precision', 'predicted', average, warn_for)\n"
     ]
    },
    {
     "name": "stdout",
     "output_type": "stream",
     "text": [
      "[CV]  min_samples_split=10, max_depth=None, criterion=entropy, max_features=1, bootstrap=False, min_samples_leaf=3, score=0.39901477832512317, total=  15.1s\n",
      "[CV] min_samples_split=10, max_depth=None, criterion=entropy, max_features=1, bootstrap=False, min_samples_leaf=10 \n",
      "[CV]  min_samples_split=10, max_depth=None, criterion=entropy, max_features=1, bootstrap=False, min_samples_leaf=3, score=0.39944134078212284, total=  15.1s\n",
      "[CV] min_samples_split=2, max_depth=None, criterion=entropy, max_features=3, bootstrap=False, min_samples_leaf=1 \n",
      "[CV]  min_samples_split=3, max_depth=None, criterion=entropy, max_features=1, bootstrap=False, min_samples_leaf=10, score=0.0, total=   8.4s\n",
      "[CV] min_samples_split=2, max_depth=None, criterion=entropy, max_features=3, bootstrap=False, min_samples_leaf=1 \n",
      "[CV]  min_samples_split=3, max_depth=None, criterion=entropy, max_features=1, bootstrap=False, min_samples_leaf=10, score=0.0, total=   8.5s\n",
      "[CV] min_samples_split=2, max_depth=None, criterion=entropy, max_features=3, bootstrap=False, min_samples_leaf=1 \n",
      "[CV]  min_samples_split=10, max_depth=None, criterion=entropy, max_features=1, bootstrap=False, min_samples_leaf=1, score=0.6389649166459318, total=  32.1s\n",
      "[CV] min_samples_split=3, max_depth=None, criterion=entropy, max_features=3, bootstrap=False, min_samples_leaf=1 \n"
     ]
    },
    {
     "name": "stderr",
     "output_type": "stream",
     "text": [
      "/home/gaabrielfranco/Documents/github/data-mining-w2/venv/lib/python3.5/site-packages/sklearn/metrics/classification.py:1135: UndefinedMetricWarning: F-score is ill-defined and being set to 0.0 due to no predicted samples.\n",
      "  'precision', 'predicted', average, warn_for)\n",
      "/home/gaabrielfranco/Documents/github/data-mining-w2/venv/lib/python3.5/site-packages/sklearn/metrics/classification.py:1135: UndefinedMetricWarning: F-score is ill-defined and being set to 0.0 due to no predicted samples.\n",
      "  'precision', 'predicted', average, warn_for)\n",
      "/home/gaabrielfranco/Documents/github/data-mining-w2/venv/lib/python3.5/site-packages/sklearn/metrics/classification.py:1135: UndefinedMetricWarning: F-score is ill-defined and being set to 0.0 due to no predicted samples.\n",
      "  'precision', 'predicted', average, warn_for)\n"
     ]
    },
    {
     "name": "stdout",
     "output_type": "stream",
     "text": [
      "[CV]  min_samples_split=3, max_depth=None, criterion=entropy, max_features=1, bootstrap=False, min_samples_leaf=10, score=0.0, total=   7.9s\n",
      "[CV] min_samples_split=3, max_depth=None, criterion=entropy, max_features=3, bootstrap=False, min_samples_leaf=1 \n",
      "[CV]  min_samples_split=10, max_depth=None, criterion=entropy, max_features=1, bootstrap=False, min_samples_leaf=10, score=0.0, total=   8.0s\n",
      "[CV] min_samples_split=3, max_depth=None, criterion=entropy, max_features=3, bootstrap=False, min_samples_leaf=1 \n",
      "[CV]  min_samples_split=10, max_depth=None, criterion=entropy, max_features=1, bootstrap=False, min_samples_leaf=10, score=0.0, total=   8.1s\n",
      "[CV] min_samples_split=10, max_depth=None, criterion=entropy, max_features=3, bootstrap=False, min_samples_leaf=1 \n"
     ]
    },
    {
     "name": "stderr",
     "output_type": "stream",
     "text": [
      "/home/gaabrielfranco/Documents/github/data-mining-w2/venv/lib/python3.5/site-packages/sklearn/metrics/classification.py:1135: UndefinedMetricWarning: F-score is ill-defined and being set to 0.0 due to no predicted samples.\n",
      "  'precision', 'predicted', average, warn_for)\n"
     ]
    },
    {
     "name": "stdout",
     "output_type": "stream",
     "text": [
      "[CV]  min_samples_split=10, max_depth=None, criterion=entropy, max_features=1, bootstrap=False, min_samples_leaf=10, score=0.0, total=   7.2s\n",
      "[CV] min_samples_split=10, max_depth=None, criterion=entropy, max_features=3, bootstrap=False, min_samples_leaf=1 \n",
      "[CV]  min_samples_split=3, max_depth=None, criterion=entropy, max_features=3, bootstrap=False, min_samples_leaf=1, score=0.6554182509505703, total=  36.4s\n",
      "[CV] min_samples_split=10, max_depth=None, criterion=entropy, max_features=3, bootstrap=False, min_samples_leaf=1 \n",
      "[CV]  min_samples_split=10, max_depth=None, criterion=entropy, max_features=3, bootstrap=False, min_samples_leaf=1, score=0.6686060606060606, total=  32.9s\n",
      "[CV] min_samples_split=2, max_depth=None, criterion=entropy, max_features=3, bootstrap=False, min_samples_leaf=3 \n",
      "[CV]  min_samples_split=2, max_depth=None, criterion=entropy, max_features=3, bootstrap=False, min_samples_leaf=1, score=0.6461611826418694, total=  38.7s\n",
      "[CV] min_samples_split=2, max_depth=None, criterion=entropy, max_features=3, bootstrap=False, min_samples_leaf=3 \n"
     ]
    },
    {
     "name": "stderr",
     "output_type": "stream",
     "text": [
      "[Parallel(n_jobs=-1)]: Done 597 tasks      | elapsed: 24.0min\n"
     ]
    },
    {
     "name": "stdout",
     "output_type": "stream",
     "text": [
      "[CV]  min_samples_split=2, max_depth=None, criterion=entropy, max_features=3, bootstrap=False, min_samples_leaf=1, score=0.6512832587708971, total=  40.6s\n",
      "[CV] min_samples_split=2, max_depth=None, criterion=entropy, max_features=3, bootstrap=False, min_samples_leaf=3 \n",
      "[CV]  min_samples_split=10, max_depth=None, criterion=entropy, max_features=3, bootstrap=False, min_samples_leaf=1, score=0.6663373672511732, total=  33.3s\n",
      "[CV] min_samples_split=3, max_depth=None, criterion=entropy, max_features=3, bootstrap=False, min_samples_leaf=3 \n",
      "[CV]  min_samples_split=2, max_depth=None, criterion=entropy, max_features=3, bootstrap=False, min_samples_leaf=1, score=0.6369944962909787, total=  40.3s\n",
      "[CV] min_samples_split=3, max_depth=None, criterion=entropy, max_features=3, bootstrap=False, min_samples_leaf=3 \n",
      "[CV]  min_samples_split=3, max_depth=None, criterion=entropy, max_features=3, bootstrap=False, min_samples_leaf=1, score=0.6401350699469368, total=  36.0s\n",
      "[CV] min_samples_split=3, max_depth=None, criterion=entropy, max_features=3, bootstrap=False, min_samples_leaf=3 \n",
      "[CV]  min_samples_split=3, max_depth=None, criterion=entropy, max_features=3, bootstrap=False, min_samples_leaf=1, score=0.6480153036824486, total=  38.2s\n",
      "[CV] min_samples_split=10, max_depth=None, criterion=entropy, max_features=3, bootstrap=False, min_samples_leaf=3 \n",
      "[CV]  min_samples_split=2, max_depth=None, criterion=entropy, max_features=3, bootstrap=False, min_samples_leaf=3, score=0.6161033250893103, total=  21.4s\n",
      "[CV] min_samples_split=10, max_depth=None, criterion=entropy, max_features=3, bootstrap=False, min_samples_leaf=3 \n",
      "[CV]  min_samples_split=2, max_depth=None, criterion=entropy, max_features=3, bootstrap=False, min_samples_leaf=3, score=0.6019858156028369, total=  20.9s\n",
      "[CV] min_samples_split=10, max_depth=None, criterion=entropy, max_features=3, bootstrap=False, min_samples_leaf=3 \n",
      "[CV]  min_samples_split=3, max_depth=None, criterion=entropy, max_features=3, bootstrap=False, min_samples_leaf=3, score=0.6202945990180033, total=  22.4s\n",
      "[CV] min_samples_split=2, max_depth=None, criterion=entropy, max_features=3, bootstrap=False, min_samples_leaf=10 \n",
      "[CV]  min_samples_split=2, max_depth=None, criterion=entropy, max_features=3, bootstrap=False, min_samples_leaf=3, score=0.5880380100614868, total=  22.7s\n",
      "[CV] min_samples_split=2, max_depth=None, criterion=entropy, max_features=3, bootstrap=False, min_samples_leaf=10 \n",
      "[CV]  min_samples_split=3, max_depth=None, criterion=entropy, max_features=3, bootstrap=False, min_samples_leaf=3, score=0.5931263858093125, total=  21.9s\n",
      "[CV] min_samples_split=2, max_depth=None, criterion=entropy, max_features=3, bootstrap=False, min_samples_leaf=10 \n",
      "[CV]  min_samples_split=3, max_depth=None, criterion=entropy, max_features=3, bootstrap=False, min_samples_leaf=3, score=0.6042432814710041, total=  23.5s\n",
      "[CV] min_samples_split=3, max_depth=None, criterion=entropy, max_features=3, bootstrap=False, min_samples_leaf=10 \n",
      "[CV]  min_samples_split=10, max_depth=None, criterion=entropy, max_features=3, bootstrap=False, min_samples_leaf=3, score=0.6124586549062845, total=  22.8s\n",
      "[CV] min_samples_split=3, max_depth=None, criterion=entropy, max_features=3, bootstrap=False, min_samples_leaf=10 \n",
      "[CV]  min_samples_split=10, max_depth=None, criterion=entropy, max_features=3, bootstrap=False, min_samples_leaf=1, score=0.6504185130477598, total=  36.0s\n",
      "[CV] min_samples_split=3, max_depth=None, criterion=entropy, max_features=3, bootstrap=False, min_samples_leaf=10 \n",
      "[CV]  min_samples_split=2, max_depth=None, criterion=entropy, max_features=3, bootstrap=False, min_samples_leaf=10, score=0.5132145052243392, total=  18.7s\n",
      "[CV] min_samples_split=10, max_depth=None, criterion=entropy, max_features=3, bootstrap=False, min_samples_leaf=10 \n",
      "[CV]  min_samples_split=2, max_depth=None, criterion=entropy, max_features=3, bootstrap=False, min_samples_leaf=10, score=0.5485714285714286, total=  19.6s\n",
      "[CV] min_samples_split=10, max_depth=None, criterion=entropy, max_features=3, bootstrap=False, min_samples_leaf=10 \n",
      "[CV]  min_samples_split=10, max_depth=None, criterion=entropy, max_features=3, bootstrap=False, min_samples_leaf=3, score=0.6004540295119183, total=  23.1s\n",
      "[CV] min_samples_split=10, max_depth=None, criterion=entropy, max_features=3, bootstrap=False, min_samples_leaf=10 \n",
      "[CV]  min_samples_split=2, max_depth=None, criterion=entropy, max_features=3, bootstrap=False, min_samples_leaf=10, score=0.5221705426356589, total=  20.1s\n",
      "[CV] min_samples_split=2, max_depth=None, criterion=entropy, max_features=10, bootstrap=False, min_samples_leaf=1 \n",
      "[CV]  min_samples_split=10, max_depth=None, criterion=entropy, max_features=3, bootstrap=False, min_samples_leaf=3, score=0.5880380100614868, total=  23.8s\n",
      "[CV] min_samples_split=2, max_depth=None, criterion=entropy, max_features=10, bootstrap=False, min_samples_leaf=1 \n",
      "[CV]  min_samples_split=3, max_depth=None, criterion=entropy, max_features=3, bootstrap=False, min_samples_leaf=10, score=0.5475903614457831, total=  20.5s\n",
      "[CV] min_samples_split=2, max_depth=None, criterion=entropy, max_features=10, bootstrap=False, min_samples_leaf=1 \n",
      "[CV]  min_samples_split=3, max_depth=None, criterion=entropy, max_features=3, bootstrap=False, min_samples_leaf=10, score=0.5235148514851484, total=  19.5s\n",
      "[CV] min_samples_split=3, max_depth=None, criterion=entropy, max_features=10, bootstrap=False, min_samples_leaf=1 \n",
      "[CV]  min_samples_split=3, max_depth=None, criterion=entropy, max_features=3, bootstrap=False, min_samples_leaf=10, score=0.5161488772685328, total=  18.1s\n",
      "[CV] min_samples_split=3, max_depth=None, criterion=entropy, max_features=10, bootstrap=False, min_samples_leaf=1 \n",
      "[CV]  min_samples_split=10, max_depth=None, criterion=entropy, max_features=3, bootstrap=False, min_samples_leaf=10, score=0.5400304414003043, total=  16.6s\n",
      "[CV] min_samples_split=3, max_depth=None, criterion=entropy, max_features=10, bootstrap=False, min_samples_leaf=1 \n",
      "[CV]  min_samples_split=10, max_depth=None, criterion=entropy, max_features=3, bootstrap=False, min_samples_leaf=10, score=0.5315233785822021, total=  16.0s\n",
      "[CV] min_samples_split=10, max_depth=None, criterion=entropy, max_features=10, bootstrap=False, min_samples_leaf=1 \n",
      "[CV]  min_samples_split=10, max_depth=None, criterion=entropy, max_features=3, bootstrap=False, min_samples_leaf=10, score=0.5201988812927285, total=  16.8s\n",
      "[CV] min_samples_split=10, max_depth=None, criterion=entropy, max_features=10, bootstrap=False, min_samples_leaf=1 \n",
      "[CV]  min_samples_split=2, max_depth=None, criterion=entropy, max_features=10, bootstrap=False, min_samples_leaf=1, score=0.6555423122765196, total=  53.8s\n",
      "[CV] min_samples_split=10, max_depth=None, criterion=entropy, max_features=10, bootstrap=False, min_samples_leaf=1 \n",
      "[CV]  min_samples_split=3, max_depth=None, criterion=entropy, max_features=10, bootstrap=False, min_samples_leaf=1, score=0.6666666666666666, total=  53.8s\n",
      "[CV] min_samples_split=2, max_depth=None, criterion=entropy, max_features=10, bootstrap=False, min_samples_leaf=3 \n",
      "[CV]  min_samples_split=2, max_depth=None, criterion=entropy, max_features=10, bootstrap=False, min_samples_leaf=1, score=0.6627689429373246, total=  58.3s\n",
      "[CV] min_samples_split=2, max_depth=None, criterion=entropy, max_features=10, bootstrap=False, min_samples_leaf=3 \n",
      "[CV]  min_samples_split=2, max_depth=None, criterion=entropy, max_features=10, bootstrap=False, min_samples_leaf=1, score=0.6502627806975633, total=  57.6s\n",
      "[CV] min_samples_split=2, max_depth=None, criterion=entropy, max_features=10, bootstrap=False, min_samples_leaf=3 \n",
      "[CV]  min_samples_split=3, max_depth=None, criterion=entropy, max_features=10, bootstrap=False, min_samples_leaf=1, score=0.6641019475835537, total=  52.8s\n",
      "[CV] min_samples_split=3, max_depth=None, criterion=entropy, max_features=10, bootstrap=False, min_samples_leaf=3 \n",
      "[CV]  min_samples_split=10, max_depth=None, criterion=entropy, max_features=10, bootstrap=False, min_samples_leaf=1, score=0.6803729380827158, total=  47.4s\n",
      "[CV] min_samples_split=3, max_depth=None, criterion=entropy, max_features=10, bootstrap=False, min_samples_leaf=3 \n",
      "[CV]  min_samples_split=10, max_depth=None, criterion=entropy, max_features=10, bootstrap=False, min_samples_leaf=1, score=0.6815177478580171, total=  50.9s\n"
     ]
    },
    {
     "name": "stdout",
     "output_type": "stream",
     "text": [
      "[CV] min_samples_split=3, max_depth=None, criterion=entropy, max_features=10, bootstrap=False, min_samples_leaf=3 \n",
      "[CV]  min_samples_split=3, max_depth=None, criterion=entropy, max_features=10, bootstrap=False, min_samples_leaf=1, score=0.6570535928863255, total=  51.5s\n",
      "[CV] min_samples_split=10, max_depth=None, criterion=entropy, max_features=10, bootstrap=False, min_samples_leaf=3 \n",
      "[CV]  min_samples_split=2, max_depth=None, criterion=entropy, max_features=10, bootstrap=False, min_samples_leaf=3, score=0.6762092793682134, total=  42.6s\n",
      "[CV] min_samples_split=10, max_depth=None, criterion=entropy, max_features=10, bootstrap=False, min_samples_leaf=3 \n",
      "[CV]  min_samples_split=2, max_depth=None, criterion=entropy, max_features=10, bootstrap=False, min_samples_leaf=3, score=0.6753114670734809, total=  46.1s\n",
      "[CV] min_samples_split=10, max_depth=None, criterion=entropy, max_features=10, bootstrap=False, min_samples_leaf=3 \n",
      "[CV]  min_samples_split=10, max_depth=None, criterion=entropy, max_features=10, bootstrap=False, min_samples_leaf=1, score=0.6721629485935985, total=  49.1s\n",
      "[CV] min_samples_split=2, max_depth=None, criterion=entropy, max_features=10, bootstrap=False, min_samples_leaf=10 \n"
     ]
    },
    {
     "name": "stderr",
     "output_type": "stream",
     "text": [
      "[Parallel(n_jobs=-1)]: Done 632 tasks      | elapsed: 26.7min\n"
     ]
    },
    {
     "name": "stdout",
     "output_type": "stream",
     "text": [
      "[CV]  min_samples_split=2, max_depth=None, criterion=entropy, max_features=10, bootstrap=False, min_samples_leaf=3, score=0.6761194029850747, total=  46.8s\n",
      "[CV] min_samples_split=2, max_depth=None, criterion=entropy, max_features=10, bootstrap=False, min_samples_leaf=10 \n",
      "[CV]  min_samples_split=3, max_depth=None, criterion=entropy, max_features=10, bootstrap=False, min_samples_leaf=3, score=0.677180877279448, total=  43.5s\n",
      "[CV] min_samples_split=2, max_depth=None, criterion=entropy, max_features=10, bootstrap=False, min_samples_leaf=10 \n",
      "[CV]  min_samples_split=3, max_depth=None, criterion=entropy, max_features=10, bootstrap=False, min_samples_leaf=3, score=0.6766955634880163, total=  44.2s\n",
      "[CV] min_samples_split=3, max_depth=None, criterion=entropy, max_features=10, bootstrap=False, min_samples_leaf=10 \n",
      "[CV]  min_samples_split=10, max_depth=None, criterion=entropy, max_features=10, bootstrap=False, min_samples_leaf=3, score=0.6775308641975308, total=  43.6s\n",
      "[CV] min_samples_split=3, max_depth=None, criterion=entropy, max_features=10, bootstrap=False, min_samples_leaf=10 \n",
      "[CV]  min_samples_split=3, max_depth=None, criterion=entropy, max_features=10, bootstrap=False, min_samples_leaf=3, score=0.676938369781312, total=  48.3s\n",
      "[CV] min_samples_split=3, max_depth=None, criterion=entropy, max_features=10, bootstrap=False, min_samples_leaf=10 \n",
      "[CV]  min_samples_split=10, max_depth=None, criterion=entropy, max_features=10, bootstrap=False, min_samples_leaf=3, score=0.6741344195519348, total=  45.9s\n",
      "[CV] min_samples_split=10, max_depth=None, criterion=entropy, max_features=10, bootstrap=False, min_samples_leaf=10 \n",
      "[CV]  min_samples_split=2, max_depth=None, criterion=entropy, max_features=10, bootstrap=False, min_samples_leaf=10, score=0.67303342548379, total=  42.4s\n",
      "[CV] min_samples_split=10, max_depth=None, criterion=entropy, max_features=10, bootstrap=False, min_samples_leaf=10 \n",
      "[CV]  min_samples_split=3, max_depth=None, criterion=entropy, max_features=10, bootstrap=False, min_samples_leaf=10, score=0.6728783681692269, total=  42.2s\n",
      "[CV] min_samples_split=10, max_depth=None, criterion=entropy, max_features=10, bootstrap=False, min_samples_leaf=10 \n",
      "[CV]  min_samples_split=2, max_depth=None, criterion=entropy, max_features=10, bootstrap=False, min_samples_leaf=10, score=0.6666666666666666, total=  46.6s\n",
      "[CV]  min_samples_split=2, max_depth=None, criterion=entropy, max_features=10, bootstrap=False, min_samples_leaf=10, score=0.6691861929957168, total=  46.3s\n",
      "[CV]  min_samples_split=3, max_depth=None, criterion=entropy, max_features=10, bootstrap=False, min_samples_leaf=10, score=0.6699279093717816, total=  41.9s\n",
      "[CV]  min_samples_split=10, max_depth=None, criterion=entropy, max_features=10, bootstrap=False, min_samples_leaf=3, score=0.6780923994038748, total=  49.7s\n",
      "[CV]  min_samples_split=3, max_depth=None, criterion=entropy, max_features=10, bootstrap=False, min_samples_leaf=10, score=0.6664988673546439, total=  42.6s\n",
      "[CV]  min_samples_split=10, max_depth=None, criterion=entropy, max_features=10, bootstrap=False, min_samples_leaf=10, score=0.6740387031917567, total=  23.2s\n",
      "[CV]  min_samples_split=10, max_depth=None, criterion=entropy, max_features=10, bootstrap=False, min_samples_leaf=10, score=0.6673387096774194, total=  18.8s\n",
      "[CV]  min_samples_split=10, max_depth=None, criterion=entropy, max_features=10, bootstrap=False, min_samples_leaf=10, score=0.6699304303014686, total=  22.8s\n"
     ]
    },
    {
     "name": "stderr",
     "output_type": "stream",
     "text": [
      "[Parallel(n_jobs=-1)]: Done 648 out of 648 | elapsed: 27.9min finished\n"
     ]
    },
    {
     "data": {
      "image/png": "[encoded data removed]",
      "text/plain": [
       "<Figure size 432x288 with 2 Axes>"
      ]
     },
     "metadata": {},
     "output_type": "display_data"
    }
   ],
   "source": [
    "#params_rfc = {'n_estimators': list(range(100, 2000, 100))}\n",
    "from scipy.stats import randint as sp_randint\n",
    "params_rfc = {\"max_depth\": [3, None],\n",
    "              \"max_features\": [1, 3, 10],\n",
    "              \"min_samples_split\": [2, 3, 10],\n",
    "              \"min_samples_leaf\": [1, 3, 10],\n",
    "              \"bootstrap\": [True, False],\n",
    "              \"criterion\": [\"gini\", \"entropy\"]}\n",
    "\n",
    "rfc = GridSearchCV(RandomForestClassifier(n_estimators=500), params_rfc, \"f1\", n_jobs=-1, verbose = 10) \n",
    "rfc.fit(X_train, y_train)\n",
    "\n",
    "plot_confusion_matrix(confusion_matrix(y_test, rfc.predict(X_test)), title=\"Random Forest Classifier Confusion Matrix\")"
   ]
  },
  {
   "cell_type": "markdown",
   "metadata": {},
   "source": [
    "#### Melhor estimador"
   ]
  },
  {
   "cell_type": "code",
   "execution_count": 27,
   "metadata": {},
   "outputs": [
    {
     "data": {
      "text/plain": [
       "RandomForestClassifier(bootstrap=True, class_weight=None, criterion='entropy',\n",
       "            max_depth=None, max_features=10, max_leaf_nodes=None,\n",
       "            min_impurity_decrease=0.0, min_impurity_split=None,\n",
       "            min_samples_leaf=1, min_samples_split=10,\n",
       "            min_weight_fraction_leaf=0.0, n_estimators=500, n_jobs=1,\n",
       "            oob_score=False, random_state=None, verbose=0,\n",
       "            warm_start=False)"
      ]
     },
     "execution_count": 27,
     "metadata": {},
     "output_type": "execute_result"
    }
   ],
   "source": [
    "rfc.best_estimator_\n",
    "#joblib.dump(rfc.best_estimator_, 'models/test_rfc.pkl') "
   ]
  },
  {
   "cell_type": "markdown",
   "metadata": {},
   "source": [
    "#### Tabela de scores"
   ]
  },
  {
   "cell_type": "code",
   "execution_count": 25,
   "metadata": {},
   "outputs": [
    {
     "data": {
      "text/html": [
       "<div>\n",
       "<style scoped>\n",
       "    .dataframe tbody tr th:only-of-type {\n",
       "        vertical-align: middle;\n",
       "    }\n",
       "\n",
       "    .dataframe tbody tr th {\n",
       "        vertical-align: top;\n",
       "    }\n",
       "\n",
       "    .dataframe thead th {\n",
       "        text-align: right;\n",
       "    }\n",
       "</style>\n",
       "<table border=\"1\" class=\"dataframe\">\n",
       "  <thead>\n",
       "    <tr style=\"text-align: right;\">\n",
       "      <th></th>\n",
       "      <th>Accuracy Score</th>\n",
       "      <th>F1 Score</th>\n",
       "      <th>Precision Score</th>\n",
       "      <th>Recall Score</th>\n",
       "    </tr>\n",
       "  </thead>\n",
       "  <tbody>\n",
       "    <tr>\n",
       "      <th>0</th>\n",
       "      <td>0.862438</td>\n",
       "      <td>0.698779</td>\n",
       "      <td>0.768226</td>\n",
       "      <td>0.640847</td>\n",
       "    </tr>\n",
       "  </tbody>\n",
       "</table>\n",
       "</div>"
      ],
      "text/plain": [
       "   Accuracy Score  F1 Score  Precision Score  Recall Score\n",
       "0        0.862438  0.698779         0.768226      0.640847"
      ]
     },
     "execution_count": 25,
     "metadata": {},
     "output_type": "execute_result"
    }
   ],
   "source": [
    "df_scores_rfc = create_scores_df(rfc)\n",
    "df_scores_rfc"
   ]
  },
  {
   "cell_type": "code",
   "execution_count": 31,
   "metadata": {},
   "outputs": [
    {
     "data": {
      "text/plain": [
       "array([0, 0, 1, ..., 0, 0, 0])"
      ]
     },
     "execution_count": 31,
     "metadata": {},
     "output_type": "execute_result"
    }
   ],
   "source": [
    "predicted_X = rfc.predict(testX.drop(columns=[\"id\"]))\n",
    "predicted_X"
   ]
  },
  {
   "cell_type": "code",
   "execution_count": 32,
   "metadata": {},
   "outputs": [
    {
     "data": {
      "text/html": [
       "<div>\n",
       "<style scoped>\n",
       "    .dataframe tbody tr th:only-of-type {\n",
       "        vertical-align: middle;\n",
       "    }\n",
       "\n",
       "    .dataframe tbody tr th {\n",
       "        vertical-align: top;\n",
       "    }\n",
       "\n",
       "    .dataframe thead th {\n",
       "        text-align: right;\n",
       "    }\n",
       "</style>\n",
       "<table border=\"1\" class=\"dataframe\">\n",
       "  <thead>\n",
       "    <tr style=\"text-align: right;\">\n",
       "      <th></th>\n",
       "      <th>id</th>\n",
       "      <th>label</th>\n",
       "    </tr>\n",
       "  </thead>\n",
       "  <tbody>\n",
       "    <tr>\n",
       "      <th>0</th>\n",
       "      <td>16432</td>\n",
       "      <td>0</td>\n",
       "    </tr>\n",
       "    <tr>\n",
       "      <th>1</th>\n",
       "      <td>11559</td>\n",
       "      <td>0</td>\n",
       "    </tr>\n",
       "    <tr>\n",
       "      <th>2</th>\n",
       "      <td>7714</td>\n",
       "      <td>1</td>\n",
       "    </tr>\n",
       "    <tr>\n",
       "      <th>3</th>\n",
       "      <td>11576</td>\n",
       "      <td>1</td>\n",
       "    </tr>\n",
       "    <tr>\n",
       "      <th>4</th>\n",
       "      <td>10336</td>\n",
       "      <td>0</td>\n",
       "    </tr>\n",
       "    <tr>\n",
       "      <th>5</th>\n",
       "      <td>11249</td>\n",
       "      <td>0</td>\n",
       "    </tr>\n",
       "    <tr>\n",
       "      <th>6</th>\n",
       "      <td>11030</td>\n",
       "      <td>0</td>\n",
       "    </tr>\n",
       "    <tr>\n",
       "      <th>7</th>\n",
       "      <td>10292</td>\n",
       "      <td>0</td>\n",
       "    </tr>\n",
       "    <tr>\n",
       "      <th>8</th>\n",
       "      <td>13980</td>\n",
       "      <td>0</td>\n",
       "    </tr>\n",
       "    <tr>\n",
       "      <th>9</th>\n",
       "      <td>5558</td>\n",
       "      <td>0</td>\n",
       "    </tr>\n",
       "    <tr>\n",
       "      <th>10</th>\n",
       "      <td>22914</td>\n",
       "      <td>0</td>\n",
       "    </tr>\n",
       "    <tr>\n",
       "      <th>11</th>\n",
       "      <td>16872</td>\n",
       "      <td>0</td>\n",
       "    </tr>\n",
       "    <tr>\n",
       "      <th>12</th>\n",
       "      <td>7864</td>\n",
       "      <td>0</td>\n",
       "    </tr>\n",
       "    <tr>\n",
       "      <th>13</th>\n",
       "      <td>15943</td>\n",
       "      <td>0</td>\n",
       "    </tr>\n",
       "    <tr>\n",
       "      <th>14</th>\n",
       "      <td>4971</td>\n",
       "      <td>0</td>\n",
       "    </tr>\n",
       "    <tr>\n",
       "      <th>15</th>\n",
       "      <td>29939</td>\n",
       "      <td>0</td>\n",
       "    </tr>\n",
       "    <tr>\n",
       "      <th>16</th>\n",
       "      <td>30747</td>\n",
       "      <td>0</td>\n",
       "    </tr>\n",
       "    <tr>\n",
       "      <th>17</th>\n",
       "      <td>22528</td>\n",
       "      <td>0</td>\n",
       "    </tr>\n",
       "    <tr>\n",
       "      <th>18</th>\n",
       "      <td>6698</td>\n",
       "      <td>1</td>\n",
       "    </tr>\n",
       "    <tr>\n",
       "      <th>19</th>\n",
       "      <td>7052</td>\n",
       "      <td>0</td>\n",
       "    </tr>\n",
       "    <tr>\n",
       "      <th>20</th>\n",
       "      <td>12033</td>\n",
       "      <td>0</td>\n",
       "    </tr>\n",
       "    <tr>\n",
       "      <th>21</th>\n",
       "      <td>4556</td>\n",
       "      <td>0</td>\n",
       "    </tr>\n",
       "    <tr>\n",
       "      <th>22</th>\n",
       "      <td>7661</td>\n",
       "      <td>0</td>\n",
       "    </tr>\n",
       "    <tr>\n",
       "      <th>23</th>\n",
       "      <td>1085</td>\n",
       "      <td>0</td>\n",
       "    </tr>\n",
       "    <tr>\n",
       "      <th>24</th>\n",
       "      <td>1836</td>\n",
       "      <td>0</td>\n",
       "    </tr>\n",
       "    <tr>\n",
       "      <th>25</th>\n",
       "      <td>31735</td>\n",
       "      <td>0</td>\n",
       "    </tr>\n",
       "    <tr>\n",
       "      <th>26</th>\n",
       "      <td>8929</td>\n",
       "      <td>1</td>\n",
       "    </tr>\n",
       "    <tr>\n",
       "      <th>27</th>\n",
       "      <td>4309</td>\n",
       "      <td>0</td>\n",
       "    </tr>\n",
       "    <tr>\n",
       "      <th>28</th>\n",
       "      <td>3315</td>\n",
       "      <td>0</td>\n",
       "    </tr>\n",
       "    <tr>\n",
       "      <th>29</th>\n",
       "      <td>25248</td>\n",
       "      <td>0</td>\n",
       "    </tr>\n",
       "    <tr>\n",
       "      <th>...</th>\n",
       "      <td>...</td>\n",
       "      <td>...</td>\n",
       "    </tr>\n",
       "    <tr>\n",
       "      <th>4970</th>\n",
       "      <td>20365</td>\n",
       "      <td>0</td>\n",
       "    </tr>\n",
       "    <tr>\n",
       "      <th>4971</th>\n",
       "      <td>11093</td>\n",
       "      <td>1</td>\n",
       "    </tr>\n",
       "    <tr>\n",
       "      <th>4972</th>\n",
       "      <td>1005</td>\n",
       "      <td>1</td>\n",
       "    </tr>\n",
       "    <tr>\n",
       "      <th>4973</th>\n",
       "      <td>21763</td>\n",
       "      <td>0</td>\n",
       "    </tr>\n",
       "    <tr>\n",
       "      <th>4974</th>\n",
       "      <td>27800</td>\n",
       "      <td>0</td>\n",
       "    </tr>\n",
       "    <tr>\n",
       "      <th>4975</th>\n",
       "      <td>15998</td>\n",
       "      <td>0</td>\n",
       "    </tr>\n",
       "    <tr>\n",
       "      <th>4976</th>\n",
       "      <td>7301</td>\n",
       "      <td>1</td>\n",
       "    </tr>\n",
       "    <tr>\n",
       "      <th>4977</th>\n",
       "      <td>324</td>\n",
       "      <td>0</td>\n",
       "    </tr>\n",
       "    <tr>\n",
       "      <th>4978</th>\n",
       "      <td>29451</td>\n",
       "      <td>0</td>\n",
       "    </tr>\n",
       "    <tr>\n",
       "      <th>4979</th>\n",
       "      <td>11199</td>\n",
       "      <td>0</td>\n",
       "    </tr>\n",
       "    <tr>\n",
       "      <th>4980</th>\n",
       "      <td>28519</td>\n",
       "      <td>1</td>\n",
       "    </tr>\n",
       "    <tr>\n",
       "      <th>4981</th>\n",
       "      <td>15600</td>\n",
       "      <td>0</td>\n",
       "    </tr>\n",
       "    <tr>\n",
       "      <th>4982</th>\n",
       "      <td>2576</td>\n",
       "      <td>0</td>\n",
       "    </tr>\n",
       "    <tr>\n",
       "      <th>4983</th>\n",
       "      <td>29285</td>\n",
       "      <td>1</td>\n",
       "    </tr>\n",
       "    <tr>\n",
       "      <th>4984</th>\n",
       "      <td>22939</td>\n",
       "      <td>0</td>\n",
       "    </tr>\n",
       "    <tr>\n",
       "      <th>4985</th>\n",
       "      <td>11343</td>\n",
       "      <td>1</td>\n",
       "    </tr>\n",
       "    <tr>\n",
       "      <th>4986</th>\n",
       "      <td>1673</td>\n",
       "      <td>1</td>\n",
       "    </tr>\n",
       "    <tr>\n",
       "      <th>4987</th>\n",
       "      <td>15179</td>\n",
       "      <td>0</td>\n",
       "    </tr>\n",
       "    <tr>\n",
       "      <th>4988</th>\n",
       "      <td>25805</td>\n",
       "      <td>0</td>\n",
       "    </tr>\n",
       "    <tr>\n",
       "      <th>4989</th>\n",
       "      <td>9124</td>\n",
       "      <td>0</td>\n",
       "    </tr>\n",
       "    <tr>\n",
       "      <th>4990</th>\n",
       "      <td>14750</td>\n",
       "      <td>1</td>\n",
       "    </tr>\n",
       "    <tr>\n",
       "      <th>4991</th>\n",
       "      <td>7681</td>\n",
       "      <td>1</td>\n",
       "    </tr>\n",
       "    <tr>\n",
       "      <th>4992</th>\n",
       "      <td>7949</td>\n",
       "      <td>0</td>\n",
       "    </tr>\n",
       "    <tr>\n",
       "      <th>4993</th>\n",
       "      <td>2</td>\n",
       "      <td>0</td>\n",
       "    </tr>\n",
       "    <tr>\n",
       "      <th>4994</th>\n",
       "      <td>11966</td>\n",
       "      <td>0</td>\n",
       "    </tr>\n",
       "    <tr>\n",
       "      <th>4995</th>\n",
       "      <td>16832</td>\n",
       "      <td>1</td>\n",
       "    </tr>\n",
       "    <tr>\n",
       "      <th>4996</th>\n",
       "      <td>24330</td>\n",
       "      <td>0</td>\n",
       "    </tr>\n",
       "    <tr>\n",
       "      <th>4997</th>\n",
       "      <td>1320</td>\n",
       "      <td>0</td>\n",
       "    </tr>\n",
       "    <tr>\n",
       "      <th>4998</th>\n",
       "      <td>14100</td>\n",
       "      <td>0</td>\n",
       "    </tr>\n",
       "    <tr>\n",
       "      <th>4999</th>\n",
       "      <td>2176</td>\n",
       "      <td>0</td>\n",
       "    </tr>\n",
       "  </tbody>\n",
       "</table>\n",
       "<p>5000 rows × 2 columns</p>\n",
       "</div>"
      ],
      "text/plain": [
       "         id  label\n",
       "0     16432      0\n",
       "1     11559      0\n",
       "2      7714      1\n",
       "3     11576      1\n",
       "4     10336      0\n",
       "5     11249      0\n",
       "6     11030      0\n",
       "7     10292      0\n",
       "8     13980      0\n",
       "9      5558      0\n",
       "10    22914      0\n",
       "11    16872      0\n",
       "12     7864      0\n",
       "13    15943      0\n",
       "14     4971      0\n",
       "15    29939      0\n",
       "16    30747      0\n",
       "17    22528      0\n",
       "18     6698      1\n",
       "19     7052      0\n",
       "20    12033      0\n",
       "21     4556      0\n",
       "22     7661      0\n",
       "23     1085      0\n",
       "24     1836      0\n",
       "25    31735      0\n",
       "26     8929      1\n",
       "27     4309      0\n",
       "28     3315      0\n",
       "29    25248      0\n",
       "...     ...    ...\n",
       "4970  20365      0\n",
       "4971  11093      1\n",
       "4972   1005      1\n",
       "4973  21763      0\n",
       "4974  27800      0\n",
       "4975  15998      0\n",
       "4976   7301      1\n",
       "4977    324      0\n",
       "4978  29451      0\n",
       "4979  11199      0\n",
       "4980  28519      1\n",
       "4981  15600      0\n",
       "4982   2576      0\n",
       "4983  29285      1\n",
       "4984  22939      0\n",
       "4985  11343      1\n",
       "4986   1673      1\n",
       "4987  15179      0\n",
       "4988  25805      0\n",
       "4989   9124      0\n",
       "4990  14750      1\n",
       "4991   7681      1\n",
       "4992   7949      0\n",
       "4993      2      0\n",
       "4994  11966      0\n",
       "4995  16832      1\n",
       "4996  24330      0\n",
       "4997   1320      0\n",
       "4998  14100      0\n",
       "4999   2176      0\n",
       "\n",
       "[5000 rows x 2 columns]"
      ]
     },
     "execution_count": 32,
     "metadata": {},
     "output_type": "execute_result"
    }
   ],
   "source": [
    "testX_values = testX[\"id\"].values\n",
    "df_predicted = pd.DataFrame(predicted_X, columns=[\"label\"])\n",
    "df_predicted.insert(0, \"id\", [int(i) for i in testX_values])\n",
    "df_predicted.to_csv(\"data/prediction_random_forest_2_best.csv\", index=False)\n",
    "df_predicted"
   ]
  },
  {
   "cell_type": "markdown",
   "metadata": {},
   "source": [
    "#### Aumentando um pouco mais o número de estimadores"
   ]
  },
  {
   "cell_type": "code",
   "execution_count": 33,
   "metadata": {},
   "outputs": [
    {
     "name": "stdout",
     "output_type": "stream",
     "text": [
      "Fitting 3 folds for each of 64 candidates, totalling 192 fits\n",
      "[CV] min_samples_leaf=1, max_depth=None, n_estimators=1000, min_samples_split=10, max_features=10, bootstrap=True \n",
      "[CV] min_samples_leaf=1, max_depth=None, n_estimators=1000, min_samples_split=10, max_features=10, bootstrap=True \n",
      "[CV] min_samples_leaf=1, max_depth=None, n_estimators=1000, min_samples_split=10, max_features=10, bootstrap=True \n",
      "[CV] min_samples_leaf=1, max_depth=None, n_estimators=1500, min_samples_split=10, max_features=10, bootstrap=True \n",
      "[CV] min_samples_leaf=1, max_depth=None, n_estimators=1500, min_samples_split=10, max_features=10, bootstrap=True \n",
      "[CV] min_samples_leaf=1, max_depth=None, n_estimators=1500, min_samples_split=10, max_features=10, bootstrap=True \n",
      "[CV] min_samples_leaf=1, max_depth=None, n_estimators=2000, min_samples_split=10, max_features=10, bootstrap=True \n",
      "[CV] min_samples_leaf=1, max_depth=None, n_estimators=2000, min_samples_split=10, max_features=10, bootstrap=True \n",
      "[CV]  min_samples_leaf=1, max_depth=None, n_estimators=1000, min_samples_split=10, max_features=10, bootstrap=True, score=0.6802424242424242, total=  54.7s\n",
      "[CV] min_samples_leaf=1, max_depth=None, n_estimators=2000, min_samples_split=10, max_features=10, bootstrap=True \n",
      "[CV]  min_samples_leaf=1, max_depth=None, n_estimators=1000, min_samples_split=10, max_features=10, bootstrap=True, score=0.6755292959133432, total=  54.9s\n",
      "[CV] min_samples_leaf=1, max_depth=None, n_estimators=2500, min_samples_split=10, max_features=10, bootstrap=True \n"
     ]
    },
    {
     "name": "stderr",
     "output_type": "stream",
     "text": [
      "[Parallel(n_jobs=-1)]: Done   2 tasks      | elapsed:  1.0min\n"
     ]
    },
    {
     "name": "stdout",
     "output_type": "stream",
     "text": [
      "[CV]  min_samples_leaf=1, max_depth=None, n_estimators=1000, min_samples_split=10, max_features=10, bootstrap=True, score=0.6827329192546584, total=  56.4s\n",
      "[CV] min_samples_leaf=1, max_depth=None, n_estimators=2500, min_samples_split=10, max_features=10, bootstrap=True \n",
      "[CV]  min_samples_leaf=1, max_depth=None, n_estimators=1500, min_samples_split=10, max_features=10, bootstrap=True, score=0.6773241515002459, total= 1.4min\n",
      "[CV] min_samples_leaf=1, max_depth=None, n_estimators=2500, min_samples_split=10, max_features=10, bootstrap=True \n",
      "[CV]  min_samples_leaf=1, max_depth=None, n_estimators=1500, min_samples_split=10, max_features=10, bootstrap=True, score=0.6817391304347827, total= 1.4min\n",
      "[CV] min_samples_leaf=1, max_depth=None, n_estimators=1000, min_samples_split=15, max_features=10, bootstrap=True \n",
      "[CV]  min_samples_leaf=1, max_depth=None, n_estimators=1500, min_samples_split=10, max_features=10, bootstrap=True, score=0.6801068739373329, total= 1.4min\n",
      "[CV] min_samples_leaf=1, max_depth=None, n_estimators=1000, min_samples_split=15, max_features=10, bootstrap=True \n",
      "[CV]  min_samples_leaf=1, max_depth=None, n_estimators=2000, min_samples_split=10, max_features=10, bootstrap=True, score=0.6832298136645963, total= 1.8min\n",
      "[CV] min_samples_leaf=1, max_depth=None, n_estimators=1000, min_samples_split=15, max_features=10, bootstrap=True \n",
      "[CV]  min_samples_leaf=1, max_depth=None, n_estimators=2000, min_samples_split=10, max_features=10, bootstrap=True, score=0.681233309055596, total= 1.9min\n",
      "[CV] min_samples_leaf=1, max_depth=None, n_estimators=1500, min_samples_split=15, max_features=10, bootstrap=True \n",
      "[CV]  min_samples_leaf=1, max_depth=None, n_estimators=1000, min_samples_split=15, max_features=10, bootstrap=True, score=0.6832917705735662, total=  54.7s\n",
      "[CV] min_samples_leaf=1, max_depth=None, n_estimators=1500, min_samples_split=15, max_features=10, bootstrap=True \n"
     ]
    },
    {
     "name": "stderr",
     "output_type": "stream",
     "text": [
      "[Parallel(n_jobs=-1)]: Done   9 tasks      | elapsed:  2.6min\n"
     ]
    },
    {
     "name": "stdout",
     "output_type": "stream",
     "text": [
      "[CV]  min_samples_leaf=1, max_depth=None, n_estimators=1000, min_samples_split=15, max_features=10, bootstrap=True, score=0.6829149402875945, total=  58.6s\n",
      "[CV] min_samples_leaf=1, max_depth=None, n_estimators=1500, min_samples_split=15, max_features=10, bootstrap=True \n",
      "[CV]  min_samples_leaf=1, max_depth=None, n_estimators=1000, min_samples_split=15, max_features=10, bootstrap=True, score=0.6778407690411634, total=  54.4s\n",
      "[CV] min_samples_leaf=1, max_depth=None, n_estimators=2000, min_samples_split=15, max_features=10, bootstrap=True \n",
      "[CV]  min_samples_leaf=1, max_depth=None, n_estimators=2000, min_samples_split=10, max_features=10, bootstrap=True, score=0.6768397735663303, total= 1.9min\n",
      "[CV] min_samples_leaf=1, max_depth=None, n_estimators=2000, min_samples_split=15, max_features=10, bootstrap=True \n",
      "[CV]  min_samples_leaf=1, max_depth=None, n_estimators=2500, min_samples_split=10, max_features=10, bootstrap=True, score=0.681592039800995, total= 2.3min\n",
      "[CV] min_samples_leaf=1, max_depth=None, n_estimators=2000, min_samples_split=15, max_features=10, bootstrap=True \n",
      "[CV]  min_samples_leaf=1, max_depth=None, n_estimators=1500, min_samples_split=15, max_features=10, bootstrap=True, score=0.6830574488802337, total= 1.4min\n",
      "[CV] min_samples_leaf=1, max_depth=None, n_estimators=2500, min_samples_split=15, max_features=10, bootstrap=True \n",
      "[CV]  min_samples_leaf=1, max_depth=None, n_estimators=2500, min_samples_split=10, max_features=10, bootstrap=True, score=0.6799610894941635, total= 2.3min\n",
      "[CV] min_samples_leaf=1, max_depth=None, n_estimators=2500, min_samples_split=15, max_features=10, bootstrap=True \n",
      "[CV]  min_samples_leaf=1, max_depth=None, n_estimators=1500, min_samples_split=15, max_features=10, bootstrap=True, score=0.6816929626846981, total= 1.4min\n",
      "[CV] min_samples_leaf=1, max_depth=None, n_estimators=2500, min_samples_split=15, max_features=10, bootstrap=True \n"
     ]
    },
    {
     "name": "stderr",
     "output_type": "stream",
     "text": [
      "[Parallel(n_jobs=-1)]: Done  16 tasks      | elapsed:  4.1min\n"
     ]
    },
    {
     "name": "stdout",
     "output_type": "stream",
     "text": [
      "[CV]  min_samples_leaf=1, max_depth=None, n_estimators=2500, min_samples_split=10, max_features=10, bootstrap=True, score=0.6761811023622047, total= 2.4min\n",
      "[CV] min_samples_leaf=3, max_depth=None, n_estimators=1000, min_samples_split=10, max_features=10, bootstrap=True \n",
      "[CV]  min_samples_leaf=1, max_depth=None, n_estimators=1500, min_samples_split=15, max_features=10, bootstrap=True, score=0.6763475264582821, total= 1.5min\n",
      "[CV] min_samples_leaf=3, max_depth=None, n_estimators=1000, min_samples_split=10, max_features=10, bootstrap=True \n",
      "[CV]  min_samples_leaf=1, max_depth=None, n_estimators=2000, min_samples_split=15, max_features=10, bootstrap=True, score=0.6816704176044012, total= 1.9min\n",
      "[CV] min_samples_leaf=3, max_depth=None, n_estimators=1000, min_samples_split=10, max_features=10, bootstrap=True \n",
      "[CV]  min_samples_leaf=1, max_depth=None, n_estimators=2000, min_samples_split=15, max_features=10, bootstrap=True, score=0.6820724884456336, total= 1.9min\n",
      "[CV] min_samples_leaf=3, max_depth=None, n_estimators=1500, min_samples_split=10, max_features=10, bootstrap=True \n",
      "[CV]  min_samples_leaf=3, max_depth=None, n_estimators=1000, min_samples_split=10, max_features=10, bootstrap=True, score=0.673134328358209, total=  55.0s\n",
      "[CV] min_samples_leaf=3, max_depth=None, n_estimators=1500, min_samples_split=10, max_features=10, bootstrap=True \n",
      "[CV]  min_samples_leaf=3, max_depth=None, n_estimators=1000, min_samples_split=10, max_features=10, bootstrap=True, score=0.6753312945973498, total=  54.9s\n",
      "[CV] min_samples_leaf=3, max_depth=None, n_estimators=1500, min_samples_split=10, max_features=10, bootstrap=True \n",
      "[CV]  min_samples_leaf=1, max_depth=None, n_estimators=2000, min_samples_split=15, max_features=10, bootstrap=True, score=0.6780162842339007, total= 1.9min\n",
      "[CV] min_samples_leaf=3, max_depth=None, n_estimators=2000, min_samples_split=10, max_features=10, bootstrap=True \n",
      "[CV]  min_samples_leaf=3, max_depth=None, n_estimators=1000, min_samples_split=10, max_features=10, bootstrap=True, score=0.676345431789737, total=  49.9s\n",
      "[CV] min_samples_leaf=3, max_depth=None, n_estimators=2000, min_samples_split=10, max_features=10, bootstrap=True \n",
      "[CV]  min_samples_leaf=1, max_depth=None, n_estimators=2500, min_samples_split=15, max_features=10, bootstrap=True, score=0.6825589880807589, total= 2.4min\n",
      "[CV] min_samples_leaf=3, max_depth=None, n_estimators=2000, min_samples_split=10, max_features=10, bootstrap=True \n",
      "[CV]  min_samples_leaf=1, max_depth=None, n_estimators=2500, min_samples_split=15, max_features=10, bootstrap=True, score=0.6821821821821822, total= 2.4min\n",
      "[CV] min_samples_leaf=3, max_depth=None, n_estimators=2500, min_samples_split=10, max_features=10, bootstrap=True \n"
     ]
    },
    {
     "name": "stderr",
     "output_type": "stream",
     "text": [
      "[Parallel(n_jobs=-1)]: Done  25 tasks      | elapsed:  6.3min\n"
     ]
    },
    {
     "name": "stdout",
     "output_type": "stream",
     "text": [
      "[CV]  min_samples_leaf=3, max_depth=None, n_estimators=1500, min_samples_split=10, max_features=10, bootstrap=True, score=0.6747645017352504, total= 1.3min\n",
      "[CV] min_samples_leaf=3, max_depth=None, n_estimators=2500, min_samples_split=10, max_features=10, bootstrap=True \n",
      "[CV]  min_samples_leaf=3, max_depth=None, n_estimators=1500, min_samples_split=10, max_features=10, bootstrap=True, score=0.6734902763561924, total= 1.3min\n",
      "[CV] min_samples_leaf=3, max_depth=None, n_estimators=2500, min_samples_split=10, max_features=10, bootstrap=True \n",
      "[CV]  min_samples_leaf=3, max_depth=None, n_estimators=1500, min_samples_split=10, max_features=10, bootstrap=True, score=0.6753507014028056, total= 1.3min\n",
      "[CV] min_samples_leaf=3, max_depth=None, n_estimators=1000, min_samples_split=15, max_features=10, bootstrap=True \n",
      "[CV]  min_samples_leaf=1, max_depth=None, n_estimators=2500, min_samples_split=15, max_features=10, bootstrap=True, score=0.6775308641975308, total= 2.3min\n",
      "[CV] min_samples_leaf=3, max_depth=None, n_estimators=1000, min_samples_split=15, max_features=10, bootstrap=True \n",
      "[CV]  min_samples_leaf=3, max_depth=None, n_estimators=1000, min_samples_split=15, max_features=10, bootstrap=True, score=0.6745258841619682, total=  51.5s\n",
      "[CV] min_samples_leaf=3, max_depth=None, n_estimators=1000, min_samples_split=15, max_features=10, bootstrap=True \n",
      "[CV]  min_samples_leaf=3, max_depth=None, n_estimators=2000, min_samples_split=10, max_features=10, bootstrap=True, score=0.6741126830479027, total= 1.7min\n",
      "[CV] min_samples_leaf=3, max_depth=None, n_estimators=1500, min_samples_split=15, max_features=10, bootstrap=True \n",
      "[CV]  min_samples_leaf=3, max_depth=None, n_estimators=1000, min_samples_split=15, max_features=10, bootstrap=True, score=0.6760772659732541, total=  57.6s\n",
      "[CV] min_samples_leaf=3, max_depth=None, n_estimators=1500, min_samples_split=15, max_features=10, bootstrap=True \n",
      "[CV]  min_samples_leaf=3, max_depth=None, n_estimators=2000, min_samples_split=10, max_features=10, bootstrap=True, score=0.6726205664710386, total= 1.7min\n",
      "[CV] min_samples_leaf=3, max_depth=None, n_estimators=1500, min_samples_split=15, max_features=10, bootstrap=True \n"
     ]
    },
    {
     "name": "stderr",
     "output_type": "stream",
     "text": [
      "[Parallel(n_jobs=-1)]: Done  34 tasks      | elapsed:  8.0min\n"
     ]
    },
    {
     "name": "stdout",
     "output_type": "stream",
     "text": [
      "[CV]  min_samples_leaf=3, max_depth=None, n_estimators=2000, min_samples_split=10, max_features=10, bootstrap=True, score=0.6754801696183587, total= 1.7min\n",
      "[CV] min_samples_leaf=3, max_depth=None, n_estimators=2000, min_samples_split=15, max_features=10, bootstrap=True \n",
      "[CV]  min_samples_leaf=3, max_depth=None, n_estimators=1000, min_samples_split=15, max_features=10, bootstrap=True, score=0.6779915063702224, total=  54.9s\n",
      "[CV] min_samples_leaf=3, max_depth=None, n_estimators=2000, min_samples_split=15, max_features=10, bootstrap=True \n",
      "[CV]  min_samples_leaf=3, max_depth=None, n_estimators=2500, min_samples_split=10, max_features=10, bootstrap=True, score=0.675427721299281, total= 2.2min\n",
      "[CV] min_samples_leaf=3, max_depth=None, n_estimators=2000, min_samples_split=15, max_features=10, bootstrap=True \n",
      "[CV]  min_samples_leaf=3, max_depth=None, n_estimators=2500, min_samples_split=10, max_features=10, bootstrap=True, score=0.6753379239989797, total= 2.2min\n",
      "[CV] min_samples_leaf=3, max_depth=None, n_estimators=2500, min_samples_split=15, max_features=10, bootstrap=True \n",
      "[CV]  min_samples_leaf=3, max_depth=None, n_estimators=2500, min_samples_split=10, max_features=10, bootstrap=True, score=0.6764852720918623, total= 2.2min\n",
      "[CV] min_samples_leaf=3, max_depth=None, n_estimators=2500, min_samples_split=15, max_features=10, bootstrap=True \n",
      "[CV]  min_samples_leaf=3, max_depth=None, n_estimators=1500, min_samples_split=15, max_features=10, bootstrap=True, score=0.6732976281560826, total= 1.3min\n",
      "[CV] min_samples_leaf=3, max_depth=None, n_estimators=2500, min_samples_split=15, max_features=10, bootstrap=True \n",
      "[CV]  min_samples_leaf=3, max_depth=None, n_estimators=1500, min_samples_split=15, max_features=10, bootstrap=True, score=0.6742687159147248, total= 1.5min\n",
      "[CV] min_samples_leaf=1, max_depth=None, n_estimators=1000, min_samples_split=10, max_features=15, bootstrap=True \n",
      "[CV]  min_samples_leaf=3, max_depth=None, n_estimators=1500, min_samples_split=15, max_features=10, bootstrap=True, score=0.6774918810891831, total= 1.4min\n",
      "[CV] min_samples_leaf=1, max_depth=None, n_estimators=1000, min_samples_split=10, max_features=15, bootstrap=True \n",
      "[CV]  min_samples_leaf=3, max_depth=None, n_estimators=2000, min_samples_split=15, max_features=10, bootstrap=True, score=0.676251859196827, total= 1.9min\n",
      "[CV] min_samples_leaf=1, max_depth=None, n_estimators=1000, min_samples_split=10, max_features=15, bootstrap=True \n",
      "[CV]  min_samples_leaf=3, max_depth=None, n_estimators=2000, min_samples_split=15, max_features=10, bootstrap=True, score=0.6760347470618292, total= 1.7min\n",
      "[CV] min_samples_leaf=1, max_depth=None, n_estimators=1500, min_samples_split=10, max_features=15, bootstrap=True \n",
      "[CV]  min_samples_leaf=3, max_depth=None, n_estimators=2000, min_samples_split=15, max_features=10, bootstrap=True, score=0.6773067331670822, total= 1.8min\n",
      "[CV] min_samples_leaf=1, max_depth=None, n_estimators=1500, min_samples_split=10, max_features=15, bootstrap=True \n"
     ]
    },
    {
     "name": "stderr",
     "output_type": "stream",
     "text": [
      "[Parallel(n_jobs=-1)]: Done  45 tasks      | elapsed: 10.7min\n"
     ]
    },
    {
     "name": "stdout",
     "output_type": "stream",
     "text": [
      "[CV]  min_samples_leaf=1, max_depth=None, n_estimators=1000, min_samples_split=10, max_features=15, bootstrap=True, score=0.682773616815656, total= 1.4min\n",
      "[CV] min_samples_leaf=1, max_depth=None, n_estimators=1500, min_samples_split=10, max_features=15, bootstrap=True \n",
      "[CV]  min_samples_leaf=1, max_depth=None, n_estimators=1000, min_samples_split=10, max_features=15, bootstrap=True, score=0.685728493286922, total= 1.2min\n",
      "[CV] min_samples_leaf=1, max_depth=None, n_estimators=2000, min_samples_split=10, max_features=15, bootstrap=True \n",
      "[CV]  min_samples_leaf=3, max_depth=None, n_estimators=2500, min_samples_split=15, max_features=10, bootstrap=True, score=0.674937965260546, total= 2.1min\n",
      "[CV] min_samples_leaf=1, max_depth=None, n_estimators=2000, min_samples_split=10, max_features=15, bootstrap=True \n",
      "[CV]  min_samples_leaf=3, max_depth=None, n_estimators=2500, min_samples_split=15, max_features=10, bootstrap=True, score=0.6750127746550842, total= 2.4min\n",
      "[CV] min_samples_leaf=1, max_depth=None, n_estimators=2000, min_samples_split=10, max_features=15, bootstrap=True \n",
      "[CV]  min_samples_leaf=1, max_depth=None, n_estimators=1000, min_samples_split=10, max_features=15, bootstrap=True, score=0.6774827925270404, total= 1.4min\n",
      "[CV] min_samples_leaf=1, max_depth=None, n_estimators=2500, min_samples_split=10, max_features=15, bootstrap=True \n",
      "[CV]  min_samples_leaf=3, max_depth=None, n_estimators=2500, min_samples_split=15, max_features=10, bootstrap=True, score=0.6781437125748504, total= 2.4min\n",
      "[CV] min_samples_leaf=1, max_depth=None, n_estimators=2500, min_samples_split=10, max_features=15, bootstrap=True \n",
      "[CV]  min_samples_leaf=1, max_depth=None, n_estimators=1500, min_samples_split=10, max_features=15, bootstrap=True, score=0.6816143497757847, total= 1.8min\n",
      "[CV] min_samples_leaf=1, max_depth=None, n_estimators=2500, min_samples_split=10, max_features=15, bootstrap=True \n",
      "[CV]  min_samples_leaf=1, max_depth=None, n_estimators=1500, min_samples_split=10, max_features=15, bootstrap=True, score=0.6842105263157895, total= 2.1min\n",
      "[CV] min_samples_leaf=1, max_depth=None, n_estimators=1000, min_samples_split=15, max_features=15, bootstrap=True \n",
      "[CV]  min_samples_leaf=1, max_depth=None, n_estimators=1500, min_samples_split=10, max_features=15, bootstrap=True, score=0.6787908577045958, total= 2.0min\n",
      "[CV] min_samples_leaf=1, max_depth=None, n_estimators=1000, min_samples_split=15, max_features=15, bootstrap=True \n",
      "[CV]  min_samples_leaf=1, max_depth=None, n_estimators=2000, min_samples_split=10, max_features=15, bootstrap=True, score=0.6840328027013989, total= 2.4min\n",
      "[CV] min_samples_leaf=1, max_depth=None, n_estimators=1000, min_samples_split=15, max_features=15, bootstrap=True \n",
      "[CV]  min_samples_leaf=1, max_depth=None, n_estimators=1000, min_samples_split=15, max_features=15, bootstrap=True, score=0.6854095976732913, total= 1.4min\n",
      "[CV] min_samples_leaf=1, max_depth=None, n_estimators=1500, min_samples_split=15, max_features=15, bootstrap=True \n"
     ]
    },
    {
     "name": "stderr",
     "output_type": "stream",
     "text": [
      "[Parallel(n_jobs=-1)]: Done  56 tasks      | elapsed: 14.3min\n"
     ]
    },
    {
     "name": "stdout",
     "output_type": "stream",
     "text": [
      "[CV]  min_samples_leaf=1, max_depth=None, n_estimators=2000, min_samples_split=10, max_features=15, bootstrap=True, score=0.6824408468244085, total= 2.6min\n",
      "[CV] min_samples_leaf=1, max_depth=None, n_estimators=1500, min_samples_split=15, max_features=15, bootstrap=True \n",
      "[CV]  min_samples_leaf=1, max_depth=None, n_estimators=1000, min_samples_split=15, max_features=15, bootstrap=True, score=0.6803916645744414, total= 1.3min\n",
      "[CV] min_samples_leaf=1, max_depth=None, n_estimators=1500, min_samples_split=15, max_features=15, bootstrap=True \n",
      "[CV]  min_samples_leaf=1, max_depth=None, n_estimators=2000, min_samples_split=10, max_features=15, bootstrap=True, score=0.6779827798277983, total= 2.6min\n",
      "[CV] min_samples_leaf=1, max_depth=None, n_estimators=2000, min_samples_split=15, max_features=15, bootstrap=True \n",
      "[CV]  min_samples_leaf=1, max_depth=None, n_estimators=1000, min_samples_split=15, max_features=15, bootstrap=True, score=0.6829388560157792, total= 1.1min\n",
      "[CV] min_samples_leaf=1, max_depth=None, n_estimators=2000, min_samples_split=15, max_features=15, bootstrap=True \n",
      "[CV]  min_samples_leaf=1, max_depth=None, n_estimators=2500, min_samples_split=10, max_features=15, bootstrap=True, score=0.6840832123850993, total= 2.9min\n",
      "[CV] min_samples_leaf=1, max_depth=None, n_estimators=2000, min_samples_split=15, max_features=15, bootstrap=True \n",
      "[CV]  min_samples_leaf=1, max_depth=None, n_estimators=2500, min_samples_split=10, max_features=15, bootstrap=True, score=0.6822825816097683, total= 3.3min\n",
      "[CV] min_samples_leaf=1, max_depth=None, n_estimators=2500, min_samples_split=15, max_features=15, bootstrap=True \n",
      "[CV]  min_samples_leaf=1, max_depth=None, n_estimators=2500, min_samples_split=10, max_features=15, bootstrap=True, score=0.6776818742293464, total= 3.2min\n",
      "[CV] min_samples_leaf=1, max_depth=None, n_estimators=2500, min_samples_split=15, max_features=15, bootstrap=True \n",
      "[CV]  min_samples_leaf=1, max_depth=None, n_estimators=1500, min_samples_split=15, max_features=15, bootstrap=True, score=0.685027541311968, total= 1.9min\n",
      "[CV] min_samples_leaf=1, max_depth=None, n_estimators=2500, min_samples_split=15, max_features=15, bootstrap=True \n",
      "[CV]  min_samples_leaf=1, max_depth=None, n_estimators=1500, min_samples_split=15, max_features=15, bootstrap=True, score=0.6828675577156744, total= 1.9min\n",
      "[CV] min_samples_leaf=3, max_depth=None, n_estimators=1000, min_samples_split=10, max_features=15, bootstrap=True \n",
      "[CV]  min_samples_leaf=1, max_depth=None, n_estimators=1500, min_samples_split=15, max_features=15, bootstrap=True, score=0.6832757770103601, total= 1.9min\n",
      "[CV] min_samples_leaf=3, max_depth=None, n_estimators=1000, min_samples_split=10, max_features=15, bootstrap=True \n",
      "[CV]  min_samples_leaf=1, max_depth=None, n_estimators=2000, min_samples_split=15, max_features=15, bootstrap=True, score=0.6841339155749636, total= 2.5min\n",
      "[CV] min_samples_leaf=3, max_depth=None, n_estimators=1000, min_samples_split=10, max_features=15, bootstrap=True \n",
      "[CV]  min_samples_leaf=1, max_depth=None, n_estimators=2000, min_samples_split=15, max_features=15, bootstrap=True, score=0.6841973453543702, total= 2.6min\n",
      "[CV] min_samples_leaf=3, max_depth=None, n_estimators=1500, min_samples_split=10, max_features=15, bootstrap=True \n",
      "[CV]  min_samples_leaf=3, max_depth=None, n_estimators=1000, min_samples_split=10, max_features=15, bootstrap=True, score=0.6794493608652901, total= 1.2min\n",
      "[CV] min_samples_leaf=3, max_depth=None, n_estimators=1500, min_samples_split=10, max_features=15, bootstrap=True \n"
     ]
    },
    {
     "name": "stderr",
     "output_type": "stream",
     "text": [
      "[Parallel(n_jobs=-1)]: Done  69 tasks      | elapsed: 17.6min\n"
     ]
    },
    {
     "name": "stdout",
     "output_type": "stream",
     "text": [
      "[CV]  min_samples_leaf=3, max_depth=None, n_estimators=1000, min_samples_split=10, max_features=15, bootstrap=True, score=0.6772888214466364, total= 1.2min\n",
      "[CV] min_samples_leaf=3, max_depth=None, n_estimators=1500, min_samples_split=10, max_features=15, bootstrap=True \n",
      "[CV]  min_samples_leaf=1, max_depth=None, n_estimators=2000, min_samples_split=15, max_features=15, bootstrap=True, score=0.6823876197494474, total= 2.5min\n",
      "[CV] min_samples_leaf=3, max_depth=None, n_estimators=2000, min_samples_split=10, max_features=15, bootstrap=True \n",
      "[CV]  min_samples_leaf=3, max_depth=None, n_estimators=1000, min_samples_split=10, max_features=15, bootstrap=True, score=0.6785980611483967, total= 1.1min\n",
      "[CV] min_samples_leaf=3, max_depth=None, n_estimators=2000, min_samples_split=10, max_features=15, bootstrap=True \n",
      "[CV]  min_samples_leaf=1, max_depth=None, n_estimators=2500, min_samples_split=15, max_features=15, bootstrap=True, score=0.684274291252726, total= 3.2min\n",
      "[CV] min_samples_leaf=3, max_depth=None, n_estimators=2000, min_samples_split=10, max_features=15, bootstrap=True \n",
      "[CV]  min_samples_leaf=3, max_depth=None, n_estimators=1500, min_samples_split=10, max_features=15, bootstrap=True, score=0.6830346182175301, total= 1.8min\n",
      "[CV] min_samples_leaf=3, max_depth=None, n_estimators=2500, min_samples_split=10, max_features=15, bootstrap=True \n",
      "[CV]  min_samples_leaf=3, max_depth=None, n_estimators=1500, min_samples_split=10, max_features=15, bootstrap=True, score=0.6756208819057272, total= 1.7min\n",
      "[CV] min_samples_leaf=3, max_depth=None, n_estimators=2500, min_samples_split=10, max_features=15, bootstrap=True \n",
      "[CV]  min_samples_leaf=1, max_depth=None, n_estimators=2500, min_samples_split=15, max_features=15, bootstrap=True, score=0.6828535669586985, total= 3.2min\n",
      "[CV] min_samples_leaf=3, max_depth=None, n_estimators=2500, min_samples_split=10, max_features=15, bootstrap=True \n",
      "[CV]  min_samples_leaf=3, max_depth=None, n_estimators=1500, min_samples_split=10, max_features=15, bootstrap=True, score=0.6782522343594837, total= 1.8min\n",
      "[CV] min_samples_leaf=3, max_depth=None, n_estimators=1000, min_samples_split=15, max_features=15, bootstrap=True \n",
      "[CV]  min_samples_leaf=1, max_depth=None, n_estimators=2500, min_samples_split=15, max_features=15, bootstrap=True, score=0.6819188191881919, total= 3.2min\n",
      "[CV] min_samples_leaf=3, max_depth=None, n_estimators=1000, min_samples_split=15, max_features=15, bootstrap=True \n",
      "[CV]  min_samples_leaf=3, max_depth=None, n_estimators=2000, min_samples_split=10, max_features=15, bootstrap=True, score=0.6830225711481847, total= 2.4min\n",
      "[CV] min_samples_leaf=3, max_depth=None, n_estimators=1000, min_samples_split=15, max_features=15, bootstrap=True \n",
      "[CV]  min_samples_leaf=3, max_depth=None, n_estimators=1000, min_samples_split=15, max_features=15, bootstrap=True, score=0.6804529788281635, total= 1.2min\n",
      "[CV] min_samples_leaf=3, max_depth=None, n_estimators=1500, min_samples_split=15, max_features=15, bootstrap=True \n",
      "[CV]  min_samples_leaf=3, max_depth=None, n_estimators=1000, min_samples_split=15, max_features=15, bootstrap=True, score=0.6768060836501901, total= 1.2min\n",
      "[CV] min_samples_leaf=3, max_depth=None, n_estimators=1500, min_samples_split=15, max_features=15, bootstrap=True \n",
      "[CV]  min_samples_leaf=3, max_depth=None, n_estimators=2000, min_samples_split=10, max_features=15, bootstrap=True, score=0.6759564225994426, total= 2.4min\n",
      "[CV] min_samples_leaf=3, max_depth=None, n_estimators=1500, min_samples_split=15, max_features=15, bootstrap=True \n"
     ]
    },
    {
     "name": "stderr",
     "output_type": "stream",
     "text": [
      "[Parallel(n_jobs=-1)]: Done  82 tasks      | elapsed: 21.1min\n"
     ]
    },
    {
     "name": "stdout",
     "output_type": "stream",
     "text": [
      "[CV]  min_samples_leaf=3, max_depth=None, n_estimators=2000, min_samples_split=10, max_features=15, bootstrap=True, score=0.6791230692575985, total= 2.4min\n",
      "[CV] min_samples_leaf=3, max_depth=None, n_estimators=2000, min_samples_split=15, max_features=15, bootstrap=True \n",
      "[CV]  min_samples_leaf=3, max_depth=None, n_estimators=1000, min_samples_split=15, max_features=15, bootstrap=True, score=0.6777805424234884, total= 1.2min\n",
      "[CV] min_samples_leaf=3, max_depth=None, n_estimators=2000, min_samples_split=15, max_features=15, bootstrap=True \n",
      "[CV]  min_samples_leaf=3, max_depth=None, n_estimators=2500, min_samples_split=10, max_features=15, bootstrap=True, score=0.682410824108241, total= 2.7min\n",
      "[CV] min_samples_leaf=3, max_depth=None, n_estimators=2000, min_samples_split=15, max_features=15, bootstrap=True \n",
      "[CV]  min_samples_leaf=3, max_depth=None, n_estimators=2500, min_samples_split=10, max_features=15, bootstrap=True, score=0.680458624127617, total= 2.7min\n",
      "[CV] min_samples_leaf=3, max_depth=None, n_estimators=2500, min_samples_split=15, max_features=15, bootstrap=True \n",
      "[CV]  min_samples_leaf=3, max_depth=None, n_estimators=2500, min_samples_split=10, max_features=15, bootstrap=True, score=0.6764631365594121, total= 3.1min\n",
      "[CV] min_samples_leaf=3, max_depth=None, n_estimators=2500, min_samples_split=15, max_features=15, bootstrap=True \n",
      "[CV]  min_samples_leaf=3, max_depth=None, n_estimators=1500, min_samples_split=15, max_features=15, bootstrap=True, score=0.6832023575638507, total= 1.8min\n",
      "[CV] min_samples_leaf=3, max_depth=None, n_estimators=2500, min_samples_split=15, max_features=15, bootstrap=True \n",
      "[CV]  min_samples_leaf=3, max_depth=None, n_estimators=1500, min_samples_split=15, max_features=15, bootstrap=True, score=0.6776649746192893, total= 1.8min\n",
      "[CV] min_samples_leaf=1, max_depth=None, n_estimators=1000, min_samples_split=10, max_features=10, bootstrap=False \n",
      "[CV]  min_samples_leaf=3, max_depth=None, n_estimators=1500, min_samples_split=15, max_features=15, bootstrap=True, score=0.680925142999254, total= 1.8min\n",
      "[CV] min_samples_leaf=1, max_depth=None, n_estimators=1000, min_samples_split=10, max_features=10, bootstrap=False \n",
      "[CV]  min_samples_leaf=3, max_depth=None, n_estimators=2000, min_samples_split=15, max_features=15, bootstrap=True, score=0.6769933976637887, total= 2.2min\n",
      "[CV] min_samples_leaf=1, max_depth=None, n_estimators=1000, min_samples_split=10, max_features=10, bootstrap=False \n",
      "[CV]  min_samples_leaf=3, max_depth=None, n_estimators=2000, min_samples_split=15, max_features=15, bootstrap=True, score=0.6817622446468127, total= 2.5min\n",
      "[CV] min_samples_leaf=1, max_depth=None, n_estimators=1500, min_samples_split=10, max_features=10, bootstrap=False \n",
      "[CV]  min_samples_leaf=1, max_depth=None, n_estimators=1000, min_samples_split=10, max_features=10, bootstrap=False, score=0.6787589498806682, total= 1.6min\n",
      "[CV] min_samples_leaf=1, max_depth=None, n_estimators=1500, min_samples_split=10, max_features=10, bootstrap=False \n",
      "[CV]  min_samples_leaf=1, max_depth=None, n_estimators=1000, min_samples_split=10, max_features=10, bootstrap=False, score=0.6799802761341223, total= 1.6min\n",
      "[CV] min_samples_leaf=1, max_depth=None, n_estimators=1500, min_samples_split=10, max_features=10, bootstrap=False \n",
      "[CV]  min_samples_leaf=3, max_depth=None, n_estimators=2000, min_samples_split=15, max_features=15, bootstrap=True, score=0.680776892430279, total= 2.5min\n",
      "[CV] min_samples_leaf=1, max_depth=None, n_estimators=2000, min_samples_split=10, max_features=10, bootstrap=False \n",
      "[CV]  min_samples_leaf=1, max_depth=None, n_estimators=1000, min_samples_split=10, max_features=10, bootstrap=False, score=0.6725018234865062, total= 1.7min\n",
      "[CV] min_samples_leaf=1, max_depth=None, n_estimators=2000, min_samples_split=10, max_features=10, bootstrap=False \n",
      "[CV]  min_samples_leaf=3, max_depth=None, n_estimators=2500, min_samples_split=15, max_features=15, bootstrap=True, score=0.6794493608652901, total= 3.1min\n",
      "[CV] min_samples_leaf=1, max_depth=None, n_estimators=2000, min_samples_split=10, max_features=10, bootstrap=False \n"
     ]
    },
    {
     "name": "stderr",
     "output_type": "stream",
     "text": [
      "[Parallel(n_jobs=-1)]: Done  97 tasks      | elapsed: 25.8min\n"
     ]
    },
    {
     "name": "stdout",
     "output_type": "stream",
     "text": [
      "[CV]  min_samples_leaf=3, max_depth=None, n_estimators=2500, min_samples_split=15, max_features=15, bootstrap=True, score=0.6768060836501901, total= 3.0min\n",
      "[CV] min_samples_leaf=1, max_depth=None, n_estimators=2500, min_samples_split=10, max_features=10, bootstrap=False \n",
      "[CV]  min_samples_leaf=3, max_depth=None, n_estimators=2500, min_samples_split=15, max_features=15, bootstrap=True, score=0.6804483188044832, total= 3.1min\n",
      "[CV] min_samples_leaf=1, max_depth=None, n_estimators=2500, min_samples_split=10, max_features=10, bootstrap=False \n",
      "[CV]  min_samples_leaf=1, max_depth=None, n_estimators=1500, min_samples_split=10, max_features=10, bootstrap=False, score=0.6781279847182426, total= 2.2min\n",
      "[CV] min_samples_leaf=1, max_depth=None, n_estimators=2500, min_samples_split=10, max_features=10, bootstrap=False \n",
      "[CV]  min_samples_leaf=1, max_depth=None, n_estimators=1500, min_samples_split=10, max_features=10, bootstrap=False, score=0.6778325123152709, total= 2.4min\n",
      "[CV] min_samples_leaf=1, max_depth=None, n_estimators=1000, min_samples_split=15, max_features=10, bootstrap=False \n",
      "[CV]  min_samples_leaf=1, max_depth=None, n_estimators=1500, min_samples_split=10, max_features=10, bootstrap=False, score=0.672992700729927, total= 2.4min\n",
      "[CV] min_samples_leaf=1, max_depth=None, n_estimators=1000, min_samples_split=15, max_features=10, bootstrap=False \n",
      "[CV]  min_samples_leaf=1, max_depth=None, n_estimators=2000, min_samples_split=10, max_features=10, bootstrap=False, score=0.678477376107254, total= 3.3min\n",
      "[CV] min_samples_leaf=1, max_depth=None, n_estimators=1000, min_samples_split=15, max_features=10, bootstrap=False \n",
      "[CV]  min_samples_leaf=1, max_depth=None, n_estimators=1000, min_samples_split=15, max_features=10, bootstrap=False, score=0.6806763285024156, total= 1.6min\n",
      "[CV] min_samples_leaf=1, max_depth=None, n_estimators=1500, min_samples_split=15, max_features=10, bootstrap=False \n",
      "[CV]  min_samples_leaf=1, max_depth=None, n_estimators=1000, min_samples_split=15, max_features=10, bootstrap=False, score=0.6811989100817439, total= 1.5min\n",
      "[CV] min_samples_leaf=1, max_depth=None, n_estimators=1500, min_samples_split=15, max_features=10, bootstrap=False \n",
      "[CV]  min_samples_leaf=1, max_depth=None, n_estimators=2000, min_samples_split=10, max_features=10, bootstrap=False, score=0.6783251231527093, total= 3.2min\n",
      "[CV] min_samples_leaf=1, max_depth=None, n_estimators=1500, min_samples_split=15, max_features=10, bootstrap=False \n",
      "[CV]  min_samples_leaf=1, max_depth=None, n_estimators=2000, min_samples_split=10, max_features=10, bootstrap=False, score=0.6746108949416342, total= 3.2min\n",
      "[CV] min_samples_leaf=1, max_depth=None, n_estimators=2000, min_samples_split=15, max_features=10, bootstrap=False \n",
      "[CV]  min_samples_leaf=1, max_depth=None, n_estimators=1000, min_samples_split=15, max_features=10, bootstrap=False, score=0.6751592356687899, total= 1.4min\n",
      "[CV] min_samples_leaf=1, max_depth=None, n_estimators=2000, min_samples_split=15, max_features=10, bootstrap=False \n",
      "[CV]  min_samples_leaf=1, max_depth=None, n_estimators=2500, min_samples_split=10, max_features=10, bootstrap=False, score=0.6784688995215311, total= 4.1min\n",
      "[CV] min_samples_leaf=1, max_depth=None, n_estimators=2000, min_samples_split=15, max_features=10, bootstrap=False \n",
      "[CV]  min_samples_leaf=1, max_depth=None, n_estimators=2500, min_samples_split=10, max_features=10, bootstrap=False, score=0.6798029556650246, total= 4.0min\n",
      "[CV] min_samples_leaf=1, max_depth=None, n_estimators=2500, min_samples_split=15, max_features=10, bootstrap=False \n",
      "[CV]  min_samples_leaf=1, max_depth=None, n_estimators=2500, min_samples_split=10, max_features=10, bootstrap=False, score=0.6733154950133787, total= 4.0min\n",
      "[CV] min_samples_leaf=1, max_depth=None, n_estimators=2500, min_samples_split=15, max_features=10, bootstrap=False \n",
      "[CV]  min_samples_leaf=1, max_depth=None, n_estimators=1500, min_samples_split=15, max_features=10, bootstrap=False, score=0.6831683168316831, total= 2.3min\n",
      "[CV] min_samples_leaf=1, max_depth=None, n_estimators=2500, min_samples_split=15, max_features=10, bootstrap=False \n"
     ]
    },
    {
     "name": "stderr",
     "output_type": "stream",
     "text": [
      "[Parallel(n_jobs=-1)]: Done 112 tasks      | elapsed: 31.6min\n"
     ]
    },
    {
     "name": "stdout",
     "output_type": "stream",
     "text": [
      "[CV]  min_samples_leaf=1, max_depth=None, n_estimators=1500, min_samples_split=15, max_features=10, bootstrap=False, score=0.678055822906641, total= 2.3min\n",
      "[CV] min_samples_leaf=3, max_depth=None, n_estimators=1000, min_samples_split=10, max_features=10, bootstrap=False \n",
      "[CV]  min_samples_leaf=1, max_depth=None, n_estimators=1500, min_samples_split=15, max_features=10, bootstrap=False, score=0.6754901960784314, total= 2.4min\n",
      "[CV] min_samples_leaf=3, max_depth=None, n_estimators=1000, min_samples_split=10, max_features=10, bootstrap=False \n",
      "[CV]  min_samples_leaf=1, max_depth=None, n_estimators=2000, min_samples_split=15, max_features=10, bootstrap=False, score=0.6788461538461538, total= 3.2min\n",
      "[CV] min_samples_leaf=3, max_depth=None, n_estimators=1000, min_samples_split=10, max_features=10, bootstrap=False \n",
      "[CV]  min_samples_leaf=3, max_depth=None, n_estimators=1000, min_samples_split=10, max_features=10, bootstrap=False, score=0.6749072929542645, total= 1.5min\n",
      "[CV] min_samples_leaf=3, max_depth=None, n_estimators=1500, min_samples_split=10, max_features=10, bootstrap=False \n",
      "[CV]  min_samples_leaf=3, max_depth=None, n_estimators=1000, min_samples_split=10, max_features=10, bootstrap=False, score=0.6746374968201475, total= 1.5min\n",
      "[CV] min_samples_leaf=3, max_depth=None, n_estimators=1500, min_samples_split=10, max_features=10, bootstrap=False \n",
      "[CV]  min_samples_leaf=1, max_depth=None, n_estimators=2000, min_samples_split=15, max_features=10, bootstrap=False, score=0.682842287694974, total= 3.1min\n",
      "[CV] min_samples_leaf=3, max_depth=None, n_estimators=1500, min_samples_split=10, max_features=10, bootstrap=False \n",
      "[CV]  min_samples_leaf=1, max_depth=None, n_estimators=2000, min_samples_split=15, max_features=10, bootstrap=False, score=0.674504041146216, total= 2.8min\n",
      "[CV] min_samples_leaf=3, max_depth=None, n_estimators=2000, min_samples_split=10, max_features=10, bootstrap=False \n",
      "[CV]  min_samples_leaf=3, max_depth=None, n_estimators=1000, min_samples_split=10, max_features=10, bootstrap=False, score=0.6779492284718764, total= 1.2min\n",
      "[CV] min_samples_leaf=3, max_depth=None, n_estimators=2000, min_samples_split=10, max_features=10, bootstrap=False \n",
      "[CV]  min_samples_leaf=1, max_depth=None, n_estimators=2500, min_samples_split=15, max_features=10, bootstrap=False, score=0.6777296777296777, total= 4.1min\n",
      "[CV] min_samples_leaf=3, max_depth=None, n_estimators=2000, min_samples_split=10, max_features=10, bootstrap=False \n",
      "[CV]  min_samples_leaf=1, max_depth=None, n_estimators=2500, min_samples_split=15, max_features=10, bootstrap=False, score=0.6812097174020822, total= 4.0min\n",
      "[CV] min_samples_leaf=3, max_depth=None, n_estimators=2500, min_samples_split=10, max_features=10, bootstrap=False \n",
      "[CV]  min_samples_leaf=3, max_depth=None, n_estimators=1500, min_samples_split=10, max_features=10, bootstrap=False, score=0.6763906056860322, total= 2.1min\n",
      "[CV] min_samples_leaf=3, max_depth=None, n_estimators=2500, min_samples_split=10, max_features=10, bootstrap=False \n",
      "[CV]  min_samples_leaf=3, max_depth=None, n_estimators=1500, min_samples_split=10, max_features=10, bootstrap=False, score=0.6767701863354036, total= 1.9min\n",
      "[CV] min_samples_leaf=3, max_depth=None, n_estimators=2500, min_samples_split=10, max_features=10, bootstrap=False \n",
      "[CV]  min_samples_leaf=3, max_depth=None, n_estimators=1500, min_samples_split=10, max_features=10, bootstrap=False, score=0.6732773963895246, total= 2.2min\n",
      "[CV] min_samples_leaf=3, max_depth=None, n_estimators=1000, min_samples_split=15, max_features=10, bootstrap=False \n",
      "[CV]  min_samples_leaf=1, max_depth=None, n_estimators=2500, min_samples_split=15, max_features=10, bootstrap=False, score=0.6753183153770813, total= 4.0min\n",
      "[CV] min_samples_leaf=3, max_depth=None, n_estimators=1000, min_samples_split=15, max_features=10, bootstrap=False \n",
      "[CV]  min_samples_leaf=3, max_depth=None, n_estimators=2000, min_samples_split=10, max_features=10, bootstrap=False, score=0.6762163497159793, total= 3.0min\n",
      "[CV] min_samples_leaf=3, max_depth=None, n_estimators=1000, min_samples_split=15, max_features=10, bootstrap=False \n",
      "[CV]  min_samples_leaf=3, max_depth=None, n_estimators=2000, min_samples_split=10, max_features=10, bootstrap=False, score=0.6744659206510683, total= 2.9min\n",
      "[CV] min_samples_leaf=3, max_depth=None, n_estimators=1500, min_samples_split=15, max_features=10, bootstrap=False \n",
      "[CV]  min_samples_leaf=3, max_depth=None, n_estimators=1000, min_samples_split=15, max_features=10, bootstrap=False, score=0.6760424377004689, total= 1.5min\n",
      "[CV] min_samples_leaf=3, max_depth=None, n_estimators=1500, min_samples_split=15, max_features=10, bootstrap=False \n"
     ]
    },
    {
     "name": "stderr",
     "output_type": "stream",
     "text": [
      "[Parallel(n_jobs=-1)]: Done 129 tasks      | elapsed: 37.3min\n"
     ]
    },
    {
     "name": "stdout",
     "output_type": "stream",
     "text": [
      "[CV]  min_samples_leaf=3, max_depth=None, n_estimators=1000, min_samples_split=15, max_features=10, bootstrap=False, score=0.6727735368956742, total= 1.4min\n",
      "[CV] min_samples_leaf=3, max_depth=None, n_estimators=1500, min_samples_split=15, max_features=10, bootstrap=False \n",
      "[CV]  min_samples_leaf=3, max_depth=None, n_estimators=2000, min_samples_split=10, max_features=10, bootstrap=False, score=0.6779240129128383, total= 3.0min\n",
      "[CV] min_samples_leaf=3, max_depth=None, n_estimators=2000, min_samples_split=15, max_features=10, bootstrap=False \n",
      "[CV]  min_samples_leaf=3, max_depth=None, n_estimators=1000, min_samples_split=15, max_features=10, bootstrap=False, score=0.6779492284718764, total= 1.5min\n",
      "[CV] min_samples_leaf=3, max_depth=None, n_estimators=2000, min_samples_split=15, max_features=10, bootstrap=False \n",
      "[CV]  min_samples_leaf=3, max_depth=None, n_estimators=2500, min_samples_split=10, max_features=10, bootstrap=False, score=0.6776037782749194, total= 3.2min\n",
      "[CV] min_samples_leaf=3, max_depth=None, n_estimators=2000, min_samples_split=15, max_features=10, bootstrap=False \n",
      "[CV]  min_samples_leaf=3, max_depth=None, n_estimators=2500, min_samples_split=10, max_features=10, bootstrap=False, score=0.6758893280632411, total= 3.8min\n",
      "[CV] min_samples_leaf=3, max_depth=None, n_estimators=2500, min_samples_split=15, max_features=10, bootstrap=False \n",
      "[CV]  min_samples_leaf=3, max_depth=None, n_estimators=2500, min_samples_split=10, max_features=10, bootstrap=False, score=0.6741344195519348, total= 3.7min\n",
      "[CV] min_samples_leaf=3, max_depth=None, n_estimators=2500, min_samples_split=15, max_features=10, bootstrap=False \n",
      "[CV]  min_samples_leaf=3, max_depth=None, n_estimators=1500, min_samples_split=15, max_features=10, bootstrap=False, score=0.6743002544529261, total= 2.0min\n",
      "[CV] min_samples_leaf=3, max_depth=None, n_estimators=2500, min_samples_split=15, max_features=10, bootstrap=False \n",
      "[CV]  min_samples_leaf=3, max_depth=None, n_estimators=1500, min_samples_split=15, max_features=10, bootstrap=False, score=0.6767102988392195, total= 2.3min\n",
      "[CV] min_samples_leaf=1, max_depth=None, n_estimators=1000, min_samples_split=10, max_features=15, bootstrap=False \n",
      "[CV]  min_samples_leaf=3, max_depth=None, n_estimators=1500, min_samples_split=15, max_features=10, bootstrap=False, score=0.6776037782749194, total= 2.3min\n",
      "[CV] min_samples_leaf=1, max_depth=None, n_estimators=1000, min_samples_split=10, max_features=15, bootstrap=False \n",
      "[CV]  min_samples_leaf=3, max_depth=None, n_estimators=2000, min_samples_split=15, max_features=10, bootstrap=False, score=0.6767177459218982, total= 3.0min\n",
      "[CV] min_samples_leaf=1, max_depth=None, n_estimators=1000, min_samples_split=10, max_features=15, bootstrap=False \n",
      "[CV]  min_samples_leaf=3, max_depth=None, n_estimators=2000, min_samples_split=15, max_features=10, bootstrap=False, score=0.6749745676500508, total= 3.1min\n",
      "[CV] min_samples_leaf=1, max_depth=None, n_estimators=1500, min_samples_split=10, max_features=15, bootstrap=False \n",
      "[CV]  min_samples_leaf=3, max_depth=None, n_estimators=2000, min_samples_split=15, max_features=10, bootstrap=False, score=0.6780753968253969, total= 2.6min\n",
      "[CV] min_samples_leaf=1, max_depth=None, n_estimators=1500, min_samples_split=10, max_features=15, bootstrap=False \n",
      "[CV]  min_samples_leaf=1, max_depth=None, n_estimators=1000, min_samples_split=10, max_features=15, bootstrap=False, score=0.6795698924731184, total= 2.1min\n",
      "[CV] min_samples_leaf=1, max_depth=None, n_estimators=1500, min_samples_split=10, max_features=15, bootstrap=False \n",
      "[CV]  min_samples_leaf=1, max_depth=None, n_estimators=1000, min_samples_split=10, max_features=15, bootstrap=False, score=0.6776737309019221, total= 1.9min\n",
      "[CV] min_samples_leaf=1, max_depth=None, n_estimators=2000, min_samples_split=10, max_features=15, bootstrap=False \n",
      "[CV]  min_samples_leaf=3, max_depth=None, n_estimators=2500, min_samples_split=15, max_features=10, bootstrap=False, score=0.6756687898089172, total= 3.7min\n",
      "[CV] min_samples_leaf=1, max_depth=None, n_estimators=2000, min_samples_split=10, max_features=15, bootstrap=False \n",
      "[CV]  min_samples_leaf=3, max_depth=None, n_estimators=2500, min_samples_split=15, max_features=10, bootstrap=False, score=0.6760493827160494, total= 3.8min\n",
      "[CV] min_samples_leaf=1, max_depth=None, n_estimators=2000, min_samples_split=10, max_features=15, bootstrap=False \n",
      "[CV]  min_samples_leaf=3, max_depth=None, n_estimators=2500, min_samples_split=15, max_features=10, bootstrap=False, score=0.6770910896003971, total= 3.7min\n",
      "[CV] min_samples_leaf=1, max_depth=None, n_estimators=2500, min_samples_split=10, max_features=15, bootstrap=False \n"
     ]
    },
    {
     "name": "stderr",
     "output_type": "stream",
     "text": [
      "[Parallel(n_jobs=-1)]: Done 146 tasks      | elapsed: 43.3min\n"
     ]
    },
    {
     "name": "stdout",
     "output_type": "stream",
     "text": [
      "[CV]  min_samples_leaf=1, max_depth=None, n_estimators=1000, min_samples_split=10, max_features=15, bootstrap=False, score=0.6744412050534498, total= 2.2min\n",
      "[CV] min_samples_leaf=1, max_depth=None, n_estimators=2500, min_samples_split=10, max_features=15, bootstrap=False \n",
      "[CV]  min_samples_leaf=1, max_depth=None, n_estimators=1500, min_samples_split=10, max_features=15, bootstrap=False, score=0.6770140428677014, total= 2.7min\n",
      "[CV] min_samples_leaf=1, max_depth=None, n_estimators=2500, min_samples_split=10, max_features=15, bootstrap=False \n",
      "[CV]  min_samples_leaf=1, max_depth=None, n_estimators=1500, min_samples_split=10, max_features=15, bootstrap=False, score=0.6765267175572519, total= 3.3min\n",
      "[CV] min_samples_leaf=1, max_depth=None, n_estimators=1000, min_samples_split=15, max_features=15, bootstrap=False \n",
      "[CV]  min_samples_leaf=1, max_depth=None, n_estimators=1500, min_samples_split=10, max_features=15, bootstrap=False, score=0.673955296404276, total= 3.1min\n",
      "[CV] min_samples_leaf=1, max_depth=None, n_estimators=1000, min_samples_split=15, max_features=15, bootstrap=False \n",
      "[CV]  min_samples_leaf=1, max_depth=None, n_estimators=2000, min_samples_split=10, max_features=15, bootstrap=False, score=0.6774886607782288, total= 3.9min\n",
      "[CV] min_samples_leaf=1, max_depth=None, n_estimators=1000, min_samples_split=15, max_features=15, bootstrap=False \n",
      "[CV]  min_samples_leaf=1, max_depth=None, n_estimators=1000, min_samples_split=15, max_features=15, bootstrap=False, score=0.6806257521058965, total= 2.1min\n",
      "[CV] min_samples_leaf=1, max_depth=None, n_estimators=1500, min_samples_split=15, max_features=15, bootstrap=False \n",
      "[CV]  min_samples_leaf=1, max_depth=None, n_estimators=1000, min_samples_split=15, max_features=15, bootstrap=False, score=0.681840672934191, total= 2.0min\n",
      "[CV] min_samples_leaf=1, max_depth=None, n_estimators=1500, min_samples_split=15, max_features=15, bootstrap=False \n",
      "[CV]  min_samples_leaf=1, max_depth=None, n_estimators=2000, min_samples_split=10, max_features=15, bootstrap=False, score=0.6741299586274033, total= 4.1min\n",
      "[CV] min_samples_leaf=1, max_depth=None, n_estimators=1500, min_samples_split=15, max_features=15, bootstrap=False \n",
      "[CV]  min_samples_leaf=1, max_depth=None, n_estimators=2000, min_samples_split=10, max_features=15, bootstrap=False, score=0.6773399014778325, total= 4.2min\n",
      "[CV] min_samples_leaf=1, max_depth=None, n_estimators=2000, min_samples_split=15, max_features=15, bootstrap=False \n",
      "[CV]  min_samples_leaf=1, max_depth=None, n_estimators=1000, min_samples_split=15, max_features=15, bootstrap=False, score=0.6772228989037758, total= 2.1min\n",
      "[CV] min_samples_leaf=1, max_depth=None, n_estimators=2000, min_samples_split=15, max_features=15, bootstrap=False \n",
      "[CV]  min_samples_leaf=1, max_depth=None, n_estimators=2500, min_samples_split=10, max_features=15, bootstrap=False, score=0.6784266984505364, total= 5.0min\n",
      "[CV] min_samples_leaf=1, max_depth=None, n_estimators=2000, min_samples_split=15, max_features=15, bootstrap=False \n",
      "[CV]  min_samples_leaf=1, max_depth=None, n_estimators=2500, min_samples_split=10, max_features=15, bootstrap=False, score=0.6778407690411634, total= 5.3min\n",
      "[CV] min_samples_leaf=1, max_depth=None, n_estimators=2500, min_samples_split=15, max_features=15, bootstrap=False \n",
      "[CV]  min_samples_leaf=1, max_depth=None, n_estimators=2500, min_samples_split=10, max_features=15, bootstrap=False, score=0.674124513618677, total= 4.4min\n",
      "[CV] min_samples_leaf=1, max_depth=None, n_estimators=2500, min_samples_split=15, max_features=15, bootstrap=False \n",
      "[CV]  min_samples_leaf=1, max_depth=None, n_estimators=1500, min_samples_split=15, max_features=15, bootstrap=False, score=0.6823303764085352, total= 2.7min\n",
      "[CV] min_samples_leaf=1, max_depth=None, n_estimators=2500, min_samples_split=15, max_features=15, bootstrap=False \n",
      "[CV]  min_samples_leaf=1, max_depth=None, n_estimators=1500, min_samples_split=15, max_features=15, bootstrap=False, score=0.6808827175799653, total= 3.0min\n",
      "[CV] min_samples_leaf=3, max_depth=None, n_estimators=1000, min_samples_split=10, max_features=15, bootstrap=False \n",
      "[CV]  min_samples_leaf=1, max_depth=None, n_estimators=1500, min_samples_split=15, max_features=15, bootstrap=False, score=0.6778998778998779, total= 3.1min\n",
      "[CV] min_samples_leaf=3, max_depth=None, n_estimators=1000, min_samples_split=10, max_features=15, bootstrap=False \n",
      "[CV]  min_samples_leaf=1, max_depth=None, n_estimators=2000, min_samples_split=15, max_features=15, bootstrap=False, score=0.6824940047961632, total= 3.7min\n",
      "[CV] min_samples_leaf=3, max_depth=None, n_estimators=1000, min_samples_split=10, max_features=15, bootstrap=False \n",
      "[CV]  min_samples_leaf=3, max_depth=None, n_estimators=1000, min_samples_split=10, max_features=15, bootstrap=False, score=0.682450573590432, total= 1.9min\n",
      "[CV] min_samples_leaf=3, max_depth=None, n_estimators=1500, min_samples_split=10, max_features=15, bootstrap=False \n",
      "[CV]  min_samples_leaf=1, max_depth=None, n_estimators=2000, min_samples_split=15, max_features=15, bootstrap=False, score=0.6810408921933084, total= 4.2min\n",
      "[CV] min_samples_leaf=3, max_depth=None, n_estimators=1500, min_samples_split=10, max_features=15, bootstrap=False \n"
     ]
    },
    {
     "name": "stderr",
     "output_type": "stream",
     "text": [
      "[Parallel(n_jobs=-1)]: Done 165 tasks      | elapsed: 52.7min\n"
     ]
    },
    {
     "name": "stdout",
     "output_type": "stream",
     "text": [
      "[CV]  min_samples_leaf=3, max_depth=None, n_estimators=1000, min_samples_split=10, max_features=15, bootstrap=False, score=0.6777609682299546, total= 1.8min\n",
      "[CV] min_samples_leaf=3, max_depth=None, n_estimators=1500, min_samples_split=10, max_features=15, bootstrap=False \n",
      "[CV]  min_samples_leaf=1, max_depth=None, n_estimators=2000, min_samples_split=15, max_features=15, bootstrap=False, score=0.6770960645318993, total= 4.1min\n",
      "[CV] min_samples_leaf=3, max_depth=None, n_estimators=2000, min_samples_split=10, max_features=15, bootstrap=False \n",
      "[CV]  min_samples_leaf=3, max_depth=None, n_estimators=1000, min_samples_split=10, max_features=15, bootstrap=False, score=0.6830235439900868, total= 1.8min\n",
      "[CV] min_samples_leaf=3, max_depth=None, n_estimators=2000, min_samples_split=10, max_features=15, bootstrap=False \n",
      "[CV]  min_samples_leaf=1, max_depth=None, n_estimators=2500, min_samples_split=15, max_features=15, bootstrap=False, score=0.6828302820385947, total= 4.5min\n",
      "[CV] min_samples_leaf=3, max_depth=None, n_estimators=2000, min_samples_split=10, max_features=15, bootstrap=False \n",
      "[CV]  min_samples_leaf=1, max_depth=None, n_estimators=2500, min_samples_split=15, max_features=15, bootstrap=False, score=0.6829736211031175, total= 4.8min\n",
      "[CV] min_samples_leaf=3, max_depth=None, n_estimators=2500, min_samples_split=10, max_features=15, bootstrap=False \n",
      "[CV]  min_samples_leaf=3, max_depth=None, n_estimators=1500, min_samples_split=10, max_features=15, bootstrap=False, score=0.6842233601560596, total= 2.7min\n",
      "[CV] min_samples_leaf=3, max_depth=None, n_estimators=2500, min_samples_split=10, max_features=15, bootstrap=False \n",
      "[CV]  min_samples_leaf=3, max_depth=None, n_estimators=1500, min_samples_split=10, max_features=15, bootstrap=False, score=0.6789407313997479, total= 2.6min\n",
      "[CV] min_samples_leaf=3, max_depth=None, n_estimators=2500, min_samples_split=10, max_features=15, bootstrap=False \n",
      "[CV]  min_samples_leaf=1, max_depth=None, n_estimators=2500, min_samples_split=15, max_features=15, bootstrap=False, score=0.6775689528923603, total= 5.1min\n",
      "[CV] min_samples_leaf=3, max_depth=None, n_estimators=1000, min_samples_split=15, max_features=15, bootstrap=False \n",
      "[CV]  min_samples_leaf=3, max_depth=None, n_estimators=1500, min_samples_split=10, max_features=15, bootstrap=False, score=0.6818745350855443, total= 2.9min\n",
      "[CV] min_samples_leaf=3, max_depth=None, n_estimators=1000, min_samples_split=15, max_features=15, bootstrap=False \n",
      "[CV]  min_samples_leaf=3, max_depth=None, n_estimators=2000, min_samples_split=10, max_features=15, bootstrap=False, score=0.6850316918576304, total= 3.9min\n",
      "[CV] min_samples_leaf=3, max_depth=None, n_estimators=1000, min_samples_split=15, max_features=15, bootstrap=False \n",
      "[CV]  min_samples_leaf=3, max_depth=None, n_estimators=2000, min_samples_split=10, max_features=15, bootstrap=False, score=0.6782215523737755, total= 3.5min\n",
      "[CV] min_samples_leaf=3, max_depth=None, n_estimators=1500, min_samples_split=15, max_features=15, bootstrap=False \n",
      "[CV]  min_samples_leaf=3, max_depth=None, n_estimators=1000, min_samples_split=15, max_features=15, bootstrap=False, score=0.6818292981168991, total= 2.0min\n",
      "[CV] min_samples_leaf=3, max_depth=None, n_estimators=1500, min_samples_split=15, max_features=15, bootstrap=False \n",
      "[CV]  min_samples_leaf=3, max_depth=None, n_estimators=2000, min_samples_split=10, max_features=15, bootstrap=False, score=0.6828543111992071, total= 3.4min\n",
      "[CV] min_samples_leaf=3, max_depth=None, n_estimators=1500, min_samples_split=15, max_features=15, bootstrap=False \n",
      "[CV]  min_samples_leaf=3, max_depth=None, n_estimators=1000, min_samples_split=15, max_features=15, bootstrap=False, score=0.6769308430085815, total= 2.0min\n",
      "[CV] min_samples_leaf=3, max_depth=None, n_estimators=2000, min_samples_split=15, max_features=15, bootstrap=False \n",
      "[CV]  min_samples_leaf=3, max_depth=None, n_estimators=2500, min_samples_split=10, max_features=15, bootstrap=False, score=0.6837481698389458, total= 4.3min\n",
      "[CV] min_samples_leaf=3, max_depth=None, n_estimators=2000, min_samples_split=15, max_features=15, bootstrap=False \n",
      "[CV]  min_samples_leaf=3, max_depth=None, n_estimators=1000, min_samples_split=15, max_features=15, bootstrap=False, score=0.6838581700967021, total= 2.0min\n",
      "[CV] min_samples_leaf=3, max_depth=None, n_estimators=2000, min_samples_split=15, max_features=15, bootstrap=False \n",
      "[CV]  min_samples_leaf=3, max_depth=None, n_estimators=1500, min_samples_split=15, max_features=15, bootstrap=False, score=0.6830934374237618, total= 3.0min\n",
      "[CV] min_samples_leaf=3, max_depth=None, n_estimators=2500, min_samples_split=15, max_features=15, bootstrap=False \n",
      "[CV]  min_samples_leaf=3, max_depth=None, n_estimators=2500, min_samples_split=10, max_features=15, bootstrap=False, score=0.6828302820385949, total= 4.9min\n",
      "[CV] min_samples_leaf=3, max_depth=None, n_estimators=2500, min_samples_split=15, max_features=15, bootstrap=False \n",
      "[CV]  min_samples_leaf=3, max_depth=None, n_estimators=2500, min_samples_split=10, max_features=15, bootstrap=False, score=0.678391959798995, total= 5.0min\n",
      "[CV] min_samples_leaf=3, max_depth=None, n_estimators=2500, min_samples_split=15, max_features=15, bootstrap=False \n",
      "[CV]  min_samples_leaf=3, max_depth=None, n_estimators=1500, min_samples_split=15, max_features=15, bootstrap=False, score=0.6765893037336025, total= 3.1min\n",
      "[CV]  min_samples_leaf=3, max_depth=None, n_estimators=1500, min_samples_split=15, max_features=15, bootstrap=False, score=0.6808933002481389, total= 3.1min\n",
      "[CV]  min_samples_leaf=3, max_depth=None, n_estimators=2000, min_samples_split=15, max_features=15, bootstrap=False, score=0.684390243902439, total= 3.8min\n",
      "[CV]  min_samples_leaf=3, max_depth=None, n_estimators=2000, min_samples_split=15, max_features=15, bootstrap=False, score=0.6780856423173804, total= 3.3min\n",
      "[CV]  min_samples_leaf=3, max_depth=None, n_estimators=2000, min_samples_split=15, max_features=15, bootstrap=False, score=0.682358771060456, total= 3.3min\n",
      "[CV]  min_samples_leaf=3, max_depth=None, n_estimators=2500, min_samples_split=15, max_features=15, bootstrap=False, score=0.6770938446014126, total= 2.8min\n",
      "[CV]  min_samples_leaf=3, max_depth=None, n_estimators=2500, min_samples_split=15, max_features=15, bootstrap=False, score=0.6807139315815567, total= 2.8min\n",
      "[CV]  min_samples_leaf=3, max_depth=None, n_estimators=2500, min_samples_split=15, max_features=15, bootstrap=False, score=0.6865089046108805, total= 3.3min\n"
     ]
    },
    {
     "name": "stderr",
     "output_type": "stream",
     "text": [
      "[Parallel(n_jobs=-1)]: Done 192 out of 192 | elapsed: 63.8min finished\n"
     ]
    },
    {
     "data": {
      "image/png": "[encoded data removed]",
      "text/plain": [
       "<Figure size 432x288 with 2 Axes>"
      ]
     },
     "metadata": {},
     "output_type": "display_data"
    }
   ],
   "source": [
    "params_rfc = {}\n",
    "from scipy.stats import randint as sp_randint\n",
    "params_rfc = {'n_estimators': [1000, 1500, 2000, 2500],\n",
    "              \"max_depth\": [None],\n",
    "              \"max_features\": [10, 15],\n",
    "              \"min_samples_split\": [10, 15],\n",
    "              \"min_samples_leaf\": [1, 3],\n",
    "              \"bootstrap\": [True, False]}\n",
    "\n",
    "rfc_2 = GridSearchCV(RandomForestClassifier(), params_rfc, \"f1\", n_jobs=-1, verbose = 10) \n",
    "rfc_2.fit(X_train, y_train)\n",
    "\n",
    "plot_confusion_matrix(confusion_matrix(y_test, rfc_2.predict(X_test)), title=\"Random Forest Classifier Confusion Matrix\")"
   ]
  },
  {
   "cell_type": "markdown",
   "metadata": {},
   "source": [
    "#### Melhor estimador"
   ]
  },
  {
   "cell_type": "code",
   "execution_count": 34,
   "metadata": {},
   "outputs": [
    {
     "data": {
      "text/plain": [
       "RandomForestClassifier(bootstrap=True, class_weight=None, criterion='gini',\n",
       "            max_depth=None, max_features=15, max_leaf_nodes=None,\n",
       "            min_impurity_decrease=0.0, min_impurity_split=None,\n",
       "            min_samples_leaf=1, min_samples_split=15,\n",
       "            min_weight_fraction_leaf=0.0, n_estimators=1500, n_jobs=1,\n",
       "            oob_score=False, random_state=None, verbose=0,\n",
       "            warm_start=False)"
      ]
     },
     "execution_count": 34,
     "metadata": {},
     "output_type": "execute_result"
    }
   ],
   "source": [
    "joblib.dump(rfc_2.best_estimator_, 'models/test_rfc_2.pkl') \n",
    "rfc_2.best_estimator_"
   ]
  },
  {
   "cell_type": "markdown",
   "metadata": {},
   "source": [
    "#### Tabela de scores"
   ]
  },
  {
   "cell_type": "code",
   "execution_count": 35,
   "metadata": {},
   "outputs": [
    {
     "data": {
      "text/html": [
       "<div>\n",
       "<style scoped>\n",
       "    .dataframe tbody tr th:only-of-type {\n",
       "        vertical-align: middle;\n",
       "    }\n",
       "\n",
       "    .dataframe tbody tr th {\n",
       "        vertical-align: top;\n",
       "    }\n",
       "\n",
       "    .dataframe thead th {\n",
       "        text-align: right;\n",
       "    }\n",
       "</style>\n",
       "<table border=\"1\" class=\"dataframe\">\n",
       "  <thead>\n",
       "    <tr style=\"text-align: right;\">\n",
       "      <th></th>\n",
       "      <th>Accuracy Score</th>\n",
       "      <th>F1 Score</th>\n",
       "      <th>Precision Score</th>\n",
       "      <th>Recall Score</th>\n",
       "    </tr>\n",
       "  </thead>\n",
       "  <tbody>\n",
       "    <tr>\n",
       "      <th>0</th>\n",
       "      <td>0.865979</td>\n",
       "      <td>0.704926</td>\n",
       "      <td>0.780103</td>\n",
       "      <td>0.642965</td>\n",
       "    </tr>\n",
       "  </tbody>\n",
       "</table>\n",
       "</div>"
      ],
      "text/plain": [
       "   Accuracy Score  F1 Score  Precision Score  Recall Score\n",
       "0        0.865979  0.704926         0.780103      0.642965"
      ]
     },
     "execution_count": 35,
     "metadata": {},
     "output_type": "execute_result"
    }
   ],
   "source": [
    "df_scores_rfc_2 = create_scores_df(rfc_2)\n",
    "df_scores_rfc_2"
   ]
  },
  {
   "cell_type": "markdown",
   "metadata": {},
   "source": [
    "#### Predição dos dados e arquivo de saída"
   ]
  },
  {
   "cell_type": "code",
   "execution_count": 36,
   "metadata": {},
   "outputs": [
    {
     "data": {
      "text/plain": [
       "array([0, 0, 1, ..., 0, 0, 0])"
      ]
     },
     "execution_count": 36,
     "metadata": {},
     "output_type": "execute_result"
    }
   ],
   "source": [
    "predicted_X = rfc_2.predict(testX.drop(columns=[\"id\"]))\n",
    "predicted_X"
   ]
  },
  {
   "cell_type": "code",
   "execution_count": 37,
   "metadata": {},
   "outputs": [
    {
     "data": {
      "text/html": [
       "<div>\n",
       "<style scoped>\n",
       "    .dataframe tbody tr th:only-of-type {\n",
       "        vertical-align: middle;\n",
       "    }\n",
       "\n",
       "    .dataframe tbody tr th {\n",
       "        vertical-align: top;\n",
       "    }\n",
       "\n",
       "    .dataframe thead th {\n",
       "        text-align: right;\n",
       "    }\n",
       "</style>\n",
       "<table border=\"1\" class=\"dataframe\">\n",
       "  <thead>\n",
       "    <tr style=\"text-align: right;\">\n",
       "      <th></th>\n",
       "      <th>id</th>\n",
       "      <th>label</th>\n",
       "    </tr>\n",
       "  </thead>\n",
       "  <tbody>\n",
       "    <tr>\n",
       "      <th>0</th>\n",
       "      <td>16432</td>\n",
       "      <td>0</td>\n",
       "    </tr>\n",
       "    <tr>\n",
       "      <th>1</th>\n",
       "      <td>11559</td>\n",
       "      <td>0</td>\n",
       "    </tr>\n",
       "    <tr>\n",
       "      <th>2</th>\n",
       "      <td>7714</td>\n",
       "      <td>1</td>\n",
       "    </tr>\n",
       "    <tr>\n",
       "      <th>3</th>\n",
       "      <td>11576</td>\n",
       "      <td>1</td>\n",
       "    </tr>\n",
       "    <tr>\n",
       "      <th>4</th>\n",
       "      <td>10336</td>\n",
       "      <td>0</td>\n",
       "    </tr>\n",
       "    <tr>\n",
       "      <th>5</th>\n",
       "      <td>11249</td>\n",
       "      <td>0</td>\n",
       "    </tr>\n",
       "    <tr>\n",
       "      <th>6</th>\n",
       "      <td>11030</td>\n",
       "      <td>0</td>\n",
       "    </tr>\n",
       "    <tr>\n",
       "      <th>7</th>\n",
       "      <td>10292</td>\n",
       "      <td>0</td>\n",
       "    </tr>\n",
       "    <tr>\n",
       "      <th>8</th>\n",
       "      <td>13980</td>\n",
       "      <td>0</td>\n",
       "    </tr>\n",
       "    <tr>\n",
       "      <th>9</th>\n",
       "      <td>5558</td>\n",
       "      <td>0</td>\n",
       "    </tr>\n",
       "    <tr>\n",
       "      <th>10</th>\n",
       "      <td>22914</td>\n",
       "      <td>0</td>\n",
       "    </tr>\n",
       "    <tr>\n",
       "      <th>11</th>\n",
       "      <td>16872</td>\n",
       "      <td>0</td>\n",
       "    </tr>\n",
       "    <tr>\n",
       "      <th>12</th>\n",
       "      <td>7864</td>\n",
       "      <td>0</td>\n",
       "    </tr>\n",
       "    <tr>\n",
       "      <th>13</th>\n",
       "      <td>15943</td>\n",
       "      <td>0</td>\n",
       "    </tr>\n",
       "    <tr>\n",
       "      <th>14</th>\n",
       "      <td>4971</td>\n",
       "      <td>0</td>\n",
       "    </tr>\n",
       "    <tr>\n",
       "      <th>15</th>\n",
       "      <td>29939</td>\n",
       "      <td>0</td>\n",
       "    </tr>\n",
       "    <tr>\n",
       "      <th>16</th>\n",
       "      <td>30747</td>\n",
       "      <td>0</td>\n",
       "    </tr>\n",
       "    <tr>\n",
       "      <th>17</th>\n",
       "      <td>22528</td>\n",
       "      <td>0</td>\n",
       "    </tr>\n",
       "    <tr>\n",
       "      <th>18</th>\n",
       "      <td>6698</td>\n",
       "      <td>1</td>\n",
       "    </tr>\n",
       "    <tr>\n",
       "      <th>19</th>\n",
       "      <td>7052</td>\n",
       "      <td>0</td>\n",
       "    </tr>\n",
       "    <tr>\n",
       "      <th>20</th>\n",
       "      <td>12033</td>\n",
       "      <td>0</td>\n",
       "    </tr>\n",
       "    <tr>\n",
       "      <th>21</th>\n",
       "      <td>4556</td>\n",
       "      <td>0</td>\n",
       "    </tr>\n",
       "    <tr>\n",
       "      <th>22</th>\n",
       "      <td>7661</td>\n",
       "      <td>0</td>\n",
       "    </tr>\n",
       "    <tr>\n",
       "      <th>23</th>\n",
       "      <td>1085</td>\n",
       "      <td>0</td>\n",
       "    </tr>\n",
       "    <tr>\n",
       "      <th>24</th>\n",
       "      <td>1836</td>\n",
       "      <td>0</td>\n",
       "    </tr>\n",
       "    <tr>\n",
       "      <th>25</th>\n",
       "      <td>31735</td>\n",
       "      <td>0</td>\n",
       "    </tr>\n",
       "    <tr>\n",
       "      <th>26</th>\n",
       "      <td>8929</td>\n",
       "      <td>1</td>\n",
       "    </tr>\n",
       "    <tr>\n",
       "      <th>27</th>\n",
       "      <td>4309</td>\n",
       "      <td>0</td>\n",
       "    </tr>\n",
       "    <tr>\n",
       "      <th>28</th>\n",
       "      <td>3315</td>\n",
       "      <td>0</td>\n",
       "    </tr>\n",
       "    <tr>\n",
       "      <th>29</th>\n",
       "      <td>25248</td>\n",
       "      <td>0</td>\n",
       "    </tr>\n",
       "    <tr>\n",
       "      <th>...</th>\n",
       "      <td>...</td>\n",
       "      <td>...</td>\n",
       "    </tr>\n",
       "    <tr>\n",
       "      <th>4970</th>\n",
       "      <td>20365</td>\n",
       "      <td>0</td>\n",
       "    </tr>\n",
       "    <tr>\n",
       "      <th>4971</th>\n",
       "      <td>11093</td>\n",
       "      <td>1</td>\n",
       "    </tr>\n",
       "    <tr>\n",
       "      <th>4972</th>\n",
       "      <td>1005</td>\n",
       "      <td>1</td>\n",
       "    </tr>\n",
       "    <tr>\n",
       "      <th>4973</th>\n",
       "      <td>21763</td>\n",
       "      <td>0</td>\n",
       "    </tr>\n",
       "    <tr>\n",
       "      <th>4974</th>\n",
       "      <td>27800</td>\n",
       "      <td>0</td>\n",
       "    </tr>\n",
       "    <tr>\n",
       "      <th>4975</th>\n",
       "      <td>15998</td>\n",
       "      <td>0</td>\n",
       "    </tr>\n",
       "    <tr>\n",
       "      <th>4976</th>\n",
       "      <td>7301</td>\n",
       "      <td>0</td>\n",
       "    </tr>\n",
       "    <tr>\n",
       "      <th>4977</th>\n",
       "      <td>324</td>\n",
       "      <td>0</td>\n",
       "    </tr>\n",
       "    <tr>\n",
       "      <th>4978</th>\n",
       "      <td>29451</td>\n",
       "      <td>0</td>\n",
       "    </tr>\n",
       "    <tr>\n",
       "      <th>4979</th>\n",
       "      <td>11199</td>\n",
       "      <td>0</td>\n",
       "    </tr>\n",
       "    <tr>\n",
       "      <th>4980</th>\n",
       "      <td>28519</td>\n",
       "      <td>1</td>\n",
       "    </tr>\n",
       "    <tr>\n",
       "      <th>4981</th>\n",
       "      <td>15600</td>\n",
       "      <td>0</td>\n",
       "    </tr>\n",
       "    <tr>\n",
       "      <th>4982</th>\n",
       "      <td>2576</td>\n",
       "      <td>0</td>\n",
       "    </tr>\n",
       "    <tr>\n",
       "      <th>4983</th>\n",
       "      <td>29285</td>\n",
       "      <td>1</td>\n",
       "    </tr>\n",
       "    <tr>\n",
       "      <th>4984</th>\n",
       "      <td>22939</td>\n",
       "      <td>0</td>\n",
       "    </tr>\n",
       "    <tr>\n",
       "      <th>4985</th>\n",
       "      <td>11343</td>\n",
       "      <td>1</td>\n",
       "    </tr>\n",
       "    <tr>\n",
       "      <th>4986</th>\n",
       "      <td>1673</td>\n",
       "      <td>1</td>\n",
       "    </tr>\n",
       "    <tr>\n",
       "      <th>4987</th>\n",
       "      <td>15179</td>\n",
       "      <td>0</td>\n",
       "    </tr>\n",
       "    <tr>\n",
       "      <th>4988</th>\n",
       "      <td>25805</td>\n",
       "      <td>0</td>\n",
       "    </tr>\n",
       "    <tr>\n",
       "      <th>4989</th>\n",
       "      <td>9124</td>\n",
       "      <td>0</td>\n",
       "    </tr>\n",
       "    <tr>\n",
       "      <th>4990</th>\n",
       "      <td>14750</td>\n",
       "      <td>1</td>\n",
       "    </tr>\n",
       "    <tr>\n",
       "      <th>4991</th>\n",
       "      <td>7681</td>\n",
       "      <td>1</td>\n",
       "    </tr>\n",
       "    <tr>\n",
       "      <th>4992</th>\n",
       "      <td>7949</td>\n",
       "      <td>0</td>\n",
       "    </tr>\n",
       "    <tr>\n",
       "      <th>4993</th>\n",
       "      <td>2</td>\n",
       "      <td>0</td>\n",
       "    </tr>\n",
       "    <tr>\n",
       "      <th>4994</th>\n",
       "      <td>11966</td>\n",
       "      <td>0</td>\n",
       "    </tr>\n",
       "    <tr>\n",
       "      <th>4995</th>\n",
       "      <td>16832</td>\n",
       "      <td>1</td>\n",
       "    </tr>\n",
       "    <tr>\n",
       "      <th>4996</th>\n",
       "      <td>24330</td>\n",
       "      <td>0</td>\n",
       "    </tr>\n",
       "    <tr>\n",
       "      <th>4997</th>\n",
       "      <td>1320</td>\n",
       "      <td>0</td>\n",
       "    </tr>\n",
       "    <tr>\n",
       "      <th>4998</th>\n",
       "      <td>14100</td>\n",
       "      <td>0</td>\n",
       "    </tr>\n",
       "    <tr>\n",
       "      <th>4999</th>\n",
       "      <td>2176</td>\n",
       "      <td>0</td>\n",
       "    </tr>\n",
       "  </tbody>\n",
       "</table>\n",
       "<p>5000 rows × 2 columns</p>\n",
       "</div>"
      ],
      "text/plain": [
       "         id  label\n",
       "0     16432      0\n",
       "1     11559      0\n",
       "2      7714      1\n",
       "3     11576      1\n",
       "4     10336      0\n",
       "5     11249      0\n",
       "6     11030      0\n",
       "7     10292      0\n",
       "8     13980      0\n",
       "9      5558      0\n",
       "10    22914      0\n",
       "11    16872      0\n",
       "12     7864      0\n",
       "13    15943      0\n",
       "14     4971      0\n",
       "15    29939      0\n",
       "16    30747      0\n",
       "17    22528      0\n",
       "18     6698      1\n",
       "19     7052      0\n",
       "20    12033      0\n",
       "21     4556      0\n",
       "22     7661      0\n",
       "23     1085      0\n",
       "24     1836      0\n",
       "25    31735      0\n",
       "26     8929      1\n",
       "27     4309      0\n",
       "28     3315      0\n",
       "29    25248      0\n",
       "...     ...    ...\n",
       "4970  20365      0\n",
       "4971  11093      1\n",
       "4972   1005      1\n",
       "4973  21763      0\n",
       "4974  27800      0\n",
       "4975  15998      0\n",
       "4976   7301      0\n",
       "4977    324      0\n",
       "4978  29451      0\n",
       "4979  11199      0\n",
       "4980  28519      1\n",
       "4981  15600      0\n",
       "4982   2576      0\n",
       "4983  29285      1\n",
       "4984  22939      0\n",
       "4985  11343      1\n",
       "4986   1673      1\n",
       "4987  15179      0\n",
       "4988  25805      0\n",
       "4989   9124      0\n",
       "4990  14750      1\n",
       "4991   7681      1\n",
       "4992   7949      0\n",
       "4993      2      0\n",
       "4994  11966      0\n",
       "4995  16832      1\n",
       "4996  24330      0\n",
       "4997   1320      0\n",
       "4998  14100      0\n",
       "4999   2176      0\n",
       "\n",
       "[5000 rows x 2 columns]"
      ]
     },
     "execution_count": 37,
     "metadata": {},
     "output_type": "execute_result"
    }
   ],
   "source": [
    "testX_values = testX[\"id\"].values\n",
    "df_predicted = pd.DataFrame(predicted_X, columns=[\"label\"])\n",
    "df_predicted.insert(0, \"id\", [int(i) for i in testX_values])\n",
    "df_predicted.to_csv(\"data/prediction_random_forest_f_07.csv\", index=False)\n",
    "df_predicted"
   ]
  },
  {
   "cell_type": "markdown",
   "metadata": {},
   "source": [
    "### Linear SVC"
   ]
  },
  {
   "cell_type": "code",
   "execution_count": 13,
   "metadata": {},
   "outputs": [
    {
     "name": "stdout",
     "output_type": "stream",
     "text": [
      "Fitting 3 folds for each of 5000 candidates, totalling 15000 fits\n"
     ]
    },
    {
     "name": "stderr",
     "output_type": "stream",
     "text": [
      "[Parallel(n_jobs=-1)]: Done   2 tasks      | elapsed:    4.6s\n",
      "[Parallel(n_jobs=-1)]: Done   9 tasks      | elapsed:    8.8s\n",
      "[Parallel(n_jobs=-1)]: Done  16 tasks      | elapsed:   12.9s\n",
      "[Parallel(n_jobs=-1)]: Done  25 tasks      | elapsed:   17.9s\n",
      "[Parallel(n_jobs=-1)]: Done  34 tasks      | elapsed:   22.5s\n",
      "[Parallel(n_jobs=-1)]: Done  45 tasks      | elapsed:   28.1s\n",
      "[Parallel(n_jobs=-1)]: Done  56 tasks      | elapsed:   34.2s\n",
      "[Parallel(n_jobs=-1)]: Done  69 tasks      | elapsed:   40.9s\n",
      "[Parallel(n_jobs=-1)]: Done  82 tasks      | elapsed:   47.9s\n",
      "[Parallel(n_jobs=-1)]: Done  97 tasks      | elapsed:   56.1s\n",
      "[Parallel(n_jobs=-1)]: Done 112 tasks      | elapsed:  1.1min\n",
      "[Parallel(n_jobs=-1)]: Done 129 tasks      | elapsed:  1.2min\n",
      "[Parallel(n_jobs=-1)]: Done 146 tasks      | elapsed:  1.4min\n",
      "[Parallel(n_jobs=-1)]: Done 165 tasks      | elapsed:  1.5min\n",
      "[Parallel(n_jobs=-1)]: Done 184 tasks      | elapsed:  1.7min\n",
      "[Parallel(n_jobs=-1)]: Done 205 tasks      | elapsed:  1.8min\n",
      "[Parallel(n_jobs=-1)]: Done 226 tasks      | elapsed:  2.0min\n",
      "[Parallel(n_jobs=-1)]: Done 249 tasks      | elapsed:  2.2min\n",
      "[Parallel(n_jobs=-1)]: Done 272 tasks      | elapsed:  2.4min\n",
      "[Parallel(n_jobs=-1)]: Done 297 tasks      | elapsed:  2.6min\n",
      "[Parallel(n_jobs=-1)]: Done 322 tasks      | elapsed:  2.9min\n",
      "[Parallel(n_jobs=-1)]: Done 349 tasks      | elapsed:  3.1min\n",
      "[Parallel(n_jobs=-1)]: Done 376 tasks      | elapsed:  3.3min\n",
      "[Parallel(n_jobs=-1)]: Done 405 tasks      | elapsed:  3.6min\n",
      "[Parallel(n_jobs=-1)]: Done 434 tasks      | elapsed:  3.8min\n",
      "[Parallel(n_jobs=-1)]: Done 465 tasks      | elapsed:  4.1min\n",
      "[Parallel(n_jobs=-1)]: Done 496 tasks      | elapsed:  4.4min\n",
      "[Parallel(n_jobs=-1)]: Done 529 tasks      | elapsed:  4.6min\n",
      "[Parallel(n_jobs=-1)]: Done 562 tasks      | elapsed:  4.9min\n",
      "[Parallel(n_jobs=-1)]: Done 597 tasks      | elapsed:  5.2min\n",
      "[Parallel(n_jobs=-1)]: Done 632 tasks      | elapsed:  5.5min\n",
      "[Parallel(n_jobs=-1)]: Done 669 tasks      | elapsed:  5.8min\n",
      "[Parallel(n_jobs=-1)]: Done 706 tasks      | elapsed:  6.2min\n",
      "[Parallel(n_jobs=-1)]: Done 745 tasks      | elapsed:  6.5min\n",
      "[Parallel(n_jobs=-1)]: Done 784 tasks      | elapsed:  6.8min\n",
      "[Parallel(n_jobs=-1)]: Done 825 tasks      | elapsed:  7.2min\n",
      "[Parallel(n_jobs=-1)]: Done 866 tasks      | elapsed:  7.5min\n",
      "[Parallel(n_jobs=-1)]: Done 909 tasks      | elapsed:  7.9min\n",
      "[Parallel(n_jobs=-1)]: Done 952 tasks      | elapsed:  8.3min\n",
      "[Parallel(n_jobs=-1)]: Done 997 tasks      | elapsed:  8.7min\n",
      "[Parallel(n_jobs=-1)]: Done 1042 tasks      | elapsed:  9.0min\n",
      "[Parallel(n_jobs=-1)]: Done 1089 tasks      | elapsed:  9.5min\n",
      "[Parallel(n_jobs=-1)]: Done 1136 tasks      | elapsed:  9.9min\n",
      "[Parallel(n_jobs=-1)]: Done 1185 tasks      | elapsed: 10.3min\n",
      "[Parallel(n_jobs=-1)]: Done 1234 tasks      | elapsed: 10.7min\n",
      "[Parallel(n_jobs=-1)]: Done 1285 tasks      | elapsed: 11.2min\n",
      "[Parallel(n_jobs=-1)]: Done 1336 tasks      | elapsed: 11.6min\n",
      "[Parallel(n_jobs=-1)]: Done 1389 tasks      | elapsed: 12.0min\n",
      "[Parallel(n_jobs=-1)]: Done 1442 tasks      | elapsed: 12.5min\n",
      "[Parallel(n_jobs=-1)]: Done 1497 tasks      | elapsed: 13.0min\n",
      "[Parallel(n_jobs=-1)]: Done 1552 tasks      | elapsed: 13.5min\n",
      "[Parallel(n_jobs=-1)]: Done 1609 tasks      | elapsed: 14.0min\n",
      "[Parallel(n_jobs=-1)]: Done 1666 tasks      | elapsed: 14.5min\n",
      "[Parallel(n_jobs=-1)]: Done 1725 tasks      | elapsed: 14.9min\n",
      "[Parallel(n_jobs=-1)]: Done 1784 tasks      | elapsed: 15.5min\n",
      "[Parallel(n_jobs=-1)]: Done 1845 tasks      | elapsed: 16.0min\n",
      "[Parallel(n_jobs=-1)]: Done 1906 tasks      | elapsed: 16.5min\n",
      "[Parallel(n_jobs=-1)]: Done 1969 tasks      | elapsed: 17.1min\n",
      "[Parallel(n_jobs=-1)]: Done 2032 tasks      | elapsed: 17.6min\n",
      "[Parallel(n_jobs=-1)]: Done 2097 tasks      | elapsed: 18.2min\n",
      "[Parallel(n_jobs=-1)]: Done 2162 tasks      | elapsed: 18.7min\n",
      "[Parallel(n_jobs=-1)]: Done 2229 tasks      | elapsed: 19.4min\n",
      "[Parallel(n_jobs=-1)]: Done 2296 tasks      | elapsed: 19.9min\n",
      "[Parallel(n_jobs=-1)]: Done 2365 tasks      | elapsed: 20.5min\n",
      "[Parallel(n_jobs=-1)]: Done 2434 tasks      | elapsed: 21.1min\n",
      "[Parallel(n_jobs=-1)]: Done 2505 tasks      | elapsed: 21.8min\n",
      "[Parallel(n_jobs=-1)]: Done 2576 tasks      | elapsed: 22.4min\n",
      "[Parallel(n_jobs=-1)]: Done 2649 tasks      | elapsed: 23.0min\n",
      "[Parallel(n_jobs=-1)]: Done 2722 tasks      | elapsed: 23.7min\n",
      "[Parallel(n_jobs=-1)]: Done 2797 tasks      | elapsed: 24.3min\n",
      "[Parallel(n_jobs=-1)]: Done 2872 tasks      | elapsed: 25.0min\n",
      "[Parallel(n_jobs=-1)]: Done 2949 tasks      | elapsed: 25.7min\n",
      "[Parallel(n_jobs=-1)]: Done 3026 tasks      | elapsed: 26.3min\n",
      "[Parallel(n_jobs=-1)]: Done 3105 tasks      | elapsed: 27.1min\n",
      "[Parallel(n_jobs=-1)]: Done 3184 tasks      | elapsed: 27.8min\n",
      "[Parallel(n_jobs=-1)]: Done 3265 tasks      | elapsed: 28.5min\n",
      "[Parallel(n_jobs=-1)]: Done 3346 tasks      | elapsed: 29.2min\n",
      "[Parallel(n_jobs=-1)]: Done 3429 tasks      | elapsed: 29.9min\n",
      "[Parallel(n_jobs=-1)]: Done 3512 tasks      | elapsed: 30.7min\n",
      "[Parallel(n_jobs=-1)]: Done 3597 tasks      | elapsed: 31.4min\n",
      "[Parallel(n_jobs=-1)]: Done 3682 tasks      | elapsed: 32.2min\n",
      "[Parallel(n_jobs=-1)]: Done 3769 tasks      | elapsed: 33.0min\n",
      "[Parallel(n_jobs=-1)]: Done 3856 tasks      | elapsed: 33.8min\n",
      "[Parallel(n_jobs=-1)]: Done 3945 tasks      | elapsed: 34.6min\n",
      "[Parallel(n_jobs=-1)]: Done 4034 tasks      | elapsed: 35.4min\n",
      "[Parallel(n_jobs=-1)]: Done 4125 tasks      | elapsed: 36.2min\n",
      "[Parallel(n_jobs=-1)]: Done 4216 tasks      | elapsed: 37.1min\n",
      "[Parallel(n_jobs=-1)]: Done 4309 tasks      | elapsed: 37.9min\n",
      "[Parallel(n_jobs=-1)]: Done 4402 tasks      | elapsed: 38.8min\n",
      "[Parallel(n_jobs=-1)]: Done 4497 tasks      | elapsed: 39.7min\n",
      "[Parallel(n_jobs=-1)]: Done 4592 tasks      | elapsed: 40.6min\n",
      "[Parallel(n_jobs=-1)]: Done 4689 tasks      | elapsed: 41.5min\n",
      "[Parallel(n_jobs=-1)]: Done 4786 tasks      | elapsed: 42.4min\n",
      "[Parallel(n_jobs=-1)]: Done 4885 tasks      | elapsed: 43.3min\n",
      "[Parallel(n_jobs=-1)]: Done 4984 tasks      | elapsed: 44.2min\n",
      "[Parallel(n_jobs=-1)]: Done 5085 tasks      | elapsed: 45.2min\n",
      "[Parallel(n_jobs=-1)]: Done 5186 tasks      | elapsed: 46.1min\n",
      "[Parallel(n_jobs=-1)]: Done 5289 tasks      | elapsed: 47.0min\n",
      "[Parallel(n_jobs=-1)]: Done 5392 tasks      | elapsed: 47.9min\n",
      "[Parallel(n_jobs=-1)]: Done 5497 tasks      | elapsed: 48.9min\n",
      "[Parallel(n_jobs=-1)]: Done 5602 tasks      | elapsed: 49.9min\n",
      "[Parallel(n_jobs=-1)]: Done 5709 tasks      | elapsed: 50.9min\n",
      "[Parallel(n_jobs=-1)]: Done 5816 tasks      | elapsed: 51.8min\n",
      "[Parallel(n_jobs=-1)]: Done 5925 tasks      | elapsed: 52.8min\n",
      "[Parallel(n_jobs=-1)]: Done 6034 tasks      | elapsed: 53.8min\n",
      "[Parallel(n_jobs=-1)]: Done 6145 tasks      | elapsed: 54.8min\n",
      "[Parallel(n_jobs=-1)]: Done 6256 tasks      | elapsed: 55.8min\n",
      "[Parallel(n_jobs=-1)]: Done 6369 tasks      | elapsed: 56.8min\n",
      "[Parallel(n_jobs=-1)]: Done 6482 tasks      | elapsed: 57.9min\n",
      "[Parallel(n_jobs=-1)]: Done 6597 tasks      | elapsed: 58.9min\n",
      "[Parallel(n_jobs=-1)]: Done 6712 tasks      | elapsed: 59.9min\n",
      "[Parallel(n_jobs=-1)]: Done 6829 tasks      | elapsed: 61.0min\n",
      "[Parallel(n_jobs=-1)]: Done 6946 tasks      | elapsed: 62.0min\n",
      "[Parallel(n_jobs=-1)]: Done 7065 tasks      | elapsed: 63.1min\n",
      "[Parallel(n_jobs=-1)]: Done 7184 tasks      | elapsed: 64.2min\n",
      "[Parallel(n_jobs=-1)]: Done 7305 tasks      | elapsed: 65.3min\n",
      "[Parallel(n_jobs=-1)]: Done 7426 tasks      | elapsed: 66.4min\n",
      "[Parallel(n_jobs=-1)]: Done 7549 tasks      | elapsed: 67.5min\n",
      "[Parallel(n_jobs=-1)]: Done 7672 tasks      | elapsed: 68.7min\n",
      "[Parallel(n_jobs=-1)]: Done 7797 tasks      | elapsed: 69.8min\n",
      "[Parallel(n_jobs=-1)]: Done 7922 tasks      | elapsed: 70.9min\n",
      "[Parallel(n_jobs=-1)]: Done 8049 tasks      | elapsed: 72.1min\n",
      "[Parallel(n_jobs=-1)]: Done 8176 tasks      | elapsed: 73.2min\n",
      "[Parallel(n_jobs=-1)]: Done 8305 tasks      | elapsed: 74.4min\n",
      "[Parallel(n_jobs=-1)]: Done 8434 tasks      | elapsed: 75.6min\n",
      "[Parallel(n_jobs=-1)]: Done 8565 tasks      | elapsed: 76.8min\n",
      "[Parallel(n_jobs=-1)]: Done 8696 tasks      | elapsed: 78.0min\n",
      "[Parallel(n_jobs=-1)]: Done 8829 tasks      | elapsed: 79.2min\n",
      "[Parallel(n_jobs=-1)]: Done 8962 tasks      | elapsed: 80.4min\n",
      "[Parallel(n_jobs=-1)]: Done 9097 tasks      | elapsed: 81.7min\n",
      "[Parallel(n_jobs=-1)]: Done 9232 tasks      | elapsed: 82.9min\n"
     ]
    },
    {
     "name": "stderr",
     "output_type": "stream",
     "text": [
      "[Parallel(n_jobs=-1)]: Done 9369 tasks      | elapsed: 84.1min\n",
      "[Parallel(n_jobs=-1)]: Done 9506 tasks      | elapsed: 85.4min\n",
      "[Parallel(n_jobs=-1)]: Done 9645 tasks      | elapsed: 86.7min\n",
      "[Parallel(n_jobs=-1)]: Done 9784 tasks      | elapsed: 87.9min\n",
      "[Parallel(n_jobs=-1)]: Done 9925 tasks      | elapsed: 89.2min\n",
      "[Parallel(n_jobs=-1)]: Done 10066 tasks      | elapsed: 90.5min\n",
      "[Parallel(n_jobs=-1)]: Done 10209 tasks      | elapsed: 91.9min\n",
      "[Parallel(n_jobs=-1)]: Done 10352 tasks      | elapsed: 93.2min\n",
      "[Parallel(n_jobs=-1)]: Done 10497 tasks      | elapsed: 94.5min\n",
      "[Parallel(n_jobs=-1)]: Done 10642 tasks      | elapsed: 95.9min\n",
      "[Parallel(n_jobs=-1)]: Done 10789 tasks      | elapsed: 97.3min\n",
      "[Parallel(n_jobs=-1)]: Done 10936 tasks      | elapsed: 98.6min\n",
      "[Parallel(n_jobs=-1)]: Done 11085 tasks      | elapsed: 100.0min\n",
      "[Parallel(n_jobs=-1)]: Done 11234 tasks      | elapsed: 101.4min\n",
      "[Parallel(n_jobs=-1)]: Done 11385 tasks      | elapsed: 102.8min\n",
      "[Parallel(n_jobs=-1)]: Done 11536 tasks      | elapsed: 104.2min\n",
      "[Parallel(n_jobs=-1)]: Done 11689 tasks      | elapsed: 105.6min\n",
      "[Parallel(n_jobs=-1)]: Done 11842 tasks      | elapsed: 107.1min\n",
      "[Parallel(n_jobs=-1)]: Done 11997 tasks      | elapsed: 108.6min\n",
      "[Parallel(n_jobs=-1)]: Done 12152 tasks      | elapsed: 110.0min\n",
      "[Parallel(n_jobs=-1)]: Done 12309 tasks      | elapsed: 111.6min\n",
      "[Parallel(n_jobs=-1)]: Done 12466 tasks      | elapsed: 113.1min\n",
      "[Parallel(n_jobs=-1)]: Done 12625 tasks      | elapsed: 114.6min\n",
      "[Parallel(n_jobs=-1)]: Done 12784 tasks      | elapsed: 116.1min\n",
      "[Parallel(n_jobs=-1)]: Done 12945 tasks      | elapsed: 117.7min\n",
      "[Parallel(n_jobs=-1)]: Done 13106 tasks      | elapsed: 119.2min\n",
      "[Parallel(n_jobs=-1)]: Done 13269 tasks      | elapsed: 120.7min\n",
      "[Parallel(n_jobs=-1)]: Done 13432 tasks      | elapsed: 122.3min\n",
      "[Parallel(n_jobs=-1)]: Done 13597 tasks      | elapsed: 123.8min\n",
      "[Parallel(n_jobs=-1)]: Done 13762 tasks      | elapsed: 125.4min\n",
      "[Parallel(n_jobs=-1)]: Done 13929 tasks      | elapsed: 127.0min\n",
      "[Parallel(n_jobs=-1)]: Done 14096 tasks      | elapsed: 128.6min\n",
      "[Parallel(n_jobs=-1)]: Done 14265 tasks      | elapsed: 130.1min\n",
      "[Parallel(n_jobs=-1)]: Done 14434 tasks      | elapsed: 131.7min\n",
      "[Parallel(n_jobs=-1)]: Done 14605 tasks      | elapsed: 133.3min\n",
      "[Parallel(n_jobs=-1)]: Done 14776 tasks      | elapsed: 134.9min\n",
      "[Parallel(n_jobs=-1)]: Done 14949 tasks      | elapsed: 136.5min\n",
      "[Parallel(n_jobs=-1)]: Done 15000 out of 15000 | elapsed: 136.9min finished\n"
     ]
    },
    {
     "data": {
      "image/png": "[encoded data removed]",
      "text/plain": [
       "<Figure size 432x288 with 2 Axes>"
      ]
     },
     "metadata": {},
     "output_type": "display_data"
    }
   ],
   "source": [
    "params_lin_svc = {'C': np.linspace(20, 50, 5000)}\n",
    "\n",
    "lin_svc = GridSearchCV(svm.LinearSVC(), params_lin_svc, \"f1\", n_jobs = -1, verbose = 10)\n",
    "lin_svc.fit(X_train, y_train)\n",
    "\n",
    "plot_confusion_matrix(confusion_matrix(y_test, lin_svc.predict(X_test)), title=\"Linear SVC Confusion Matrix\")"
   ]
  },
  {
   "cell_type": "markdown",
   "metadata": {},
   "source": [
    "#### Melhor estimador"
   ]
  },
  {
   "cell_type": "code",
   "execution_count": 14,
   "metadata": {},
   "outputs": [
    {
     "data": {
      "text/plain": [
       "LinearSVC(C=35.84916983396679, class_weight=None, dual=True,\n",
       "     fit_intercept=True, intercept_scaling=1, loss='squared_hinge',\n",
       "     max_iter=1000, multi_class='ovr', penalty='l2', random_state=None,\n",
       "     tol=0.0001, verbose=0)"
      ]
     },
     "execution_count": 14,
     "metadata": {},
     "output_type": "execute_result"
    }
   ],
   "source": [
    "joblib.dump(lin_svc.best_estimator_, 'models/best_lin_svc.pkl') \n",
    "lin_svc.best_estimator_"
   ]
  },
  {
   "cell_type": "markdown",
   "metadata": {},
   "source": [
    "#### Tabela de scores"
   ]
  },
  {
   "cell_type": "code",
   "execution_count": 15,
   "metadata": {},
   "outputs": [
    {
     "data": {
      "text/html": [
       "<div>\n",
       "<style scoped>\n",
       "    .dataframe tbody tr th:only-of-type {\n",
       "        vertical-align: middle;\n",
       "    }\n",
       "\n",
       "    .dataframe tbody tr th {\n",
       "        vertical-align: top;\n",
       "    }\n",
       "\n",
       "    .dataframe thead th {\n",
       "        text-align: right;\n",
       "    }\n",
       "</style>\n",
       "<table border=\"1\" class=\"dataframe\">\n",
       "  <thead>\n",
       "    <tr style=\"text-align: right;\">\n",
       "      <th></th>\n",
       "      <th>Accuracy Score</th>\n",
       "      <th>F1 Score</th>\n",
       "      <th>Precision Score</th>\n",
       "      <th>Recall Score</th>\n",
       "    </tr>\n",
       "  </thead>\n",
       "  <tbody>\n",
       "    <tr>\n",
       "      <th>0</th>\n",
       "      <td>0.851816</td>\n",
       "      <td>0.665305</td>\n",
       "      <td>0.760109</td>\n",
       "      <td>0.591528</td>\n",
       "    </tr>\n",
       "  </tbody>\n",
       "</table>\n",
       "</div>"
      ],
      "text/plain": [
       "   Accuracy Score  F1 Score  Precision Score  Recall Score\n",
       "0        0.851816  0.665305         0.760109      0.591528"
      ]
     },
     "execution_count": 15,
     "metadata": {},
     "output_type": "execute_result"
    }
   ],
   "source": [
    "df_scores_lin_svc = create_scores_df(lin_svc)\n",
    "df_scores_lin_svc"
   ]
  },
  {
   "cell_type": "markdown",
   "metadata": {},
   "source": [
    "### SVC"
   ]
  },
  {
   "cell_type": "markdown",
   "metadata": {},
   "source": [
    "#### Treino e matriz de confusão"
   ]
  },
  {
   "cell_type": "code",
   "execution_count": 14,
   "metadata": {},
   "outputs": [
    {
     "name": "stdout",
     "output_type": "stream",
     "text": [
      "Fitting 3 folds for each of 200 candidates, totalling 600 fits\n"
     ]
    },
    {
     "name": "stderr",
     "output_type": "stream",
     "text": [
      "[Parallel(n_jobs=-1)]: Done   2 tasks      | elapsed:    1.2s\n",
      "[Parallel(n_jobs=-1)]: Done   9 tasks      | elapsed:    2.9s\n",
      "[Parallel(n_jobs=-1)]: Done  16 tasks      | elapsed:    3.1s\n",
      "[Parallel(n_jobs=-1)]: Done  25 tasks      | elapsed:    3.4s\n",
      "[Parallel(n_jobs=-1)]: Done  34 tasks      | elapsed:    3.7s\n",
      "[Parallel(n_jobs=-1)]: Done  45 tasks      | elapsed:    3.9s\n",
      "[Parallel(n_jobs=-1)]: Done  56 tasks      | elapsed:    4.4s\n",
      "[Parallel(n_jobs=-1)]: Done  69 tasks      | elapsed:    4.8s\n",
      "[Parallel(n_jobs=-1)]: Done  82 tasks      | elapsed:    5.3s\n",
      "[Parallel(n_jobs=-1)]: Done  97 tasks      | elapsed:    5.8s\n",
      "[Parallel(n_jobs=-1)]: Done 112 tasks      | elapsed:    6.4s\n",
      "[Parallel(n_jobs=-1)]: Done 129 tasks      | elapsed:    7.0s\n",
      "[Parallel(n_jobs=-1)]: Done 146 tasks      | elapsed:    7.5s\n",
      "[Parallel(n_jobs=-1)]: Done 165 tasks      | elapsed:    8.1s\n",
      "[Parallel(n_jobs=-1)]: Done 184 tasks      | elapsed:    8.9s\n",
      "[Parallel(n_jobs=-1)]: Done 205 tasks      | elapsed:    9.4s\n",
      "[Parallel(n_jobs=-1)]: Done 226 tasks      | elapsed:   10.1s\n",
      "[Parallel(n_jobs=-1)]: Done 249 tasks      | elapsed:   10.8s\n",
      "[Parallel(n_jobs=-1)]: Done 272 tasks      | elapsed:   11.5s\n",
      "[Parallel(n_jobs=-1)]: Done 297 tasks      | elapsed:   12.4s\n",
      "[Parallel(n_jobs=-1)]: Done 322 tasks      | elapsed:   13.5s\n",
      "[Parallel(n_jobs=-1)]: Done 349 tasks      | elapsed:   15.0s\n",
      "[Parallel(n_jobs=-1)]: Done 376 tasks      | elapsed:   18.5s\n",
      "[Parallel(n_jobs=-1)]: Done 405 tasks      | elapsed:   23.6s\n",
      "[Parallel(n_jobs=-1)]: Done 434 tasks      | elapsed:   47.1s\n",
      "[Parallel(n_jobs=-1)]: Done 465 tasks      | elapsed:  1.4min\n",
      "[Parallel(n_jobs=-1)]: Done 496 tasks      | elapsed:  6.3min\n",
      "[Parallel(n_jobs=-1)]: Done 529 tasks      | elapsed: 15.0min\n",
      "[Parallel(n_jobs=-1)]: Done 562 tasks      | elapsed: 99.1min\n",
      "[Parallel(n_jobs=-1)]: Done 600 out of 600 | elapsed: 266.5min finished\n"
     ]
    },
    {
     "data": {
      "image/png": "[encoded data removed]",
      "text/plain": [
       "<Figure size 432x288 with 2 Axes>"
      ]
     },
     "metadata": {},
     "output_type": "display_data"
    }
   ],
   "source": [
    "C_range = np.logspace(-5, 5, 10)\n",
    "gamma_range = np.logspace(-5, 5, 10)\n",
    "\n",
    "params_svc = {'C': C_range , 'gamma': gamma_range, \n",
    "              'kernel': ['linear', 'rbf']}\n",
    "\n",
    "svc = GridSearchCV(svm.SVC(class_weight='balanced', cache_size=12000), params_svc, \"f1\", n_jobs = -1, verbose = 10)\n",
    "svc.fit(X_train[:1000], y_train[:1000])\n",
    "\n",
    "plot_confusion_matrix(confusion_matrix(y_test, svc.predict(X_test)), title=\"SVC Confusion Matrix\")"
   ]
  },
  {
   "cell_type": "code",
   "execution_count": 49,
   "metadata": {},
   "outputs": [
    {
     "name": "stderr",
     "output_type": "stream",
     "text": [
      "c:\\users\\gabgo\\documents\\github\\data-mining-w2\\venv\\lib\\site-packages\\sklearn\\model_selection\\_search.py:761: DeprecationWarning: The grid_scores_ attribute was deprecated in version 0.18 in favor of the more elaborate cv_results_ attribute. The grid_scores_ attribute will not be available from 0.20\n",
      "  DeprecationWarning)\n"
     ]
    },
    {
     "data": {
      "image/png": "[encoded data removed]",
      "text/plain": [
       "<Figure size 576x432 with 2 Axes>"
      ]
     },
     "metadata": {},
     "output_type": "display_data"
    },
    {
     "data": {
      "image/png": "[encoded data removed]",
      "text/plain": [
       "<Figure size 576x432 with 2 Axes>"
      ]
     },
     "metadata": {},
     "output_type": "display_data"
    }
   ],
   "source": [
    "class MidpointNormalize(Normalize):\n",
    "\n",
    "    def __init__(self, vmin=None, vmax=None, midpoint=None, clip=False):\n",
    "        self.midpoint = midpoint\n",
    "        Normalize.__init__(self, vmin, vmax, clip)\n",
    "\n",
    "    def __call__(self, value, clip=None):\n",
    "        x, y = [self.vmin, self.midpoint, self.vmax], [0, 0.5, 1]\n",
    "        return np.ma.masked_array(np.interp(value, x, y))\n",
    "    \n",
    "score_dict = svc.grid_scores_\n",
    "i = 0\n",
    "for kernel in ['linear', 'rbf']:\n",
    "    scores = [x[1] for x in score_dict if x[0]['kernel'] == kernel]\n",
    "    scores = np.array(scores).reshape(len(C_range), len(gamma_range))\n",
    "    plt.figure(figsize=(8, 6))\n",
    "    plt.subplots_adjust(left=.2, right=0.95, bottom=0.15, top=0.95)\n",
    "    plt.imshow(scores, interpolation='nearest', cmap=plt.cm.hot,\n",
    "               norm=MidpointNormalize(vmin=0.2, midpoint=0.92))\n",
    "    plt.xlabel('gamma')\n",
    "    plt.ylabel('C')\n",
    "    plt.colorbar()\n",
    "    plt.xticks(np.arange(len(gamma_range)), gamma_range, rotation=90)\n",
    "    plt.yticks(np.arange(len(C_range)), C_range)\n",
    "    plt.title('Validation accuracy - ' + kernel)\n",
    "    plt.show()"
   ]
  },
  {
   "cell_type": "markdown",
   "metadata": {},
   "source": [
    "#### Melhor estimador"
   ]
  },
  {
   "cell_type": "code",
   "execution_count": 18,
   "metadata": {},
   "outputs": [
    {
     "data": {
      "text/plain": [
       "SVC(C=100000.0, cache_size=12000, class_weight='balanced', coef0=0.0,\n",
       "  decision_function_shape='ovr', degree=3, gamma=1e-05, kernel='linear',\n",
       "  max_iter=-1, probability=False, random_state=None, shrinking=True,\n",
       "  tol=0.001, verbose=False)"
      ]
     },
     "execution_count": 18,
     "metadata": {},
     "output_type": "execute_result"
    }
   ],
   "source": [
    "joblib.dump(svc.best_estimator_, 'models/svc_best.pkl')\n",
    "svc.best_estimator_"
   ]
  },
  {
   "cell_type": "markdown",
   "metadata": {},
   "source": [
    "#### Tabela de scores"
   ]
  },
  {
   "cell_type": "code",
   "execution_count": 19,
   "metadata": {},
   "outputs": [
    {
     "data": {
      "text/html": [
       "<div>\n",
       "<style scoped>\n",
       "    .dataframe tbody tr th:only-of-type {\n",
       "        vertical-align: middle;\n",
       "    }\n",
       "\n",
       "    .dataframe tbody tr th {\n",
       "        vertical-align: top;\n",
       "    }\n",
       "\n",
       "    .dataframe thead th {\n",
       "        text-align: right;\n",
       "    }\n",
       "</style>\n",
       "<table border=\"1\" class=\"dataframe\">\n",
       "  <thead>\n",
       "    <tr style=\"text-align: right;\">\n",
       "      <th></th>\n",
       "      <th>Accuracy Score</th>\n",
       "      <th>F1 Score</th>\n",
       "      <th>Precision Score</th>\n",
       "      <th>Recall Score</th>\n",
       "    </tr>\n",
       "  </thead>\n",
       "  <tbody>\n",
       "    <tr>\n",
       "      <th>0</th>\n",
       "      <td>0.795917</td>\n",
       "      <td>0.670237</td>\n",
       "      <td>0.556724</td>\n",
       "      <td>0.841896</td>\n",
       "    </tr>\n",
       "  </tbody>\n",
       "</table>\n",
       "</div>"
      ],
      "text/plain": [
       "   Accuracy Score  F1 Score  Precision Score  Recall Score\n",
       "0        0.795917  0.670237         0.556724      0.841896"
      ]
     },
     "execution_count": 19,
     "metadata": {},
     "output_type": "execute_result"
    }
   ],
   "source": [
    "df_scores_svc = create_scores_df(svc)\n",
    "df_scores_svc"
   ]
  }
 ],
 "metadata": {
  "kernelspec": {
   "display_name": "Python 3",
   "language": "python",
   "name": "python3"
  },
  "language_info": {
   "codemirror_mode": {
    "name": "ipython",
    "version": 3
   },
   "file_extension": ".py",
   "mimetype": "text/x-python",
   "name": "python",
   "nbconvert_exporter": "python",
   "pygments_lexer": "ipython3",
   "version": "3.5.2"
  }
 },
 "nbformat": 4,
 "nbformat_minor": 2
}

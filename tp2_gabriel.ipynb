{
 "cells": [
  {
   "cell_type": "markdown",
   "metadata": {},
   "source": [
    "# Trabalho prático II - Classificação\n",
    "\n",
    "O objetivo deste trabalho é praticar os conceitos de aprendizado supervisionado que vimos em sala.\n",
    "\n",
    "A sua tarefa será treinar um classificador para um conjunto de dados misterioso (se eu falasses qual é o objetivo do modelo, você encontraria soluções na Internet).\n",
    "\n",
    "Baixe o arquivo [t2.tar.gz](https://drive.google.com/file/d/125plHKUzFGxHjjCiVJcTQG2bPG_zgDNV/view?usp=sharing). Descoprima este arquivo para encontrar outros quatro. Os arquivos `train_X.csv` e `train_y.csv` possuem os dados que você deve usar para treinar o modelo. O arquivo `test_X.csv` possui os objetos para os quais você deve encontrar as classes (testar o modelo). Por fim, o arquivo `test_example_y.csv` é um exemplo de como sua solução final deve ser organizada.\n",
    "\n",
    "Cada linha dos arquivos `train_X.csv` e `test_X.csv` tem 15 campos descrevendo um objeto misterioso. O campo `id` representa o identificador do objeto, sendo que este campo não deve ser considerado em seu modelo. Os atributos a serem usados no modelo são os 14 campos rotulados de de `a` até `n`. Desses atributos:\n",
    "- `b`, `d`, `f`, `g`, `h`, `i`, `j` e `n` são categóricos; e\n",
    "- `a`, `c`, `e`, `k`, `l` e `m` são numéricos.\n",
    "\n",
    "Cada linha do arquivo `train_y.csv` possui dois campos. O primeiro é o identificador de um objeto do arquivo `train_X.csv` e o segundo é a classe do respectivo objeto (0 ou 1).\n",
    "\n",
    "Seu objetivo é encontrar as classes dos objetos do arquivo `test_X.csv` e mostrar como chegou em sua solução! Os dados do arquivo de teste foram obtido a partir de uma amostra aleatório do todo. Ou seja, um modelo bem treinado, e sem _overfitting_, em `train_X.csv` e `train_y.csv` se sairá bem em `test_X.csv`.\n",
    "\n",
    "**Data de entrega:** dia 4 de julho de 2018.\n",
    "\n",
    "**Grupo:** de até 3 pessoas, mas duas pessoas do mesmo grupo no trabalho 1 não podem pertencer ao mesmo grupo nesse trabalho.\n",
    "\n",
    "**Valor:** 20% da nota do semestre.\n",
    "\n",
    "Os três seguintes pontos descrevem o que obrigatoriamente deve ser entregue, com seu respectivo valor.\n",
    "\n",
    "1 - **[10 pontos]** Este notebook com todo seu código e resultados (números, tabelas e gráficos). Você pode usar qualquer um dos métodos que estudamos ou alguma de suas variações próximas. Se estiver na dúvida se pode usar um método, basta perguntas no Piazza. Comentários e justificativas no notebook não serão considerados para sua nota.\n",
    "O notebook deve ser enviado para o email do professor.\n",
    "\n",
    "2 - **[8 pontos]** Um relatório digitado contendo: capa, introdução, metodologia, resultados, conclusão e referências. O relatório deve ter no máximo 10 páginas, com coluna simples, fonte 11, espaçamento 1.5 e margens de 2cm. A seção de metodologia deve conter uma descrição detalhada dos passos seguidos (não incluir código no relatório). A seção de resultados deve conter obrigatoriamente: uma caracterização descritiva dos dados, matriz de confusão das predições, _precision_, _recall_, _F1 score_ e acurácia. Todas as métricas de predição devem ser calculadas a partir dos arquivos de treinamento por meio de validação cruzada.\n",
    "O relatório deve ser enviado para o email do professor.\n",
    "\n",
    "3 - **[2 pontos + equivalente a lista extra pela classificação]** A sua predição final do arquivo `test_X.csv` deve ser enviada para o professor por email. O formato deve ser o mesmo do arquivo `train_y.csv`, assim como exemplificado em `test_example_y.csv` (mas repare que as classes desse último arquivo foram gerados de forma aleatória). Em outras palavras, o arquivo a ser entregue deve ter dois campos. O campo `id` é o identificador do objeto em `test_X.csv` e o campo `label` é a classe que seu modelo encontrou para o objeto em questão. A primeira linha do arquivo deve conter os nomes das colunas.\n",
    "A entrega desse arquivo é obrigatória e vale dois pontos. Além disso, o trabalho com maior _F1 score_ ganhará o equivalente a 100% de uma lista extra. O trabalho com o pior _F1 score_ não ganhará nota extra alguma. Os demais trabalhos terão nota proporcional.\n",
    "O professor se reserva o direito de anular esse quesito (nota extra) se houver indícios de má conduta durante a competição.\n",
    "\n",
    "**Kaggle:** Estou tentando criar uma competição para esse trabalho na plataforma _Kaggle_. Se eu conseguir, compartilho o _link_ com você no _Piazza_."
   ]
  },
  {
   "cell_type": "markdown",
   "metadata": {},
   "source": [
    "### Bibliotecas"
   ]
  },
  {
   "cell_type": "code",
   "execution_count": 12,
   "metadata": {},
   "outputs": [],
   "source": [
    "import pandas as pd\n",
    "import sklearn.feature_selection as features\n",
    "from sklearn.naive_bayes import GaussianNB, MultinomialNB\n",
    "from sklearn.model_selection import GridSearchCV, train_test_split\n",
    "from sklearn.ensemble import RandomForestClassifier, VotingClassifier\n",
    "from sklearn.metrics import accuracy_score, confusion_matrix, f1_score, precision_score, recall_score\n",
    "from sklearn import tree, svm\n",
    "import numpy as np\n",
    "import graphviz"
   ]
  },
  {
   "cell_type": "markdown",
   "metadata": {},
   "source": [
    "### Leitura dos arquivos de dados"
   ]
  },
  {
   "cell_type": "code",
   "execution_count": 2,
   "metadata": {
    "scrolled": false
   },
   "outputs": [],
   "source": [
    "X = pd.read_csv(\"data/pd_trainX.csv\")\n",
    "y = pd.read_csv(\"data/pd_trainY.csv\", header=None)\n",
    "testX = pd.read_csv(\"data/pd_testX.csv\")\n",
    "\n",
    "X = X.drop(columns=[\"id\"]).values\n",
    "y = (y.T).values[0]"
   ]
  },
  {
   "cell_type": "markdown",
   "metadata": {},
   "source": [
    "### Divisão do conjunto de treino/teste e algoritmos"
   ]
  },
  {
   "cell_type": "code",
   "execution_count": 3,
   "metadata": {},
   "outputs": [],
   "source": [
    "X_train, X_test, y_train, y_test = train_test_split(X, y, test_size=0.33)"
   ]
  },
  {
   "cell_type": "code",
   "execution_count": 13,
   "metadata": {},
   "outputs": [
    {
     "name": "stdout",
     "output_type": "stream",
     "text": [
      "0.7635226759077897\n",
      "\n",
      "[[9619  435]\n",
      " [2704  516]]\n",
      "\n",
      "0.2474226804123711\n",
      "\n",
      "0.5425867507886435\n",
      "\n",
      "0.16024844720496895\n"
     ]
    }
   ],
   "source": [
    "nb = GaussianNB()\n",
    "nb.fit(X_train, y_train)\n",
    "            \n",
    "print(accuracy_score(y_test, nb.predict(X_test)))\n",
    "print()\n",
    "print(confusion_matrix(y_test, nb.predict(X_test)))\n",
    "print()\n",
    "print(f1_score(y_test, nb.predict(X_test)))\n",
    "print()\n",
    "print(precision_score(y_test, nb.predict(X_test)))\n",
    "print()\n",
    "print(recall_score(y_test, nb.predict(X_test)))"
   ]
  },
  {
   "cell_type": "code",
   "execution_count": 14,
   "metadata": {},
   "outputs": [
    {
     "name": "stdout",
     "output_type": "stream",
     "text": [
      "0.7616392948621366\n",
      "\n",
      "[[9485  569]\n",
      " [2595  625]]\n",
      "\n",
      "0.28318985047575895\n",
      "\n",
      "0.5234505862646566\n",
      "\n",
      "0.19409937888198758\n"
     ]
    }
   ],
   "source": [
    "nb_mult = MultinomialNB()\n",
    "nb_mult.fit(X_train, y_train)\n",
    "\n",
    "print(accuracy_score(y_test, nb_mult.predict(X_test)))\n",
    "print()\n",
    "print(confusion_matrix(y_test, nb_mult.predict(X_test)))\n",
    "print()\n",
    "print(f1_score(y_test, nb_mult.predict(X_test)))\n",
    "print()\n",
    "print(precision_score(y_test, nb_mult.predict(X_test)))\n",
    "print()\n",
    "print(recall_score(y_test, nb_mult.predict(X_test)))"
   ]
  },
  {
   "cell_type": "code",
   "execution_count": 15,
   "metadata": {},
   "outputs": [
    {
     "name": "stdout",
     "output_type": "stream",
     "text": [
      "0.7186228717794184\n",
      "\n",
      "[[8036 2018]\n",
      " [1717 1503]]\n",
      "\n",
      "0.4459279038718291\n",
      "\n",
      "0.4268673672252201\n",
      "\n",
      "0.46677018633540374\n"
     ]
    }
   ],
   "source": [
    "dt = tree.DecisionTreeClassifier()\n",
    "dt.fit(X_train, y_train)\n",
    "\n",
    "print(accuracy_score(y_test, dt.predict(X_test)))\n",
    "print()\n",
    "print(confusion_matrix(y_test, dt.predict(X_test)))\n",
    "print()\n",
    "print(f1_score(y_test, dt.predict(X_test)))\n",
    "print()\n",
    "print(precision_score(y_test, dt.predict(X_test)))\n",
    "print()\n",
    "print(recall_score(y_test, dt.predict(X_test)))\n",
    "\n",
    "#dot_data = tree.export_graphviz(dt, out_file=None,\n",
    "#                         filled=True, rounded=True,  \n",
    "#                         special_characters=True) \n",
    "#graph = graphviz.Source(dot_data).view()"
   ]
  },
  {
   "cell_type": "code",
   "execution_count": 16,
   "metadata": {},
   "outputs": [
    {
     "name": "stdout",
     "output_type": "stream",
     "text": [
      "Fitting 3 folds for each of 1 candidates, totalling 3 fits\n"
     ]
    },
    {
     "name": "stderr",
     "output_type": "stream",
     "text": [
      "[Parallel(n_jobs=-1)]: Done   3 out of   3 | elapsed:   47.1s remaining:    0.0s\n",
      "[Parallel(n_jobs=-1)]: Done   3 out of   3 | elapsed:   47.1s finished\n"
     ]
    },
    {
     "name": "stdout",
     "output_type": "stream",
     "text": [
      "0.7938827783637186\n",
      "\n",
      "[[9078  976]\n",
      " [1760 1460]]\n",
      "\n",
      "0.5162659123055163\n",
      "\n",
      "0.5993431855500821\n",
      "\n",
      "0.453416149068323\n"
     ]
    }
   ],
   "source": [
    "params_rfc = {'n_estimators': list(range(1000, 1001, 500))}\n",
    "\n",
    "rfc = GridSearchCV(RandomForestClassifier(), params_rfc, n_jobs=-1, verbose = 10) \n",
    "rfc.fit(X_train, y_train)\n",
    "\n",
    "print(accuracy_score(y_test, rfc.predict(X_test)))\n",
    "print()\n",
    "print(confusion_matrix(y_test, rfc.predict(X_test)))\n",
    "print()\n",
    "print(f1_score(y_test, rfc.predict(X_test)))\n",
    "print()\n",
    "print(precision_score(y_test, rfc.predict(X_test)))\n",
    "print()\n",
    "print(recall_score(y_test, rfc.predict(X_test)))"
   ]
  },
  {
   "cell_type": "code",
   "execution_count": 7,
   "metadata": {},
   "outputs": [
    {
     "name": "stdout",
     "output_type": "stream",
     "text": [
      "Fitting 3 folds for each of 1 candidates, totalling 3 fits\n"
     ]
    },
    {
     "name": "stderr",
     "output_type": "stream",
     "text": [
      "[Parallel(n_jobs=-1)]: Done   3 out of   3 | elapsed:  1.5min remaining:    0.0s\n",
      "[Parallel(n_jobs=-1)]: Done   3 out of   3 | elapsed:  1.5min finished\n"
     ]
    },
    {
     "name": "stdout",
     "output_type": "stream",
     "text": [
      "0.7574205213198735\n"
     ]
    }
   ],
   "source": [
    "params_svc = {'C': np.logspace(-10, 10, 5), 'gamma': np.logspace(-10, 10, 5), 'kernel': ['linear', 'rbf', 'poly', 'sigmoid']}\n",
    "\n",
    "svc = GridSearchCV(svm.SVC(kernel = 'rbf'), params_svc, n_jobs = -1, verbose = 10)\n",
    "svc.fit(X_train, y_train)\n",
    "\n",
    "print(accuracy_score(y_test, svc.predict(X_test)))"
   ]
  },
  {
   "cell_type": "code",
   "execution_count": 10,
   "metadata": {},
   "outputs": [
    {
     "name": "stdout",
     "output_type": "stream",
     "text": [
      "0.7865752599065843\n"
     ]
    },
    {
     "name": "stderr",
     "output_type": "stream",
     "text": [
      "c:\\users\\gabgo\\documents\\github\\data-mining-w2\\venv\\lib\\site-packages\\sklearn\\preprocessing\\label.py:151: DeprecationWarning: The truth value of an empty array is ambiguous. Returning False, but in future this will result in an error. Use `array.size > 0` to check that an array is not empty.\n",
      "  if diff:\n"
     ]
    }
   ],
   "source": [
    "vc = VotingClassifier(estimators=[('nb', nb), ('nb_mult', nb_mult), ('dt', dt), ('rfc', rfc), ('svc', svc)], \n",
    "                      voting='hard', n_jobs=-1)\n",
    "vc.fit(X_train, y_train)\n",
    "\n",
    "print(accuracy_score(y_test, vc.predict(X_test)))"
   ]
  },
  {
   "cell_type": "code",
   "execution_count": null,
   "metadata": {},
   "outputs": [],
   "source": []
  }
 ],
 "metadata": {
  "kernelspec": {
   "display_name": "Python 3",
   "language": "python",
   "name": "python3"
  },
  "language_info": {
   "codemirror_mode": {
    "name": "ipython",
    "version": 3
   },
   "file_extension": ".py",
   "mimetype": "text/x-python",
   "name": "python",
   "nbconvert_exporter": "python",
   "pygments_lexer": "ipython3",
   "version": "3.6.5"
  }
 },
 "nbformat": 4,
 "nbformat_minor": 2
}
